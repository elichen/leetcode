{
  "nbformat": 4,
  "nbformat_minor": 0,
  "metadata": {
    "colab": {
      "provenance": [],
      "authorship_tag": "ABX9TyPiR0m5FwzC9ch6H7rGF4+o",
      "include_colab_link": true
    },
    "kernelspec": {
      "name": "python3",
      "display_name": "Python 3"
    },
    "language_info": {
      "name": "python"
    }
  },
  "cells": [
    {
      "cell_type": "markdown",
      "metadata": {
        "id": "view-in-github",
        "colab_type": "text"
      },
      "source": [
        "<a href=\"https://colab.research.google.com/github/elichen/leetcode/blob/main/Leetcode_Daily.ipynb\" target=\"_parent\"><img src=\"https://colab.research.google.com/assets/colab-badge.svg\" alt=\"Open In Colab\"/></a>"
      ]
    },
    {
      "cell_type": "code",
      "execution_count": 12,
      "metadata": {
        "colab": {
          "base_uri": "https://localhost:8080/"
        },
        "id": "sRd1nusQkoH9",
        "outputId": "55c787af-efd6-414d-e90e-2244f2a1a8da"
      },
      "outputs": [
        {
          "output_type": "execute_result",
          "data": {
            "text/plain": [
              "-1"
            ]
          },
          "metadata": {},
          "execution_count": 12
        }
      ],
      "source": [
        "from typing import *\n",
        "\n",
        "class Solution:\n",
        "    def maximumSum(self, nums: List[int]) -> int:\n",
        "      d = {}\n",
        "      for n in nums:\n",
        "        k = sum(int(c) for c in str(n))\n",
        "        d[k] = d.get(k,[]) + [n]\n",
        "      ret = -1\n",
        "      for k,v in d.items():\n",
        "        v.sort()\n",
        "        if len(v) > 1:\n",
        "          ret = max(ret, v[-1]+v[-2])\n",
        "      return ret\n",
        "\n",
        "nums = [18,43,36,13,7]\n",
        "nums = [10,12,19,14]\n",
        "Solution().maximumSum(nums)"
      ]
    }
  ]
}