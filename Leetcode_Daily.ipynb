{
  "nbformat": 4,
  "nbformat_minor": 0,
  "metadata": {
    "colab": {
      "provenance": [],
      "authorship_tag": "ABX9TyM62C/BVCn8rYM3pIvi4CXj",
      "include_colab_link": true
    },
    "kernelspec": {
      "name": "python3",
      "display_name": "Python 3"
    },
    "language_info": {
      "name": "python"
    }
  },
  "cells": [
    {
      "cell_type": "markdown",
      "metadata": {
        "id": "view-in-github",
        "colab_type": "text"
      },
      "source": [
        "<a href=\"https://colab.research.google.com/github/elichen/leetcode/blob/main/Leetcode_Daily.ipynb\" target=\"_parent\"><img src=\"https://colab.research.google.com/assets/colab-badge.svg\" alt=\"Open In Colab\"/></a>"
      ]
    },
    {
      "cell_type": "code",
      "source": [
        "from typing import *\n",
        "import heapq\n",
        "from functools import lru_cache"
      ],
      "metadata": {
        "id": "MRhp4D9znZPa"
      },
      "execution_count": 1,
      "outputs": []
    },
    {
      "cell_type": "code",
      "source": [
        "class Solution:\n",
        "    def checkValidCuts(self, n: int, rectangles: List[List[int]]) -> bool:\n",
        "      rectangles.sort(key=lambda x: x[0])\n",
        "      h = 0\n",
        "      prev = -1\n",
        "      for xl, _, xr, _ in rectangles:\n",
        "        if prev != -1 and xl >= prev:\n",
        "          h += 1\n",
        "        if xr > prev:\n",
        "          prev = xr\n",
        "      rectangles.sort(key=lambda x: x[1])\n",
        "      v = 0\n",
        "      prev = -1\n",
        "      for _, yl, _, yr in rectangles:\n",
        "        if prev != -1 and yl >= prev:\n",
        "          v += 1\n",
        "        if yr > prev:\n",
        "          prev = yr\n",
        "      return max(h,v) >= 2\n",
        "\n",
        "n = 5\n",
        "rectangles = [[1,0,5,2],[0,2,2,4],[3,2,5,3],[0,4,4,5]]\n",
        "n = 4\n",
        "rectangles = [[0,0,1,1],[2,0,3,4],[0,2,2,3],[3,0,4,3]]\n",
        "n = 4\n",
        "rectangles = [[0,2,2,4],[1,0,3,2],[2,2,3,4],[3,0,4,2],[3,2,4,4]]\n",
        "Solution().checkValidCuts(n, rectangles)"
      ],
      "metadata": {
        "colab": {
          "base_uri": "https://localhost:8080/"
        },
        "id": "bWy5iSJbnZY2",
        "outputId": "4eee3496-aade-412e-a226-fe0b76d59d07"
      },
      "execution_count": 10,
      "outputs": [
        {
          "output_type": "execute_result",
          "data": {
            "text/plain": [
              "False"
            ]
          },
          "metadata": {},
          "execution_count": 10
        }
      ]
    },
    {
      "cell_type": "code",
      "source": [
        "class Solution:\n",
        "    def countDays(self, days: int, meetings: List[List[int]]) -> int:\n",
        "      meetings.sort()\n",
        "      prev = 1\n",
        "      ret = 0\n",
        "      for l,r in meetings:\n",
        "        # print(l,r,prev,ret)\n",
        "        if l > prev:\n",
        "          ret += l-prev\n",
        "        if r >= prev:\n",
        "          prev = r+1\n",
        "      if days+1 > prev:\n",
        "        ret += days+1-prev\n",
        "      return ret\n",
        "\n",
        "days = 10\n",
        "meetings = [[5,7],[1,3],[9,10]]\n",
        "days = 5\n",
        "meetings = [[2,4],[1,3]]\n",
        "# days = 6\n",
        "# meetings = [[1,6]]\n",
        "# days = 8\n",
        "# meetings = [[3,4],[4,8],[2,5],[3,8]]\n",
        "# days = 57\n",
        "# meetings = [[3,49],[23,44],[21,56],[26,55],[23,52],[2,9],[1,48],[3,31]]\n",
        "Solution().countDays(days, meetings)"
      ],
      "metadata": {
        "colab": {
          "base_uri": "https://localhost:8080/"
        },
        "id": "RR8pAZOeF1To",
        "outputId": "ecce3473-29e2-48ac-d357-58691534d5b4"
      },
      "execution_count": null,
      "outputs": [
        {
          "output_type": "execute_result",
          "data": {
            "text/plain": [
              "1"
            ]
          },
          "metadata": {},
          "execution_count": 44
        }
      ]
    },
    {
      "cell_type": "code",
      "source": [
        "class Solution:\n",
        "    def countPaths(self, n: int, roads: List[List[int]]) -> int:\n",
        "      if n == 1: return 1\n",
        "      g = [[-1 for _ in range(n)] for _ in range(n)]\n",
        "      for u,v,t in roads:\n",
        "        g[u][v] = (t,1)\n",
        "        g[v][u] = (t,1)\n",
        "      for k in range(n):\n",
        "        for i in range(n):\n",
        "          if g[i][k] == -1: continue\n",
        "          for j in range(n):\n",
        "            if g[k][j] == -1: continue\n",
        "            if (g[i][j] == -1 or\n",
        "                g[i][j][0] > g[i][k][0]+g[j][k][0]):\n",
        "              g[i][j] = g[i][k][0]+g[j][k][0], g[i][k][1]*g[k][j][1]\n",
        "            elif g[i][j][0] == g[i][k][0]+g[j][k][0]:\n",
        "              g[i][j] = g[i][k][0]+g[j][k][0], g[i][j][1] + g[i][k][1]*g[k][j][1]\n",
        "      return g[0][n-1][1] % (10**9 + 7)\n",
        "\n",
        "n = 7\n",
        "roads = [[0,6,7],[0,1,2],[1,2,3],[1,3,3],[6,3,3],[3,5,1],[6,5,1],[2,5,1],[0,4,5],[4,6,2]]\n",
        "n = 2\n",
        "roads = [[1,0,10]]\n",
        "n = 29\n",
        "roads = [[1,0,7443],[2,1,9509],[3,2,8933],[4,3,2714],[2,4,11647],[3,5,8349],[5,0,34234],[6,4,584],[0,6,29183],[3,6,3298],[6,2,12231],[1,6,21740],[3,7,2990],[5,8,7837],[1,8,34628],[6,8,12888],[0,8,42071],[9,8,1650],[4,9,15122],[9,7,14846],[9,5,9487],[9,1,36278],[6,9,14538],[9,3,17836],[1,10,23672],[10,7,2240],[10,4,2516],[7,11,20638],[10,11,18398],[4,11,20914],[11,9,5792],[11,2,32561],[3,11,23628],[1,11,42070],[8,11,7442],[5,11,15279],[11,6,20330],[12,0,54359],[12,2,37407],[12,8,12288],[12,4,25760],[12,10,23244],[11,12,4846],[9,12,10638],[13,5,21367],[13,1,48158],[11,13,6088],[13,2,38649],[9,13,11880],[7,13,26726],[13,4,27002],[13,3,29716],[6,13,26418],[8,13,13530],[13,12,1242],[13,0,55601],[13,10,24486],[14,3,32382],[14,11,8754],[14,7,29392],[8,14,16196],[15,11,7583],[10,15,25981],[14,16,8258],[16,3,40640],[10,16,35410],[16,12,12166],[8,16,24454],[16,4,37926],[5,16,32291],[16,2,49573],[9,17,30859],[17,13,18979],[3,17,48695],[17,11,25067],[17,16,8055],[17,10,43465],[17,8,32509],[5,17,40346],[1,17,67137],[4,17,45981],[15,17,17484],[17,6,45397],[18,15,1705],[10,18,27686],[4,18,30202],[18,6,29618],[18,9,15080],[19,0,67141],[18,19,8340],[7,19,38266],[19,2,50189],[9,20,37879],[4,20,53001],[18,20,22799],[20,14,23333],[17,20,7020],[0,20,81600],[20,12,27241],[20,13,25999],[3,20,55715],[2,20,64648],[11,21,34704],[13,21,28616],[20,21,2617],[7,21,55342],[21,17,9637],[21,4,55618],[21,0,84217],[21,12,29858],[2,21,67265],[21,9,40496],[21,5,49983],[16,21,17692],[21,6,55034],[21,3,58332],[15,21,27121],[8,21,42146],[10,21,53102],[21,19,17076],[22,5,52055],[1,22,78846],[8,22,44218],[22,0,86289],[2,22,69337],[16,22,19764],[12,22,31930],[22,11,36776],[10,22,55174],[14,22,28022],[3,22,60404],[22,20,4689],[22,6,57106],[15,22,29193],[8,23,53441],[23,1,88069],[23,19,28371],[23,22,9223],[14,23,37245],[6,23,66329],[7,23,66637],[0,23,95512],[5,23,61278],[23,18,36711],[23,20,13912],[23,15,38416],[3,23,69627],[23,13,39911],[9,23,51791],[24,23,2196],[24,4,69109],[24,14,39441],[24,1,90265],[24,22,11419],[3,24,71823],[20,25,18955],[25,8,58484],[4,25,71956],[13,25,44954],[25,24,2847],[25,21,16338],[25,7,71680],[3,25,74670],[12,25,46196],[25,10,69440],[25,23,5043],[25,1,93112],[25,9,56834],[19,25,33414],[25,22,14266],[18,25,41754],[25,15,43459],[2,25,83603],[6,25,71372],[11,25,51042],[26,22,17573],[26,0,103862],[26,7,74987],[26,3,77977],[21,26,19645],[26,12,49503],[25,26,3307],[8,26,61791],[26,18,45061],[24,26,6154],[26,5,69628],[16,26,37337],[26,10,72747],[26,1,96419],[26,13,48261],[6,26,74679],[26,15,46766],[9,26,60141],[14,26,45595],[17,26,29282],[26,20,22262],[23,26,8350],[4,26,75263],[26,19,36721],[26,2,86910],[27,25,4616],[27,8,63100],[27,24,7463],[15,27,48075],[14,27,46904],[27,3,79286],[27,2,88219],[28,1,103845],[28,25,10733],[16,28,44763],[28,3,85403],[28,14,53021],[7,28,82413],[27,28,6117],[15,28,54192],[28,5,77054],[6,28,82105],[28,8,69217],[24,28,13580],[2,28,94336],[10,28,80173],[28,26,7426],[28,22,24999],[28,11,61775],[28,19,44147],[28,23,15776],[28,12,56929],[28,13,55687],[4,28,82689]]\n",
        "n = 1\n",
        "roads = []\n",
        "Solution().countPaths(n, roads)"
      ],
      "metadata": {
        "colab": {
          "base_uri": "https://localhost:8080/"
        },
        "id": "CwmtcXsa4J8O",
        "outputId": "d164d212-8010-4b5a-e252-0c4574102a88"
      },
      "execution_count": null,
      "outputs": [
        {
          "output_type": "execute_result",
          "data": {
            "text/plain": [
              "1"
            ]
          },
          "metadata": {},
          "execution_count": 38
        }
      ]
    },
    {
      "cell_type": "code",
      "source": [
        "class Solution:\n",
        "    def countCompleteComponents(self, n: int, edges: List[List[int]]) -> int:\n",
        "      p = [i for i in range(n)]\n",
        "      c = [0 for _ in range(n)]\n",
        "      def find(x):\n",
        "        if p[x] == x: return x\n",
        "        p[x] = find(p[x])\n",
        "        return p[x]\n",
        "      for u,v in edges:\n",
        "        p_u = find(u)\n",
        "        p_v = find(v)\n",
        "        if p_u != p_v:\n",
        "          if p_u < p_v:\n",
        "            p[p_v] = p_u\n",
        "            c[p_u] += c[p_v] + 1\n",
        "          else:\n",
        "            p[p_u] = p_v\n",
        "            c[p_v] += c[p_u] + 1\n",
        "        else:\n",
        "          c[p_u] += 1\n",
        "      for i in range(n):\n",
        "        find(i)\n",
        "      counter = Counter(p)\n",
        "      ret = 0\n",
        "      for p in counter.keys():\n",
        "        # print(counter[p], (counter[p]*(counter[p]-1)//2), c[p])\n",
        "        if c[p] == (counter[p]*(counter[p]-1)//2):\n",
        "          ret += 1\n",
        "      return ret\n",
        "\n",
        "n = 6\n",
        "edges = [[0,1],[0,2],[1,2],[3,4]]\n",
        "n = 6\n",
        "edges = [[0,1],[0,2],[1,2],[3,4],[3,5]]\n",
        "n = 2\n",
        "edges = [[1,0]]\n",
        "n = 4\n",
        "edges = [[2,0],[3,1],[3,2]]\n",
        "Solution().countCompleteComponents(n, edges)"
      ],
      "metadata": {
        "colab": {
          "base_uri": "https://localhost:8080/"
        },
        "id": "RrymTcznQZYU",
        "outputId": "e4d1a50a-9cb2-4411-be03-f6cd05cbdc3f"
      },
      "execution_count": null,
      "outputs": [
        {
          "output_type": "execute_result",
          "data": {
            "text/plain": [
              "0"
            ]
          },
          "metadata": {},
          "execution_count": 18
        }
      ]
    },
    {
      "cell_type": "code",
      "source": [
        "class Solution:\n",
        "    def findAllRecipes(self, recipes: List[str], ingredients: List[List[str]], supplies: List[str]) -> List[str]:\n",
        "      d = {}\n",
        "      supplies = set(supplies)\n",
        "      for i in range(len(recipes)):\n",
        "        d[recipes[i]] = ingredients[i]\n",
        "      @lru_cache(maxsize=None)\n",
        "      def topcheck(x):\n",
        "        return check(x)\n",
        "      def check(x, seen=frozenset()):\n",
        "        if x not in d: return x in supplies\n",
        "        for y in d[x]:\n",
        "          if y in seen: return False\n",
        "          if not check(y, seen | {x}): return False\n",
        "        return True\n",
        "      # return check('x')\n",
        "      res = []\n",
        "      for r in recipes:\n",
        "        if topcheck(r):\n",
        "          res.append(r)\n",
        "      return res\n",
        "\n",
        "recipes = [\"bread\"]\n",
        "ingredients = [[\"yeast\",\"flour\"]]\n",
        "supplies = [\"yeast\",\"flour\",\"corn\"]\n",
        "recipes = [\"ju\",\"fzjnm\",\"x\",\"e\",\"zpmcz\",\"h\",\"q\"]\n",
        "ingredients = [[\"d\"],[\"hveml\",\"f\",\"cpivl\"],[\"cpivl\",\"zpmcz\",\"h\",\"e\",\"fzjnm\",\"ju\"],[\"cpivl\",\"hveml\",\"zpmcz\",\"ju\",\"h\"],[\"h\",\"fzjnm\",\"e\",\"q\",\"x\"],[\"d\",\"hveml\",\"cpivl\",\"q\",\"zpmcz\",\"ju\",\"e\",\"x\"],[\"f\",\"hveml\",\"cpivl\"]]\n",
        "supplies = [\"f\",\"hveml\",\"cpivl\",\"d\"]\n",
        "Solution().findAllRecipes(recipes, ingredients, supplies)"
      ],
      "metadata": {
        "colab": {
          "base_uri": "https://localhost:8080/"
        },
        "id": "8_ixYXyHrrrF",
        "outputId": "efa54e4d-11ce-444e-ff05-365bfcf1fd57"
      },
      "execution_count": null,
      "outputs": [
        {
          "output_type": "execute_result",
          "data": {
            "text/plain": [
              "['ju', 'fzjnm', 'q']"
            ]
          },
          "metadata": {},
          "execution_count": 37
        }
      ]
    },
    {
      "cell_type": "code",
      "source": [
        "class Solution:\n",
        "    def minimumCost(self, n: int, edges: List[List[int]], query: List[List[int]]) -> List[int]:\n",
        "      p = [i for i in range(n)]\n",
        "      c = [-1 for i in range(n)]\n",
        "      def find(x):\n",
        "        if p[x] != x:\n",
        "          p[x] = find(p[x])\n",
        "        return p[x]\n",
        "      for u,v,w in edges:\n",
        "        root_u = find(u)\n",
        "        root_v = find(v)\n",
        "        if root_u != root_v:\n",
        "          if root_u < root_v:\n",
        "            p[root_v] = root_u\n",
        "            c[root_u] &= c[root_v]&w\n",
        "          else:\n",
        "            p[root_u] = root_v\n",
        "            c[root_v] &= c[root_u]&w\n",
        "        else:\n",
        "          c[root_u] = c[root_u]&w\n",
        "      # print(p,c)\n",
        "      res = []\n",
        "      for u,v in query:\n",
        "        root_u = find(u)\n",
        "        root_v = find(v)\n",
        "        if root_u == root_v:\n",
        "          res.append(c[root_u])\n",
        "        else:\n",
        "          res.append(-1)\n",
        "      return res\n",
        "\n",
        "n = 5\n",
        "edges = [[0,1,7],[1,3,7],[1,2,1]]\n",
        "query = [[0,3],[3,4]]\n",
        "n = 3\n",
        "edges = [[0,2,7],[0,1,15],[1,2,6],[1,2,1]]\n",
        "query = [[1,2]]\n",
        "n = 5\n",
        "edges = [[3,1,8],[4,3,7],[3,2,14],[1,2,13],[3,2,6],[3,2,4],[3,0,1],[3,1,12]]\n",
        "query = [[0,4],[2,1],[0,3],[3,2],[2,4],[4,1],[3,2]]\n",
        "n = 7\n",
        "edges = [[2,1,3],[1,0,3],[5,1,3],[0,1,2],[1,2,0],[0,6,1],[1,6,1],[6,3,3]]\n",
        "query = [[2,0],[5,4],[1,0],[2,4],[5,3],[4,0]]\n",
        "n = 4\n",
        "edges = [[2,3,1],[1,3,5],[1,2,6],[3,0,7],[1,3,7],[0,2,5],[0,1,7]]\n",
        "query = [[2,1],[1,2],[0,1],[2,0],[0,2],[1,2],[3,2],[0,3],[2,1],[1,2]]\n",
        "Solution().minimumCost(n, edges, query)"
      ],
      "metadata": {
        "colab": {
          "base_uri": "https://localhost:8080/"
        },
        "id": "ye_x61b9ZYtn",
        "outputId": "3f185b81-9250-4f30-f107-f7ee525a4a39"
      },
      "execution_count": null,
      "outputs": [
        {
          "output_type": "execute_result",
          "data": {
            "text/plain": [
              "[0, 0, 0, 0, 0, 0, 0, 0, 0, 0]"
            ]
          },
          "metadata": {},
          "execution_count": 66
        }
      ]
    },
    {
      "cell_type": "code",
      "source": [
        "class Solution:\n",
        "    def minOperations(self, nums: List[int]) -> int:\n",
        "      ret = 0\n",
        "      for i in range(len(nums)-2):\n",
        "        if nums[i]: continue\n",
        "        t = nums\n",
        "        t[i] = int(not t[i])\n",
        "        t[i+1] = int(not t[i+1])\n",
        "        t[i+2] = int(not t[i+2])\n",
        "        ret += 1\n",
        "      if all(nums):\n",
        "        return ret\n",
        "      else:\n",
        "        return -1\n",
        "\n",
        "# nums = [0,1,1,1,0,0]\n",
        "# nums = [0,1,1,1]\n",
        "# nums = [0,0,0,1,0,1,1,1,0,0,0,1,0,1,0,1,0,0,0]\n",
        "nums = [1,1,0,1,1,0,0,0,0,0,1,1,1,0,1,1,1,1,0,0]\n",
        "Solution().minOperations(nums)"
      ],
      "metadata": {
        "colab": {
          "base_uri": "https://localhost:8080/"
        },
        "id": "QuRbz-LqOn-n",
        "outputId": "82bb6d5d-6059-40ac-9e66-283a8d781d49"
      },
      "execution_count": null,
      "outputs": [
        {
          "output_type": "execute_result",
          "data": {
            "text/plain": [
              "9"
            ]
          },
          "metadata": {},
          "execution_count": 59
        }
      ]
    },
    {
      "cell_type": "code",
      "source": [
        "class Solution:\n",
        "    def longestNiceSubarray(self, nums: List[int]) -> int:\n",
        "      r = 0\n",
        "      tmp = nums[0]\n",
        "      res = 0\n",
        "      for l in range(len(nums)):\n",
        "        if l > 0:\n",
        "          tmp ^= nums[l-1]\n",
        "        while r < len(nums)-1 and tmp & nums[r+1] == 0:\n",
        "          r += 1\n",
        "          tmp |= nums[r]\n",
        "        res = max(res,r-l+1)\n",
        "        # print(bin(nums[l]),bin(tmp),l,r)\n",
        "      return res\n",
        "\n",
        "nums = [1,2,3]\n",
        "# nums = [1,3,8,48,10]\n",
        "# nums = [3,1,5,11,13]\n",
        "Solution().longestNiceSubarray(nums)"
      ],
      "metadata": {
        "colab": {
          "base_uri": "https://localhost:8080/"
        },
        "id": "MKAfsLohqZSC",
        "outputId": "bf70991d-91f3-4987-88bb-ef2c3bfd58ec"
      },
      "execution_count": null,
      "outputs": [
        {
          "output_type": "execute_result",
          "data": {
            "text/plain": [
              "2"
            ]
          },
          "metadata": {},
          "execution_count": 21
        }
      ]
    },
    {
      "cell_type": "code",
      "source": [
        "class Solution:\n",
        "    def divideArray(self, nums: List[int]) -> bool:\n",
        "      d = {}\n",
        "      for n in nums:\n",
        "        d[n] = d.get(n, 0)+1\n",
        "      for n in d.values():\n",
        "        if n % 2 != 0: return False\n",
        "      return True\n",
        "\n",
        "nums = [3,2,3,2,2,2]\n",
        "nums = [1,2,3,4]\n",
        "Solution().divideArray(nums)"
      ],
      "metadata": {
        "colab": {
          "base_uri": "https://localhost:8080/"
        },
        "id": "b-M4iaqGbF4f",
        "outputId": "6f404167-1624-4018-87cd-0b5c81bb6bbc"
      },
      "execution_count": null,
      "outputs": [
        {
          "output_type": "execute_result",
          "data": {
            "text/plain": [
              "False"
            ]
          },
          "metadata": {},
          "execution_count": 5
        }
      ]
    },
    {
      "cell_type": "code",
      "source": [
        "import math\n",
        "class Solution:\n",
        "    def repairCars(self, ranks: List[int], cars: int) -> int:\n",
        "      def check(t):\n",
        "        left = cars\n",
        "        for r in ranks:\n",
        "          n = math.floor((t//r)**.5)\n",
        "          left -= n\n",
        "        return left <= 0\n",
        "      lo,hi = 1,max(ranks)*cars**2\n",
        "      while lo < hi:\n",
        "        mid = (lo+hi)//2\n",
        "        if check(mid):\n",
        "          hi = mid\n",
        "        else:\n",
        "          lo = mid + 1\n",
        "      return lo\n",
        "\n",
        "ranks = [4,2,3,1]\n",
        "cars = 10\n",
        "# ranks = [5,1,8]\n",
        "# cars = 6\n",
        "Solution().repairCars(ranks, cars)"
      ],
      "metadata": {
        "colab": {
          "base_uri": "https://localhost:8080/"
        },
        "id": "iEkmcPyLGMoJ",
        "outputId": "f03bd8a6-bcac-4c86-b8f3-2942c3bcebff"
      },
      "execution_count": null,
      "outputs": [
        {
          "output_type": "execute_result",
          "data": {
            "text/plain": [
              "16"
            ]
          },
          "metadata": {},
          "execution_count": 35
        }
      ]
    },
    {
      "cell_type": "code",
      "source": [
        "class Solution:\n",
        "    def minCapability(self, nums: List[int], k: int) -> int:\n",
        "        def can_rob_with_cap(cap: int) -> bool:\n",
        "            count = 0\n",
        "            i = 0\n",
        "            while i < len(nums):\n",
        "                if nums[i] <= cap:\n",
        "                    count += 1\n",
        "                    i += 2  # Skip the next house\n",
        "                else:\n",
        "                    i += 1  # Move to the next house\n",
        "                if count >= k:\n",
        "                    return True\n",
        "            return count >= k\n",
        "\n",
        "        left, right = min(nums), max(nums)\n",
        "        while left < right:\n",
        "            mid = (left + right) // 2\n",
        "            if can_rob_with_cap(mid):\n",
        "                right = mid  # Try a smaller capability\n",
        "            else:\n",
        "                left = mid + 1  # Need a larger capability\n",
        "        return left\n",
        "\n",
        "nums = [2,3,5,9]\n",
        "k = 2\n",
        "nums = [2,7,9,3,1]\n",
        "k = 2\n",
        "nums = [2,2]\n",
        "k = 1\n",
        "nums = [4,22,11,14,25]\n",
        "k = 3\n",
        "nums = [131194,384649,668800,424596,543261,681144,623040,67238,416148,318186,173690,318213,15131,603573,139445,202284,808892,629720,378291,905921,383991,84015,573936,144672,594805,390991,177513,548006,894046,678955,458114,117975,303307,125174,518085,727656,664916,566293,578426,254544,749803,414120,442336,698188,696558,257059,125539,411567,141528,645884,694597,532599,774230,474456,592050,273709,320229,172860,593543,737110,428431,267464,208744,884218,168838,576951,532005,648381,695021,101802,547117,781366,568517,797310,253194,474853,809883,480500,728766,327508,448551,870157,316506,83852,191354,845673,30814,396801,811221,83333,148782,899123,527069,6851,451964,466,199734,194774,647397,792441,286196,236925,705325,559285,47007,459728,330948,673262,627366,196749,610166,708003,699944,449093,484156,51657,848298,675902,59984,17230,318714,238157,61374,216613,807172,791684,432170,479724,559922,441913,543851,114488,202441,304410,61462,633820,245179,172639,179794,875113,826731,573581,234097,857484,3873,344762,382306,661718,45976,828673,622723,514539,787297,715698,224766,523505,267541,9778,712049,11724,211883,314254,577224,107338,544634,127772,764178,834793,91141,327931,743965,591199,243809,460101,187622,903749,616483,462376,233536,316602,630523,150963,173228,489915,893976,278261,130609,391994,222578,266390,777023,660165,261605,519455,670929,845355,744583,278556,263737,226603,19970,137816,99582,669936,743455,617997,778902,677126,282984,163190,600527,589217,899440,210517,732369,70252,207098,903918,865032,125751,255096,429798,430784,675027,806312,57435,874857,214945,527098,108115,614942,296093,7751,281118,309140,581486,692142,289454,670000,361432,626572,897635,402240,554178,29914,235852,458656,359201,665640,400596,284433,829550,398203,776526,205198,575513,285088,364863,208096,375758,787403,298254,677869,299991,642004,708169,208857,30890,475209,694542,231690,112029,533329,4840,126172,753871,758608,27934,624764,193177,26495,824232,326208,589412,329303,206303,109601,231044,423508,54247,85202,444456,104876,430762,829105,447614,482459,899453,63611,876194,703058,341229,410092,163077,497388,603956,254653,785326,190998,410882,91140,190657,90739,899947,676359,286210,337858,543304,704222,666641,152486,121123,424843,820128,386452,633568,819296,343632,830685,736165,280946,676039,630245,902773,76519,756363,241182,647266,422934,722387,539017,745572,262217,522836,367706,610051,698506,350937,801027,746545,189162,698348,621694,576492,860214,682395,704004,329162,680615,300263,727436,807355,99773,523388,788191,593495,831962,874419,39662,831073,83830,782089,432777,7382,670093,724262,479688,505319,697168,404537,393368,207462,478770,508043,887398,879425,851084,184693,481447,835948,41227,290918,680993,783423,585785,241342,301335,836541,603698,845373,471795,376588,823261,134678,433430,308173,263152,703504,264780,465852,419861,415469,62352,884241,808316,342013,673768,94466,705249,370135,617373,861518,294167,362051,889685,572454,627629,31752,811828,795287,837533,629059,713066,137580,507017,530799,536615,34992,277907,300944,767048,252978,674839,294995,643249,307606,561314,519631,144059,717977,701320,319792,658868,768430,163063,324286,852768,213910,435801,9442,600400,76178,144679,387156,68075,205485,520872,879708,338915,853990,661463,758789,217978,673526,161105,727556,109885,325184,584547,569366,871693,98785,557085,426741,850077,758136,438861,242886,137537,127855,800770,868182,764413,619926,609141,255641,489551,32927,739529,534529,793751,40742,586721,429017,662394,395312,554109,505636,585785,480697,272578,895136,578756,687598,683743,498682,255673,120477,64347,751776,668751,747345,524633,178324,505166,366551,481159,189729,64342,580811,785326,534692,486764,904940,32424,203250,305774,67904,426903,202255,286369,375086,762742,190068,238121,863043,527075,283924,860087,578356,781828,849294,473288,86399,725073,785698,33195,877634,649575,619949,603106,809418,581079,703818,658546,568499,71803,759271,521509,289084,66564,162607,596220,882826,605265,141472,702406,488718,62094,439594,491918,41148,49304,222286,177140,287504,195106,837614,768589,514563,569330,479874,643204,732928,470072,822019,27187,67623,621280,275944,857217,177907,167405,17410,819797,818140,776168,664224,42522,52638,120344,798103,707582,399833,145690,735126,455320,43431,846630,699391,490826,681432,449805,674033,336713,635710,280223,868304,478611,844636,588471,638995,837585,636039,208682,206089,838123,420671,716047,720462,362485,684222,548963,718678,509840,877346,608064,63611,80503,379164,183617,295761,452859,406582,212501,339350,837409,216070,478577,229326,752288,299032,159804,386624,366052,669276,608953,104170,213015,900994,813212,681360,815869,130416,714440,350584,165002,677320,740188,784061,170654,491088,751202,489994,103162,301735,895930,368688,736750,299190,506774,710458,9115,68135,702197,720000,171360,1773,209361,465890,656232,419222,502051,667935,729415,724026,295419,262322,438160,684237,632246,349283,820844,371470,722579,156753,812278,619792,691892,630329,568917,309746,376297,409314,64461,229560,456337,267613,1983,795708,7091,277288,56013,320446,871632,313553,611310,135252,93103,858532,630114,34295,151458,532021,549423,177001,20359,633528,843247,444150,850009,521060,636295,207299,185109,561069,456230,543929,495535,438485,700244,872537,741173,543203,829058,531895,221330,105896,606492,101289,98765,710404,526019,242310,540030,224656,512363,483608,260542,818885,549392,576790,555412,621972,714246,783291,906009,853008,416319,502414,766034,402360,42695,766613,261186,655394,516838,810857,100845,276506,319511,374492,254852,440642,898134,588176,495275,225216,154103,512087,873019,390615,871381,69424,27733,711274,88503,158713,587349,252032,618994,59507,671829,740869,126225,515655,691867,105823,704722,389419,189721,444938,332882,273774,44007,307285,697087,892137,400438,192931,272065,332739,656886,616019,563043,77406,738039,780604,510913,564433,713024,513155,594064,296163,506251,318564,484338,423000,41835,406624,731554,849181,782527,446814,674231,324443,859091,235971,326630,843309,808467,94881,883137,859637,852522,676244,582295,783168,64552,126763,506399,125441,477975,160319,308216,82767,234615,411852,232479,328214,216742,218144,80008,843125,714415,217416,634256,227808,513473,611410,798713,545923,499469,62975,602212,892871,74914,262277,228550,94378,120029,551642,166843,297161,203382,167865,267184,824795,81258,754185,653511,436775,226479,721781,791488,773476,47158,500669,248492,58182,844024,771043,578893,850473,404782,798355,221420,815812,519326,3556,189277,849790,142644,569105,802588,221802,282146,775998,719427,492004,288100,244586]\n",
        "k = 57\n",
        "Solution().minCapability(nums, k)"
      ],
      "metadata": {
        "colab": {
          "base_uri": "https://localhost:8080/"
        },
        "id": "x8z-d6NT1V3w",
        "outputId": "360d9a3e-8b78-45a6-ebe9-0753954ccf52"
      },
      "execution_count": null,
      "outputs": [
        {
          "output_type": "execute_result",
          "data": {
            "text/plain": [
              "63611"
            ]
          },
          "metadata": {},
          "execution_count": 70
        }
      ]
    },
    {
      "cell_type": "code",
      "source": [
        "class Solution:\n",
        "    def maximumCandies(self, candies: List[int], k: int) -> int:\n",
        "      def fit(p):\n",
        "        return sum(x//p for x in candies)\n",
        "      left, right = 1, sum(candies)//k + 1\n",
        "      ans = 0\n",
        "      while left < right:\n",
        "          mid = (left + right) // 2\n",
        "          ret = fit(mid)\n",
        "          # print(mid, ret)\n",
        "          if ret < k:\n",
        "              right = mid\n",
        "          else:\n",
        "              ans = mid\n",
        "              left = mid + 1\n",
        "      return ans\n",
        "\n",
        "candies = [5,8,6]\n",
        "k = 3\n",
        "# candies = [2,5]\n",
        "# k = 11\n",
        "# candies = [4,7,5]\n",
        "# k = 4\n",
        "# candies = [4,7,5]\n",
        "# k = 16\n",
        "# candies = [5,6,4,10,10,1,1,2,2,2]\n",
        "# k = 9\n",
        "Solution().maximumCandies(candies, k)"
      ],
      "metadata": {
        "colab": {
          "base_uri": "https://localhost:8080/"
        },
        "id": "UPzjFKC3bAT3",
        "outputId": "4bce85a3-56cf-4436-862f-7eb9bfb2adc7"
      },
      "execution_count": null,
      "outputs": [
        {
          "output_type": "execute_result",
          "data": {
            "text/plain": [
              "5"
            ]
          },
          "metadata": {},
          "execution_count": 45
        }
      ]
    },
    {
      "cell_type": "code",
      "source": [
        "class Solution:\n",
        "    def minZeroArray(self, nums: List[int], queries: List[List[int]]) -> int:\n",
        "        n = len(nums)\n",
        "        m = len(queries)\n",
        "\n",
        "        def can_satisfy(k):\n",
        "            diff = [0] * (n + 1)\n",
        "            for j in range(k):\n",
        "                l, r, v = queries[j]\n",
        "                diff[l] += v\n",
        "                if r + 1 < n + 1:\n",
        "                    diff[r + 1] -= v\n",
        "            # Reconstruct curr from diff\n",
        "            curr = [0] * n\n",
        "            curr[0] = diff[0]\n",
        "            for i in range(1, n):\n",
        "                curr[i] = curr[i - 1] + diff[i]\n",
        "            return all(curr[i] >= nums[i] for i in range(n))\n",
        "\n",
        "        if all(0 >= nums[i] for i in range(n)):\n",
        "            return 0\n",
        "\n",
        "        left, right = 1, m + 1\n",
        "        ans = -1\n",
        "\n",
        "        while left < right:\n",
        "            mid = (left + right) // 2\n",
        "            if can_satisfy(mid):\n",
        "                ans = mid\n",
        "                right = mid\n",
        "            else:\n",
        "                left = mid + 1\n",
        "\n",
        "        return ans if ans != -1 else -1\n",
        "\n",
        "nums = [2,0,2]\n",
        "queries = [[0,2,1],[0,2,1],[1,1,3]]\n",
        "nums = [4,3,2,1]\n",
        "queries = [[1,3,2],[0,2,1]]\n",
        "nums = [0]\n",
        "queries = [[0,0,2],[0,0,4],[0,0,4],[0,0,3],[0,0,5]]\n",
        "nums = [7,6,8]\n",
        "queries = [[0,0,2],[0,1,5],[2,2,5],[0,2,4]]\n",
        "Solution().minZeroArray(nums, queries)"
      ],
      "metadata": {
        "colab": {
          "base_uri": "https://localhost:8080/"
        },
        "id": "C3P_trzBBixc",
        "outputId": "8f6679f2-8842-4194-a5b9-d09c763ab0c7"
      },
      "execution_count": null,
      "outputs": [
        {
          "output_type": "execute_result",
          "data": {
            "text/plain": [
              "4"
            ]
          },
          "metadata": {},
          "execution_count": 47
        }
      ]
    },
    {
      "cell_type": "code",
      "source": [
        "class Solution:\n",
        "    def maximumCount(self, nums: List[int]) -> int:\n",
        "      pos = 0\n",
        "      neg = 0\n",
        "      for n in nums:\n",
        "        if n > 0: pos += 1\n",
        "        elif n < 0: neg += 1\n",
        "      return max(pos,neg)\n",
        "\n",
        "nums = [-2,-1,-1,1,2,3]\n",
        "nums = [-3,-2,-1,0,0,1,2]\n",
        "nums = [5,20,66,1314]\n",
        "Solution().maximumCount(nums)"
      ],
      "metadata": {
        "colab": {
          "base_uri": "https://localhost:8080/"
        },
        "id": "jzdNt5lWJJcs",
        "outputId": "cfd960cc-39dc-4d2d-f45e-31469762ff23"
      },
      "execution_count": null,
      "outputs": [
        {
          "output_type": "execute_result",
          "data": {
            "text/plain": [
              "4"
            ]
          },
          "metadata": {},
          "execution_count": 4
        }
      ]
    },
    {
      "cell_type": "code",
      "source": [
        "class Solution:\n",
        "    def numberOfSubstrings(self, s: str) -> int:\n",
        "      res = 0\n",
        "      r = -1\n",
        "      cs = {'a':0,'b':0,'c':0}\n",
        "      for l in range(len(s)):\n",
        "        if l > 0:\n",
        "          cs[s[l-1]] -= 1\n",
        "        while r < len(s)-1 and not all(cs.values()):\n",
        "          r += 1\n",
        "          c = s[r]\n",
        "          cs[c] += 1\n",
        "        if all(cs.values()):\n",
        "          res += len(s)-r\n",
        "        # print(l,r,len(s)-r,cs)\n",
        "      return res\n",
        "\n",
        "s = \"abcabc\"\n",
        "s = \"aaacb\"\n",
        "s = \"abc\"\n",
        "Solution().numberOfSubstrings(s)"
      ],
      "metadata": {
        "colab": {
          "base_uri": "https://localhost:8080/"
        },
        "id": "IR06NFiqZE0N",
        "outputId": "cb5788a9-4f85-49fc-9292-589d2a02bd86"
      },
      "execution_count": null,
      "outputs": [
        {
          "output_type": "execute_result",
          "data": {
            "text/plain": [
              "1"
            ]
          },
          "metadata": {},
          "execution_count": 17
        }
      ]
    },
    {
      "cell_type": "code",
      "source": [
        "class Solution:\n",
        "    def countOfSubstrings(self, word: str, k: int) -> int:\n",
        "      res = 0\n",
        "      l,r,stop = 0,-1,0\n",
        "      vs = {'a': 0, 'e': 0, 'i': 0, 'o': 0, 'u': 0}\n",
        "      ks = 0\n",
        "      for l in range(len(word)):\n",
        "        if l > 0:\n",
        "          c = word[l-1]\n",
        "          if c in vs.keys():\n",
        "            vs[c] -= 1\n",
        "          else:\n",
        "            ks -= 1\n",
        "        while r < len(word)-1 and (ks < k or not all(vs.values())):\n",
        "          r += 1\n",
        "          c = word[r]\n",
        "          if c in vs.keys():\n",
        "            vs[c] += 1\n",
        "          else:\n",
        "            ks += 1\n",
        "        stop = max(r,stop)\n",
        "        while stop < len(word)-1 and word[stop+1] in vs.keys():\n",
        "          stop += 1\n",
        "        if ks == k and all(vs.values()):\n",
        "          res += 1 + stop-r\n",
        "        # print(l,r,stop,ks,res)\n",
        "      return res\n",
        "\n",
        "word = \"aeioqq\"\n",
        "k = 1\n",
        "word = \"aeiou\"\n",
        "k = 0\n",
        "word = \"ieaouqqieaouqq\"\n",
        "k = 1\n",
        "word = \"aeiou\"\n",
        "k = 0\n",
        "Solution().countOfSubstrings(word, k)"
      ],
      "metadata": {
        "colab": {
          "base_uri": "https://localhost:8080/"
        },
        "id": "xMKsDn-xBh4C",
        "outputId": "d4845751-0208-4d24-aa3d-a12cc75dcf01"
      },
      "execution_count": null,
      "outputs": [
        {
          "output_type": "execute_result",
          "data": {
            "text/plain": [
              "1"
            ]
          },
          "metadata": {},
          "execution_count": 98
        }
      ]
    },
    {
      "cell_type": "code",
      "source": [
        "class Solution:\n",
        "    def numberOfAlternatingGroups(self, colors: List[int], k: int) -> int:\n",
        "      t = 1\n",
        "      for i in range(len(colors)-k,len(colors)-1):\n",
        "        if colors[i] != colors[i+1]:\n",
        "          t += 1\n",
        "        else:\n",
        "          t = 1\n",
        "      res = 0\n",
        "      for i in range(len(colors)):\n",
        "        p = (i-1)%len(colors)\n",
        "        if colors[i] != colors[p]:\n",
        "          t += 1\n",
        "        else:\n",
        "          t = 1\n",
        "        if t >= k: res += 1\n",
        "        # print(i,t)\n",
        "      return res\n",
        "\n",
        "colors = [0,1,0,1,0]\n",
        "k = 3\n",
        "colors = [0,1,0,0,1,0,1]\n",
        "k = 6\n",
        "colors = [1,1,0,1]\n",
        "k = 4\n",
        "Solution().numberOfAlternatingGroups(colors, k)"
      ],
      "metadata": {
        "colab": {
          "base_uri": "https://localhost:8080/"
        },
        "id": "cPmQ0r2BgYYy",
        "outputId": "e9cbd42d-c620-4e5c-a47f-9ba7f454a07a"
      },
      "execution_count": null,
      "outputs": [
        {
          "output_type": "execute_result",
          "data": {
            "text/plain": [
              "0"
            ]
          },
          "metadata": {},
          "execution_count": 22
        }
      ]
    },
    {
      "cell_type": "code",
      "source": [
        "-1 % 3"
      ],
      "metadata": {
        "colab": {
          "base_uri": "https://localhost:8080/"
        },
        "id": "V9s8LIspi-U5",
        "outputId": "dcdc4a3a-7635-4b0f-b9ce-ce07f74b648d"
      },
      "execution_count": null,
      "outputs": [
        {
          "output_type": "execute_result",
          "data": {
            "text/plain": [
              "2"
            ]
          },
          "metadata": {},
          "execution_count": 13
        }
      ]
    },
    {
      "cell_type": "code",
      "source": [
        "class Solution:\n",
        "    def minimumRecolors(self, blocks: str, k: int) -> int:\n",
        "      ws = 0\n",
        "      bs = 0\n",
        "      res = float(\"inf\")\n",
        "      for i in range(len(blocks)):\n",
        "        if blocks[i] == \"W\": ws += 1\n",
        "        else: bs += 1\n",
        "        if i > k-1:\n",
        "          if blocks[i-k] == \"W\": ws -= 1\n",
        "          else: bs -= 1\n",
        "        if i >= k-1:\n",
        "          res = min(res, ws)\n",
        "          # print(i,blocks[i],ws,bs)\n",
        "      return res\n",
        "\n",
        "blocks = \"WBBWWBBWBW\"\n",
        "k = 7\n",
        "# blocks = \"WBWBBBW\"\n",
        "# k = 2\n",
        "Solution().minimumRecolors(blocks, k)"
      ],
      "metadata": {
        "colab": {
          "base_uri": "https://localhost:8080/"
        },
        "id": "ZSXxCTlOl-GY",
        "outputId": "7779842a-2013-4b7c-c1ae-98e4e174b456"
      },
      "execution_count": null,
      "outputs": [
        {
          "output_type": "execute_result",
          "data": {
            "text/plain": [
              "3"
            ]
          },
          "metadata": {},
          "execution_count": 26
        }
      ]
    },
    {
      "cell_type": "code",
      "source": [
        "class Solution:\n",
        "    def closestPrimes(self, left: int, right: int) -> List[int]:\n",
        "      def sieve(end):\n",
        "        res = [True for _ in range(end+1)]\n",
        "        n = 2\n",
        "        while n*n <= end:\n",
        "          for x in range(n*n,end+1,n):\n",
        "            res[x] = False\n",
        "          n += 1\n",
        "          while n < end and res[n] == False:\n",
        "            n += 1\n",
        "        return [i for i in range(2,len(res)) if res[i]]\n",
        "      primes = sieve(right)\n",
        "      # print(primes)\n",
        "      res = [-1,-1]\n",
        "      mindiff = float(\"inf\")\n",
        "      for i in range(len(primes)-1):\n",
        "        if primes[i] < left: continue\n",
        "        if primes[i+1]-primes[i] < mindiff:\n",
        "          mindiff = primes[i+1]-primes[i]\n",
        "          res = [primes[i],primes[i+1]]\n",
        "      return res\n",
        "\n",
        "# left = 10\n",
        "# right = 19\n",
        "# left = 4\n",
        "# right = 6\n",
        "# left = 19\n",
        "# right = 31\n",
        "# left = 84084\n",
        "# right = 407043\n",
        "left = 1\n",
        "right = 2\n",
        "Solution().closestPrimes(left, right)"
      ],
      "metadata": {
        "colab": {
          "base_uri": "https://localhost:8080/"
        },
        "id": "4mW4xd9Z0_Xh",
        "outputId": "23b78724-e67d-4065-c605-1f5ee896c897"
      },
      "execution_count": null,
      "outputs": [
        {
          "output_type": "execute_result",
          "data": {
            "text/plain": [
              "[-1, -1]"
            ]
          },
          "metadata": {},
          "execution_count": 64
        }
      ]
    },
    {
      "cell_type": "code",
      "source": [
        "class Solution:\n",
        "    def findMissingAndRepeatedValues(self, grid: List[List[int]]) -> List[int]:\n",
        "      n = len(grid)\n",
        "      nums = set(range(1,n*n+1))\n",
        "      for row in grid:\n",
        "        for num in row:\n",
        "          if num not in nums:\n",
        "            a = num\n",
        "          else:\n",
        "            nums.remove(num)\n",
        "      b = list(nums)[0]\n",
        "      return [a,b]\n",
        "\n",
        "grid = [[1,3],[2,2]]\n",
        "grid = [[9,1,7],[8,9,2],[3,4,6]]\n",
        "Solution().findMissingAndRepeatedValues(grid)"
      ],
      "metadata": {
        "colab": {
          "base_uri": "https://localhost:8080/"
        },
        "id": "D6Mbo97MWb5d",
        "outputId": "f5ec92f2-b91e-482b-daa1-40bc622b0cbe"
      },
      "execution_count": null,
      "outputs": [
        {
          "output_type": "execute_result",
          "data": {
            "text/plain": [
              "[9, 5]"
            ]
          },
          "metadata": {},
          "execution_count": 6
        }
      ]
    },
    {
      "cell_type": "code",
      "source": [
        "class Solution:\n",
        "    def coloredCells(self, n: int) -> int:\n",
        "      return ((n * (n+1))//2)*4 - (n*4) + 1\n",
        "\n",
        "n = 3\n",
        "Solution().coloredCells(n)"
      ],
      "metadata": {
        "colab": {
          "base_uri": "https://localhost:8080/"
        },
        "id": "S_P_72raSde7",
        "outputId": "0c3cf818-75d9-4c80-d2d1-a3523fc0b8a7"
      },
      "execution_count": null,
      "outputs": [
        {
          "output_type": "execute_result",
          "data": {
            "text/plain": [
              "13"
            ]
          },
          "metadata": {},
          "execution_count": 38
        }
      ]
    },
    {
      "cell_type": "code",
      "source": [
        "import math\n",
        "\n",
        "class Solution:\n",
        "    def checkPowersOfThree(self, n: int) -> bool:\n",
        "      @lru_cache(maxsize=None)\n",
        "      def recurse(x,used):\n",
        "        # print(x,used)\n",
        "        if x == 0: return True\n",
        "        for i in range(math.floor(math.log(x,3)),-1,-1):\n",
        "          if i in used: continue\n",
        "          if recurse(x-3**i, used|{i}): return True\n",
        "        return False\n",
        "      return recurse(n,frozenset())\n",
        "\n",
        "n = 97551\n",
        "Solution().checkPowersOfThree(n)"
      ],
      "metadata": {
        "colab": {
          "base_uri": "https://localhost:8080/"
        },
        "id": "zmsXu53CF-NI",
        "outputId": "82f34a1e-beb4-499d-d97a-f780eb06dbf2"
      },
      "execution_count": null,
      "outputs": [
        {
          "output_type": "execute_result",
          "data": {
            "text/plain": [
              "False"
            ]
          },
          "metadata": {},
          "execution_count": 24
        }
      ]
    },
    {
      "cell_type": "code",
      "source": [
        "class Solution:\n",
        "    def pivotArray(self, nums: List[int], pivot: int) -> List[int]:\n",
        "      res = []\n",
        "      for n in nums:\n",
        "        if n < pivot:\n",
        "          res.append(n)\n",
        "      for n in nums:\n",
        "        if n == pivot:\n",
        "          res.append(n)\n",
        "      for n in nums:\n",
        "        if n > pivot:\n",
        "          res.append(n)\n",
        "      return res\n",
        "\n",
        "nums = [9,12,5,10,14,3,10]\n",
        "pivot = 10\n",
        "nums = [-3,4,3,2]\n",
        "pivot = 2\n",
        "Solution().pivotArray(nums, pivot)"
      ],
      "metadata": {
        "colab": {
          "base_uri": "https://localhost:8080/"
        },
        "id": "_zZf-9XfUaDo",
        "outputId": "4b884cb2-0685-4f56-fd3b-dc6052849311"
      },
      "execution_count": null,
      "outputs": [
        {
          "output_type": "execute_result",
          "data": {
            "text/plain": [
              "[-3, 2, 4, 3]"
            ]
          },
          "metadata": {},
          "execution_count": 4
        }
      ]
    },
    {
      "cell_type": "code",
      "source": [
        "class Solution:\n",
        "    def mergeArrays(self, nums1: List[List[int]], nums2: List[List[int]]) -> List[List[int]]:\n",
        "      i1,i2 = 0,0\n",
        "      res = []\n",
        "      while i1 < len(nums1) or i2 < len(nums2):\n",
        "        # print(i1,i2,res)\n",
        "        if i1 == len(nums1):\n",
        "          res.append(nums2[i2])\n",
        "          i2 += 1\n",
        "        elif i2 == len(nums2):\n",
        "          res.append(nums1[i1])\n",
        "          i1 += 1\n",
        "        elif nums1[i1][0] == nums2[i2][0]:\n",
        "          k = nums1[i1][0]\n",
        "          v = nums1[i1][1] + nums2[i2][1]\n",
        "          res.append((k,v))\n",
        "          i1,i2 = i1+1,i2+1\n",
        "        else:\n",
        "          if nums1[i1][0] < nums2[i2][0]:\n",
        "            res.append(nums1[i1])\n",
        "            i1 += 1\n",
        "          else:\n",
        "            res.append(nums2[i2])\n",
        "            i2 += 1\n",
        "      return res\n",
        "\n",
        "nums1 = [[1,2],[2,3],[4,5]]\n",
        "nums2 = [[1,4],[3,2],[4,1]]\n",
        "nums1 = [[2,4],[3,6],[5,5]]\n",
        "nums2 = [[1,3],[4,3]]\n",
        "# nums1 = [[148,597],[165,623],[306,359],[349,566],[403,646],[420,381],[566,543],[730,209],[757,875],[788,208],[932,695]]\n",
        "# nums2 = [[74,669],[87,399],[89,165],[99,749],[122,401],[138,16],[144,714],[148,206],[177,948],[211,653],[285,775],[309,289],[349,396],[386,831],[403,318],[405,119],[420,153],[468,433],[504,101],[566,128],[603,688],[618,628],[622,586],[641,46],[653,922],[672,772],[691,823],[693,900],[756,878],[757,952],[770,795],[806,118],[813,88],[919,501],[935,253],[982,385]]\n",
        "Solution().mergeArrays(nums1, nums2)"
      ],
      "metadata": {
        "colab": {
          "base_uri": "https://localhost:8080/"
        },
        "id": "lHLO2WzinYQl",
        "outputId": "7cd4f1af-fcbc-49f0-b6ca-9299030453cd"
      },
      "execution_count": null,
      "outputs": [
        {
          "output_type": "execute_result",
          "data": {
            "text/plain": [
              "[[1, 3], [2, 4], [3, 6], [4, 3], [5, 5]]"
            ]
          },
          "metadata": {},
          "execution_count": 12
        }
      ]
    },
    {
      "cell_type": "code",
      "source": [
        "class Solution:\n",
        "    def applyOperations(self, nums: List[int]) -> List[int]:\n",
        "      for i in range(len(nums)-1):\n",
        "        if nums[i]==nums[i+1]:\n",
        "          nums[i] *= 2\n",
        "          nums[i+1] = 0\n",
        "      res = []\n",
        "      zeros = 0\n",
        "      for i in range(len(nums)):\n",
        "        if nums[i] != 0:\n",
        "          res.append(nums[i])\n",
        "        else:\n",
        "          zeros += 1\n",
        "      for i in range(zeros):\n",
        "        res.append(0)\n",
        "      return res\n",
        "\n",
        "nums = [1,2,2,1,1,0]\n",
        "# nums = [0,1]\n",
        "Solution().applyOperations(nums)"
      ],
      "metadata": {
        "colab": {
          "base_uri": "https://localhost:8080/"
        },
        "id": "AvWJUi51-ffn",
        "outputId": "10636266-179c-43e4-b5cb-3180be9c6fe6"
      },
      "execution_count": null,
      "outputs": [
        {
          "output_type": "execute_result",
          "data": {
            "text/plain": [
              "[1, 4, 2, 0, 0, 0]"
            ]
          },
          "metadata": {},
          "execution_count": 12
        }
      ]
    },
    {
      "cell_type": "code",
      "execution_count": null,
      "metadata": {
        "colab": {
          "base_uri": "https://localhost:8080/"
        },
        "id": "sRd1nusQkoH9",
        "outputId": "55c787af-efd6-414d-e90e-2244f2a1a8da"
      },
      "outputs": [
        {
          "output_type": "execute_result",
          "data": {
            "text/plain": [
              "-1"
            ]
          },
          "metadata": {},
          "execution_count": 12
        }
      ],
      "source": [
        "class Solution:\n",
        "    def maximumSum(self, nums: List[int]) -> int:\n",
        "      d = {}\n",
        "      for n in nums:\n",
        "        k = sum(int(c) for c in str(n))\n",
        "        d[k] = d.get(k,[]) + [n]\n",
        "      ret = -1\n",
        "      for k,v in d.items():\n",
        "        v.sort()\n",
        "        if len(v) > 1:\n",
        "          ret = max(ret, v[-1]+v[-2])\n",
        "      return ret\n",
        "\n",
        "nums = [18,43,36,13,7]\n",
        "nums = [10,12,19,14]\n",
        "Solution().maximumSum(nums)"
      ]
    },
    {
      "cell_type": "code",
      "source": [
        "class Solution:\n",
        "    def minOperations(self, nums: List[int], k: int) -> int:\n",
        "      heap = []\n",
        "      for n in nums:\n",
        "        heapq.heappush(heap, n)\n",
        "      ret = 0\n",
        "      while len(heap) >1 and heap[0] < k:\n",
        "        ret += 1\n",
        "        x = heapq.heappop(heap)\n",
        "        y = heapq.heappop(heap)\n",
        "        heapq.heappush(heap, min(x,y)*2 + max(x,y))\n",
        "      return ret\n",
        "\n",
        "nums = [2,11,10,1,3]\n",
        "k = 10\n",
        "nums = [1,1,2,4,9]\n",
        "k = 20\n",
        "Solution().minOperations(nums, k)"
      ],
      "metadata": {
        "colab": {
          "base_uri": "https://localhost:8080/"
        },
        "id": "CNTeHb1KUVXi",
        "outputId": "541ceb7a-e151-4c75-a6f9-b87de249e756"
      },
      "execution_count": null,
      "outputs": [
        {
          "output_type": "execute_result",
          "data": {
            "text/plain": [
              "4"
            ]
          },
          "metadata": {},
          "execution_count": 10
        }
      ]
    },
    {
      "cell_type": "code",
      "source": [
        "class ProductOfNumbers:\n",
        "\n",
        "    def __init__(self):\n",
        "      self.l = [1]\n",
        "      self.zero_idx = None\n",
        "\n",
        "    def add(self, num: int) -> None:\n",
        "      if self.l[-1] != 0:\n",
        "        self.l.append(self.l[-1] * num)\n",
        "      else:\n",
        "        self.l.append(num)\n",
        "\n",
        "      if num == 0:\n",
        "        self.zero_idx = 0\n",
        "      elif self.zero_idx != None:\n",
        "        self.zero_idx += 1\n",
        "\n",
        "    def getProduct(self, k: int) -> int:\n",
        "      # print(self.zero_idx,self.l)\n",
        "      if self.zero_idx != None:\n",
        "        if k > self.zero_idx: return 0\n",
        "        if k == self.zero_idx: return self.l[-1]\n",
        "      return self.l[-1] // self.l[len(self.l)-1-k]\n",
        "\n",
        "productOfNumbers = ProductOfNumbers()\n",
        "productOfNumbers.add(3)\n",
        "productOfNumbers.add(0)\n",
        "productOfNumbers.add(2)\n",
        "productOfNumbers.add(5)\n",
        "productOfNumbers.add(4)\n",
        "print(productOfNumbers.getProduct(2)) # // return 20. The product of the last 2 numbers is 5 * 4 = 20\n",
        "print(productOfNumbers.getProduct(3)) # // return 40. The product of the last 3 numbers is 2 * 5 * 4 = 40\n",
        "print(productOfNumbers.getProduct(4)) # // return 0. The product of the last 4 numbers is 0 * 2 * 5 * 4 = 0\n",
        "productOfNumbers.add(8) #        // [3,0,2,5,4,8]\n",
        "print(productOfNumbers.getProduct(2)) # // return 32. The product of the last 2 numbers is 4 * 8 = 32\n"
      ],
      "metadata": {
        "colab": {
          "base_uri": "https://localhost:8080/"
        },
        "id": "7rYR3jTQiYRn",
        "outputId": "536cf98b-d229-47b6-8103-98849c106937"
      },
      "execution_count": null,
      "outputs": [
        {
          "output_type": "stream",
          "name": "stdout",
          "text": [
            "20\n",
            "40\n",
            "0\n",
            "32\n"
          ]
        }
      ]
    },
    {
      "cell_type": "code",
      "source": [
        "class Solution:\n",
        "    def punishmentNumber(self, n: int) -> int:\n",
        "      def check(n, i):\n",
        "        if n == i: return True\n",
        "        s = str(n)\n",
        "        if len(s) == 1: return n == i\n",
        "        for start in range(1,len(s)):\n",
        "          prefix = int(s[:start])\n",
        "          suffix = int(s[start:])\n",
        "          if check(suffix, i-prefix): return True\n",
        "        return False\n",
        "      sum = 0\n",
        "      for i in range(1,n+1):\n",
        "        if check(i*i,i):\n",
        "          sum += i*i\n",
        "      return sum\n",
        "\n",
        "n = 37\n",
        "n = 45\n",
        "Solution().punishmentNumber(n)"
      ],
      "metadata": {
        "colab": {
          "base_uri": "https://localhost:8080/"
        },
        "id": "6amfGuxuiK3G",
        "outputId": "eb012024-4d03-460c-f5ba-601433b28318"
      },
      "execution_count": null,
      "outputs": [
        {
          "output_type": "execute_result",
          "data": {
            "text/plain": [
              "3503"
            ]
          },
          "metadata": {},
          "execution_count": 38
        }
      ]
    },
    {
      "cell_type": "code",
      "source": [
        "class Solution:\n",
        "    def constructDistancedSequence(self, n: int) -> List[int]:\n",
        "      @lru_cache(maxsize=None)\n",
        "      def dfs(partial, left):\n",
        "        if len(left) == 0: return partial\n",
        "        # print(\"dfs\",partial,left)\n",
        "        if partial[0] != None:\n",
        "          r = dfs(partial[1:], left)\n",
        "          if r:\n",
        "            return list(partial[:1]) + r\n",
        "          else:\n",
        "            return None\n",
        "        for j in range(n,0,-1):\n",
        "          if j not in left: continue\n",
        "          res = list(partial)\n",
        "          if j != 1:\n",
        "            if j >= len(res) or res[j] != None: continue\n",
        "            res[j] = j\n",
        "          r = dfs(tuple(res[1:]), left-{j})\n",
        "          if r != None:\n",
        "            return [j]+list(r)\n",
        "        else:\n",
        "          return None\n",
        "      res = [None for _ in range(2*n-1)]\n",
        "      return dfs(tuple(res), frozenset(range(1,n+1)))\n",
        "\n",
        "n = 4\n",
        "Solution().constructDistancedSequence(n)"
      ],
      "metadata": {
        "colab": {
          "base_uri": "https://localhost:8080/"
        },
        "id": "ClrV8tZXR4u6",
        "outputId": "a33c2528-dc12-4379-aa1e-a9f6813e21d3"
      },
      "execution_count": null,
      "outputs": [
        {
          "output_type": "execute_result",
          "data": {
            "text/plain": [
              "[4, 2, 3, 2, 4, 3, 1]"
            ]
          },
          "metadata": {},
          "execution_count": 132
        }
      ]
    },
    {
      "cell_type": "code",
      "source": [
        "class Solution:\n",
        "    def numTilePossibilities(self, tiles: str) -> int:\n",
        "      def recurse(prefix, left):\n",
        "        if len(left) == 0:\n",
        "          return 0\n",
        "        ret = 0\n",
        "        for c in set(left):\n",
        "          ret += 1\n",
        "          i = left.find(c)\n",
        "          ret += recurse(c+prefix, left[:i]+left[i+1:])\n",
        "        return ret\n",
        "      return recurse(\"\", tiles)\n",
        "\n",
        "# tiles = \"AAB\"\n",
        "# tiles = \"AAABBC\"\n",
        "tiles = \"V\"\n",
        "Solution().numTilePossibilities(tiles)"
      ],
      "metadata": {
        "colab": {
          "base_uri": "https://localhost:8080/"
        },
        "id": "8wi4JHuETcVs",
        "outputId": "5af3ba3d-cce5-409a-eba5-9ed6467a1558"
      },
      "execution_count": null,
      "outputs": [
        {
          "output_type": "execute_result",
          "data": {
            "text/plain": [
              "1"
            ]
          },
          "metadata": {},
          "execution_count": 17
        }
      ]
    },
    {
      "cell_type": "code",
      "source": [
        "class Solution:\n",
        "    def smallestNumber(self, pattern: str) -> str:\n",
        "      def recurse(prefix, pat, left):\n",
        "        # print(prefix, pat, left)\n",
        "        if len(pat) == 0: return prefix\n",
        "        if len(prefix) > 0:\n",
        "          prev = prefix[-1]\n",
        "        else:\n",
        "          prev = None\n",
        "        for n in range(1,10):\n",
        "          if n not in left: continue\n",
        "          if prev != None and pat[0] == \"I\" and not n > prev: continue\n",
        "          if prev != None and pat[0] == \"D\" and not n < prev: continue\n",
        "          r = recurse(prefix+[n], pat[1:], left-{n})\n",
        "          if r != None: return r\n",
        "        else:\n",
        "          return None\n",
        "      for n in range(1,10):\n",
        "        r = recurse([n], pattern, set(range(1,10))-{n})\n",
        "        if r != None: return \"\".join((str(x) for x in r))\n",
        "\n",
        "pattern = \"IIIDIDDD\"\n",
        "pattern = \"DDD\"\n",
        "Solution().smallestNumber(pattern)"
      ],
      "metadata": {
        "colab": {
          "base_uri": "https://localhost:8080/",
          "height": 35
        },
        "id": "LhS_HTQtYdrO",
        "outputId": "74d36855-9bb7-4a82-af1b-cb1c5ad5fb40"
      },
      "execution_count": null,
      "outputs": [
        {
          "output_type": "execute_result",
          "data": {
            "text/plain": [
              "'4321'"
            ],
            "application/vnd.google.colaboratory.intrinsic+json": {
              "type": "string"
            }
          },
          "metadata": {},
          "execution_count": 13
        }
      ]
    },
    {
      "cell_type": "code",
      "source": [
        "class Solution:\n",
        "    def getHappyString(self, n: int, k: int) -> str:\n",
        "      res = []\n",
        "      def recurse(prefix, left):\n",
        "        if left == 0:\n",
        "          res.append(prefix)\n",
        "          return\n",
        "        for c in ['a','b','c']:\n",
        "          if len(prefix) and prefix[-1:] == c: continue\n",
        "          recurse(prefix+c, left-1)\n",
        "      recurse(\"\",n)\n",
        "      return res[k-1] if k <= len(res) else \"\"\n",
        "\n",
        "n = 3\n",
        "k = 9\n",
        "Solution().getHappyString(n, k)"
      ],
      "metadata": {
        "colab": {
          "base_uri": "https://localhost:8080/",
          "height": 53
        },
        "id": "Vn7ls4xo4ytz",
        "outputId": "d28cf5fe-df87-4853-da8f-1e94d961f12d"
      },
      "execution_count": null,
      "outputs": [
        {
          "output_type": "stream",
          "name": "stdout",
          "text": [
            "['aba', 'abc', 'aca', 'acb', 'bab', 'bac', 'bca', 'bcb', 'cab', 'cac', 'cba', 'cbc']\n"
          ]
        },
        {
          "output_type": "execute_result",
          "data": {
            "text/plain": [
              "'cab'"
            ],
            "application/vnd.google.colaboratory.intrinsic+json": {
              "type": "string"
            }
          },
          "metadata": {},
          "execution_count": 12
        }
      ]
    },
    {
      "cell_type": "code",
      "source": [
        "class Solution:\n",
        "    def findDifferentBinaryString(self, nums: List[str]) -> str:\n",
        "      n = len(nums)\n",
        "      nums = set(nums)\n",
        "      i = 0\n",
        "      while True:\n",
        "        s = f'{i:0{n}b}'\n",
        "        if s not in nums:\n",
        "          return s\n",
        "        i += 1\n",
        "\n",
        "nums = [\"01\",\"10\"]\n",
        "Solution().findDifferentBinaryString(nums)"
      ],
      "metadata": {
        "colab": {
          "base_uri": "https://localhost:8080/",
          "height": 35
        },
        "id": "UHTxFPjArKQy",
        "outputId": "e63d84a4-8996-4b5c-e941-3b39c79d4c75"
      },
      "execution_count": null,
      "outputs": [
        {
          "output_type": "execute_result",
          "data": {
            "text/plain": [
              "'00'"
            ],
            "application/vnd.google.colaboratory.intrinsic+json": {
              "type": "string"
            }
          },
          "metadata": {},
          "execution_count": 32
        }
      ]
    },
    {
      "cell_type": "code",
      "source": [
        "# Definition for a binary tree node.\n",
        "class TreeNode:\n",
        "    def __init__(self, val=0, left=None, right=None):\n",
        "        self.val = val\n",
        "        self.left = left\n",
        "        self.right = right\n",
        "\n",
        "class FindElements:\n",
        "\n",
        "    def __init__(self, root: Optional[TreeNode]):\n",
        "      def recurse(node):\n",
        "        if node == None: return\n",
        "        if node.left != None:\n",
        "          node.left.val = 2*node.val + 1\n",
        "          recurse(node.left)\n",
        "        if node.right != None:\n",
        "          node.right.val = 2*node.val + 2\n",
        "          recurse(node.right)\n",
        "      root.val = 0\n",
        "      recurse(root)\n",
        "      self.root = root\n",
        "\n",
        "    def find(self, target: int) -> bool:\n",
        "        s = f'{target+1:0b}'\n",
        "        node = self.root\n",
        "        for c in s[1:]:\n",
        "            if node == None: return False\n",
        "            if node.val == target: return True\n",
        "            if c == \"0\":\n",
        "                node = node.left\n",
        "            else:\n",
        "                node = node.right\n",
        "        return node != None and node.val == target"
      ],
      "metadata": {
        "id": "p0yMvDagnRu4"
      },
      "execution_count": null,
      "outputs": []
    },
    {
      "cell_type": "code",
      "source": [
        "# Definition for a binary tree node.\n",
        "class TreeNode:\n",
        "    def __init__(self, val=0, left=None, right=None):\n",
        "        self.val = val\n",
        "        self.left = left\n",
        "        self.right = right\n",
        "\n",
        "class Solution:\n",
        "    def recoverFromPreorder(self, traversal: str) -> Optional[TreeNode]:\n",
        "        def peek(start):\n",
        "            d = 0\n",
        "            while traversal[start] == \"-\":\n",
        "                d += 1\n",
        "                start += 1\n",
        "            return d\n",
        "        def recurse(start, depth):\n",
        "            if start >= len(traversal): return None, start\n",
        "            d = peek(start)\n",
        "            if d < depth: return None, start\n",
        "            start += d\n",
        "            v = \"\"\n",
        "            while start < len(traversal) and traversal[start].isdigit():\n",
        "                v += traversal[start]\n",
        "                start += 1\n",
        "            v = int(v)\n",
        "            node = TreeNode(val=v)\n",
        "            next_node,start = recurse(start,depth+1)\n",
        "            if next_node != None:\n",
        "                node.left = next_node\n",
        "                next_node,start = recurse(start,depth+1)\n",
        "                if next_node != None:\n",
        "                    node.right = next_node\n",
        "            return node, start\n",
        "        node,_ = recurse(0,0)\n",
        "        return node"
      ],
      "metadata": {
        "id": "rVv1zwq5hUvj"
      },
      "execution_count": null,
      "outputs": []
    },
    {
      "cell_type": "code",
      "source": [
        "# Definition for a binary tree node.\n",
        "class TreeNode:\n",
        "    def __init__(self, val=0, left=None, right=None):\n",
        "        self.val = val\n",
        "        self.left = left\n",
        "        self.right = right\n",
        "\n",
        "class Solution:\n",
        "    def constructFromPrePost(self, preorder: List[int], postorder: List[int]) -> Optional[TreeNode]:\n",
        "        d = {}\n",
        "        for i in range(len(postorder)):\n",
        "            d[postorder[i]] = i\n",
        "        def recurse(index):\n",
        "            # print(\"recurse\",index)\n",
        "            node = TreeNode(val=preorder[index])\n",
        "            if index+1 < len(preorder) and d[preorder[index+1]] < d[node.val]:\n",
        "                node.left, index = recurse(index+1)\n",
        "            if index+1 < len(preorder) and d[preorder[index+1]] < d[node.val]:\n",
        "                node.right, index = recurse(index+1)\n",
        "            return node, index\n",
        "        ret, _ = recurse(0)\n",
        "        return ret"
      ],
      "metadata": {
        "id": "KJs3AUaLD__J"
      },
      "execution_count": null,
      "outputs": []
    },
    {
      "cell_type": "code",
      "source": [
        "class Solution:\n",
        "    def mostProfitablePath(self, edges: List[List[int]], bob: int, amount: List[int]) -> int:\n",
        "      d = {}\n",
        "      for x,y in edges:\n",
        "        d[x] = d.get(x, []) + [y]\n",
        "        d[y] = d.get(y, []) + [x]\n",
        "      def bfs(start, end):\n",
        "        q = [(start,[start])]\n",
        "        visited = {start}\n",
        "        while len(q):\n",
        "          curr, path = q.pop(0)\n",
        "          if curr == end: return path\n",
        "          for dst in d[curr]:\n",
        "            if dst not in visited:\n",
        "              visited.add(dst)\n",
        "              q.append((dst, path+[dst]))\n",
        "        return None\n",
        "      bob_path = bfs(bob, 0)\n",
        "      ret = float(\"-inf\")\n",
        "      q = [(0,0)]\n",
        "      i = 0\n",
        "      bob_visited = {bob}\n",
        "      alice_visited = {0}\n",
        "      while len(q):\n",
        "        new_q = []\n",
        "        if i < len(bob_path):\n",
        "          b = bob_path[i]\n",
        "          bob_visited.add(b)\n",
        "        for a,profit in q:\n",
        "          if a == b:\n",
        "            profit += amount[a]//2\n",
        "          elif a not in bob_visited:\n",
        "            profit += amount[a]\n",
        "          # print(a,b,profit)\n",
        "          if a != 0 and len(d[a]) == 1:\n",
        "            ret = max(ret, profit)\n",
        "            continue\n",
        "          for next in d[a]:\n",
        "            if next not in alice_visited:\n",
        "              alice_visited.add(next)\n",
        "              new_q.append((next,profit))\n",
        "        q = new_q\n",
        "        i += 1\n",
        "      return ret\n",
        "\n",
        "edges = [[0,1],[1,2],[1,3],[3,4]]\n",
        "bob = 3\n",
        "amount = [-2,4,2,-4,6]\n",
        "# edges = [[0,1]]\n",
        "# bob = 1\n",
        "# amount = [-7280,2350]\n",
        "Solution().mostProfitablePath(edges, bob, amount)"
      ],
      "metadata": {
        "colab": {
          "base_uri": "https://localhost:8080/"
        },
        "id": "_YLN4bqfo0vc",
        "outputId": "0e117c09-d8f2-49db-d74d-fc9f1b595436"
      },
      "execution_count": null,
      "outputs": [
        {
          "output_type": "execute_result",
          "data": {
            "text/plain": [
              "6"
            ]
          },
          "metadata": {},
          "execution_count": 53
        }
      ]
    },
    {
      "cell_type": "code",
      "source": [
        "class Solution:\n",
        "    def numOfSubarrays(self, arr: List[int]) -> int:\n",
        "      total = 0\n",
        "      prev = 0\n",
        "      size = len(arr)\n",
        "      for i in range(size-1,-1,-1):\n",
        "        n = arr[i]\n",
        "        if i == size-1:\n",
        "          val = 1 if n % 2 == 1 else 0\n",
        "        else:\n",
        "          if n % 2 == 0:\n",
        "            val = prev\n",
        "          else:\n",
        "            val = 1+(size-i-1)-prev\n",
        "        total += val\n",
        "        prev = val\n",
        "\n",
        "      return total % (10**9 + 7)\n",
        "\n",
        "# arr = [1,3,5]\n",
        "# arr = [2,4,6]\n",
        "# arr = [1,2,3,4,5,6,7]\n",
        "# arr = [0,1,0,1]\n",
        "Solution().numOfSubarrays(arr)"
      ],
      "metadata": {
        "colab": {
          "base_uri": "https://localhost:8080/"
        },
        "id": "fcnKUYowas4X",
        "outputId": "74840fb8-7cfa-48b5-b857-a8a98c17d326"
      },
      "execution_count": null,
      "outputs": [
        {
          "output_type": "execute_result",
          "data": {
            "text/plain": [
              "16"
            ]
          },
          "metadata": {},
          "execution_count": 37
        }
      ]
    },
    {
      "cell_type": "code",
      "source": [
        "class Solution:\n",
        "    def maxAbsoluteSum(self, nums: List[int]) -> int:\n",
        "      max_sum = 0\n",
        "      max_run = 0\n",
        "      min_sum = 0\n",
        "      min_run = 0\n",
        "      for n in nums:\n",
        "        max_run += n\n",
        "        max_sum = max(max_sum, max_run)\n",
        "        if max_run < 0: max_run = 0\n",
        "        min_run += n\n",
        "        min_sum = min(min_sum, min_run)\n",
        "        if min_run > 0: min_run = 0\n",
        "      return max(abs(max_sum), abs(min_sum))\n",
        "\n",
        "nums = [1,-3,2,3,-4]\n",
        "nums = [2,-5,1,-4,3,-2]\n",
        "Solution().maxAbsoluteSum(nums)"
      ],
      "metadata": {
        "colab": {
          "base_uri": "https://localhost:8080/"
        },
        "id": "zCNVlPDXszom",
        "outputId": "3c186869-79f5-4ecc-d465-f2a965c9acd2"
      },
      "execution_count": null,
      "outputs": [
        {
          "output_type": "execute_result",
          "data": {
            "text/plain": [
              "8"
            ]
          },
          "metadata": {},
          "execution_count": 4
        }
      ]
    },
    {
      "cell_type": "code",
      "source": [
        "# Definition for singly-linked list.\n",
        "class ListNode:\n",
        "    def __init__(self, val=0, next=None):\n",
        "        self.val = val\n",
        "        self.next = next\n",
        "\n",
        "class Solution:\n",
        "    def deleteDuplicates(self, head: Optional[ListNode]) -> Optional[ListNode]:\n",
        "        dummy = ListNode(val=-999, next=head)\n",
        "        node = dummy.next\n",
        "        prev = dummy\n",
        "        while node:\n",
        "            if node.val == prev.val:\n",
        "                prev.next = node.next\n",
        "            else:\n",
        "                prev = node\n",
        "            node = node.next\n",
        "        return dummy.next"
      ],
      "metadata": {
        "id": "qaMSFP9bp4_J"
      },
      "execution_count": null,
      "outputs": []
    },
    {
      "cell_type": "code",
      "source": [
        "class Solution:\n",
        "    def lenLongestFibSubseq(self, arr: List[int]) -> int:\n",
        "      d = {} # stores k,[(inc,len),...]\n",
        "      ret = 0\n",
        "      for i in range(len(arr)):\n",
        "        n = arr[i]\n",
        "        if n in d:\n",
        "          for inc,length in d[n]:\n",
        "            if inc == None: continue\n",
        "            d[n+inc] = d.get(n+inc,[]) + [(n,length+1)]\n",
        "            ret = max(ret, length)\n",
        "        for n1 in arr[:i]:\n",
        "          d[n+n1] = d.get(n+n1,[]) + [(n,3)]\n",
        "        d[n] = d.get(n,[]) + [(None,None)]\n",
        "        # print(f\"- {n} -\")\n",
        "        # for k in sorted(d.keys()):\n",
        "        #   print(k,d[k])\n",
        "      return ret\n",
        "\n",
        "# arr = [1,2,3,4,5,6,7,8]\n",
        "# arr = [1,3,7,11,12,14,18]\n",
        "arr = [2,4,7,8,9,10,14,15,18,23,32,50]\n",
        "Solution().lenLongestFibSubseq(arr)"
      ],
      "metadata": {
        "id": "YvtfOBj0p7pC",
        "colab": {
          "base_uri": "https://localhost:8080/"
        },
        "outputId": "d2a0b21a-6e72-4d08-eed4-85676053f1a4"
      },
      "execution_count": null,
      "outputs": [
        {
          "output_type": "execute_result",
          "data": {
            "text/plain": [
              "5"
            ]
          },
          "metadata": {},
          "execution_count": 21
        }
      ]
    },
    {
      "cell_type": "code",
      "source": [
        "class Solution:\n",
        "    def shortestCommonSupersequence(self, str1: str, str2: str) -> str:\n",
        "      @lru_cache(maxsize=None)\n",
        "      def dfs(s1,s2):\n",
        "        # print(\"dfs\",s1,s2)\n",
        "        if len(s1) == 0: return s2\n",
        "        if len(s2) == 0: return s1\n",
        "        if s1[0] == s2[0]:\n",
        "          return s1[0]+dfs(s1[1:],s2[1:])\n",
        "        r1 = dfs(s1[1:],s2)\n",
        "        r2 = dfs(s1,s2[1:])\n",
        "        if len(r1) < len(r2):\n",
        "          return s1[0]+r1\n",
        "        else:\n",
        "          return s2[0]+r2\n",
        "      return dfs(str1,str2)\n",
        "\n",
        "str1 = \"abac\"\n",
        "str2 = \"cab\"\n",
        "str1 = \"aaaaaaaa\"\n",
        "str2 = \"aaaaaaaa\"\n",
        "str1 = \"bcaaacbbbcbdcaddadcacbdddcdcccdadadcbabaccbccdcdcbcaccacbbdcbabb\"\n",
        "str2 = \"dddbbdcbccaccbababaacbcbacdddcdabadcacddbacadabdabcdbaaabaccbdaa\"\n",
        "Solution().shortestCommonSupersequence(str1, str2)"
      ],
      "metadata": {
        "colab": {
          "base_uri": "https://localhost:8080/",
          "height": 35
        },
        "id": "W26xA-34r3Ad",
        "outputId": "2d69626a-6993-47c8-bd03-39000eafe75d"
      },
      "execution_count": null,
      "outputs": [
        {
          "output_type": "execute_result",
          "data": {
            "text/plain": [
              "'dddbbdcbccacaacbababaacbdcbacddadcdacbadcaddcdcccdbacdadcbabdaccbccdbaaacdcbcaccacbbdacbabb'"
            ],
            "application/vnd.google.colaboratory.intrinsic+json": {
              "type": "string"
            }
          },
          "metadata": {},
          "execution_count": 13
        }
      ]
    }
  ]
}