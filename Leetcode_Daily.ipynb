{
  "nbformat": 4,
  "nbformat_minor": 0,
  "metadata": {
    "colab": {
      "provenance": [],
      "authorship_tag": "ABX9TyN0LBMam0sO4rae4D0S4M+i",
      "include_colab_link": true
    },
    "kernelspec": {
      "name": "python3",
      "display_name": "Python 3"
    },
    "language_info": {
      "name": "python"
    }
  },
  "cells": [
    {
      "cell_type": "markdown",
      "metadata": {
        "id": "view-in-github",
        "colab_type": "text"
      },
      "source": [
        "<a href=\"https://colab.research.google.com/github/elichen/leetcode/blob/main/Leetcode_Daily.ipynb\" target=\"_parent\"><img src=\"https://colab.research.google.com/assets/colab-badge.svg\" alt=\"Open In Colab\"/></a>"
      ]
    },
    {
      "cell_type": "code",
      "execution_count": null,
      "metadata": {
        "colab": {
          "base_uri": "https://localhost:8080/"
        },
        "id": "sRd1nusQkoH9",
        "outputId": "55c787af-efd6-414d-e90e-2244f2a1a8da"
      },
      "outputs": [
        {
          "output_type": "execute_result",
          "data": {
            "text/plain": [
              "-1"
            ]
          },
          "metadata": {},
          "execution_count": 12
        }
      ],
      "source": [
        "from typing import *\n",
        "\n",
        "class Solution:\n",
        "    def maximumSum(self, nums: List[int]) -> int:\n",
        "      d = {}\n",
        "      for n in nums:\n",
        "        k = sum(int(c) for c in str(n))\n",
        "        d[k] = d.get(k,[]) + [n]\n",
        "      ret = -1\n",
        "      for k,v in d.items():\n",
        "        v.sort()\n",
        "        if len(v) > 1:\n",
        "          ret = max(ret, v[-1]+v[-2])\n",
        "      return ret\n",
        "\n",
        "nums = [18,43,36,13,7]\n",
        "nums = [10,12,19,14]\n",
        "Solution().maximumSum(nums)"
      ]
    },
    {
      "cell_type": "code",
      "source": [
        "from typing import *\n",
        "import heapq\n",
        "\n",
        "class Solution:\n",
        "    def minOperations(self, nums: List[int], k: int) -> int:\n",
        "      heap = []\n",
        "      for n in nums:\n",
        "        heapq.heappush(heap, n)\n",
        "      ret = 0\n",
        "      while len(heap) >1 and heap[0] < k:\n",
        "        ret += 1\n",
        "        x = heapq.heappop(heap)\n",
        "        y = heapq.heappop(heap)\n",
        "        heapq.heappush(heap, min(x,y)*2 + max(x,y))\n",
        "      return ret\n",
        "\n",
        "nums = [2,11,10,1,3]\n",
        "k = 10\n",
        "nums = [1,1,2,4,9]\n",
        "k = 20\n",
        "Solution().minOperations(nums, k)"
      ],
      "metadata": {
        "colab": {
          "base_uri": "https://localhost:8080/"
        },
        "id": "CNTeHb1KUVXi",
        "outputId": "541ceb7a-e151-4c75-a6f9-b87de249e756"
      },
      "execution_count": null,
      "outputs": [
        {
          "output_type": "execute_result",
          "data": {
            "text/plain": [
              "4"
            ]
          },
          "metadata": {},
          "execution_count": 10
        }
      ]
    },
    {
      "cell_type": "code",
      "source": [
        "class ProductOfNumbers:\n",
        "\n",
        "    def __init__(self):\n",
        "      self.l = [1]\n",
        "      self.zero_idx = None\n",
        "\n",
        "    def add(self, num: int) -> None:\n",
        "      if self.l[-1] != 0:\n",
        "        self.l.append(self.l[-1] * num)\n",
        "      else:\n",
        "        self.l.append(num)\n",
        "\n",
        "      if num == 0:\n",
        "        self.zero_idx = 0\n",
        "      elif self.zero_idx != None:\n",
        "        self.zero_idx += 1\n",
        "\n",
        "    def getProduct(self, k: int) -> int:\n",
        "      # print(self.zero_idx,self.l)\n",
        "      if self.zero_idx != None:\n",
        "        if k > self.zero_idx: return 0\n",
        "        if k == self.zero_idx: return self.l[-1]\n",
        "      return self.l[-1] // self.l[len(self.l)-1-k]\n",
        "\n",
        "productOfNumbers = ProductOfNumbers()\n",
        "productOfNumbers.add(3)\n",
        "productOfNumbers.add(0)\n",
        "productOfNumbers.add(2)\n",
        "productOfNumbers.add(5)\n",
        "productOfNumbers.add(4)\n",
        "print(productOfNumbers.getProduct(2)) # // return 20. The product of the last 2 numbers is 5 * 4 = 20\n",
        "print(productOfNumbers.getProduct(3)) # // return 40. The product of the last 3 numbers is 2 * 5 * 4 = 40\n",
        "print(productOfNumbers.getProduct(4)) # // return 0. The product of the last 4 numbers is 0 * 2 * 5 * 4 = 0\n",
        "productOfNumbers.add(8) #        // [3,0,2,5,4,8]\n",
        "print(productOfNumbers.getProduct(2)) # // return 32. The product of the last 2 numbers is 4 * 8 = 32\n"
      ],
      "metadata": {
        "colab": {
          "base_uri": "https://localhost:8080/"
        },
        "id": "7rYR3jTQiYRn",
        "outputId": "536cf98b-d229-47b6-8103-98849c106937"
      },
      "execution_count": null,
      "outputs": [
        {
          "output_type": "stream",
          "name": "stdout",
          "text": [
            "20\n",
            "40\n",
            "0\n",
            "32\n"
          ]
        }
      ]
    },
    {
      "cell_type": "code",
      "source": [
        "class Solution:\n",
        "    def punishmentNumber(self, n: int) -> int:\n",
        "      def check(n, i):\n",
        "        if n == i: return True\n",
        "        s = str(n)\n",
        "        if len(s) == 1: return n == i\n",
        "        for start in range(1,len(s)):\n",
        "          prefix = int(s[:start])\n",
        "          suffix = int(s[start:])\n",
        "          if check(suffix, i-prefix): return True\n",
        "        return False\n",
        "      sum = 0\n",
        "      for i in range(1,n+1):\n",
        "        if check(i*i,i):\n",
        "          sum += i*i\n",
        "      return sum\n",
        "\n",
        "n = 37\n",
        "n = 45\n",
        "Solution().punishmentNumber(n)"
      ],
      "metadata": {
        "colab": {
          "base_uri": "https://localhost:8080/"
        },
        "id": "6amfGuxuiK3G",
        "outputId": "eb012024-4d03-460c-f5ba-601433b28318"
      },
      "execution_count": 38,
      "outputs": [
        {
          "output_type": "execute_result",
          "data": {
            "text/plain": [
              "3503"
            ]
          },
          "metadata": {},
          "execution_count": 38
        }
      ]
    }
  ]
}