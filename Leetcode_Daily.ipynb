{
  "nbformat": 4,
  "nbformat_minor": 0,
  "metadata": {
    "colab": {
      "provenance": [],
      "authorship_tag": "ABX9TyM0M6MwwxlAfHjldSROsMAA",
      "include_colab_link": true
    },
    "kernelspec": {
      "name": "python3",
      "display_name": "Python 3"
    },
    "language_info": {
      "name": "python"
    }
  },
  "cells": [
    {
      "cell_type": "markdown",
      "metadata": {
        "id": "view-in-github",
        "colab_type": "text"
      },
      "source": [
        "<a href=\"https://colab.research.google.com/github/elichen/leetcode/blob/main/Leetcode_Daily.ipynb\" target=\"_parent\"><img src=\"https://colab.research.google.com/assets/colab-badge.svg\" alt=\"Open In Colab\"/></a>"
      ]
    },
    {
      "cell_type": "code",
      "execution_count": null,
      "metadata": {
        "colab": {
          "base_uri": "https://localhost:8080/"
        },
        "id": "sRd1nusQkoH9",
        "outputId": "55c787af-efd6-414d-e90e-2244f2a1a8da"
      },
      "outputs": [
        {
          "output_type": "execute_result",
          "data": {
            "text/plain": [
              "-1"
            ]
          },
          "metadata": {},
          "execution_count": 12
        }
      ],
      "source": [
        "from typing import *\n",
        "\n",
        "class Solution:\n",
        "    def maximumSum(self, nums: List[int]) -> int:\n",
        "      d = {}\n",
        "      for n in nums:\n",
        "        k = sum(int(c) for c in str(n))\n",
        "        d[k] = d.get(k,[]) + [n]\n",
        "      ret = -1\n",
        "      for k,v in d.items():\n",
        "        v.sort()\n",
        "        if len(v) > 1:\n",
        "          ret = max(ret, v[-1]+v[-2])\n",
        "      return ret\n",
        "\n",
        "nums = [18,43,36,13,7]\n",
        "nums = [10,12,19,14]\n",
        "Solution().maximumSum(nums)"
      ]
    },
    {
      "cell_type": "code",
      "source": [
        "from typing import *\n",
        "import heapq\n",
        "\n",
        "class Solution:\n",
        "    def minOperations(self, nums: List[int], k: int) -> int:\n",
        "      heap = []\n",
        "      for n in nums:\n",
        "        heapq.heappush(heap, n)\n",
        "      ret = 0\n",
        "      while len(heap) >1 and heap[0] < k:\n",
        "        ret += 1\n",
        "        x = heapq.heappop(heap)\n",
        "        y = heapq.heappop(heap)\n",
        "        heapq.heappush(heap, min(x,y)*2 + max(x,y))\n",
        "      return ret\n",
        "\n",
        "nums = [2,11,10,1,3]\n",
        "k = 10\n",
        "nums = [1,1,2,4,9]\n",
        "k = 20\n",
        "Solution().minOperations(nums, k)"
      ],
      "metadata": {
        "colab": {
          "base_uri": "https://localhost:8080/"
        },
        "id": "CNTeHb1KUVXi",
        "outputId": "541ceb7a-e151-4c75-a6f9-b87de249e756"
      },
      "execution_count": 10,
      "outputs": [
        {
          "output_type": "execute_result",
          "data": {
            "text/plain": [
              "4"
            ]
          },
          "metadata": {},
          "execution_count": 10
        }
      ]
    }
  ]
}