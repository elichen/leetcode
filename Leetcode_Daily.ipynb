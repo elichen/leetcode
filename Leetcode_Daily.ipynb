{
  "nbformat": 4,
  "nbformat_minor": 0,
  "metadata": {
    "colab": {
      "provenance": [],
      "authorship_tag": "ABX9TyMEeCjfHOET/TmccMPiMSUP",
      "include_colab_link": true
    },
    "kernelspec": {
      "name": "python3",
      "display_name": "Python 3"
    },
    "language_info": {
      "name": "python"
    }
  },
  "cells": [
    {
      "cell_type": "markdown",
      "metadata": {
        "id": "view-in-github",
        "colab_type": "text"
      },
      "source": [
        "<a href=\"https://colab.research.google.com/github/elichen/leetcode/blob/main/Leetcode_Daily.ipynb\" target=\"_parent\"><img src=\"https://colab.research.google.com/assets/colab-badge.svg\" alt=\"Open In Colab\"/></a>"
      ]
    },
    {
      "cell_type": "code",
      "execution_count": null,
      "metadata": {
        "colab": {
          "base_uri": "https://localhost:8080/"
        },
        "id": "sRd1nusQkoH9",
        "outputId": "55c787af-efd6-414d-e90e-2244f2a1a8da"
      },
      "outputs": [
        {
          "output_type": "execute_result",
          "data": {
            "text/plain": [
              "-1"
            ]
          },
          "metadata": {},
          "execution_count": 12
        }
      ],
      "source": [
        "from typing import *\n",
        "\n",
        "class Solution:\n",
        "    def maximumSum(self, nums: List[int]) -> int:\n",
        "      d = {}\n",
        "      for n in nums:\n",
        "        k = sum(int(c) for c in str(n))\n",
        "        d[k] = d.get(k,[]) + [n]\n",
        "      ret = -1\n",
        "      for k,v in d.items():\n",
        "        v.sort()\n",
        "        if len(v) > 1:\n",
        "          ret = max(ret, v[-1]+v[-2])\n",
        "      return ret\n",
        "\n",
        "nums = [18,43,36,13,7]\n",
        "nums = [10,12,19,14]\n",
        "Solution().maximumSum(nums)"
      ]
    },
    {
      "cell_type": "code",
      "source": [
        "from typing import *\n",
        "import heapq\n",
        "\n",
        "class Solution:\n",
        "    def minOperations(self, nums: List[int], k: int) -> int:\n",
        "      heap = []\n",
        "      for n in nums:\n",
        "        heapq.heappush(heap, n)\n",
        "      ret = 0\n",
        "      while len(heap) >1 and heap[0] < k:\n",
        "        ret += 1\n",
        "        x = heapq.heappop(heap)\n",
        "        y = heapq.heappop(heap)\n",
        "        heapq.heappush(heap, min(x,y)*2 + max(x,y))\n",
        "      return ret\n",
        "\n",
        "nums = [2,11,10,1,3]\n",
        "k = 10\n",
        "nums = [1,1,2,4,9]\n",
        "k = 20\n",
        "Solution().minOperations(nums, k)"
      ],
      "metadata": {
        "colab": {
          "base_uri": "https://localhost:8080/"
        },
        "id": "CNTeHb1KUVXi",
        "outputId": "541ceb7a-e151-4c75-a6f9-b87de249e756"
      },
      "execution_count": null,
      "outputs": [
        {
          "output_type": "execute_result",
          "data": {
            "text/plain": [
              "4"
            ]
          },
          "metadata": {},
          "execution_count": 10
        }
      ]
    },
    {
      "cell_type": "code",
      "source": [
        "class ProductOfNumbers:\n",
        "\n",
        "    def __init__(self):\n",
        "      self.l = [1]\n",
        "      self.zero_idx = None\n",
        "\n",
        "    def add(self, num: int) -> None:\n",
        "      if self.l[-1] != 0:\n",
        "        self.l.append(self.l[-1] * num)\n",
        "      else:\n",
        "        self.l.append(num)\n",
        "\n",
        "      if num == 0:\n",
        "        self.zero_idx = 0\n",
        "      elif self.zero_idx != None:\n",
        "        self.zero_idx += 1\n",
        "\n",
        "    def getProduct(self, k: int) -> int:\n",
        "      # print(self.zero_idx,self.l)\n",
        "      if self.zero_idx != None:\n",
        "        if k > self.zero_idx: return 0\n",
        "        if k == self.zero_idx: return self.l[-1]\n",
        "      return self.l[-1] // self.l[len(self.l)-1-k]\n",
        "\n",
        "productOfNumbers = ProductOfNumbers()\n",
        "productOfNumbers.add(3)\n",
        "productOfNumbers.add(0)\n",
        "productOfNumbers.add(2)\n",
        "productOfNumbers.add(5)\n",
        "productOfNumbers.add(4)\n",
        "print(productOfNumbers.getProduct(2)) # // return 20. The product of the last 2 numbers is 5 * 4 = 20\n",
        "print(productOfNumbers.getProduct(3)) # // return 40. The product of the last 3 numbers is 2 * 5 * 4 = 40\n",
        "print(productOfNumbers.getProduct(4)) # // return 0. The product of the last 4 numbers is 0 * 2 * 5 * 4 = 0\n",
        "productOfNumbers.add(8) #        // [3,0,2,5,4,8]\n",
        "print(productOfNumbers.getProduct(2)) # // return 32. The product of the last 2 numbers is 4 * 8 = 32\n"
      ],
      "metadata": {
        "colab": {
          "base_uri": "https://localhost:8080/"
        },
        "id": "7rYR3jTQiYRn",
        "outputId": "536cf98b-d229-47b6-8103-98849c106937"
      },
      "execution_count": null,
      "outputs": [
        {
          "output_type": "stream",
          "name": "stdout",
          "text": [
            "20\n",
            "40\n",
            "0\n",
            "32\n"
          ]
        }
      ]
    },
    {
      "cell_type": "code",
      "source": [
        "class Solution:\n",
        "    def punishmentNumber(self, n: int) -> int:\n",
        "      def check(n, i):\n",
        "        if n == i: return True\n",
        "        s = str(n)\n",
        "        if len(s) == 1: return n == i\n",
        "        for start in range(1,len(s)):\n",
        "          prefix = int(s[:start])\n",
        "          suffix = int(s[start:])\n",
        "          if check(suffix, i-prefix): return True\n",
        "        return False\n",
        "      sum = 0\n",
        "      for i in range(1,n+1):\n",
        "        if check(i*i,i):\n",
        "          sum += i*i\n",
        "      return sum\n",
        "\n",
        "n = 37\n",
        "n = 45\n",
        "Solution().punishmentNumber(n)"
      ],
      "metadata": {
        "colab": {
          "base_uri": "https://localhost:8080/"
        },
        "id": "6amfGuxuiK3G",
        "outputId": "eb012024-4d03-460c-f5ba-601433b28318"
      },
      "execution_count": null,
      "outputs": [
        {
          "output_type": "execute_result",
          "data": {
            "text/plain": [
              "3503"
            ]
          },
          "metadata": {},
          "execution_count": 38
        }
      ]
    },
    {
      "cell_type": "code",
      "source": [
        "from typing import *\n",
        "from functools import lru_cache\n",
        "\n",
        "class Solution:\n",
        "    def constructDistancedSequence(self, n: int) -> List[int]:\n",
        "      @lru_cache(maxsize=None)\n",
        "      def dfs(partial, left):\n",
        "        if len(left) == 0: return partial\n",
        "        # print(\"dfs\",partial,left)\n",
        "        if partial[0] != None:\n",
        "          r = dfs(partial[1:], left)\n",
        "          if r:\n",
        "            return list(partial[:1]) + r\n",
        "          else:\n",
        "            return None\n",
        "        for j in range(n,0,-1):\n",
        "          if j not in left: continue\n",
        "          res = list(partial)\n",
        "          if j != 1:\n",
        "            if j >= len(res) or res[j] != None: continue\n",
        "            res[j] = j\n",
        "          r = dfs(tuple(res[1:]), left-{j})\n",
        "          if r != None:\n",
        "            return [j]+list(r)\n",
        "        else:\n",
        "          return None\n",
        "      res = [None for _ in range(2*n-1)]\n",
        "      return dfs(tuple(res), frozenset(range(1,n+1)))\n",
        "\n",
        "n = 4\n",
        "Solution().constructDistancedSequence(n)"
      ],
      "metadata": {
        "colab": {
          "base_uri": "https://localhost:8080/"
        },
        "id": "ClrV8tZXR4u6",
        "outputId": "a33c2528-dc12-4379-aa1e-a9f6813e21d3"
      },
      "execution_count": null,
      "outputs": [
        {
          "output_type": "execute_result",
          "data": {
            "text/plain": [
              "[4, 2, 3, 2, 4, 3, 1]"
            ]
          },
          "metadata": {},
          "execution_count": 132
        }
      ]
    },
    {
      "cell_type": "code",
      "source": [
        "class Solution:\n",
        "    def numTilePossibilities(self, tiles: str) -> int:\n",
        "      def recurse(prefix, left):\n",
        "        if len(left) == 0:\n",
        "          return 0\n",
        "        ret = 0\n",
        "        for c in set(left):\n",
        "          ret += 1\n",
        "          i = left.find(c)\n",
        "          ret += recurse(c+prefix, left[:i]+left[i+1:])\n",
        "        return ret\n",
        "      return recurse(\"\", tiles)\n",
        "\n",
        "# tiles = \"AAB\"\n",
        "# tiles = \"AAABBC\"\n",
        "tiles = \"V\"\n",
        "Solution().numTilePossibilities(tiles)"
      ],
      "metadata": {
        "colab": {
          "base_uri": "https://localhost:8080/"
        },
        "id": "8wi4JHuETcVs",
        "outputId": "5af3ba3d-cce5-409a-eba5-9ed6467a1558"
      },
      "execution_count": null,
      "outputs": [
        {
          "output_type": "execute_result",
          "data": {
            "text/plain": [
              "1"
            ]
          },
          "metadata": {},
          "execution_count": 17
        }
      ]
    },
    {
      "cell_type": "code",
      "source": [
        "class Solution:\n",
        "    def smallestNumber(self, pattern: str) -> str:\n",
        "      def recurse(prefix, pat, left):\n",
        "        # print(prefix, pat, left)\n",
        "        if len(pat) == 0: return prefix\n",
        "        if len(prefix) > 0:\n",
        "          prev = prefix[-1]\n",
        "        else:\n",
        "          prev = None\n",
        "        for n in range(1,10):\n",
        "          if n not in left: continue\n",
        "          if prev != None and pat[0] == \"I\" and not n > prev: continue\n",
        "          if prev != None and pat[0] == \"D\" and not n < prev: continue\n",
        "          r = recurse(prefix+[n], pat[1:], left-{n})\n",
        "          if r != None: return r\n",
        "        else:\n",
        "          return None\n",
        "      for n in range(1,10):\n",
        "        r = recurse([n], pattern, set(range(1,10))-{n})\n",
        "        if r != None: return \"\".join((str(x) for x in r))\n",
        "\n",
        "pattern = \"IIIDIDDD\"\n",
        "pattern = \"DDD\"\n",
        "Solution().smallestNumber(pattern)"
      ],
      "metadata": {
        "colab": {
          "base_uri": "https://localhost:8080/",
          "height": 35
        },
        "id": "LhS_HTQtYdrO",
        "outputId": "74d36855-9bb7-4a82-af1b-cb1c5ad5fb40"
      },
      "execution_count": null,
      "outputs": [
        {
          "output_type": "execute_result",
          "data": {
            "text/plain": [
              "'4321'"
            ],
            "application/vnd.google.colaboratory.intrinsic+json": {
              "type": "string"
            }
          },
          "metadata": {},
          "execution_count": 13
        }
      ]
    },
    {
      "cell_type": "code",
      "source": [
        "class Solution:\n",
        "    def getHappyString(self, n: int, k: int) -> str:\n",
        "      res = []\n",
        "      def recurse(prefix, left):\n",
        "        if left == 0:\n",
        "          res.append(prefix)\n",
        "          return\n",
        "        for c in ['a','b','c']:\n",
        "          if len(prefix) and prefix[-1:] == c: continue\n",
        "          recurse(prefix+c, left-1)\n",
        "      recurse(\"\",n)\n",
        "      return res[k-1] if k <= len(res) else \"\"\n",
        "\n",
        "n = 3\n",
        "k = 9\n",
        "Solution().getHappyString(n, k)"
      ],
      "metadata": {
        "colab": {
          "base_uri": "https://localhost:8080/",
          "height": 53
        },
        "id": "Vn7ls4xo4ytz",
        "outputId": "d28cf5fe-df87-4853-da8f-1e94d961f12d"
      },
      "execution_count": null,
      "outputs": [
        {
          "output_type": "stream",
          "name": "stdout",
          "text": [
            "['aba', 'abc', 'aca', 'acb', 'bab', 'bac', 'bca', 'bcb', 'cab', 'cac', 'cba', 'cbc']\n"
          ]
        },
        {
          "output_type": "execute_result",
          "data": {
            "text/plain": [
              "'cab'"
            ],
            "application/vnd.google.colaboratory.intrinsic+json": {
              "type": "string"
            }
          },
          "metadata": {},
          "execution_count": 12
        }
      ]
    },
    {
      "cell_type": "code",
      "source": [
        "from typing import *\n",
        "\n",
        "class Solution:\n",
        "    def findDifferentBinaryString(self, nums: List[str]) -> str:\n",
        "      n = len(nums)\n",
        "      nums = set(nums)\n",
        "      i = 0\n",
        "      while True:\n",
        "        s = f'{i:0{n}b}'\n",
        "        if s not in nums:\n",
        "          return s\n",
        "        i += 1\n",
        "\n",
        "nums = [\"01\",\"10\"]\n",
        "Solution().findDifferentBinaryString(nums)"
      ],
      "metadata": {
        "colab": {
          "base_uri": "https://localhost:8080/",
          "height": 35
        },
        "id": "UHTxFPjArKQy",
        "outputId": "e63d84a4-8996-4b5c-e941-3b39c79d4c75"
      },
      "execution_count": null,
      "outputs": [
        {
          "output_type": "execute_result",
          "data": {
            "text/plain": [
              "'00'"
            ],
            "application/vnd.google.colaboratory.intrinsic+json": {
              "type": "string"
            }
          },
          "metadata": {},
          "execution_count": 32
        }
      ]
    },
    {
      "cell_type": "code",
      "source": [
        "# Definition for a binary tree node.\n",
        "class TreeNode:\n",
        "    def __init__(self, val=0, left=None, right=None):\n",
        "        self.val = val\n",
        "        self.left = left\n",
        "        self.right = right\n",
        "\n",
        "class FindElements:\n",
        "\n",
        "    def __init__(self, root: Optional[TreeNode]):\n",
        "      def recurse(node):\n",
        "        if node == None: return\n",
        "        if node.left != None:\n",
        "          node.left.val = 2*node.val + 1\n",
        "          recurse(node.left)\n",
        "        if node.right != None:\n",
        "          node.right.val = 2*node.val + 2\n",
        "          recurse(node.right)\n",
        "      root.val = 0\n",
        "      recurse(root)\n",
        "      self.root = root\n",
        "\n",
        "    def find(self, target: int) -> bool:\n",
        "        s = f'{target+1:0b}'\n",
        "        node = self.root\n",
        "        for c in s[1:]:\n",
        "            if node == None: return False\n",
        "            if node.val == target: return True\n",
        "            if c == \"0\":\n",
        "                node = node.left\n",
        "            else:\n",
        "                node = node.right\n",
        "        return node != None and node.val == target"
      ],
      "metadata": {
        "id": "p0yMvDagnRu4"
      },
      "execution_count": null,
      "outputs": []
    },
    {
      "cell_type": "code",
      "source": [
        "from typing import *\n",
        "\n",
        "# Definition for a binary tree node.\n",
        "class TreeNode:\n",
        "    def __init__(self, val=0, left=None, right=None):\n",
        "        self.val = val\n",
        "        self.left = left\n",
        "        self.right = right\n",
        "\n",
        "class Solution:\n",
        "    def recoverFromPreorder(self, traversal: str) -> Optional[TreeNode]:\n",
        "        def peek(start):\n",
        "            d = 0\n",
        "            while traversal[start] == \"-\":\n",
        "                d += 1\n",
        "                start += 1\n",
        "            return d\n",
        "        def recurse(start, depth):\n",
        "            if start >= len(traversal): return None, start\n",
        "            d = peek(start)\n",
        "            if d < depth: return None, start\n",
        "            start += d\n",
        "            v = \"\"\n",
        "            while start < len(traversal) and traversal[start].isdigit():\n",
        "                v += traversal[start]\n",
        "                start += 1\n",
        "            v = int(v)\n",
        "            node = TreeNode(val=v)\n",
        "            next_node,start = recurse(start,depth+1)\n",
        "            if next_node != None:\n",
        "                node.left = next_node\n",
        "                next_node,start = recurse(start,depth+1)\n",
        "                if next_node != None:\n",
        "                    node.right = next_node\n",
        "            return node, start\n",
        "        node,_ = recurse(0,0)\n",
        "        return node"
      ],
      "metadata": {
        "id": "rVv1zwq5hUvj"
      },
      "execution_count": null,
      "outputs": []
    },
    {
      "cell_type": "code",
      "source": [
        "from typing import *\n",
        "\n",
        "# Definition for a binary tree node.\n",
        "class TreeNode:\n",
        "    def __init__(self, val=0, left=None, right=None):\n",
        "        self.val = val\n",
        "        self.left = left\n",
        "        self.right = right\n",
        "\n",
        "class Solution:\n",
        "    def constructFromPrePost(self, preorder: List[int], postorder: List[int]) -> Optional[TreeNode]:\n",
        "        d = {}\n",
        "        for i in range(len(postorder)):\n",
        "            d[postorder[i]] = i\n",
        "        def recurse(index):\n",
        "            # print(\"recurse\",index)\n",
        "            node = TreeNode(val=preorder[index])\n",
        "            if index+1 < len(preorder) and d[preorder[index+1]] < d[node.val]:\n",
        "                node.left, index = recurse(index+1)\n",
        "            if index+1 < len(preorder) and d[preorder[index+1]] < d[node.val]:\n",
        "                node.right, index = recurse(index+1)\n",
        "            return node, index\n",
        "        ret, _ = recurse(0)\n",
        "        return ret"
      ],
      "metadata": {
        "id": "KJs3AUaLD__J"
      },
      "execution_count": null,
      "outputs": []
    },
    {
      "cell_type": "code",
      "source": [
        "from typing import *\n",
        "\n",
        "class Solution:\n",
        "    def mostProfitablePath(self, edges: List[List[int]], bob: int, amount: List[int]) -> int:\n",
        "      d = {}\n",
        "      for x,y in edges:\n",
        "        d[x] = d.get(x, []) + [y]\n",
        "        d[y] = d.get(y, []) + [x]\n",
        "      def bfs(start, end):\n",
        "        q = [(start,[start])]\n",
        "        visited = {start}\n",
        "        while len(q):\n",
        "          curr, path = q.pop(0)\n",
        "          if curr == end: return path\n",
        "          for dst in d[curr]:\n",
        "            if dst not in visited:\n",
        "              visited.add(dst)\n",
        "              q.append((dst, path+[dst]))\n",
        "        return None\n",
        "      bob_path = bfs(bob, 0)\n",
        "      ret = float(\"-inf\")\n",
        "      q = [(0,0)]\n",
        "      i = 0\n",
        "      bob_visited = {bob}\n",
        "      alice_visited = {0}\n",
        "      while len(q):\n",
        "        new_q = []\n",
        "        if i < len(bob_path):\n",
        "          b = bob_path[i]\n",
        "          bob_visited.add(b)\n",
        "        for a,profit in q:\n",
        "          if a == b:\n",
        "            profit += amount[a]//2\n",
        "          elif a not in bob_visited:\n",
        "            profit += amount[a]\n",
        "          # print(a,b,profit)\n",
        "          if a != 0 and len(d[a]) == 1:\n",
        "            ret = max(ret, profit)\n",
        "            continue\n",
        "          for next in d[a]:\n",
        "            if next not in alice_visited:\n",
        "              alice_visited.add(next)\n",
        "              new_q.append((next,profit))\n",
        "        q = new_q\n",
        "        i += 1\n",
        "      return ret\n",
        "\n",
        "edges = [[0,1],[1,2],[1,3],[3,4]]\n",
        "bob = 3\n",
        "amount = [-2,4,2,-4,6]\n",
        "# edges = [[0,1]]\n",
        "# bob = 1\n",
        "# amount = [-7280,2350]\n",
        "Solution().mostProfitablePath(edges, bob, amount)"
      ],
      "metadata": {
        "colab": {
          "base_uri": "https://localhost:8080/"
        },
        "id": "_YLN4bqfo0vc",
        "outputId": "0e117c09-d8f2-49db-d74d-fc9f1b595436"
      },
      "execution_count": null,
      "outputs": [
        {
          "output_type": "execute_result",
          "data": {
            "text/plain": [
              "6"
            ]
          },
          "metadata": {},
          "execution_count": 53
        }
      ]
    },
    {
      "cell_type": "code",
      "source": [
        "from typing import *\n",
        "\n",
        "class Solution:\n",
        "    def numOfSubarrays(self, arr: List[int]) -> int:\n",
        "      total = 0\n",
        "      prev = 0\n",
        "      size = len(arr)\n",
        "      for i in range(size-1,-1,-1):\n",
        "        n = arr[i]\n",
        "        if i == size-1:\n",
        "          val = 1 if n % 2 == 1 else 0\n",
        "        else:\n",
        "          if n % 2 == 0:\n",
        "            val = prev\n",
        "          else:\n",
        "            val = 1+(size-i-1)-prev\n",
        "        total += val\n",
        "        prev = val\n",
        "\n",
        "      return total % (10**9 + 7)\n",
        "\n",
        "# arr = [1,3,5]\n",
        "# arr = [2,4,6]\n",
        "# arr = [1,2,3,4,5,6,7]\n",
        "# arr = [0,1,0,1]\n",
        "Solution().numOfSubarrays(arr)"
      ],
      "metadata": {
        "colab": {
          "base_uri": "https://localhost:8080/"
        },
        "id": "fcnKUYowas4X",
        "outputId": "74840fb8-7cfa-48b5-b857-a8a98c17d326"
      },
      "execution_count": null,
      "outputs": [
        {
          "output_type": "execute_result",
          "data": {
            "text/plain": [
              "16"
            ]
          },
          "metadata": {},
          "execution_count": 37
        }
      ]
    },
    {
      "cell_type": "code",
      "source": [
        "from typing import *\n",
        "\n",
        "class Solution:\n",
        "    def maxAbsoluteSum(self, nums: List[int]) -> int:\n",
        "      max_sum = 0\n",
        "      max_run = 0\n",
        "      min_sum = 0\n",
        "      min_run = 0\n",
        "      for n in nums:\n",
        "        max_run += n\n",
        "        max_sum = max(max_sum, max_run)\n",
        "        if max_run < 0: max_run = 0\n",
        "        min_run += n\n",
        "        min_sum = min(min_sum, min_run)\n",
        "        if min_run > 0: min_run = 0\n",
        "      return max(abs(max_sum), abs(min_sum))\n",
        "\n",
        "nums = [1,-3,2,3,-4]\n",
        "nums = [2,-5,1,-4,3,-2]\n",
        "Solution().maxAbsoluteSum(nums)"
      ],
      "metadata": {
        "colab": {
          "base_uri": "https://localhost:8080/"
        },
        "id": "zCNVlPDXszom",
        "outputId": "16da6474-f1dc-4504-9de8-5c741046eb47"
      },
      "execution_count": 4,
      "outputs": [
        {
          "output_type": "execute_result",
          "data": {
            "text/plain": [
              "8"
            ]
          },
          "metadata": {},
          "execution_count": 4
        }
      ]
    }
  ]
}