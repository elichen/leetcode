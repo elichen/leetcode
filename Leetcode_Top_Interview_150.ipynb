{
  "nbformat": 4,
  "nbformat_minor": 0,
  "metadata": {
    "colab": {
      "provenance": [],
      "authorship_tag": "ABX9TyPSI1XUjRobQqQtYnwN3MbO",
      "include_colab_link": true
    },
    "kernelspec": {
      "name": "python3",
      "display_name": "Python 3"
    },
    "language_info": {
      "name": "python"
    }
  },
  "cells": [
    {
      "cell_type": "markdown",
      "metadata": {
        "id": "view-in-github",
        "colab_type": "text"
      },
      "source": [
        "<a href=\"https://colab.research.google.com/github/elichen/leetcode/blob/main/Leetcode_Top_Interview_150.ipynb\" target=\"_parent\"><img src=\"https://colab.research.google.com/assets/colab-badge.svg\" alt=\"Open In Colab\"/></a>"
      ]
    },
    {
      "cell_type": "code",
      "source": [
        "from typing import List"
      ],
      "metadata": {
        "id": "ow1JtLkmdqsj"
      },
      "execution_count": 1,
      "outputs": []
    },
    {
      "cell_type": "code",
      "execution_count": 2,
      "metadata": {
        "colab": {
          "base_uri": "https://localhost:8080/"
        },
        "id": "c8-kmm84dOu5",
        "outputId": "e76faa44-3ceb-4041-cc8e-dad9a0f76fb7"
      },
      "outputs": [
        {
          "output_type": "execute_result",
          "data": {
            "text/plain": [
              "[1, 2, 2, 3, 5, 6]"
            ]
          },
          "metadata": {},
          "execution_count": 2
        }
      ],
      "source": [
        "class Solution:\n",
        "    def merge(self, nums1: List[int], m: int, nums2: List[int], n: int) -> None:\n",
        "        \"\"\"\n",
        "        Do not return anything, modify nums1 in-place instead.\n",
        "        \"\"\"\n",
        "        i_m, i_n = m-1,n-1\n",
        "        for i in range(m+n-1,-1,-1):\n",
        "            if i_m == -1 or (i_n != -1 and nums2[i_n] > nums1[i_m]):\n",
        "                nums1[i] = nums2[i_n]\n",
        "                i_n -= 1\n",
        "            else:\n",
        "                nums1[i] = nums1[i_m]\n",
        "                i_m -= 1\n",
        "\n",
        "nums1 =[1,2,3,0,0,0]\n",
        "m =3\n",
        "nums2 =[2,5,6]\n",
        "n =3\n",
        "s = Solution()\n",
        "s.merge(nums1, m, nums2, n)\n",
        "nums1"
      ]
    },
    {
      "cell_type": "code",
      "source": [
        "class Solution:\n",
        "    def removeElement(self, nums: List[int], val: int) -> int:\n",
        "      def find_next(i):\n",
        "        while i >= 0:\n",
        "          if nums[i] != val: break\n",
        "          i -= 1\n",
        "        return i\n",
        "      next = find_next(len(nums)-1)\n",
        "      k = 0\n",
        "      for i in range(len(nums)):\n",
        "        # print(i,next,nums)\n",
        "        if nums[i] == val:\n",
        "          if next > 0 and i<next:\n",
        "            nums[i],nums[next] = nums[next],nums[i]\n",
        "            next = find_next(next)\n",
        "            k += 1\n",
        "        else:\n",
        "          k += 1\n",
        "      return k\n",
        "\n",
        "nums = [0,1,2,2,3,0,4,2]\n",
        "val = 2\n",
        "s = Solution()\n",
        "k = s.removeElement(nums,val)\n",
        "print(nums,k)"
      ],
      "metadata": {
        "colab": {
          "base_uri": "https://localhost:8080/"
        },
        "id": "nABE5-wegtpQ",
        "outputId": "0bcecae9-7945-4f15-dfee-ce077a057972"
      },
      "execution_count": 3,
      "outputs": [
        {
          "output_type": "stream",
          "name": "stdout",
          "text": [
            "[0, 1, 4, 0, 3, 2, 2, 2] 5\n"
          ]
        }
      ]
    },
    {
      "cell_type": "code",
      "source": [
        "class Solution:\n",
        "    def removeDuplicates(self, nums: List[int]) -> int:\n",
        "        def find_next(i):\n",
        "          t = i\n",
        "          while i < len(nums):\n",
        "            if nums[i] != nums[t]: break\n",
        "            i += 1\n",
        "          return i\n",
        "        k = 0\n",
        "        i = 0\n",
        "        next = 0\n",
        "        while next < len(nums):\n",
        "          nums[i] = nums[next]\n",
        "          k += 1\n",
        "          next = find_next(next)\n",
        "          i += 1\n",
        "        return k\n",
        "\n",
        "nums = [0,0,1,1,1,2,2,3,3,4]\n",
        "s = Solution()\n",
        "k = s.removeDuplicates(nums)\n",
        "print(nums,k)"
      ],
      "metadata": {
        "colab": {
          "base_uri": "https://localhost:8080/"
        },
        "id": "7mRVVuWdpjFb",
        "outputId": "81f8a76b-90f8-4a0c-d985-14d9dce17fe9"
      },
      "execution_count": 4,
      "outputs": [
        {
          "output_type": "stream",
          "name": "stdout",
          "text": [
            "[0, 1, 2, 3, 4, 2, 2, 3, 3, 4] 5\n"
          ]
        }
      ]
    },
    {
      "cell_type": "code",
      "source": [
        "class Solution:\n",
        "    def removeDuplicates(self, nums: List[int]) -> int:\n",
        "        def find_next(i,seen):\n",
        "          t = i\n",
        "          i += 1\n",
        "          while i < len(nums):\n",
        "            if nums[i] != nums[t]:\n",
        "              seen = 0\n",
        "              break\n",
        "            if seen < 1:\n",
        "              seen += 1\n",
        "              break\n",
        "            i += 1\n",
        "          return i,seen\n",
        "        k = 0\n",
        "        i = 0\n",
        "        next = 0\n",
        "        seen = 0\n",
        "        while next < len(nums):\n",
        "          # print(i,next,seen)\n",
        "          nums[i] = nums[next]\n",
        "          k += 1\n",
        "          i += 1\n",
        "          next,seen = find_next(next,seen)\n",
        "        return k\n",
        "\n",
        "nums = [1,1,1,2,2,3]\n",
        "s = Solution()\n",
        "k = s.removeDuplicates(nums)\n",
        "print(nums,k)"
      ],
      "metadata": {
        "colab": {
          "base_uri": "https://localhost:8080/"
        },
        "id": "6OGCmJHBsbz8",
        "outputId": "2ea460d7-a2aa-4592-ff23-23beeeaad1a5"
      },
      "execution_count": 5,
      "outputs": [
        {
          "output_type": "stream",
          "name": "stdout",
          "text": [
            "[1, 1, 2, 2, 3, 3] 5\n"
          ]
        }
      ]
    },
    {
      "cell_type": "code",
      "source": [
        "class Solution:\n",
        "    def majorityElement(self, nums: List[int]) -> int:\n",
        "      map = {}\n",
        "      for n in nums:\n",
        "        map[n] = map.get(n, 0) + 1\n",
        "      for k,v in map.items():\n",
        "        if v > len(nums)//2: return k\n",
        "\n",
        "nums = [2,2,1,1,1,2,2]\n",
        "s = Solution()\n",
        "k = s.majorityElement(nums)\n",
        "print(nums,k)"
      ],
      "metadata": {
        "colab": {
          "base_uri": "https://localhost:8080/"
        },
        "id": "-rrOOd2b0tQ5",
        "outputId": "5ddf04e3-3de5-49b1-dd69-d13346f87a54"
      },
      "execution_count": 6,
      "outputs": [
        {
          "output_type": "stream",
          "name": "stdout",
          "text": [
            "[2, 2, 1, 1, 1, 2, 2] 2\n"
          ]
        }
      ]
    },
    {
      "cell_type": "code",
      "source": [
        "class Solution:\n",
        "    def rotate(self, nums: List[int], k: int) -> None:\n",
        "        \"\"\"\n",
        "        Do not return anything, modify nums in-place instead.\n",
        "        \"\"\"\n",
        "        i = 0\n",
        "        total = 0\n",
        "        offset = 0\n",
        "        tmp = nums[i]\n",
        "        while True:\n",
        "          # print(total, i, offset, nums)\n",
        "          total += 1\n",
        "          dst = (i+k)%len(nums)\n",
        "          prev = nums[dst]\n",
        "          nums[dst] = tmp\n",
        "          tmp = prev\n",
        "          i = dst\n",
        "          if i == offset:\n",
        "            if total == len(nums): break\n",
        "            offset += 1\n",
        "            i = offset\n",
        "            tmp = nums[i]\n",
        "\n",
        "nums = [1,2,3,4,5,6]\n",
        "k = 2\n",
        "s = Solution()\n",
        "s.rotate(nums,k)\n",
        "print(nums)"
      ],
      "metadata": {
        "colab": {
          "base_uri": "https://localhost:8080/"
        },
        "id": "kzvs2yTTD1hj",
        "outputId": "e9a9867e-206b-47b3-d899-e3bedcec5a91"
      },
      "execution_count": 7,
      "outputs": [
        {
          "output_type": "stream",
          "name": "stdout",
          "text": [
            "[5, 6, 1, 2, 3, 4]\n"
          ]
        }
      ]
    },
    {
      "cell_type": "code",
      "source": [
        "class Solution:\n",
        "    def maxProfit(self, prices: List[int]) -> int:\n",
        "      minSeen = 10**10\n",
        "      maxProfit = 0\n",
        "      for n in prices:\n",
        "        maxProfit = max(maxProfit, n-minSeen)\n",
        "        minSeen = min(minSeen, n)\n",
        "        # print(maxProfit, minSeen)\n",
        "      return maxProfit\n",
        "\n",
        "prices = [7,6,4,3,1]\n",
        "s = Solution()\n",
        "s.maxProfit(prices)"
      ],
      "metadata": {
        "colab": {
          "base_uri": "https://localhost:8080/"
        },
        "id": "CpCttQ_FVIXe",
        "outputId": "05883116-1c0c-4907-db08-75e02feaa135"
      },
      "execution_count": 8,
      "outputs": [
        {
          "output_type": "execute_result",
          "data": {
            "text/plain": [
              "0"
            ]
          },
          "metadata": {},
          "execution_count": 8
        }
      ]
    },
    {
      "cell_type": "code",
      "source": [
        "class Solution:\n",
        "    def maxProfit(self, prices: List[int]) -> int:\n",
        "      maxProfit = 0\n",
        "      prevPrice = 10**10\n",
        "      for n in prices:\n",
        "        if n > prevPrice: maxProfit += n-prevPrice\n",
        "        prevPrice = n\n",
        "      return maxProfit\n",
        "\n",
        "prices = [7,6,4,3,1]\n",
        "s = Solution()\n",
        "s.maxProfit(prices)"
      ],
      "metadata": {
        "colab": {
          "base_uri": "https://localhost:8080/"
        },
        "id": "YSm35_fBfEIT",
        "outputId": "7c3aeeea-1b3b-4fbd-fa30-7a481f0616f5"
      },
      "execution_count": 9,
      "outputs": [
        {
          "output_type": "execute_result",
          "data": {
            "text/plain": [
              "0"
            ]
          },
          "metadata": {},
          "execution_count": 9
        }
      ]
    },
    {
      "cell_type": "code",
      "source": [
        "class Solution:\n",
        "    def canJump(self, nums: List[int]) -> bool:\n",
        "      reach = nums[0]\n",
        "      for i in range(len(nums)):\n",
        "        # print(i, reach)\n",
        "        if reach == -1: return False\n",
        "        reach = max(reach,nums[i])\n",
        "        reach -= 1\n",
        "      return True\n",
        "\n",
        "nums = [3,2,1,0,4]\n",
        "s = Solution()\n",
        "s.canJump(nums)"
      ],
      "metadata": {
        "colab": {
          "base_uri": "https://localhost:8080/"
        },
        "id": "bE9mX4PogKnC",
        "outputId": "e40f9d94-bcf7-408f-8005-d75aefdaf0fd"
      },
      "execution_count": 10,
      "outputs": [
        {
          "output_type": "execute_result",
          "data": {
            "text/plain": [
              "False"
            ]
          },
          "metadata": {},
          "execution_count": 10
        }
      ]
    },
    {
      "cell_type": "code",
      "source": [
        "class Solution:\n",
        "    def jump(self, nums: List[int]) -> int:\n",
        "      jumps = 0\n",
        "      currRange = 0\n",
        "      maxRange = 0\n",
        "      for i in range(len(nums)-1):\n",
        "        # print(i,jumps,currRange,maxRange)\n",
        "        maxRange = max(nums[i],maxRange-1)\n",
        "        if currRange == 0:\n",
        "          currRange = maxRange\n",
        "          jumps += 1\n",
        "        currRange -= 1\n",
        "      return jumps\n",
        "\n",
        "nums = [2,3,0,1,4]\n",
        "s = Solution()\n",
        "s.jump(nums)"
      ],
      "metadata": {
        "colab": {
          "base_uri": "https://localhost:8080/"
        },
        "id": "b2UxngbQoPY0",
        "outputId": "0ffe7789-2f0b-40e5-c5a2-e3f3e4b7bd07"
      },
      "execution_count": 11,
      "outputs": [
        {
          "output_type": "execute_result",
          "data": {
            "text/plain": [
              "2"
            ]
          },
          "metadata": {},
          "execution_count": 11
        }
      ]
    },
    {
      "cell_type": "code",
      "source": [
        "class Solution:\n",
        "    def hIndex(self, citations: List[int]) -> int:\n",
        "      s = sorted(citations)\n",
        "      h = 0\n",
        "      for i in range(len(s)):\n",
        "        n = len(s) - i\n",
        "        t_h = min(s[i],n)\n",
        "        h = max(h, t_h)\n",
        "      return h\n",
        "\n",
        "citations = [1,3,1]\n",
        "s = Solution()\n",
        "s.hIndex(citations)"
      ],
      "metadata": {
        "colab": {
          "base_uri": "https://localhost:8080/"
        },
        "id": "l3qPtN1gVCFn",
        "outputId": "f693e675-a191-4290-8888-efb60304e4f7"
      },
      "execution_count": 12,
      "outputs": [
        {
          "output_type": "execute_result",
          "data": {
            "text/plain": [
              "1"
            ]
          },
          "metadata": {},
          "execution_count": 12
        }
      ]
    },
    {
      "cell_type": "code",
      "source": [
        "import random\n",
        "class RandomizedSet:\n",
        "    def __init__(self):\n",
        "      self.data = set()\n",
        "\n",
        "    def insert(self, val: int) -> bool:\n",
        "        r = val not in self.data\n",
        "        self.data.add(val)\n",
        "        return r\n",
        "\n",
        "    def remove(self, val: int) -> bool:\n",
        "        r = val in self.data\n",
        "        if r: self.data.remove(val)\n",
        "        return r\n",
        "\n",
        "    def getRandom(self) -> int:\n",
        "        i = random.randint(0,len(self.data)-1)\n",
        "        return list(self.data)[i]\n",
        "\n",
        "randomizedSet = RandomizedSet()\n",
        "print(randomizedSet.insert(1))\n",
        "print(randomizedSet.remove(2))\n",
        "print(randomizedSet.insert(2))\n",
        "print(randomizedSet.getRandom())\n",
        "print(randomizedSet.remove(1))\n",
        "print(randomizedSet.insert(2))\n",
        "print(randomizedSet.getRandom())"
      ],
      "metadata": {
        "colab": {
          "base_uri": "https://localhost:8080/"
        },
        "id": "73u3UR3zXvr3",
        "outputId": "717ec242-2012-45e3-b193-a09132a94dd4"
      },
      "execution_count": 13,
      "outputs": [
        {
          "output_type": "stream",
          "name": "stdout",
          "text": [
            "True\n",
            "False\n",
            "True\n",
            "1\n",
            "True\n",
            "False\n",
            "2\n"
          ]
        }
      ]
    },
    {
      "cell_type": "code",
      "source": [
        "class Solution:\n",
        "    def productExceptSelf(self, nums: List[int]) -> List[int]:\n",
        "      total = 1\n",
        "      zeros = 0\n",
        "      for n in nums:\n",
        "        if n != 0:\n",
        "          total *= n\n",
        "        else:\n",
        "          zeros += 1\n",
        "        if zeros > 1: total = 0\n",
        "      print(total)\n",
        "      r = []\n",
        "      for n in nums:\n",
        "        if n == 0:\n",
        "          r.append(total)\n",
        "        elif zeros > 0:\n",
        "          r.append(0)\n",
        "        else:\n",
        "          r.append(int(total * n**-1))\n",
        "      return r\n",
        "\n",
        "nums = [1,2,3,4]\n",
        "s = Solution()\n",
        "s.productExceptSelf(nums)"
      ],
      "metadata": {
        "colab": {
          "base_uri": "https://localhost:8080/"
        },
        "id": "AgBdEqKcfbSq",
        "outputId": "fc69ee17-bb89-4a4f-a06d-fa7584e947eb"
      },
      "execution_count": 14,
      "outputs": [
        {
          "output_type": "stream",
          "name": "stdout",
          "text": [
            "24\n"
          ]
        },
        {
          "output_type": "execute_result",
          "data": {
            "text/plain": [
              "[24, 12, 8, 6]"
            ]
          },
          "metadata": {},
          "execution_count": 14
        }
      ]
    },
    {
      "cell_type": "code",
      "source": [
        "class Solution:\n",
        "    def canCompleteCircuit(self, gas: List[int], cost: List[int]) -> int:\n",
        "      deltas = [g-c for g,c in zip(gas,cost)]\n",
        "      # print(deltas)\n",
        "      runningSum = 0\n",
        "      sums = []\n",
        "      minIdx = 0\n",
        "      minSum = 10**10\n",
        "      for i in range(len(deltas)):\n",
        "        runningSum += deltas[i]\n",
        "        sums.append(runningSum)\n",
        "        if runningSum <= minSum:\n",
        "          minIdx = i\n",
        "          minSum = runningSum\n",
        "      # print(sums)\n",
        "      if sums[-1] >= 0:\n",
        "        return((minIdx+1)%len(deltas))\n",
        "      else:\n",
        "        return -1\n",
        "\n",
        "gas = [11,4,7,1,0]\n",
        "cost = [2,5,5,9,1]\n",
        "s = Solution()\n",
        "s.canCompleteCircuit(gas,cost)"
      ],
      "metadata": {
        "colab": {
          "base_uri": "https://localhost:8080/"
        },
        "id": "5-3560khnoMJ",
        "outputId": "33008780-7ba4-4431-9b0f-5e55c49d952f"
      },
      "execution_count": 15,
      "outputs": [
        {
          "output_type": "execute_result",
          "data": {
            "text/plain": [
              "0"
            ]
          },
          "metadata": {},
          "execution_count": 15
        }
      ]
    },
    {
      "cell_type": "code",
      "source": [
        "class Solution:\n",
        "    def candy(self, ratings: List[int]) -> int:\n",
        "      l = [0]\n",
        "      cur_run = 0\n",
        "      for i in range(len(ratings)-1):\n",
        "        if ratings[i]<ratings[i+1]:\n",
        "          cur_run += 1\n",
        "        else:\n",
        "          cur_run = 0\n",
        "        l.append(cur_run)\n",
        "      r = [0]\n",
        "      cur_run = 0\n",
        "      for i in range(len(ratings)-1,0,-1):\n",
        "        if ratings[i]<ratings[i-1]:\n",
        "          cur_run += 1\n",
        "        else:\n",
        "          cur_run = 0\n",
        "        r.append(cur_run)\n",
        "      r.reverse()\n",
        "      # print(l,r)\n",
        "      return sum([max(x,y) for x,y in zip(l,r)])+len(ratings)\n",
        "\n",
        "ratings = [1,3,2,2,1]\n",
        "s = Solution()\n",
        "s.candy(ratings)"
      ],
      "metadata": {
        "colab": {
          "base_uri": "https://localhost:8080/"
        },
        "id": "5d_fLs4vr6n0",
        "outputId": "d8d5b52d-511f-4c7e-e913-8396fe0fd090"
      },
      "execution_count": 16,
      "outputs": [
        {
          "output_type": "execute_result",
          "data": {
            "text/plain": [
              "7"
            ]
          },
          "metadata": {},
          "execution_count": 16
        }
      ]
    },
    {
      "cell_type": "code",
      "source": [
        "class Solution:\n",
        "    def trap(self, height: List[int]) -> int:\n",
        "        total = 0\n",
        "        cliffs = []\n",
        "        for i in range(len(height)):\n",
        "            h = height[i]\n",
        "            next = height[i+1] if i<len(height)-1 else 0\n",
        "            # print(i, total, cliffs)\n",
        "            if h > next:\n",
        "                cliffs.append((h,next,i))\n",
        "            elif h < next:\n",
        "                new_cliffs = []\n",
        "                for c_h,c_n,c_i in cliffs:\n",
        "                    if next >= c_n:\n",
        "                      # print(\"adding\", (min(c_h,next)-c_n)*(i-c_i))\n",
        "                      total += (min(c_h,next)-c_n)*(i-c_i)\n",
        "                    if c_h > next:\n",
        "                      new_cliffs.append((c_h,max(next,c_n),c_i))\n",
        "                cliffs = new_cliffs\n",
        "            prev = h\n",
        "        return total\n",
        "\n",
        "height = [6,4,2,0,3,2,0,3,1,4,5,3,2,7,5,3,0,1,2,1,3,4,6,8,1,3]\n",
        "s = Solution()\n",
        "s.trap(height)"
      ],
      "metadata": {
        "colab": {
          "base_uri": "https://localhost:8080/"
        },
        "id": "OA7LoUgEFMT1",
        "outputId": "59a180da-da25-4714-eac9-c02c48724b7d"
      },
      "execution_count": 17,
      "outputs": [
        {
          "output_type": "execute_result",
          "data": {
            "text/plain": [
              "83"
            ]
          },
          "metadata": {},
          "execution_count": 17
        }
      ]
    },
    {
      "cell_type": "code",
      "source": [
        "class Solution:\n",
        "    def romanToInt(self, s: str) -> int:\n",
        "      s2n = {\"I\":1, \"V\":5, \"X\":10, \"L\":50, \"C\":100, \"D\":500, \"M\":1000}\n",
        "      total = 0\n",
        "      i = 0\n",
        "      while i < len(s):\n",
        "        if i < len(s)-1 and s2n[s[i]] < s2n[s[i+1]]:\n",
        "          total += s2n[s[i+1]]-s2n[s[i]]\n",
        "          i += 1\n",
        "        else:\n",
        "          total += s2n[s[i]]\n",
        "        i += 1\n",
        "      return total\n",
        "\n",
        "s = Solution()\n",
        "s.romanToInt(\"LVIII\")"
      ],
      "metadata": {
        "colab": {
          "base_uri": "https://localhost:8080/"
        },
        "id": "hU4PGrg0ZQ0Y",
        "outputId": "94e98925-aae8-4c05-cb05-3c5958fe7517"
      },
      "execution_count": 18,
      "outputs": [
        {
          "output_type": "execute_result",
          "data": {
            "text/plain": [
              "58"
            ]
          },
          "metadata": {},
          "execution_count": 18
        }
      ]
    },
    {
      "cell_type": "code",
      "source": [
        "s2n = {\"I\":1, \"V\":5, \"X\":10, \"L\":50, \"C\":100, \"D\":500, \"M\":1000}\n",
        "n2s = {v:k for k,v in s2n.items()}\n",
        "n2s"
      ],
      "metadata": {
        "colab": {
          "base_uri": "https://localhost:8080/"
        },
        "id": "UQwFDT7gbbta",
        "outputId": "dd5a5a62-8fdb-4981-9c17-ea2f468efaa3"
      },
      "execution_count": 19,
      "outputs": [
        {
          "output_type": "execute_result",
          "data": {
            "text/plain": [
              "{1: 'I', 5: 'V', 10: 'X', 50: 'L', 100: 'C', 500: 'D', 1000: 'M'}"
            ]
          },
          "metadata": {},
          "execution_count": 19
        }
      ]
    },
    {
      "cell_type": "code",
      "source": [
        "class Solution:\n",
        "    def intToRoman(self, num: int) -> str:\n",
        "      n2s = {1: 'I', 5: 'V', 10: 'X', 50: 'L', 100: 'C', 500: 'D', 1000: 'M'}\n",
        "      result = \"\"\n",
        "      while num > 0:\n",
        "        p = int(str(num)[0])\n",
        "        if p == 4 or p == 9:\n",
        "          p += 1\n",
        "          num = int(str(p) + str(num)[1:])\n",
        "          n = max(x for x in n2s.keys() if x<=num)\n",
        "          result += n2s[n//p]\n",
        "          result += n2s[n]\n",
        "          num -= n\n",
        "        else:\n",
        "          n = max(x for x in n2s.keys() if x<=num)\n",
        "          result += n2s[n]\n",
        "          num -= n\n",
        "      return result\n",
        "\n",
        "s = Solution()\n",
        "s.intToRoman(1994)"
      ],
      "metadata": {
        "colab": {
          "base_uri": "https://localhost:8080/",
          "height": 35
        },
        "id": "pA8SGpWaadaj",
        "outputId": "e532ef62-8cf9-491b-a291-bf14ee6c67fc"
      },
      "execution_count": 20,
      "outputs": [
        {
          "output_type": "execute_result",
          "data": {
            "text/plain": [
              "'MCMXCIV'"
            ],
            "application/vnd.google.colaboratory.intrinsic+json": {
              "type": "string"
            }
          },
          "metadata": {},
          "execution_count": 20
        }
      ]
    },
    {
      "cell_type": "code",
      "source": [
        "class Solution:\n",
        "    def lengthOfLastWord(self, s: str) -> int:\n",
        "      return len(s.split()[-1])\n",
        "\n",
        "s = \"luffy is still joyboy\"\n",
        "Solution().lengthOfLastWord(s)"
      ],
      "metadata": {
        "colab": {
          "base_uri": "https://localhost:8080/"
        },
        "id": "w5FjH2-rrjbM",
        "outputId": "93f59159-c10a-497b-e3ec-717a3d8a0b63"
      },
      "execution_count": 21,
      "outputs": [
        {
          "output_type": "execute_result",
          "data": {
            "text/plain": [
              "6"
            ]
          },
          "metadata": {},
          "execution_count": 21
        }
      ]
    },
    {
      "cell_type": "code",
      "source": [
        "class Solution:\n",
        "    def longestCommonPrefix(self, strs: List[str]) -> str:\n",
        "      i = 0\n",
        "      ret = \"\"\n",
        "      while i < len(strs[0]):\n",
        "        for s in strs[1:]:\n",
        "          if i >= len(s): break\n",
        "          if s[i] != strs[0][i]: break\n",
        "        else:\n",
        "          ret += strs[0][i]\n",
        "          i += 1\n",
        "          continue\n",
        "        break\n",
        "      return ret\n",
        "\n",
        "strs = [\"\"]\n",
        "Solution().longestCommonPrefix(strs)"
      ],
      "metadata": {
        "colab": {
          "base_uri": "https://localhost:8080/",
          "height": 35
        },
        "id": "ofRN4esJr6GU",
        "outputId": "30f77f71-26b9-488a-8d1d-63aa40b65c90"
      },
      "execution_count": 29,
      "outputs": [
        {
          "output_type": "execute_result",
          "data": {
            "text/plain": [
              "''"
            ],
            "application/vnd.google.colaboratory.intrinsic+json": {
              "type": "string"
            }
          },
          "metadata": {},
          "execution_count": 29
        }
      ]
    },
    {
      "cell_type": "code",
      "source": [
        "class Solution:\n",
        "    def reverseWords(self, s: str) -> str:\n",
        "      return \" \".join(s.split()[::-1])\n",
        "\n",
        "s = \"the sky is blue\"\n",
        "Solution().reverseWords(s)"
      ],
      "metadata": {
        "colab": {
          "base_uri": "https://localhost:8080/",
          "height": 35
        },
        "id": "6ON4-yPJq4qv",
        "outputId": "38722561-6c5f-467a-d79c-e583eb0b24c0"
      },
      "execution_count": 40,
      "outputs": [
        {
          "output_type": "execute_result",
          "data": {
            "text/plain": [
              "'blue is sky the'"
            ],
            "application/vnd.google.colaboratory.intrinsic+json": {
              "type": "string"
            }
          },
          "metadata": {},
          "execution_count": 40
        }
      ]
    },
    {
      "cell_type": "code",
      "source": [
        "class Solution:\n",
        "    def convert(self, s: str, numRows: int) -> str:\n",
        "      r = \"\"\n",
        "      for i in range(numRows):\n",
        "        j = i\n",
        "        while j < len(s):\n",
        "          # print(j, s[j])\n",
        "          r += s[j]\n",
        "          diag = j+numRows*2-2-i*2\n",
        "          if i > 0 and i < numRows-1 and diag < len(s):\n",
        "            # print(i, \"diag:\",diag, s[diag])\n",
        "            r += s[diag]\n",
        "          j += numRows*2-2 if numRows > 1 else 1\n",
        "      return r\n",
        "\n",
        "s = \"A\"\n",
        "numRows = 1\n",
        "Solution().convert(s,numRows)"
      ],
      "metadata": {
        "colab": {
          "base_uri": "https://localhost:8080/",
          "height": 35
        },
        "id": "3pDGzp4OtWSX",
        "outputId": "8f83107e-5ba4-49cf-a5c9-31c71ed5989e"
      },
      "execution_count": 88,
      "outputs": [
        {
          "output_type": "execute_result",
          "data": {
            "text/plain": [
              "'A'"
            ],
            "application/vnd.google.colaboratory.intrinsic+json": {
              "type": "string"
            }
          },
          "metadata": {},
          "execution_count": 88
        }
      ]
    },
    {
      "cell_type": "code",
      "source": [
        "class Solution:\n",
        "    def strStr(self, haystack: str, needle: str) -> int:\n",
        "      for i in range(len(haystack)):\n",
        "        if haystack[i:i+len(needle)] == needle:\n",
        "          return i\n",
        "      return -1\n",
        "\n",
        "haystack = \"hello\"\n",
        "needle = \"ll\"\n",
        "Solution().strStr(haystack, needle)"
      ],
      "metadata": {
        "colab": {
          "base_uri": "https://localhost:8080/"
        },
        "id": "fAKd28b88ASM",
        "outputId": "1bf74c9d-15bf-43b1-bb47-4da5e5dc17ed"
      },
      "execution_count": 96,
      "outputs": [
        {
          "output_type": "execute_result",
          "data": {
            "text/plain": [
              "2"
            ]
          },
          "metadata": {},
          "execution_count": 96
        }
      ]
    },
    {
      "cell_type": "code",
      "source": [
        "import math\n",
        "class Solution:\n",
        "    def fullJustify(self, words: List[str], maxWidth: int) -> List[str]:\n",
        "      w = 0\n",
        "      result = []\n",
        "      while w < len(words):\n",
        "        l = 0\n",
        "        t = []\n",
        "        while w < len(words) and l+len(words[w]) < maxWidth+1:\n",
        "          t.append(words[w])\n",
        "          l += len(words[w])+1\n",
        "          w += 1\n",
        "        if w == len(words):\n",
        "          str = \" \".join(t)\n",
        "        else:\n",
        "          str = \"\"\n",
        "          spaces = maxWidth - sum(len(s) for s in t)\n",
        "          for i in range(len(t)):\n",
        "            if i != len(t)-1:\n",
        "              str += t[i]\n",
        "              toFill = (math.ceil(spaces / (len(t)-i-1)))\n",
        "              str += \" \" * toFill\n",
        "              spaces -= toFill\n",
        "            else:\n",
        "              str += t[i]\n",
        "        if len(str) < maxWidth:\n",
        "          str += \" \" * (maxWidth - len(str))\n",
        "        result.append(str)\n",
        "      return result\n",
        "\n",
        "# words = [\"This\", \"is\", \"an\", \"example\", \"of\", \"text\", \"justification.\"]\n",
        "# words = [\"What\",\"must\",\"be\",\"acknowledgment\",\"shall\",\"be\"]\n",
        "# words = [\"Science\",\"is\",\"what\",\"we\",\"understand\",\"well\",\"enough\",\"to\",\"explain\",\"to\",\"a\",\"computer.\",\"Art\",\"is\",\"everything\",\"else\",\"we\",\"do\"]\n",
        "words = [\"ask\",\"not\",\"what\",\"your\",\"country\",\"can\",\"do\",\"for\",\"you\",\"ask\",\"what\",\"you\",\"can\",\"do\",\"for\",\"your\",\"country\"]\n",
        "maxWidth = 16\n",
        "Solution().fullJustify(words, maxWidth)"
      ],
      "metadata": {
        "colab": {
          "base_uri": "https://localhost:8080/"
        },
        "id": "owvDGSMa9UcA",
        "outputId": "fe125d5e-24b5-4010-9106-ea3ab7dd1969"
      },
      "execution_count": 155,
      "outputs": [
        {
          "output_type": "execute_result",
          "data": {
            "text/plain": [
              "['ask   not   what',\n",
              " 'your country can',\n",
              " 'do  for  you ask',\n",
              " 'what  you can do',\n",
              " 'for your country']"
            ]
          },
          "metadata": {},
          "execution_count": 155
        }
      ]
    },
    {
      "cell_type": "code",
      "source": [
        "class Solution:\n",
        "    def isPalindrome(self, s: str) -> bool:\n",
        "      s = [c.lower() for c in s if c.isalnum()]\n",
        "      for i in range(len(s)//2):\n",
        "        if s[i] != s[len(s)-1-i]: return False\n",
        "      return True\n",
        "\n",
        "# s = \"A man, a plan, a canal: Panama\"\n",
        "# s = \"race a car\"\n",
        "# s = \" \"\n",
        "s = \"0P\"\n",
        "Solution().isPalindrome(s)"
      ],
      "metadata": {
        "colab": {
          "base_uri": "https://localhost:8080/"
        },
        "id": "NWXi_yoSTd2V",
        "outputId": "5b7a5811-2875-4237-bd2b-e4a2c865a0f2"
      },
      "execution_count": 163,
      "outputs": [
        {
          "output_type": "execute_result",
          "data": {
            "text/plain": [
              "False"
            ]
          },
          "metadata": {},
          "execution_count": 163
        }
      ]
    },
    {
      "cell_type": "code",
      "source": [
        "class Solution:\n",
        "    def isSubsequence(self, s: str, t: str) -> bool:\n",
        "      i = 0\n",
        "      for c in t:\n",
        "        if i < len(s) and c == s[i]:\n",
        "          i += 1\n",
        "      return i == len(s)\n",
        "\n",
        "s = \"ac\"\n",
        "t = \"asdf\"\n",
        "Solution().isSubsequence(s,t)"
      ],
      "metadata": {
        "colab": {
          "base_uri": "https://localhost:8080/"
        },
        "id": "xxYGwB-zVpvt",
        "outputId": "e2f4a871-e4e9-4e1a-827d-7ae966e6d263"
      },
      "execution_count": 184,
      "outputs": [
        {
          "output_type": "execute_result",
          "data": {
            "text/plain": [
              "False"
            ]
          },
          "metadata": {},
          "execution_count": 184
        }
      ]
    },
    {
      "cell_type": "code",
      "source": [
        "class Solution:\n",
        "    def twoSum(self, numbers: List[int], target: int) -> List[int]:\n",
        "      p1,p2 = 0,len(numbers)-1\n",
        "      while True:\n",
        "        # print(p1,p2)\n",
        "        sum = numbers[p1]+numbers[p2]\n",
        "        if sum == target: return [p1+1,p2+1]\n",
        "        if sum > target: p2 -= 1\n",
        "        else: p1 += 1\n",
        "\n",
        "\n",
        "numbers = [5,25,75]\n",
        "target = 100\n",
        "Solution().twoSum(numbers,target)"
      ],
      "metadata": {
        "colab": {
          "base_uri": "https://localhost:8080/"
        },
        "id": "heDJ3BWBXM8a",
        "outputId": "2e2ef2c9-3c48-4c00-cfd7-2b7e18bd0633"
      },
      "execution_count": 233,
      "outputs": [
        {
          "output_type": "execute_result",
          "data": {
            "text/plain": [
              "[2, 3]"
            ]
          },
          "metadata": {},
          "execution_count": 233
        }
      ]
    },
    {
      "cell_type": "code",
      "source": [
        "class Solution:\n",
        "    def maxArea(self, height: List[int]) -> int:\n",
        "      p1,p2 = 0,len(height)-1\n",
        "      m = 0\n",
        "      while True:\n",
        "        if p1 == p2: return m\n",
        "        w = min(height[p1],height[p2])*(p2-p1)\n",
        "        # print(w, p1, p2)\n",
        "        m = max(m,w)\n",
        "        if height[p1] < height[p2]: p1 += 1\n",
        "        else: p2 -= 1\n",
        "\n",
        "height = [1,1]\n",
        "Solution().maxArea(height)"
      ],
      "metadata": {
        "colab": {
          "base_uri": "https://localhost:8080/"
        },
        "id": "W5cC4IzVfDmO",
        "outputId": "b6ed09b6-3013-4a77-86c6-1b9e62885261"
      },
      "execution_count": 240,
      "outputs": [
        {
          "output_type": "execute_result",
          "data": {
            "text/plain": [
              "1"
            ]
          },
          "metadata": {},
          "execution_count": 240
        }
      ]
    },
    {
      "cell_type": "code",
      "source": [
        "class Solution:\n",
        "    def threeSum(self, nums: List[int]) -> List[List[int]]:\n",
        "      nums.sort()\n",
        "      result = set()\n",
        "      for i in range(len(nums)-2):\n",
        "        if i > 0 and nums[i] == nums[i - 1]:\n",
        "            continue\n",
        "        j = i+1\n",
        "        k = len(nums)-1\n",
        "        while j != k:\n",
        "          # print(i,j,k)\n",
        "          sum = nums[i]+nums[j]+nums[k]\n",
        "          if sum == 0:\n",
        "            result.add(tuple(sorted([nums[i],nums[j],nums[k]])))\n",
        "            j += 1\n",
        "          elif sum > 0:\n",
        "            k -= 1\n",
        "          else:\n",
        "            j += 1\n",
        "      return [list(x) for x in result]\n",
        "\n",
        "nums = [-1,0,1,2,-1,-4]\n",
        "Solution().threeSum(nums)"
      ],
      "metadata": {
        "colab": {
          "base_uri": "https://localhost:8080/"
        },
        "id": "f0aPdQBK7O8M",
        "outputId": "1b61853e-9e10-4b6f-c1ef-513e5a40d018"
      },
      "execution_count": 426,
      "outputs": [
        {
          "output_type": "execute_result",
          "data": {
            "text/plain": [
              "[[-1, 0, 1], [-1, -1, 2]]"
            ]
          },
          "metadata": {},
          "execution_count": 426
        }
      ]
    },
    {
      "cell_type": "code",
      "source": [
        "class Solution:\n",
        "    def minSubArrayLen(self, target: int, nums: List[int]) -> int:\n",
        "      sum = 0\n",
        "      p = 0\n",
        "      result = 0\n",
        "      for i in range(len(nums)):\n",
        "        sum += nums[i]\n",
        "        while p<i and sum-nums[p] >= target:\n",
        "          sum -= nums[p]\n",
        "          p += 1\n",
        "        if sum >= target and (result == 0 or i-p+1 < result):\n",
        "          result = i-p+1\n",
        "      return result\n",
        "\n",
        "target = 11\n",
        "nums = [1,1,1,1,1,1,1,1]\n",
        "Solution().minSubArrayLen(target, nums)"
      ],
      "metadata": {
        "colab": {
          "base_uri": "https://localhost:8080/"
        },
        "id": "-G4a_Cd__0PB",
        "outputId": "5f278cb7-3f47-40dc-b928-1cd42b6323b9"
      },
      "execution_count": 443,
      "outputs": [
        {
          "output_type": "execute_result",
          "data": {
            "text/plain": [
              "0"
            ]
          },
          "metadata": {},
          "execution_count": 443
        }
      ]
    }
  ]
}