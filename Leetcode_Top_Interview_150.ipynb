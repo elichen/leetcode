{
  "nbformat": 4,
  "nbformat_minor": 0,
  "metadata": {
    "colab": {
      "provenance": [],
      "authorship_tag": "ABX9TyO3iz4ekt9rEyy2FshONdLl",
      "include_colab_link": true
    },
    "kernelspec": {
      "name": "python3",
      "display_name": "Python 3"
    },
    "language_info": {
      "name": "python"
    }
  },
  "cells": [
    {
      "cell_type": "markdown",
      "metadata": {
        "id": "view-in-github",
        "colab_type": "text"
      },
      "source": [
        "<a href=\"https://colab.research.google.com/github/elichen/leetcode/blob/main/Leetcode_Top_Interview_150.ipynb\" target=\"_parent\"><img src=\"https://colab.research.google.com/assets/colab-badge.svg\" alt=\"Open In Colab\"/></a>"
      ]
    },
    {
      "cell_type": "code",
      "source": [
        "from typing import *"
      ],
      "metadata": {
        "id": "ow1JtLkmdqsj"
      },
      "execution_count": null,
      "outputs": []
    },
    {
      "cell_type": "code",
      "execution_count": null,
      "metadata": {
        "colab": {
          "base_uri": "https://localhost:8080/"
        },
        "id": "c8-kmm84dOu5",
        "outputId": "c97f6e1a-198b-41e5-b2d1-8352bbd94ab2"
      },
      "outputs": [
        {
          "output_type": "execute_result",
          "data": {
            "text/plain": [
              "[1, 2, 2, 3, 5, 6]"
            ]
          },
          "metadata": {},
          "execution_count": 14
        }
      ],
      "source": [
        "class Solution:\n",
        "    def merge(self, nums1: List[int], m: int, nums2: List[int], n: int) -> None:\n",
        "        \"\"\"\n",
        "        Do not return anything, modify nums1 in-place instead.\n",
        "        \"\"\"\n",
        "        i_m, i_n = m-1,n-1\n",
        "        for i in range(m+n-1,-1,-1):\n",
        "            if i_m == -1 or (i_n != -1 and nums2[i_n] > nums1[i_m]):\n",
        "                nums1[i] = nums2[i_n]\n",
        "                i_n -= 1\n",
        "            else:\n",
        "                nums1[i] = nums1[i_m]\n",
        "                i_m -= 1\n",
        "\n",
        "nums1 =[1,2,3,0,0,0]\n",
        "m =3\n",
        "nums2 =[2,5,6]\n",
        "n =3\n",
        "s = Solution()\n",
        "s.merge(nums1, m, nums2, n)\n",
        "nums1"
      ]
    },
    {
      "cell_type": "code",
      "source": [
        "class Solution:\n",
        "    def removeElement(self, nums: List[int], val: int) -> int:\n",
        "      def find_next(i):\n",
        "        while i >= 0:\n",
        "          if nums[i] != val: break\n",
        "          i -= 1\n",
        "        return i\n",
        "      next = find_next(len(nums)-1)\n",
        "      k = 0\n",
        "      for i in range(len(nums)):\n",
        "        # print(i,next,nums)\n",
        "        if nums[i] == val:\n",
        "          if next > 0 and i<next:\n",
        "            nums[i],nums[next] = nums[next],nums[i]\n",
        "            next = find_next(next)\n",
        "            k += 1\n",
        "        else:\n",
        "          k += 1\n",
        "      return k\n",
        "\n",
        "nums = [0,1,2,2,3,0,4,2]\n",
        "val = 2\n",
        "s = Solution()\n",
        "k = s.removeElement(nums,val)\n",
        "print(nums,k)"
      ],
      "metadata": {
        "colab": {
          "base_uri": "https://localhost:8080/"
        },
        "id": "nABE5-wegtpQ",
        "outputId": "809bfdeb-8d32-4c53-9b3d-b77ff87e9208"
      },
      "execution_count": null,
      "outputs": [
        {
          "output_type": "stream",
          "name": "stdout",
          "text": [
            "[0, 1, 4, 0, 3, 2, 2, 2] 5\n"
          ]
        }
      ]
    },
    {
      "cell_type": "code",
      "source": [
        "class Solution:\n",
        "    def removeDuplicates(self, nums: List[int]) -> int:\n",
        "        def find_next(i):\n",
        "          t = i\n",
        "          while i < len(nums):\n",
        "            if nums[i] != nums[t]: break\n",
        "            i += 1\n",
        "          return i\n",
        "        k = 0\n",
        "        i = 0\n",
        "        next = 0\n",
        "        while next < len(nums):\n",
        "          nums[i] = nums[next]\n",
        "          k += 1\n",
        "          next = find_next(next)\n",
        "          i += 1\n",
        "        return k\n",
        "\n",
        "nums = [0,0,1,1,1,2,2,3,3,4]\n",
        "s = Solution()\n",
        "k = s.removeDuplicates(nums)\n",
        "print(nums,k)"
      ],
      "metadata": {
        "colab": {
          "base_uri": "https://localhost:8080/"
        },
        "id": "7mRVVuWdpjFb",
        "outputId": "893af83f-9d9c-4d03-8224-4490ebaf36b4"
      },
      "execution_count": null,
      "outputs": [
        {
          "output_type": "stream",
          "name": "stdout",
          "text": [
            "[0, 1, 2, 3, 4, 2, 2, 3, 3, 4] 5\n"
          ]
        }
      ]
    },
    {
      "cell_type": "code",
      "source": [
        "class Solution:\n",
        "    def removeDuplicates(self, nums: List[int]) -> int:\n",
        "        def find_next(i,seen):\n",
        "          t = i\n",
        "          i += 1\n",
        "          while i < len(nums):\n",
        "            if nums[i] != nums[t]:\n",
        "              seen = 0\n",
        "              break\n",
        "            if seen < 1:\n",
        "              seen += 1\n",
        "              break\n",
        "            i += 1\n",
        "          return i,seen\n",
        "        k = 0\n",
        "        i = 0\n",
        "        next = 0\n",
        "        seen = 0\n",
        "        while next < len(nums):\n",
        "          # print(i,next,seen)\n",
        "          nums[i] = nums[next]\n",
        "          k += 1\n",
        "          i += 1\n",
        "          next,seen = find_next(next,seen)\n",
        "        return k\n",
        "\n",
        "nums = [1,1,1,2,2,3]\n",
        "s = Solution()\n",
        "k = s.removeDuplicates(nums)\n",
        "print(nums,k)"
      ],
      "metadata": {
        "colab": {
          "base_uri": "https://localhost:8080/"
        },
        "id": "6OGCmJHBsbz8",
        "outputId": "985bbe99-65b0-45f8-effa-b2561126018b"
      },
      "execution_count": null,
      "outputs": [
        {
          "output_type": "stream",
          "name": "stdout",
          "text": [
            "[1, 1, 2, 2, 3, 3] 5\n"
          ]
        }
      ]
    },
    {
      "cell_type": "code",
      "source": [
        "class Solution:\n",
        "    def majorityElement(self, nums: List[int]) -> int:\n",
        "      map = {}\n",
        "      for n in nums:\n",
        "        map[n] = map.get(n, 0) + 1\n",
        "      for k,v in map.items():\n",
        "        if v > len(nums)//2: return k\n",
        "\n",
        "nums = [2,2,1,1,1,2,2]\n",
        "s = Solution()\n",
        "k = s.majorityElement(nums)\n",
        "print(nums,k)"
      ],
      "metadata": {
        "colab": {
          "base_uri": "https://localhost:8080/"
        },
        "id": "-rrOOd2b0tQ5",
        "outputId": "5d8bf8b7-0e5c-40dc-fd16-d3fe113b2f58"
      },
      "execution_count": null,
      "outputs": [
        {
          "output_type": "stream",
          "name": "stdout",
          "text": [
            "[2, 2, 1, 1, 1, 2, 2] 2\n"
          ]
        }
      ]
    },
    {
      "cell_type": "code",
      "source": [
        "class Solution:\n",
        "    def rotate(self, nums: List[int], k: int) -> None:\n",
        "        \"\"\"\n",
        "        Do not return anything, modify nums in-place instead.\n",
        "        \"\"\"\n",
        "        i = 0\n",
        "        total = 0\n",
        "        offset = 0\n",
        "        tmp = nums[i]\n",
        "        while True:\n",
        "          # print(total, i, offset, nums)\n",
        "          total += 1\n",
        "          dst = (i+k)%len(nums)\n",
        "          prev = nums[dst]\n",
        "          nums[dst] = tmp\n",
        "          tmp = prev\n",
        "          i = dst\n",
        "          if i == offset:\n",
        "            if total == len(nums): break\n",
        "            offset += 1\n",
        "            i = offset\n",
        "            tmp = nums[i]\n",
        "\n",
        "nums = [1,2,3,4,5,6]\n",
        "k = 2\n",
        "s = Solution()\n",
        "s.rotate(nums,k)\n",
        "print(nums)"
      ],
      "metadata": {
        "colab": {
          "base_uri": "https://localhost:8080/"
        },
        "id": "kzvs2yTTD1hj",
        "outputId": "4e119af6-e90e-4612-c016-656a802a3a44"
      },
      "execution_count": null,
      "outputs": [
        {
          "output_type": "stream",
          "name": "stdout",
          "text": [
            "[5, 6, 1, 2, 3, 4]\n"
          ]
        }
      ]
    },
    {
      "cell_type": "code",
      "source": [
        "class Solution:\n",
        "    def maxProfit(self, prices: List[int]) -> int:\n",
        "      minSeen = 10**10\n",
        "      maxProfit = 0\n",
        "      for n in prices:\n",
        "        maxProfit = max(maxProfit, n-minSeen)\n",
        "        minSeen = min(minSeen, n)\n",
        "        # print(maxProfit, minSeen)\n",
        "      return maxProfit\n",
        "\n",
        "prices = [7,6,4,3,1]\n",
        "s = Solution()\n",
        "s.maxProfit(prices)"
      ],
      "metadata": {
        "colab": {
          "base_uri": "https://localhost:8080/"
        },
        "id": "CpCttQ_FVIXe",
        "outputId": "9a0b9682-8279-4f69-d33c-dbc146b68a18"
      },
      "execution_count": null,
      "outputs": [
        {
          "output_type": "execute_result",
          "data": {
            "text/plain": [
              "0"
            ]
          },
          "metadata": {},
          "execution_count": 20
        }
      ]
    },
    {
      "cell_type": "code",
      "source": [
        "class Solution:\n",
        "    def maxProfit(self, prices: List[int]) -> int:\n",
        "      maxProfit = 0\n",
        "      prevPrice = 10**10\n",
        "      for n in prices:\n",
        "        if n > prevPrice: maxProfit += n-prevPrice\n",
        "        prevPrice = n\n",
        "      return maxProfit\n",
        "\n",
        "prices = [7,6,4,3,1]\n",
        "s = Solution()\n",
        "s.maxProfit(prices)"
      ],
      "metadata": {
        "colab": {
          "base_uri": "https://localhost:8080/"
        },
        "id": "YSm35_fBfEIT",
        "outputId": "557a90bb-9f21-4b67-8926-3521c4b380c0"
      },
      "execution_count": null,
      "outputs": [
        {
          "output_type": "execute_result",
          "data": {
            "text/plain": [
              "0"
            ]
          },
          "metadata": {},
          "execution_count": 21
        }
      ]
    },
    {
      "cell_type": "code",
      "source": [
        "class Solution:\n",
        "    def canJump(self, nums: List[int]) -> bool:\n",
        "      reach = nums[0]\n",
        "      for i in range(len(nums)):\n",
        "        # print(i, reach)\n",
        "        if reach == -1: return False\n",
        "        reach = max(reach,nums[i])\n",
        "        reach -= 1\n",
        "      return True\n",
        "\n",
        "nums = [3,2,1,0,4]\n",
        "s = Solution()\n",
        "s.canJump(nums)"
      ],
      "metadata": {
        "colab": {
          "base_uri": "https://localhost:8080/"
        },
        "id": "bE9mX4PogKnC",
        "outputId": "1c48ab58-1dea-4eb7-833d-ebdf83b55f23"
      },
      "execution_count": null,
      "outputs": [
        {
          "output_type": "execute_result",
          "data": {
            "text/plain": [
              "False"
            ]
          },
          "metadata": {},
          "execution_count": 22
        }
      ]
    },
    {
      "cell_type": "code",
      "source": [
        "class Solution:\n",
        "    def jump(self, nums: List[int]) -> int:\n",
        "      jumps = 0\n",
        "      currRange = 0\n",
        "      maxRange = 0\n",
        "      for i in range(len(nums)-1):\n",
        "        # print(i,jumps,currRange,maxRange)\n",
        "        maxRange = max(nums[i],maxRange-1)\n",
        "        if currRange == 0:\n",
        "          currRange = maxRange\n",
        "          jumps += 1\n",
        "        currRange -= 1\n",
        "      return jumps\n",
        "\n",
        "nums = [2,3,0,1,4]\n",
        "s = Solution()\n",
        "s.jump(nums)"
      ],
      "metadata": {
        "colab": {
          "base_uri": "https://localhost:8080/"
        },
        "id": "b2UxngbQoPY0",
        "outputId": "a55a4bfe-49d8-4ce7-b6da-41e2a8db5f5d"
      },
      "execution_count": null,
      "outputs": [
        {
          "output_type": "execute_result",
          "data": {
            "text/plain": [
              "2"
            ]
          },
          "metadata": {},
          "execution_count": 23
        }
      ]
    },
    {
      "cell_type": "code",
      "source": [
        "class Solution:\n",
        "    def hIndex(self, citations: List[int]) -> int:\n",
        "      s = sorted(citations)\n",
        "      h = 0\n",
        "      for i in range(len(s)):\n",
        "        n = len(s) - i\n",
        "        t_h = min(s[i],n)\n",
        "        h = max(h, t_h)\n",
        "      return h\n",
        "\n",
        "citations = [1,3,1]\n",
        "s = Solution()\n",
        "s.hIndex(citations)"
      ],
      "metadata": {
        "colab": {
          "base_uri": "https://localhost:8080/"
        },
        "id": "l3qPtN1gVCFn",
        "outputId": "65d3f0ae-325f-4aca-e210-cfebe1fcc96c"
      },
      "execution_count": null,
      "outputs": [
        {
          "output_type": "execute_result",
          "data": {
            "text/plain": [
              "1"
            ]
          },
          "metadata": {},
          "execution_count": 24
        }
      ]
    },
    {
      "cell_type": "code",
      "source": [
        "import random\n",
        "class RandomizedSet:\n",
        "    def __init__(self):\n",
        "      self.data = set()\n",
        "\n",
        "    def insert(self, val: int) -> bool:\n",
        "        r = val not in self.data\n",
        "        self.data.add(val)\n",
        "        return r\n",
        "\n",
        "    def remove(self, val: int) -> bool:\n",
        "        r = val in self.data\n",
        "        if r: self.data.remove(val)\n",
        "        return r\n",
        "\n",
        "    def getRandom(self) -> int:\n",
        "        i = random.randint(0,len(self.data)-1)\n",
        "        return list(self.data)[i]\n",
        "\n",
        "randomizedSet = RandomizedSet()\n",
        "print(randomizedSet.insert(1))\n",
        "print(randomizedSet.remove(2))\n",
        "print(randomizedSet.insert(2))\n",
        "print(randomizedSet.getRandom())\n",
        "print(randomizedSet.remove(1))\n",
        "print(randomizedSet.insert(2))\n",
        "print(randomizedSet.getRandom())"
      ],
      "metadata": {
        "colab": {
          "base_uri": "https://localhost:8080/"
        },
        "id": "73u3UR3zXvr3",
        "outputId": "fbd4fd78-3c42-4c9a-96d1-9aba2c1d7501"
      },
      "execution_count": null,
      "outputs": [
        {
          "output_type": "stream",
          "name": "stdout",
          "text": [
            "True\n",
            "False\n",
            "True\n",
            "1\n",
            "True\n",
            "False\n",
            "2\n"
          ]
        }
      ]
    },
    {
      "cell_type": "code",
      "source": [
        "class Solution:\n",
        "    def productExceptSelf(self, nums: List[int]) -> List[int]:\n",
        "      total = 1\n",
        "      zeros = 0\n",
        "      for n in nums:\n",
        "        if n != 0:\n",
        "          total *= n\n",
        "        else:\n",
        "          zeros += 1\n",
        "        if zeros > 1: total = 0\n",
        "      print(total)\n",
        "      r = []\n",
        "      for n in nums:\n",
        "        if n == 0:\n",
        "          r.append(total)\n",
        "        elif zeros > 0:\n",
        "          r.append(0)\n",
        "        else:\n",
        "          r.append(int(total * n**-1))\n",
        "      return r\n",
        "\n",
        "nums = [1,2,3,4]\n",
        "s = Solution()\n",
        "s.productExceptSelf(nums)"
      ],
      "metadata": {
        "colab": {
          "base_uri": "https://localhost:8080/"
        },
        "id": "AgBdEqKcfbSq",
        "outputId": "1f80c01a-7491-47f9-f2fa-29cd4c22f6b9"
      },
      "execution_count": null,
      "outputs": [
        {
          "output_type": "stream",
          "name": "stdout",
          "text": [
            "24\n"
          ]
        },
        {
          "output_type": "execute_result",
          "data": {
            "text/plain": [
              "[24, 12, 8, 6]"
            ]
          },
          "metadata": {},
          "execution_count": 26
        }
      ]
    },
    {
      "cell_type": "code",
      "source": [
        "class Solution:\n",
        "    def canCompleteCircuit(self, gas: List[int], cost: List[int]) -> int:\n",
        "      deltas = [g-c for g,c in zip(gas,cost)]\n",
        "      # print(deltas)\n",
        "      runningSum = 0\n",
        "      sums = []\n",
        "      minIdx = 0\n",
        "      minSum = 10**10\n",
        "      for i in range(len(deltas)):\n",
        "        runningSum += deltas[i]\n",
        "        sums.append(runningSum)\n",
        "        if runningSum <= minSum:\n",
        "          minIdx = i\n",
        "          minSum = runningSum\n",
        "      # print(sums)\n",
        "      if sums[-1] >= 0:\n",
        "        return((minIdx+1)%len(deltas))\n",
        "      else:\n",
        "        return -1\n",
        "\n",
        "gas = [11,4,7,1,0]\n",
        "cost = [2,5,5,9,1]\n",
        "s = Solution()\n",
        "s.canCompleteCircuit(gas,cost)"
      ],
      "metadata": {
        "colab": {
          "base_uri": "https://localhost:8080/"
        },
        "id": "5-3560khnoMJ",
        "outputId": "a6faf94c-c45f-44ea-ad68-d9edc969d1ba"
      },
      "execution_count": null,
      "outputs": [
        {
          "output_type": "execute_result",
          "data": {
            "text/plain": [
              "0"
            ]
          },
          "metadata": {},
          "execution_count": 27
        }
      ]
    },
    {
      "cell_type": "code",
      "source": [
        "class Solution:\n",
        "    def candy(self, ratings: List[int]) -> int:\n",
        "      l = [0]\n",
        "      cur_run = 0\n",
        "      for i in range(len(ratings)-1):\n",
        "        if ratings[i]<ratings[i+1]:\n",
        "          cur_run += 1\n",
        "        else:\n",
        "          cur_run = 0\n",
        "        l.append(cur_run)\n",
        "      r = [0]\n",
        "      cur_run = 0\n",
        "      for i in range(len(ratings)-1,0,-1):\n",
        "        if ratings[i]<ratings[i-1]:\n",
        "          cur_run += 1\n",
        "        else:\n",
        "          cur_run = 0\n",
        "        r.append(cur_run)\n",
        "      r.reverse()\n",
        "      # print(l,r)\n",
        "      return sum([max(x,y) for x,y in zip(l,r)])+len(ratings)\n",
        "\n",
        "ratings = [1,3,2,2,1]\n",
        "s = Solution()\n",
        "s.candy(ratings)"
      ],
      "metadata": {
        "colab": {
          "base_uri": "https://localhost:8080/"
        },
        "id": "5d_fLs4vr6n0",
        "outputId": "337b4ae6-2788-41a6-d507-973ea224b644"
      },
      "execution_count": null,
      "outputs": [
        {
          "output_type": "execute_result",
          "data": {
            "text/plain": [
              "7"
            ]
          },
          "metadata": {},
          "execution_count": 28
        }
      ]
    },
    {
      "cell_type": "code",
      "source": [
        "class Solution:\n",
        "    def trap(self, height: List[int]) -> int:\n",
        "        total = 0\n",
        "        cliffs = []\n",
        "        for i in range(len(height)):\n",
        "            h = height[i]\n",
        "            next = height[i+1] if i<len(height)-1 else 0\n",
        "            # print(i, total, cliffs)\n",
        "            if h > next:\n",
        "                cliffs.append((h,next,i))\n",
        "            elif h < next:\n",
        "                new_cliffs = []\n",
        "                for c_h,c_n,c_i in cliffs:\n",
        "                    if next >= c_n:\n",
        "                      # print(\"adding\", (min(c_h,next)-c_n)*(i-c_i))\n",
        "                      total += (min(c_h,next)-c_n)*(i-c_i)\n",
        "                    if c_h > next:\n",
        "                      new_cliffs.append((c_h,max(next,c_n),c_i))\n",
        "                cliffs = new_cliffs\n",
        "            prev = h\n",
        "        return total\n",
        "\n",
        "height = [6,4,2,0,3,2,0,3,1,4,5,3,2,7,5,3,0,1,2,1,3,4,6,8,1,3]\n",
        "s = Solution()\n",
        "s.trap(height)"
      ],
      "metadata": {
        "colab": {
          "base_uri": "https://localhost:8080/"
        },
        "id": "OA7LoUgEFMT1",
        "outputId": "0b7f7017-b8d8-4e39-ed20-b0d87ef34164"
      },
      "execution_count": null,
      "outputs": [
        {
          "output_type": "execute_result",
          "data": {
            "text/plain": [
              "83"
            ]
          },
          "metadata": {},
          "execution_count": 29
        }
      ]
    },
    {
      "cell_type": "code",
      "source": [
        "class Solution:\n",
        "    def romanToInt(self, s: str) -> int:\n",
        "      s2n = {\"I\":1, \"V\":5, \"X\":10, \"L\":50, \"C\":100, \"D\":500, \"M\":1000}\n",
        "      total = 0\n",
        "      i = 0\n",
        "      while i < len(s):\n",
        "        if i < len(s)-1 and s2n[s[i]] < s2n[s[i+1]]:\n",
        "          total += s2n[s[i+1]]-s2n[s[i]]\n",
        "          i += 1\n",
        "        else:\n",
        "          total += s2n[s[i]]\n",
        "        i += 1\n",
        "      return total\n",
        "\n",
        "s = Solution()\n",
        "s.romanToInt(\"LVIII\")"
      ],
      "metadata": {
        "colab": {
          "base_uri": "https://localhost:8080/"
        },
        "id": "hU4PGrg0ZQ0Y",
        "outputId": "1d928a62-b087-4eee-ae25-4cc10e963f30"
      },
      "execution_count": null,
      "outputs": [
        {
          "output_type": "execute_result",
          "data": {
            "text/plain": [
              "58"
            ]
          },
          "metadata": {},
          "execution_count": 30
        }
      ]
    },
    {
      "cell_type": "code",
      "source": [
        "class Solution:\n",
        "    def intToRoman(self, num: int) -> str:\n",
        "      n2s = {1: 'I', 5: 'V', 10: 'X', 50: 'L', 100: 'C', 500: 'D', 1000: 'M'}\n",
        "      result = \"\"\n",
        "      while num > 0:\n",
        "        p = int(str(num)[0])\n",
        "        if p == 4 or p == 9:\n",
        "          p += 1\n",
        "          num = int(str(p) + str(num)[1:])\n",
        "          n = max(x for x in n2s.keys() if x<=num)\n",
        "          result += n2s[n//p]\n",
        "          result += n2s[n]\n",
        "          num -= n\n",
        "        else:\n",
        "          n = max(x for x in n2s.keys() if x<=num)\n",
        "          result += n2s[n]\n",
        "          num -= n\n",
        "      return result\n",
        "\n",
        "s = Solution()\n",
        "s.intToRoman(1994)"
      ],
      "metadata": {
        "colab": {
          "base_uri": "https://localhost:8080/",
          "height": 35
        },
        "id": "pA8SGpWaadaj",
        "outputId": "bd13b07e-5d7d-4675-ecd9-9c9cef9d4588"
      },
      "execution_count": null,
      "outputs": [
        {
          "output_type": "execute_result",
          "data": {
            "text/plain": [
              "'MCMXCIV'"
            ],
            "application/vnd.google.colaboratory.intrinsic+json": {
              "type": "string"
            }
          },
          "metadata": {},
          "execution_count": 31
        }
      ]
    },
    {
      "cell_type": "code",
      "source": [
        "class Solution:\n",
        "    def lengthOfLastWord(self, s: str) -> int:\n",
        "      return len(s.split()[-1])\n",
        "\n",
        "s = \"luffy is still joyboy\"\n",
        "Solution().lengthOfLastWord(s)"
      ],
      "metadata": {
        "colab": {
          "base_uri": "https://localhost:8080/"
        },
        "id": "w5FjH2-rrjbM",
        "outputId": "987abfdb-3997-486f-ba54-00476543bcb5"
      },
      "execution_count": null,
      "outputs": [
        {
          "output_type": "execute_result",
          "data": {
            "text/plain": [
              "6"
            ]
          },
          "metadata": {},
          "execution_count": 32
        }
      ]
    },
    {
      "cell_type": "code",
      "source": [
        "class Solution:\n",
        "    def longestCommonPrefix(self, strs: List[str]) -> str:\n",
        "      i = 0\n",
        "      ret = \"\"\n",
        "      while i < len(strs[0]):\n",
        "        for s in strs[1:]:\n",
        "          if i >= len(s): break\n",
        "          if s[i] != strs[0][i]: break\n",
        "        else:\n",
        "          ret += strs[0][i]\n",
        "          i += 1\n",
        "          continue\n",
        "        break\n",
        "      return ret\n",
        "\n",
        "strs = [\"\"]\n",
        "Solution().longestCommonPrefix(strs)"
      ],
      "metadata": {
        "colab": {
          "base_uri": "https://localhost:8080/",
          "height": 35
        },
        "id": "ofRN4esJr6GU",
        "outputId": "0d9af52c-606d-4539-d522-b83ef795a7e4"
      },
      "execution_count": null,
      "outputs": [
        {
          "output_type": "execute_result",
          "data": {
            "text/plain": [
              "''"
            ],
            "application/vnd.google.colaboratory.intrinsic+json": {
              "type": "string"
            }
          },
          "metadata": {},
          "execution_count": 33
        }
      ]
    },
    {
      "cell_type": "code",
      "source": [
        "class Solution:\n",
        "    def reverseWords(self, s: str) -> str:\n",
        "      return \" \".join(s.split()[::-1])\n",
        "\n",
        "s = \"the sky is blue\"\n",
        "Solution().reverseWords(s)"
      ],
      "metadata": {
        "colab": {
          "base_uri": "https://localhost:8080/",
          "height": 35
        },
        "id": "6ON4-yPJq4qv",
        "outputId": "1278447d-2d56-4f9d-d918-9c4958d8063b"
      },
      "execution_count": null,
      "outputs": [
        {
          "output_type": "execute_result",
          "data": {
            "text/plain": [
              "'blue is sky the'"
            ],
            "application/vnd.google.colaboratory.intrinsic+json": {
              "type": "string"
            }
          },
          "metadata": {},
          "execution_count": 34
        }
      ]
    },
    {
      "cell_type": "code",
      "source": [
        "class Solution:\n",
        "    def convert(self, s: str, numRows: int) -> str:\n",
        "      r = \"\"\n",
        "      for i in range(numRows):\n",
        "        j = i\n",
        "        while j < len(s):\n",
        "          # print(j, s[j])\n",
        "          r += s[j]\n",
        "          diag = j+numRows*2-2-i*2\n",
        "          if i > 0 and i < numRows-1 and diag < len(s):\n",
        "            # print(i, \"diag:\",diag, s[diag])\n",
        "            r += s[diag]\n",
        "          j += numRows*2-2 if numRows > 1 else 1\n",
        "      return r\n",
        "\n",
        "s = \"A\"\n",
        "numRows = 1\n",
        "Solution().convert(s,numRows)"
      ],
      "metadata": {
        "colab": {
          "base_uri": "https://localhost:8080/",
          "height": 35
        },
        "id": "3pDGzp4OtWSX",
        "outputId": "ce1055ae-adaa-4d94-af36-8d105b6a78c4"
      },
      "execution_count": null,
      "outputs": [
        {
          "output_type": "execute_result",
          "data": {
            "text/plain": [
              "'A'"
            ],
            "application/vnd.google.colaboratory.intrinsic+json": {
              "type": "string"
            }
          },
          "metadata": {},
          "execution_count": 35
        }
      ]
    },
    {
      "cell_type": "code",
      "source": [
        "class Solution:\n",
        "    def strStr(self, haystack: str, needle: str) -> int:\n",
        "      for i in range(len(haystack)):\n",
        "        if haystack[i:i+len(needle)] == needle:\n",
        "          return i\n",
        "      return -1\n",
        "\n",
        "haystack = \"hello\"\n",
        "needle = \"ll\"\n",
        "Solution().strStr(haystack, needle)"
      ],
      "metadata": {
        "colab": {
          "base_uri": "https://localhost:8080/"
        },
        "id": "fAKd28b88ASM",
        "outputId": "61fdf40b-ee37-45e1-dd94-1fb1d4841e7d"
      },
      "execution_count": null,
      "outputs": [
        {
          "output_type": "execute_result",
          "data": {
            "text/plain": [
              "2"
            ]
          },
          "metadata": {},
          "execution_count": 36
        }
      ]
    },
    {
      "cell_type": "code",
      "source": [
        "import math\n",
        "class Solution:\n",
        "    def fullJustify(self, words: List[str], maxWidth: int) -> List[str]:\n",
        "      w = 0\n",
        "      result = []\n",
        "      while w < len(words):\n",
        "        l = 0\n",
        "        t = []\n",
        "        while w < len(words) and l+len(words[w]) < maxWidth+1:\n",
        "          t.append(words[w])\n",
        "          l += len(words[w])+1\n",
        "          w += 1\n",
        "        if w == len(words):\n",
        "          str = \" \".join(t)\n",
        "        else:\n",
        "          str = \"\"\n",
        "          spaces = maxWidth - sum(len(s) for s in t)\n",
        "          for i in range(len(t)):\n",
        "            if i != len(t)-1:\n",
        "              str += t[i]\n",
        "              toFill = (math.ceil(spaces / (len(t)-i-1)))\n",
        "              str += \" \" * toFill\n",
        "              spaces -= toFill\n",
        "            else:\n",
        "              str += t[i]\n",
        "        if len(str) < maxWidth:\n",
        "          str += \" \" * (maxWidth - len(str))\n",
        "        result.append(str)\n",
        "      return result\n",
        "\n",
        "# words = [\"This\", \"is\", \"an\", \"example\", \"of\", \"text\", \"justification.\"]\n",
        "# words = [\"What\",\"must\",\"be\",\"acknowledgment\",\"shall\",\"be\"]\n",
        "# words = [\"Science\",\"is\",\"what\",\"we\",\"understand\",\"well\",\"enough\",\"to\",\"explain\",\"to\",\"a\",\"computer.\",\"Art\",\"is\",\"everything\",\"else\",\"we\",\"do\"]\n",
        "words = [\"ask\",\"not\",\"what\",\"your\",\"country\",\"can\",\"do\",\"for\",\"you\",\"ask\",\"what\",\"you\",\"can\",\"do\",\"for\",\"your\",\"country\"]\n",
        "maxWidth = 16\n",
        "Solution().fullJustify(words, maxWidth)"
      ],
      "metadata": {
        "colab": {
          "base_uri": "https://localhost:8080/"
        },
        "id": "owvDGSMa9UcA",
        "outputId": "55da961b-14f3-40da-be1f-40d257b1c967"
      },
      "execution_count": null,
      "outputs": [
        {
          "output_type": "execute_result",
          "data": {
            "text/plain": [
              "['ask   not   what',\n",
              " 'your country can',\n",
              " 'do  for  you ask',\n",
              " 'what  you can do',\n",
              " 'for your country']"
            ]
          },
          "metadata": {},
          "execution_count": 37
        }
      ]
    },
    {
      "cell_type": "code",
      "source": [
        "class Solution:\n",
        "    def isPalindrome(self, s: str) -> bool:\n",
        "      s = [c.lower() for c in s if c.isalnum()]\n",
        "      for i in range(len(s)//2):\n",
        "        if s[i] != s[len(s)-1-i]: return False\n",
        "      return True\n",
        "\n",
        "# s = \"A man, a plan, a canal: Panama\"\n",
        "# s = \"race a car\"\n",
        "# s = \" \"\n",
        "s = \"0P\"\n",
        "Solution().isPalindrome(s)"
      ],
      "metadata": {
        "colab": {
          "base_uri": "https://localhost:8080/"
        },
        "id": "NWXi_yoSTd2V",
        "outputId": "2a37c6a6-874c-4ce5-d66f-19780b26b780"
      },
      "execution_count": null,
      "outputs": [
        {
          "output_type": "execute_result",
          "data": {
            "text/plain": [
              "False"
            ]
          },
          "metadata": {},
          "execution_count": 38
        }
      ]
    },
    {
      "cell_type": "code",
      "source": [
        "class Solution:\n",
        "    def isSubsequence(self, s: str, t: str) -> bool:\n",
        "      i = 0\n",
        "      for c in t:\n",
        "        if i < len(s) and c == s[i]:\n",
        "          i += 1\n",
        "      return i == len(s)\n",
        "\n",
        "s = \"ac\"\n",
        "t = \"asdf\"\n",
        "Solution().isSubsequence(s,t)"
      ],
      "metadata": {
        "colab": {
          "base_uri": "https://localhost:8080/"
        },
        "id": "xxYGwB-zVpvt",
        "outputId": "27d588b2-f550-4084-fe14-347af0cb6402"
      },
      "execution_count": null,
      "outputs": [
        {
          "output_type": "execute_result",
          "data": {
            "text/plain": [
              "False"
            ]
          },
          "metadata": {},
          "execution_count": 39
        }
      ]
    },
    {
      "cell_type": "code",
      "source": [
        "class Solution:\n",
        "    def twoSum(self, numbers: List[int], target: int) -> List[int]:\n",
        "      p1,p2 = 0,len(numbers)-1\n",
        "      while True:\n",
        "        # print(p1,p2)\n",
        "        sum = numbers[p1]+numbers[p2]\n",
        "        if sum == target: return [p1+1,p2+1]\n",
        "        if sum > target: p2 -= 1\n",
        "        else: p1 += 1\n",
        "\n",
        "\n",
        "numbers = [5,25,75]\n",
        "target = 100\n",
        "Solution().twoSum(numbers,target)"
      ],
      "metadata": {
        "colab": {
          "base_uri": "https://localhost:8080/"
        },
        "id": "heDJ3BWBXM8a",
        "outputId": "4d8d8af9-92af-4b9d-ce4c-ec66a6b674b4"
      },
      "execution_count": null,
      "outputs": [
        {
          "output_type": "execute_result",
          "data": {
            "text/plain": [
              "[2, 3]"
            ]
          },
          "metadata": {},
          "execution_count": 40
        }
      ]
    },
    {
      "cell_type": "code",
      "source": [
        "class Solution:\n",
        "    def maxArea(self, height: List[int]) -> int:\n",
        "      p1,p2 = 0,len(height)-1\n",
        "      m = 0\n",
        "      while True:\n",
        "        if p1 == p2: return m\n",
        "        w = min(height[p1],height[p2])*(p2-p1)\n",
        "        # print(w, p1, p2)\n",
        "        m = max(m,w)\n",
        "        if height[p1] < height[p2]: p1 += 1\n",
        "        else: p2 -= 1\n",
        "\n",
        "height = [1,1]\n",
        "Solution().maxArea(height)"
      ],
      "metadata": {
        "colab": {
          "base_uri": "https://localhost:8080/"
        },
        "id": "W5cC4IzVfDmO",
        "outputId": "8a903128-a4b4-4ddb-cf70-61ed02747d65"
      },
      "execution_count": null,
      "outputs": [
        {
          "output_type": "execute_result",
          "data": {
            "text/plain": [
              "1"
            ]
          },
          "metadata": {},
          "execution_count": 41
        }
      ]
    },
    {
      "cell_type": "code",
      "source": [
        "class Solution:\n",
        "    def threeSum(self, nums: List[int]) -> List[List[int]]:\n",
        "      nums.sort()\n",
        "      result = set()\n",
        "      for i in range(len(nums)-2):\n",
        "        if i > 0 and nums[i] == nums[i - 1]:\n",
        "            continue\n",
        "        j = i+1\n",
        "        k = len(nums)-1\n",
        "        while j != k:\n",
        "          # print(i,j,k)\n",
        "          sum = nums[i]+nums[j]+nums[k]\n",
        "          if sum == 0:\n",
        "            result.add(tuple(sorted([nums[i],nums[j],nums[k]])))\n",
        "            j += 1\n",
        "          elif sum > 0:\n",
        "            k -= 1\n",
        "          else:\n",
        "            j += 1\n",
        "      return [list(x) for x in result]\n",
        "\n",
        "nums = [-1,0,1,2,-1,-4]\n",
        "Solution().threeSum(nums)"
      ],
      "metadata": {
        "colab": {
          "base_uri": "https://localhost:8080/"
        },
        "id": "f0aPdQBK7O8M",
        "outputId": "df6e25a4-e78a-44ef-b92c-c5260e43004c"
      },
      "execution_count": null,
      "outputs": [
        {
          "output_type": "execute_result",
          "data": {
            "text/plain": [
              "[[-1, 0, 1], [-1, -1, 2]]"
            ]
          },
          "metadata": {},
          "execution_count": 42
        }
      ]
    },
    {
      "cell_type": "code",
      "source": [
        "class Solution:\n",
        "    def minSubArrayLen(self, target: int, nums: List[int]) -> int:\n",
        "      sum = 0\n",
        "      p = 0\n",
        "      result = 0\n",
        "      for i in range(len(nums)):\n",
        "        sum += nums[i]\n",
        "        while p<i and sum-nums[p] >= target:\n",
        "          sum -= nums[p]\n",
        "          p += 1\n",
        "        if sum >= target and (result == 0 or i-p+1 < result):\n",
        "          result = i-p+1\n",
        "      return result\n",
        "\n",
        "target = 11\n",
        "nums = [1,1,1,1,1,1,1,1]\n",
        "Solution().minSubArrayLen(target, nums)"
      ],
      "metadata": {
        "colab": {
          "base_uri": "https://localhost:8080/"
        },
        "id": "-G4a_Cd__0PB",
        "outputId": "40d53d1c-67c9-4eab-d578-d223a0f434c4"
      },
      "execution_count": null,
      "outputs": [
        {
          "output_type": "execute_result",
          "data": {
            "text/plain": [
              "0"
            ]
          },
          "metadata": {},
          "execution_count": 43
        }
      ]
    },
    {
      "cell_type": "code",
      "source": [
        "class Solution:\n",
        "    def lengthOfLongestSubstring(self, s: str) -> int:\n",
        "      p = 0\n",
        "      ret = \"\"\n",
        "      for i in range(len(s)):\n",
        "        # print(i,p,ret)\n",
        "        if s[i] not in s[p:i]:\n",
        "          tmp = s[p:i+1]\n",
        "          if len(tmp) > len(ret):\n",
        "            ret = tmp\n",
        "        else:\n",
        "          p = i-1\n",
        "          while s[i] != s[p]:\n",
        "            p -= 1\n",
        "          p += 1\n",
        "      return len(ret)\n",
        "      # return ret\n",
        "\n",
        "s = \"pwwkew\"\n",
        "Solution().lengthOfLongestSubstring(s)"
      ],
      "metadata": {
        "colab": {
          "base_uri": "https://localhost:8080/"
        },
        "id": "8AmT8omCor9b",
        "outputId": "1ea3596f-39d7-421e-ce22-50e0e8ac7cb8"
      },
      "execution_count": null,
      "outputs": [
        {
          "output_type": "execute_result",
          "data": {
            "text/plain": [
              "3"
            ]
          },
          "metadata": {},
          "execution_count": 44
        }
      ]
    },
    {
      "cell_type": "code",
      "source": [
        "from functools import lru_cache\n",
        "class Solution:\n",
        "    def findSubstring(self, s: str, words: List[str]) -> List[int]:\n",
        "      @lru_cache\n",
        "      def isConcatString(s,words):\n",
        "        words = list(words)\n",
        "        # print(s,words)\n",
        "        while len(s) > 0 and len(words) > 0:\n",
        "          l = len(words[0])\n",
        "          w = s[:l]\n",
        "          if w not in words: return False\n",
        "          s = s[l:]\n",
        "          words.remove(w)\n",
        "        return len(s) == 0 and len(words) == 0\n",
        "\n",
        "      ret = []\n",
        "      l = sum(len(x) for x in words)\n",
        "      for i in range(len(s)-l+1):\n",
        "        if isConcatString(s[i:i+l], tuple(words)):\n",
        "          ret.append(i)\n",
        "      return ret\n",
        "\n",
        "s = \"barfoofoobarthefoobarman\"\n",
        "words = [\"bar\",\"foo\",\"the\"]\n",
        "Solution().findSubstring(s,words)"
      ],
      "metadata": {
        "colab": {
          "base_uri": "https://localhost:8080/"
        },
        "id": "7CCxIe-Wt6uL",
        "outputId": "b9a05cfd-50e8-4a63-d3c1-867b13a6b44c"
      },
      "execution_count": null,
      "outputs": [
        {
          "output_type": "execute_result",
          "data": {
            "text/plain": [
              "[6, 9, 12]"
            ]
          },
          "metadata": {},
          "execution_count": 45
        }
      ]
    },
    {
      "cell_type": "code",
      "source": [
        "from collections import Counter\n",
        "class Solution:\n",
        "    def minWindow(self, s: str, t: str) -> str:\n",
        "      sc = Counter(s)\n",
        "      tc = Counter(t)\n",
        "      for c in tc.keys():\n",
        "        if sc[c] < tc[c]: return \"\"\n",
        "      p = len(s)-1\n",
        "      while True:\n",
        "        c = s[p]\n",
        "        if c in tc and sc[c] == tc[c]: break\n",
        "        sc[c] -= 1\n",
        "        p -= 1\n",
        "      res = s[:p+1]\n",
        "      for i in range(len(s)):\n",
        "        c = s[i]\n",
        "        sc[c] -= 1\n",
        "        # print(i,res,c,s[i+1:p+1],sc)\n",
        "        if c in tc and sc[c] < tc[c]:\n",
        "          for j in range(p+1,len(s)):\n",
        "            sc[s[j]] += 1\n",
        "            if s[j] == c:\n",
        "              p = j\n",
        "              break\n",
        "          else:\n",
        "            return res\n",
        "        if p-i < len(res): res = s[i+1:p+1]\n",
        "      return res\n",
        "\n",
        "s = \"cabwefgewcwaefgcf\"\n",
        "t = \"cae\"\n",
        "Solution().minWindow(s,t)"
      ],
      "metadata": {
        "colab": {
          "base_uri": "https://localhost:8080/",
          "height": 35
        },
        "id": "J2syzJExFVSa",
        "outputId": "aa644426-1569-42f0-c9eb-9f66fa67475a"
      },
      "execution_count": null,
      "outputs": [
        {
          "output_type": "execute_result",
          "data": {
            "text/plain": [
              "'cwae'"
            ],
            "application/vnd.google.colaboratory.intrinsic+json": {
              "type": "string"
            }
          },
          "metadata": {},
          "execution_count": 46
        }
      ]
    },
    {
      "cell_type": "code",
      "source": [
        "from pprint import pprint\n",
        "class Solution:\n",
        "    def isValidSudoku(self, board: List[List[str]]) -> bool:\n",
        "      for i in range(9):\n",
        "        seen = set()\n",
        "        for j in range(9):\n",
        "          c = board[i][j]\n",
        "          if c != \".\":\n",
        "            if c in seen: return False\n",
        "            seen.add(c)\n",
        "      for i in range(9):\n",
        "        seen = set()\n",
        "        for j in range(9):\n",
        "          c = board[j][i]\n",
        "          if c != \".\":\n",
        "            if c in seen: return False\n",
        "            seen.add(c)\n",
        "      for i in range(9):\n",
        "        seen = set()\n",
        "        row,col = (i//3)*3,(i%3)*3\n",
        "        for j in range(3):\n",
        "          for k in range(3):\n",
        "            c = board[row+j][col+k]\n",
        "            if c != \".\":\n",
        "              if c in seen: return False\n",
        "              seen.add(c)\n",
        "      return True\n",
        "\n",
        "board = [[\".\",\".\",\".\",\".\",\"5\",\".\",\".\",\"1\",\".\"],[\".\",\"4\",\".\",\"3\",\".\",\".\",\".\",\".\",\".\"],[\".\",\".\",\".\",\".\",\".\",\"3\",\".\",\".\",\"1\"],[\"8\",\".\",\".\",\".\",\".\",\".\",\".\",\"2\",\".\"],[\".\",\".\",\"2\",\".\",\"7\",\".\",\".\",\".\",\".\"],[\".\",\"1\",\"5\",\".\",\".\",\".\",\".\",\".\",\".\"],[\".\",\".\",\".\",\".\",\".\",\"2\",\".\",\".\",\".\"],[\".\",\"2\",\".\",\"9\",\".\",\".\",\".\",\".\",\".\"],[\".\",\".\",\"4\",\".\",\".\",\".\",\".\",\".\",\".\"]]\n",
        "pprint(board)\n",
        "Solution().isValidSudoku(board)"
      ],
      "metadata": {
        "colab": {
          "base_uri": "https://localhost:8080/"
        },
        "id": "8x3JTVZri4tc",
        "outputId": "966a56b9-03f0-45f6-d835-27975cf65c3b"
      },
      "execution_count": null,
      "outputs": [
        {
          "output_type": "stream",
          "name": "stdout",
          "text": [
            "[['.', '.', '.', '.', '5', '.', '.', '1', '.'],\n",
            " ['.', '4', '.', '3', '.', '.', '.', '.', '.'],\n",
            " ['.', '.', '.', '.', '.', '3', '.', '.', '1'],\n",
            " ['8', '.', '.', '.', '.', '.', '.', '2', '.'],\n",
            " ['.', '.', '2', '.', '7', '.', '.', '.', '.'],\n",
            " ['.', '1', '5', '.', '.', '.', '.', '.', '.'],\n",
            " ['.', '.', '.', '.', '.', '2', '.', '.', '.'],\n",
            " ['.', '2', '.', '9', '.', '.', '.', '.', '.'],\n",
            " ['.', '.', '4', '.', '.', '.', '.', '.', '.']]\n"
          ]
        },
        {
          "output_type": "execute_result",
          "data": {
            "text/plain": [
              "False"
            ]
          },
          "metadata": {},
          "execution_count": 47
        }
      ]
    },
    {
      "cell_type": "code",
      "source": [
        "class Solution:\n",
        "    def spiralOrder(self, matrix: List[List[int]]) -> List[int]:\n",
        "      r,c = 0,0\n",
        "      w,h = len(matrix[0]),len(matrix)\n",
        "      dr,dc = 0,1\n",
        "      br,bc = [1,h-1],[0,w-1]\n",
        "      n = 0\n",
        "      res = []\n",
        "      while n < w*h:\n",
        "        # print(r,c,br,bc)\n",
        "        val = matrix[r][c]\n",
        "        res.append(val)\n",
        "        n += 1\n",
        "        if dr == 1 and r == br[1]:\n",
        "          dr,dc = 0,-1\n",
        "          br[1] -= 1\n",
        "        elif dr == -1 and r == br[0]:\n",
        "          dr,dc = 0,1\n",
        "          br[0] += 1\n",
        "        elif dc == 1 and c == bc[1]:\n",
        "          dr,dc = 1,0\n",
        "          bc[1] -= 1\n",
        "        elif dc == -1 and c == bc[0]:\n",
        "          dr,dc = -1,0\n",
        "          bc[0] += 1\n",
        "        r,c, = r+dr,c+dc\n",
        "      return res\n",
        "\n",
        "matrix = [[1,2,3,4],[5,6,7,8],[9,10,11,12]]\n",
        "Solution().spiralOrder(matrix)"
      ],
      "metadata": {
        "colab": {
          "base_uri": "https://localhost:8080/"
        },
        "id": "QDjkFZu4m1_s",
        "outputId": "7e5e2d7d-c4e6-4497-ebc6-ac831b1c797b"
      },
      "execution_count": null,
      "outputs": [
        {
          "output_type": "execute_result",
          "data": {
            "text/plain": [
              "[1, 2, 3, 4, 8, 12, 11, 10, 9, 5, 6, 7]"
            ]
          },
          "metadata": {},
          "execution_count": 48
        }
      ]
    },
    {
      "cell_type": "code",
      "source": [
        "class Solution:\n",
        "    def rotate(self, matrix: List[List[int]]) -> None:\n",
        "      w = len(matrix)\n",
        "      for r in range(w//2):\n",
        "        n = w-2*r-1\n",
        "        for i in range(n):\n",
        "          # print(r,i,n,matrix)\n",
        "          t = matrix[r][r+i]\n",
        "          matrix[r][r+i] = matrix[r+n-i][r]\n",
        "          matrix[r+n-i][r] = matrix[r+n][r+n-i]\n",
        "          matrix[r+n][r+n-i] = matrix[r+i][r+n]\n",
        "          matrix[r+i][r+n] = t\n",
        "      return matrix\n",
        "\n",
        "matrix = [[5,1,9,11],[2,4,8,10],[13,3,6,7],[15,14,12,16]]\n",
        "Solution().rotate(matrix)"
      ],
      "metadata": {
        "colab": {
          "base_uri": "https://localhost:8080/"
        },
        "id": "h0qBNf81ufKJ",
        "outputId": "d3278d50-4770-42be-ab1f-cedb71d5d1f7"
      },
      "execution_count": null,
      "outputs": [
        {
          "output_type": "execute_result",
          "data": {
            "text/plain": [
              "[[15, 13, 2, 5], [14, 3, 4, 1], [12, 6, 8, 9], [16, 7, 10, 11]]"
            ]
          },
          "metadata": {},
          "execution_count": 49
        }
      ]
    },
    {
      "cell_type": "code",
      "source": [
        "class Solution:\n",
        "    def setZeroes(self, matrix: List[List[int]]) -> None:\n",
        "      rows,cols = len(matrix),len(matrix[0])\n",
        "      for r in range(rows):\n",
        "        for c in range(cols):\n",
        "          if matrix[r][c] == 0:\n",
        "            for i in range(rows):\n",
        "              if matrix[i][c] != 0:\n",
        "                matrix[i][c] = None\n",
        "            for i in range(cols):\n",
        "              if matrix[r][i] != 0:\n",
        "                matrix[r][i] = None\n",
        "      for r in range(rows):\n",
        "        for c in range(cols):\n",
        "          if matrix[r][c] == None:\n",
        "            matrix[r][c] = 0\n",
        "      return matrix\n",
        "\n",
        "matrix = [[0,1,2,0],[3,4,5,2],[1,3,1,5]]\n",
        "Solution().setZeroes(matrix)"
      ],
      "metadata": {
        "colab": {
          "base_uri": "https://localhost:8080/"
        },
        "id": "snFTJ8jt4ErJ",
        "outputId": "1ccd2c0a-0c22-4449-ca5b-051dfc28f73a"
      },
      "execution_count": null,
      "outputs": [
        {
          "output_type": "execute_result",
          "data": {
            "text/plain": [
              "[[0, 0, 0, 0], [0, 4, 5, 0], [0, 3, 1, 0]]"
            ]
          },
          "metadata": {},
          "execution_count": 50
        }
      ]
    },
    {
      "cell_type": "code",
      "source": [
        "import copy\n",
        "class Solution:\n",
        "    def gameOfLife(self, board: List[List[int]]) -> None:\n",
        "      rows,cols = len(board),len(board[0])\n",
        "      orig = copy.deepcopy(board)\n",
        "      def count(row,col):\n",
        "        ret = 0\n",
        "        for r in range(max(0,row-1),min(rows-1,row+1)+1):\n",
        "          for c in range(max(0,col-1),min(cols-1,col+1)+1):\n",
        "            if r == row and c == col: continue\n",
        "            ret += orig[r][c]\n",
        "        return ret\n",
        "      for r in range(rows):\n",
        "        for c in range(cols):\n",
        "          if orig[r][c] == 1:\n",
        "            pop = count(r,c)\n",
        "            board[r][c] = int(pop == 2 or pop == 3)\n",
        "          else:\n",
        "            board[r][c] = int(count(r,c) == 3)\n",
        "\n",
        "board = [[0,1,0],[0,0,1],[1,1,1],[0,0,0]]\n",
        "Solution().gameOfLife(board)\n",
        "board"
      ],
      "metadata": {
        "colab": {
          "base_uri": "https://localhost:8080/"
        },
        "id": "SADBF-uE7lXB",
        "outputId": "95a1e6a9-c033-4a18-efb8-591e4f639798"
      },
      "execution_count": null,
      "outputs": [
        {
          "output_type": "execute_result",
          "data": {
            "text/plain": [
              "[[0, 0, 0], [1, 0, 1], [0, 1, 1], [0, 1, 0]]"
            ]
          },
          "metadata": {},
          "execution_count": 51
        }
      ]
    },
    {
      "cell_type": "code",
      "source": [
        "from collections import Counter\n",
        "class Solution:\n",
        "    def canConstruct(self, ransomNote: str, magazine: str) -> bool:\n",
        "      rc = Counter(ransomNote)\n",
        "      mc = Counter(magazine)\n",
        "      for c in rc.keys():\n",
        "        if rc[c] > mc[c]: return False\n",
        "      return True\n",
        "\n",
        "ransomNote = \"aa\"\n",
        "magazine = \"aab\"\n",
        "Solution().canConstruct(ransomNote, magazine)"
      ],
      "metadata": {
        "colab": {
          "base_uri": "https://localhost:8080/"
        },
        "id": "uC7YHP8OBEsG",
        "outputId": "8fddf253-a477-4428-d219-b036162ae33c"
      },
      "execution_count": null,
      "outputs": [
        {
          "output_type": "execute_result",
          "data": {
            "text/plain": [
              "True"
            ]
          },
          "metadata": {},
          "execution_count": 52
        }
      ]
    },
    {
      "cell_type": "code",
      "source": [
        "class Solution:\n",
        "    def isIsomorphic(self, s: str, t: str) -> bool:\n",
        "      def convert(s):\n",
        "        i = 0\n",
        "        d = {}\n",
        "        res = []\n",
        "        for c in s:\n",
        "          if c not in d:\n",
        "            d[c] = i\n",
        "            i += 1\n",
        "          res.append(d[c])\n",
        "        return res\n",
        "      return convert(s) == convert(t)\n",
        "\n",
        "s = \"egg\"\n",
        "t = \"add\"\n",
        "Solution().isIsomorphic(s,t)"
      ],
      "metadata": {
        "colab": {
          "base_uri": "https://localhost:8080/"
        },
        "id": "YsX_8XHMLpwH",
        "outputId": "e36a0e56-1b8f-4371-f0d8-7ebbd7d208f1"
      },
      "execution_count": null,
      "outputs": [
        {
          "output_type": "execute_result",
          "data": {
            "text/plain": [
              "True"
            ]
          },
          "metadata": {},
          "execution_count": 53
        }
      ]
    },
    {
      "cell_type": "code",
      "source": [
        "class Solution:\n",
        "    def wordPattern(self, pattern: str, s: str) -> bool:\n",
        "      words = s.split()\n",
        "      d = {}\n",
        "      rd = {}\n",
        "      if len(pattern) != len(words): return False\n",
        "      for i in range(len(pattern)):\n",
        "        if pattern[i] not in d and words[i] not in rd:\n",
        "          d[pattern[i]] = words[i]\n",
        "          rd[words[i]] = pattern[i]\n",
        "        else:\n",
        "          if pattern[i] in d and d[pattern[i]] != words[i]: return False\n",
        "          if words[i] in rd and rd[words[i]] != pattern[i]: return False\n",
        "      return True\n",
        "\n",
        "pattern = \"aaa\"\n",
        "s = \"aa aa aa aa\"\n",
        "Solution().wordPattern(pattern, s)"
      ],
      "metadata": {
        "colab": {
          "base_uri": "https://localhost:8080/"
        },
        "id": "kyXm4yiXOdUh",
        "outputId": "6a456310-4474-4b9a-c9c3-0a6aaa091d46"
      },
      "execution_count": null,
      "outputs": [
        {
          "output_type": "execute_result",
          "data": {
            "text/plain": [
              "False"
            ]
          },
          "metadata": {},
          "execution_count": 54
        }
      ]
    },
    {
      "cell_type": "code",
      "source": [
        "from collections import Counter\n",
        "class Solution:\n",
        "    def isAnagram(self, s: str, t: str) -> bool:\n",
        "      return Counter(s) == Counter(t)\n",
        "\n",
        "s = \"rat\"\n",
        "t = \"car\"\n",
        "Solution().isAnagram(s,t)"
      ],
      "metadata": {
        "colab": {
          "base_uri": "https://localhost:8080/"
        },
        "id": "MQNFLaX_RkWw",
        "outputId": "21077cd7-91d0-4e4e-f153-4756a749f56e"
      },
      "execution_count": null,
      "outputs": [
        {
          "output_type": "execute_result",
          "data": {
            "text/plain": [
              "False"
            ]
          },
          "metadata": {},
          "execution_count": 55
        }
      ]
    },
    {
      "cell_type": "code",
      "source": [
        "class Solution:\n",
        "    def groupAnagrams(self, strs: List[str]) -> List[List[str]]:\n",
        "      d = {}\n",
        "      for s in strs:\n",
        "        tmp = tuple(sorted(s))\n",
        "        if tmp in d:\n",
        "          d[tmp].append(s)\n",
        "        else:\n",
        "          d[tmp] = [s]\n",
        "      return list([list(x) for x in d.values()])\n",
        "\n",
        "strs = [\"ddddddddddg\",\"dgggggggggg\"]\n",
        "Solution().groupAnagrams(strs)"
      ],
      "metadata": {
        "colab": {
          "base_uri": "https://localhost:8080/"
        },
        "id": "Siynq_PZSU83",
        "outputId": "3343b96b-68e9-4086-e30c-9aa23cb4caf4"
      },
      "execution_count": null,
      "outputs": [
        {
          "output_type": "execute_result",
          "data": {
            "text/plain": [
              "[['ddddddddddg'], ['dgggggggggg']]"
            ]
          },
          "metadata": {},
          "execution_count": 56
        }
      ]
    },
    {
      "cell_type": "code",
      "source": [
        "class Solution:\n",
        "    def twoSum(self, nums: List[int], target: int) -> List[int]:\n",
        "      d = {nums[i]:i for i in range(len(nums))}\n",
        "      for i in range(len(nums)):\n",
        "        t = target-nums[i]\n",
        "        if t in d and d[t] != i: return [i,d[t]]\n",
        "\n",
        "nums = [3,3]\n",
        "target = 6\n",
        "Solution().twoSum(nums, target)"
      ],
      "metadata": {
        "colab": {
          "base_uri": "https://localhost:8080/"
        },
        "id": "xv14RgqDVwqY",
        "outputId": "14853acd-ef56-4244-e4a6-09517538ee4e"
      },
      "execution_count": null,
      "outputs": [
        {
          "output_type": "execute_result",
          "data": {
            "text/plain": [
              "[0, 1]"
            ]
          },
          "metadata": {},
          "execution_count": 57
        }
      ]
    },
    {
      "cell_type": "code",
      "source": [
        "class Solution:\n",
        "    def isHappy(self, n: int) -> bool:\n",
        "      seen = set()\n",
        "      while True:\n",
        "        n = sum([int(x)**2 for x in str(n)])\n",
        "        if n == 1: return True\n",
        "        if n in seen: return False\n",
        "        seen.add(n)\n",
        "\n",
        "n = 2\n",
        "Solution().isHappy(n)"
      ],
      "metadata": {
        "colab": {
          "base_uri": "https://localhost:8080/"
        },
        "id": "j6aGRsdlXve7",
        "outputId": "18ed9054-fc91-4f66-b3e5-b4369e8572c0"
      },
      "execution_count": null,
      "outputs": [
        {
          "output_type": "execute_result",
          "data": {
            "text/plain": [
              "False"
            ]
          },
          "metadata": {},
          "execution_count": 58
        }
      ]
    },
    {
      "cell_type": "code",
      "source": [
        "class Solution:\n",
        "    def containsNearbyDuplicate(self, nums: List[int], k: int) -> bool:\n",
        "      d = {}\n",
        "      for i in range(len(nums)):\n",
        "        # print(d)\n",
        "        if nums[i] in d:\n",
        "          for idx in d[nums[i]]:\n",
        "            if abs(idx-i) <= k: return True\n",
        "        d[nums[i]] = d.get(nums[i],[]) + [i]\n",
        "      return False\n",
        "\n",
        "nums = [1,2,3,1,2,3]\n",
        "k = 2\n",
        "Solution().containsNearbyDuplicate(nums,k)"
      ],
      "metadata": {
        "colab": {
          "base_uri": "https://localhost:8080/"
        },
        "id": "tWkKhS7uY0uW",
        "outputId": "66361158-25bb-4487-9099-364b5406872b"
      },
      "execution_count": null,
      "outputs": [
        {
          "output_type": "execute_result",
          "data": {
            "text/plain": [
              "False"
            ]
          },
          "metadata": {},
          "execution_count": 59
        }
      ]
    },
    {
      "cell_type": "code",
      "source": [
        "class Solution:\n",
        "    def longestConsecutive(self, nums: List[int]) -> int:\n",
        "      f = {}\n",
        "      b = {}\n",
        "      for n in nums:\n",
        "        if n in f: continue\n",
        "\n",
        "        if n+1 in f:\n",
        "          f[n] = f[n+1]+1\n",
        "        else:\n",
        "          f[n] = 0\n",
        "        if n-1 in b:\n",
        "          b[n] = b[n-1]+1\n",
        "        else:\n",
        "          b[n] = 0\n",
        "\n",
        "        if f[n] != 0:\n",
        "          b[n+f[n]] = b[n]+f[n]\n",
        "        if b[n] != 0:\n",
        "          f[n-b[n]] = f[n]+b[n]\n",
        "        # print(n,f,b)\n",
        "\n",
        "      if len(nums) == 0: return 0\n",
        "      return max(f.values())+1\n",
        "\n",
        "nums = [-6,-9,8,-8,-1,-3,-6,8,-9,-1,-4,-8,-5,0,1,6,-8,-5,-7,8,-2,-8,4,5,-5,-1,-5]\n",
        "Solution().longestConsecutive(nums)"
      ],
      "metadata": {
        "id": "jraT5Lk0xYZm",
        "colab": {
          "base_uri": "https://localhost:8080/"
        },
        "outputId": "dbfe21fc-8c2f-4fa2-cfd2-bc2c939be4bc"
      },
      "execution_count": null,
      "outputs": [
        {
          "output_type": "execute_result",
          "data": {
            "text/plain": [
              "11"
            ]
          },
          "metadata": {},
          "execution_count": 60
        }
      ]
    },
    {
      "cell_type": "code",
      "source": [
        "class Solution:\n",
        "    def summaryRanges(self, nums: List[int]) -> List[str]:\n",
        "      ranges = []\n",
        "      for n in nums:\n",
        "        new_ranges = []\n",
        "        found = False\n",
        "        for range in ranges:\n",
        "          if n == range[0]-1:\n",
        "            found = True\n",
        "            range[0] = n\n",
        "          if n == range[1]+1:\n",
        "            found = True\n",
        "            range[1] = n\n",
        "          new_ranges.append(range)\n",
        "        if not found:\n",
        "          new_ranges.append([n,n])\n",
        "        ranges = new_ranges\n",
        "      res = []\n",
        "      for range in ranges:\n",
        "        if range[0] == range[1]:\n",
        "          res.append(str(range[0]))\n",
        "        else:\n",
        "          res.append(f\"{range[0]}->{range[1]}\")\n",
        "      return res\n",
        "\n",
        "nums = [0,2,3,4,6,8,9]\n",
        "Solution().summaryRanges(nums)"
      ],
      "metadata": {
        "colab": {
          "base_uri": "https://localhost:8080/"
        },
        "id": "JcNCiGOH9wc_",
        "outputId": "1731385c-5f2a-430f-92e7-3ff70999b17c"
      },
      "execution_count": null,
      "outputs": [
        {
          "output_type": "execute_result",
          "data": {
            "text/plain": [
              "['0', '2->4', '6', '8->9']"
            ]
          },
          "metadata": {},
          "execution_count": 61
        }
      ]
    },
    {
      "cell_type": "code",
      "source": [
        "class Solution:\n",
        "    def merge(self, intervals: List[List[int]]) -> List[List[int]]:\n",
        "      res = []\n",
        "      for r1 in intervals:\n",
        "        new_res = []\n",
        "        for r2 in res:\n",
        "          if r2[0] <= r1[1] and r2[1] >= r1[0]:\n",
        "            r1 = [min(r1[0],r2[0]),max(r1[1],r2[1])]\n",
        "          else:\n",
        "            new_res.append(r2)\n",
        "        new_res.append(r1)\n",
        "        res = new_res\n",
        "        # print(res)\n",
        "      return res\n",
        "\n",
        "intervals = [[1,4],[4,5]]\n",
        "Solution().merge(intervals)"
      ],
      "metadata": {
        "colab": {
          "base_uri": "https://localhost:8080/"
        },
        "id": "MlXa6kwLAK0n",
        "outputId": "af3fde51-218d-42d0-c66c-c1bb4b4204eb"
      },
      "execution_count": null,
      "outputs": [
        {
          "output_type": "execute_result",
          "data": {
            "text/plain": [
              "[[1, 5]]"
            ]
          },
          "metadata": {},
          "execution_count": 62
        }
      ]
    },
    {
      "cell_type": "code",
      "source": [
        "class Solution:\n",
        "    def insert(self, intervals: List[List[int]], newInterval: List[int]) -> List[List[int]]:\n",
        "      res = []\n",
        "      r1 = newInterval\n",
        "      for i in range(len(intervals)):\n",
        "        r2 = intervals[i]\n",
        "        if r1 and r2[0] <= r1[1] and r2[1] >= r1[0]:\n",
        "          r1 = [min(r1[0],r2[0]),max(r1[1],r2[1])]\n",
        "        else:\n",
        "          if r1 and r1[1] < r2[0]:\n",
        "            res.append(r1)\n",
        "            r1 = None\n",
        "          res.append(r2)\n",
        "          if r1 and i == len(intervals)-1 and r1[0] > r2[1]:\n",
        "            res.append(r1)\n",
        "            r1 = None\n",
        "      if r1: res.append(r1)\n",
        "      return res\n",
        "\n",
        "intervals = [[2,5],[6,7],[8,9]]\n",
        "newInterval = [0,1]\n",
        "Solution().insert(intervals, newInterval)"
      ],
      "metadata": {
        "colab": {
          "base_uri": "https://localhost:8080/"
        },
        "id": "Jq92TUQMkwCQ",
        "outputId": "792b14f4-7c17-42fc-e005-7acb17f8a15a"
      },
      "execution_count": null,
      "outputs": [
        {
          "output_type": "execute_result",
          "data": {
            "text/plain": [
              "[[0, 1], [2, 5], [6, 7], [8, 9]]"
            ]
          },
          "metadata": {},
          "execution_count": 63
        }
      ]
    },
    {
      "cell_type": "code",
      "source": [
        "class Solution:\n",
        "    def findMinArrowShots(self, points: List[List[int]]) -> int:\n",
        "      points.sort()\n",
        "      res = []\n",
        "      r1 = points[0]\n",
        "      for r2 in points:\n",
        "        # print(r1, r2, res)\n",
        "        if r1 and r2[0] <= r1[1] and r2[1] >= r1[0]:\n",
        "          r1 = [max(r1[0],r2[0]),min(r1[1],r2[1])]\n",
        "        else:\n",
        "          if r1:\n",
        "            res.append(r1)\n",
        "            r1 = None\n",
        "          r1 = r2\n",
        "      if r1:\n",
        "        res.append(r1)\n",
        "      return len(res)\n",
        "\n",
        "points = [[3,9],[7,12],[3,8],[6,8],[9,10],[2,9],[0,9],[3,9],[0,6],[2,8]]\n",
        "Solution().findMinArrowShots(points)"
      ],
      "metadata": {
        "colab": {
          "base_uri": "https://localhost:8080/"
        },
        "id": "JYEiHJuzsS8s",
        "outputId": "fcd9738e-b447-40c7-ebbb-7a92d40d97a5"
      },
      "execution_count": null,
      "outputs": [
        {
          "output_type": "execute_result",
          "data": {
            "text/plain": [
              "2"
            ]
          },
          "metadata": {},
          "execution_count": 64
        }
      ]
    },
    {
      "cell_type": "code",
      "source": [
        "class Solution:\n",
        "    def isValid(self, s: str) -> bool:\n",
        "      q = []\n",
        "      for c in s:\n",
        "        if c == \"(\": q.append(c)\n",
        "        if c == \")\" and (len(q) == 0 or q.pop() != \"(\"): return False\n",
        "        if c == \"[\": q.append(c)\n",
        "        if c == \"]\" and (len(q) == 0 or q.pop() != \"[\"): return False\n",
        "        if c == \"{\": q.append(c)\n",
        "        if c == \"}\" and (len(q) == 0 or q.pop() != \"{\"): return False\n",
        "      return len(q)==0\n",
        "\n",
        "s = \"[]{}\"\n",
        "Solution().isValid(s)"
      ],
      "metadata": {
        "colab": {
          "base_uri": "https://localhost:8080/"
        },
        "id": "XisnSU6P1BGg",
        "outputId": "7de63fd6-d88a-4d1b-d09d-6bfbf510738a"
      },
      "execution_count": null,
      "outputs": [
        {
          "output_type": "execute_result",
          "data": {
            "text/plain": [
              "True"
            ]
          },
          "metadata": {},
          "execution_count": 65
        }
      ]
    },
    {
      "cell_type": "code",
      "source": [
        "class Solution:\n",
        "    def simplifyPath(self, path: str) -> str:\n",
        "      res = []\n",
        "      prevSlash = 0\n",
        "      for s in path.split(\"/\"):\n",
        "        if s != \"\" and s != \".\":\n",
        "          if s == \"..\":\n",
        "            if len(res) > 0: res.pop()\n",
        "          else:\n",
        "            res.append(s)\n",
        "      return \"/\" + \"/\".join(res)\n",
        "\n",
        "path =  \"/.../a/../b/c/../d/./\"\n",
        "Solution().simplifyPath(path)"
      ],
      "metadata": {
        "colab": {
          "base_uri": "https://localhost:8080/",
          "height": 35
        },
        "id": "LPHLEUPYHW1w",
        "outputId": "87285cb7-45ed-4347-f63a-c3f464e490b4"
      },
      "execution_count": null,
      "outputs": [
        {
          "output_type": "execute_result",
          "data": {
            "text/plain": [
              "'/.../b/d'"
            ],
            "application/vnd.google.colaboratory.intrinsic+json": {
              "type": "string"
            }
          },
          "metadata": {},
          "execution_count": 66
        }
      ]
    },
    {
      "cell_type": "code",
      "source": [
        "class MinStack:\n",
        "    def __init__(self):\n",
        "        self.q = []\n",
        "\n",
        "    def push(self, val: int) -> None:\n",
        "        if len(self.q) > 0:\n",
        "          minVal = self.q[-1][1]\n",
        "        else:\n",
        "          minVal = val\n",
        "        self.q.append((val,min(minVal,val)))\n",
        "\n",
        "    def pop(self) -> None:\n",
        "        self.q.pop()\n",
        "\n",
        "    def top(self) -> int:\n",
        "        return self.q[-1][0]\n",
        "\n",
        "    def getMin(self) -> int:\n",
        "        return self.q[-1][1]\n",
        "\n",
        "minStack = MinStack()\n",
        "minStack.push(-2)\n",
        "minStack.push(0)\n",
        "minStack.push(-3)\n",
        "print(minStack.getMin())\n",
        "minStack.pop()\n",
        "print(minStack.top())\n",
        "print(minStack.getMin())"
      ],
      "metadata": {
        "colab": {
          "base_uri": "https://localhost:8080/"
        },
        "id": "AKlzDGW6KIQo",
        "outputId": "30987322-5be5-4762-c2ca-39a223a495fb"
      },
      "execution_count": null,
      "outputs": [
        {
          "output_type": "stream",
          "name": "stdout",
          "text": [
            "-3\n",
            "0\n",
            "-2\n"
          ]
        }
      ]
    },
    {
      "cell_type": "code",
      "source": [
        "import math\n",
        "class Solution:\n",
        "    def evalRPN(self, tokens: List[str]) -> int:\n",
        "      stack = []\n",
        "      for t in tokens:\n",
        "        # print(stack)\n",
        "        if t in ['+', '-', '*', '/']:\n",
        "          v2 = stack.pop()\n",
        "          v1 = stack.pop()\n",
        "          if t == \"/\":\n",
        "            val = int(v1) / int(v2)\n",
        "            if val > 0:\n",
        "              val = math.floor(val)\n",
        "            else:\n",
        "              val = math.ceil(val)\n",
        "            stack.append(val)\n",
        "          else:\n",
        "            stack.append(eval(f\"{v1} {t} {v2}\"))\n",
        "        else:\n",
        "          stack.append(t)\n",
        "      return int(stack[0])\n",
        "\n",
        "tokens = [\"18\"]\n",
        "Solution().evalRPN(tokens)"
      ],
      "metadata": {
        "colab": {
          "base_uri": "https://localhost:8080/"
        },
        "id": "PEoSkbpFOV9M",
        "outputId": "4ed00707-f30d-45fb-9ecd-f95181f69cca"
      },
      "execution_count": null,
      "outputs": [
        {
          "output_type": "execute_result",
          "data": {
            "text/plain": [
              "18"
            ]
          },
          "metadata": {},
          "execution_count": 68
        }
      ]
    },
    {
      "cell_type": "code",
      "source": [
        "class Solution:\n",
        "    def calculate(self, s: str) -> int:\n",
        "      stack = []\n",
        "      currNum = None\n",
        "      for i in range(len(s)):\n",
        "        c = s[i]\n",
        "        if c == \" \": continue\n",
        "        # print(i,c,stack)\n",
        "        if c.isnumeric():\n",
        "          currNum = int(c) if currNum == None else currNum*10+int(c)\n",
        "          if i == len(s)-1 or not s[i+1].isnumeric():\n",
        "            stack.append(currNum)\n",
        "            currNum = None\n",
        "\n",
        "        if c in [\"-\",\"+\"]:\n",
        "          stack.append(c)\n",
        "        elif c in [\"(\",\")\"]:\n",
        "          if c == \"(\":\n",
        "            stack.append(c)\n",
        "          if c == \")\":\n",
        "            n = stack.pop()\n",
        "            stack[-1] = n\n",
        "\n",
        "        if i == len(s)-1 or not s[i+1].isnumeric():\n",
        "          if len(stack) >= 2 and type(stack[-1]) == int and stack[-2] == \"-\" and (len(stack) < 3 or type(stack[-3]) != int):\n",
        "            n = stack.pop()\n",
        "            stack[-1] = -n\n",
        "          if len(stack) >= 3 and type(stack[-1]) == int and type(stack[-3]) == int:\n",
        "            if stack[-2] == \"+\":\n",
        "              n2 = stack.pop()\n",
        "              stack.pop()\n",
        "              stack[-1] += n2\n",
        "            elif stack[-2] == \"-\":\n",
        "              n2 = stack.pop()\n",
        "              stack.pop()\n",
        "              stack[-1] -= n2\n",
        "\n",
        "      return stack[0]\n",
        "\n",
        "s = \"(1+(4+5+2)-3)+(6+8)\"\n",
        "Solution().calculate(s)"
      ],
      "metadata": {
        "colab": {
          "base_uri": "https://localhost:8080/"
        },
        "id": "_mjwW4eMqo1p",
        "outputId": "c52af892-24b1-4b13-f50c-46cd348b2755"
      },
      "execution_count": null,
      "outputs": [
        {
          "output_type": "execute_result",
          "data": {
            "text/plain": [
              "23"
            ]
          },
          "metadata": {},
          "execution_count": 69
        }
      ]
    },
    {
      "cell_type": "code",
      "source": [
        "class ListNode:\n",
        "    def __init__(self, x: int, next: 'Node' = None):\n",
        "        self.val = int(x)\n",
        "        self.next = next\n",
        "\n",
        "class Solution:\n",
        "    def hasCycle(self, head: Optional[ListNode]) -> bool:\n",
        "      p1 = head\n",
        "      p2 = head.next if head != None else None\n",
        "      while p1 != None and p2 != None:\n",
        "        if p1 == p2 or (p2.next != None and p2.next == p1): return True\n",
        "        p1 = p1.next\n",
        "        p2 = p2.next.next if p2.next != None else p2.next\n",
        "      return False\n",
        "\n",
        "head = []\n",
        "pos = -1\n",
        "l = None\n",
        "tailPtr = None\n",
        "tail = None\n",
        "for i in range(len(head)-1,-1,-1):\n",
        "  tmp = ListNode(head[i])\n",
        "  if i == len(head)-1: tail = tmp\n",
        "  if i == pos:\n",
        "    tailPtr = tmp\n",
        "  tmp.next = l\n",
        "  l = tmp\n",
        "if pos >= 0:\n",
        "  tail.next = tailPtr\n",
        "\n",
        "Solution().hasCycle(l)"
      ],
      "metadata": {
        "colab": {
          "base_uri": "https://localhost:8080/"
        },
        "id": "U4PZKSlbDX36",
        "outputId": "7375c74f-de2d-4651-f034-b98751583243"
      },
      "execution_count": null,
      "outputs": [
        {
          "output_type": "execute_result",
          "data": {
            "text/plain": [
              "False"
            ]
          },
          "metadata": {},
          "execution_count": 70
        }
      ]
    },
    {
      "cell_type": "code",
      "source": [
        "class Solution:\n",
        "    def addTwoNumbers(self, l1: Optional[ListNode], l2: Optional[ListNode]) -> Optional[ListNode]:\n",
        "      def getNum(l1):\n",
        "        n1 = 0\n",
        "        i = 0\n",
        "        while l1 != None:\n",
        "          n1 = n1+l1.val*10**(i)\n",
        "          l1 = l1.next\n",
        "          i += 1\n",
        "        return n1\n",
        "      n1,n2 = getNum(l1),getNum(l2)\n",
        "      return makeList(list(str(n1+n2))[::-1])\n",
        "\n",
        "def makeList(l):\n",
        "  res = None\n",
        "  for i in range(len(l)-1,-1,-1):\n",
        "    tmp = ListNode(int(l[i]))\n",
        "    tmp.next = res\n",
        "    res = tmp\n",
        "  return res\n",
        "\n",
        "l1 = [2,4,3]\n",
        "l2 = [5,6,4]\n",
        "Solution().addTwoNumbers(makeList(l1),makeList(l2))"
      ],
      "metadata": {
        "colab": {
          "base_uri": "https://localhost:8080/"
        },
        "id": "-t1CIZPBJOAS",
        "outputId": "1bf5b685-5216-48c1-e60f-dfe6032cea26"
      },
      "execution_count": null,
      "outputs": [
        {
          "output_type": "execute_result",
          "data": {
            "text/plain": [
              "<__main__.ListNode at 0x7f5a712d9410>"
            ]
          },
          "metadata": {},
          "execution_count": 71
        }
      ]
    },
    {
      "cell_type": "code",
      "source": [
        "class Solution:\n",
        "    def mergeTwoLists(self, list1: Optional[ListNode], list2: Optional[ListNode]) -> Optional[ListNode]:\n",
        "      res = []\n",
        "      while list1 or list2:\n",
        "        if not list1:\n",
        "          res.append(list2)\n",
        "          list2 = list2.next\n",
        "        elif not list2:\n",
        "          res.append(list1)\n",
        "          list1 = list1.next\n",
        "        elif list1.val <= list2.val:\n",
        "          res.append(list1)\n",
        "          list1 = list1.next\n",
        "        elif list2.val <= list1.val:\n",
        "          res.append(list2)\n",
        "          list2 = list2.next\n",
        "      for i in range(len(res)):\n",
        "        if i == len(res)-1:\n",
        "          res[i].next = None\n",
        "        else:\n",
        "          res[i].next = res[i+1]\n",
        "      return res[0] if len(res)>0 else None\n",
        "\n",
        "l1 = []\n",
        "l2 = []\n",
        "\n",
        "def printList(l):\n",
        "  ret = []\n",
        "  while l != None:\n",
        "    ret.append(l.val)\n",
        "    l = l.next\n",
        "  print(ret)\n",
        "\n",
        "Solution().mergeTwoLists(makeList(l1),makeList(l2))"
      ],
      "metadata": {
        "id": "BNUbLpNYNhep"
      },
      "execution_count": null,
      "outputs": []
    },
    {
      "cell_type": "code",
      "source": [
        "class Node:\n",
        "    def __init__(self, x: int, next: 'Node' = None, random: 'Node' = None):\n",
        "        self.val = int(x)\n",
        "        self.next = next\n",
        "        self.random = random\n",
        "\n",
        "class Solution:\n",
        "    def copyRandomList(self, head: 'Optional[Node]') -> 'Optional[Node]':\n",
        "      nodes = []\n",
        "      m = {}\n",
        "      l = head\n",
        "      while l:\n",
        "        nodes.append(Node(l.val, next=l.next, random=l.random))\n",
        "        m[l] = nodes[-1]\n",
        "        l = l.next\n",
        "      for node in nodes:\n",
        "        if node.next: node.next = m[node.next]\n",
        "        if node.random: node.random = m[node.random]\n",
        "      # printListRandom(nodes[0])\n",
        "      return nodes[0] if len(nodes)>0 else None\n",
        "\n",
        "head = [[7,None],[13,0],[11,4],[10,2],[1,0]]\n",
        "l = None\n",
        "nodes = []\n",
        "for i in range(len(head)-1,-1,-1):\n",
        "  l = Node(head[i][0],next=l)\n",
        "  nodes.insert(0,l)\n",
        "for i in range(len(head)):\n",
        "  if head[i][1] != None:\n",
        "    nodes[i].random = nodes[head[i][1]]\n",
        "\n",
        "def printListRandom(l):\n",
        "  ret = []\n",
        "  while l != None:\n",
        "    random = l.random.val if l.random else None\n",
        "    ret.append((l.val, random))\n",
        "    l = l.next\n",
        "  print(ret)\n",
        "\n",
        "Solution().copyRandomList(l)"
      ],
      "metadata": {
        "colab": {
          "base_uri": "https://localhost:8080/"
        },
        "id": "4fhIuS-3XRtF",
        "outputId": "af993beb-4465-4cc2-a13d-25ade5d2d2bc"
      },
      "execution_count": null,
      "outputs": [
        {
          "output_type": "execute_result",
          "data": {
            "text/plain": [
              "<__main__.Node at 0x7f5a712d9310>"
            ]
          },
          "metadata": {},
          "execution_count": 73
        }
      ]
    },
    {
      "cell_type": "code",
      "source": [
        "class Solution:\n",
        "    def reverseBetween(self, head: Optional[ListNode], left: int, right: int) -> Optional[ListNode]:\n",
        "      i = 0\n",
        "      l = head\n",
        "      lNode = None\n",
        "      rNode = None\n",
        "      while l:\n",
        "        i += 1\n",
        "        if i == left: lNode = l\n",
        "        if i == right: rNode = l\n",
        "        l = l.next\n",
        "\n",
        "      # printList(lNode)\n",
        "      prev = rNode.next\n",
        "      curr = lNode\n",
        "      next = rNode.next\n",
        "      while curr and curr != next:\n",
        "        tmp = curr.next\n",
        "        curr.next = prev\n",
        "        prev = curr\n",
        "        curr = tmp\n",
        "      # printList(rNode)\n",
        "\n",
        "      l = head\n",
        "      prevNode = ListNode(0,next=head)\n",
        "      ret = prevNode\n",
        "      i = 0\n",
        "      while l:\n",
        "        i += 1\n",
        "        if i == left:\n",
        "          prevNode.next = rNode\n",
        "        prevNode = l\n",
        "        l = l.next\n",
        "      return ret.next\n",
        "\n",
        "head = [1]\n",
        "left = 1\n",
        "right = 1\n",
        "Solution().reverseBetween(makeList(head), left, right)"
      ],
      "metadata": {
        "colab": {
          "base_uri": "https://localhost:8080/"
        },
        "id": "niKyRTGveWB-",
        "outputId": "ca6ce585-6075-4b77-e9b0-f9b4fc6a07c3"
      },
      "execution_count": null,
      "outputs": [
        {
          "output_type": "execute_result",
          "data": {
            "text/plain": [
              "<__main__.ListNode at 0x7f5a712db310>"
            ]
          },
          "metadata": {},
          "execution_count": 74
        }
      ]
    },
    {
      "cell_type": "code",
      "source": [
        "# Definition for singly-linked list.\n",
        "# class ListNode:\n",
        "#     def __init__(self, val=0, next=None):\n",
        "#         self.val = val\n",
        "#         self.next = next\n",
        "class Solution:\n",
        "    def reverseKGroup(self, head: Optional[ListNode], k: int) -> Optional[ListNode]:\n",
        "      dummy = ListNode(0, next=head)\n",
        "      prev = dummy\n",
        "      curr = head\n",
        "      i = 1\n",
        "      while curr != None:\n",
        "        if i > 1 and i == k:\n",
        "          # print(prev.val,curr.val,curr.next)\n",
        "          next = curr.next\n",
        "          groupPrev = next\n",
        "          groupCurr = prev.next\n",
        "          while groupCurr != next:\n",
        "            tmp = groupCurr.next\n",
        "            groupCurr.next = groupPrev\n",
        "            groupPrev = groupCurr\n",
        "            groupCurr = tmp\n",
        "          tmp = prev.next\n",
        "          prev.next = curr\n",
        "          prev = tmp\n",
        "          curr = next\n",
        "          i = 1\n",
        "        else:\n",
        "          i += 1\n",
        "          curr = curr.next\n",
        "\n",
        "      return dummy.next\n",
        "\n",
        "head = [1,2,3,4,5]\n",
        "k = 3\n",
        "printList(Solution().reverseKGroup(makeList(head),k))"
      ],
      "metadata": {
        "colab": {
          "base_uri": "https://localhost:8080/"
        },
        "id": "Qv1F4lAFezj8",
        "outputId": "746b64cb-9b67-42f1-ed45-e44242af5c48"
      },
      "execution_count": null,
      "outputs": [
        {
          "output_type": "stream",
          "name": "stdout",
          "text": [
            "[3, 2, 1, 4, 5]\n"
          ]
        }
      ]
    },
    {
      "cell_type": "code",
      "source": [
        "# Definition for singly-linked list.\n",
        "# class ListNode:\n",
        "#     def __init__(self, val=0, next=None):\n",
        "#         self.val = val\n",
        "#         self.next = next\n",
        "class Solution:\n",
        "    def removeNthFromEnd(self, head: Optional[ListNode], n: int) -> Optional[ListNode]:\n",
        "      ret = ListNode(0, next=head)\n",
        "      i = 0\n",
        "      node = head\n",
        "      while node != None:\n",
        "        i += 1\n",
        "        node = node.next\n",
        "      end = i+1\n",
        "      node = head\n",
        "      prev = ret\n",
        "      while node != None:\n",
        "        end -= 1\n",
        "        if end == n:\n",
        "          prev.next = node.next\n",
        "          break\n",
        "        prev = node\n",
        "        node = node.next\n",
        "\n",
        "      return ret.next\n",
        "\n",
        "head = [1,2]\n",
        "n = 1\n",
        "printList(Solution().removeNthFromEnd(makeList(head),n))"
      ],
      "metadata": {
        "colab": {
          "base_uri": "https://localhost:8080/"
        },
        "id": "sL7vKlA175MC",
        "outputId": "7915d757-9b44-4d18-bfc8-4a79de3cdbce"
      },
      "execution_count": null,
      "outputs": [
        {
          "output_type": "stream",
          "name": "stdout",
          "text": [
            "[1]\n"
          ]
        }
      ]
    },
    {
      "cell_type": "code",
      "source": [
        "# Definition for singly-linked list.\n",
        "# class ListNode:\n",
        "#     def __init__(self, val=0, next=None):\n",
        "#         self.val = val\n",
        "#         self.next = next\n",
        "class Solution:\n",
        "    def deleteDuplicates(self, head: Optional[ListNode]) -> Optional[ListNode]:\n",
        "      ret = ListNode(0, next=head)\n",
        "      node = head\n",
        "      prev = ret\n",
        "      while node != None:\n",
        "        # print(node.val)\n",
        "        if node.next and node.val == node.next.val:\n",
        "          # print(\"new dup block\")\n",
        "          while node.next and node.val == node.next.val:\n",
        "            # print(\"removing\",node.val)\n",
        "            tmp = node\n",
        "            node.next = node.next.next\n",
        "          prev.next = node.next\n",
        "          node = prev\n",
        "\n",
        "        prev = node\n",
        "        node = node.next\n",
        "\n",
        "      return ret.next\n",
        "\n",
        "head = [1,1,1,2,3]\n",
        "printList(Solution().deleteDuplicates(makeList(head)))"
      ],
      "metadata": {
        "colab": {
          "base_uri": "https://localhost:8080/"
        },
        "id": "IKb7Zck7-z7H",
        "outputId": "8acc37ae-78f5-440d-fc7a-393fe8cfc834"
      },
      "execution_count": null,
      "outputs": [
        {
          "output_type": "stream",
          "name": "stdout",
          "text": [
            "[2, 3]\n"
          ]
        }
      ]
    },
    {
      "cell_type": "code",
      "source": [
        "# Definition for singly-linked list.\n",
        "# class ListNode:\n",
        "#     def __init__(self, val=0, next=None):\n",
        "#         self.val = val\n",
        "#         self.next = next\n",
        "class Solution:\n",
        "    def rotateRight(self, head: Optional[ListNode], k: int) -> Optional[ListNode]:\n",
        "      ret = ListNode(0, next=head)\n",
        "\n",
        "      i = 0\n",
        "      prev = ret\n",
        "      node = head\n",
        "      while node != None:\n",
        "        i += 1\n",
        "        prev = node\n",
        "        node = node.next\n",
        "      end = i+1\n",
        "      tail = prev\n",
        "      length = end-1\n",
        "\n",
        "      prev = ret\n",
        "      node = head\n",
        "      while node != None:\n",
        "        end -= 1\n",
        "        if end == k%length:\n",
        "          # print(node.val)\n",
        "          tail.next = ret.next\n",
        "          ret.next = node\n",
        "          prev.next = None\n",
        "          break\n",
        "        prev = node\n",
        "        node = node.next\n",
        "\n",
        "      return ret.next\n",
        "\n",
        "head = [0,1,2]\n",
        "k = 4\n",
        "printList(Solution().rotateRight(makeList(head),k))"
      ],
      "metadata": {
        "colab": {
          "base_uri": "https://localhost:8080/"
        },
        "id": "ejYnSaQcOR_W",
        "outputId": "d1acc0d3-8c7b-4c23-e9a7-f81b166a6367"
      },
      "execution_count": null,
      "outputs": [
        {
          "output_type": "stream",
          "name": "stdout",
          "text": [
            "[2, 0, 1]\n"
          ]
        }
      ]
    },
    {
      "cell_type": "code",
      "source": [
        "# Definition for singly-linked list.\n",
        "# class ListNode:\n",
        "#     def __init__(self, val=0, next=None):\n",
        "#         self.val = val\n",
        "#         self.next = next\n",
        "class Solution:\n",
        "    def partition(self, head: Optional[ListNode], x: int) -> Optional[ListNode]:\n",
        "      r1 = ListNode(0, next=None)\n",
        "      r2 = ListNode(0, next=None)\n",
        "      lt = r1\n",
        "      gt = r2\n",
        "      node = head\n",
        "      while node:\n",
        "        # printList(r1)\n",
        "        # printList(r2)\n",
        "        # print(\"--\")\n",
        "        next = node.next\n",
        "        if node.val < x:\n",
        "          tmp = lt.next\n",
        "          lt.next = node\n",
        "          node.next = tmp\n",
        "          lt = lt.next\n",
        "        else:\n",
        "          tmp = gt.next\n",
        "          gt.next = node\n",
        "          node.next = tmp\n",
        "          gt = gt.next\n",
        "        node = next\n",
        "\n",
        "      node = r1\n",
        "      while node.next:\n",
        "        node = node.next\n",
        "      node.next = r2.next\n",
        "\n",
        "      return r1.next\n",
        "\n",
        "head = [2,1]\n",
        "x = 2\n",
        "printList(Solution().partition(makeList(head),x))"
      ],
      "metadata": {
        "colab": {
          "base_uri": "https://localhost:8080/"
        },
        "id": "vgfJO7FdVT7V",
        "outputId": "b2707032-9fad-4d55-8755-cfa23df7a613"
      },
      "execution_count": null,
      "outputs": [
        {
          "output_type": "stream",
          "name": "stdout",
          "text": [
            "[1, 2]\n"
          ]
        }
      ]
    },
    {
      "cell_type": "code",
      "source": [
        "class BiListNode:\n",
        "    def __init__(self, key=0, val=0, prev=None, next=None):\n",
        "        self.key = key\n",
        "        self.val = val\n",
        "        self.prev = prev\n",
        "        self.next = next\n",
        "\n",
        "def printBiList(l):\n",
        "  prev = BiListNode(next=l)\n",
        "  res = []\n",
        "  while l:\n",
        "    res.append((l.key,l.val))\n",
        "    assert(not l.next or l.next.prev == l)\n",
        "    l = l.next\n",
        "  print(res)\n",
        "\n",
        "class LRUCache:\n",
        "\n",
        "    def __init__(self, capacity: int):\n",
        "      self.head = None\n",
        "      self.tail = None\n",
        "      self.d = {}\n",
        "      self.capacity = capacity\n",
        "      self.size = 0\n",
        "\n",
        "    def bump(self, key):\n",
        "      if self.head == self.tail: return\n",
        "      node = self.d[key]\n",
        "      if self.head == node: return\n",
        "      if self.tail == node and self.tail != self.head:\n",
        "        prev = self.tail.prev\n",
        "        self.tail = prev\n",
        "        if prev: self.tail.next = None\n",
        "      prevHead = self.head\n",
        "      self.head = node\n",
        "      nodeNext = node.next\n",
        "      nodePrev = node.prev\n",
        "      node.next = prevHead\n",
        "      node.prev = None\n",
        "      prevHead.prev = node\n",
        "      nodePrev.next = nodeNext\n",
        "      if nodeNext: nodeNext.prev = nodePrev\n",
        "\n",
        "    def get(self, key: int) -> int:\n",
        "      if not key in self.d:\n",
        "        return -1\n",
        "      self.bump(key)\n",
        "      return self.d[key].val\n",
        "\n",
        "    def put(self, key: int, value: int) -> None:\n",
        "      if key in self.d:\n",
        "        self.bump(key)\n",
        "        self.d[key].val = value\n",
        "        return\n",
        "      if self.head == None:\n",
        "        self.head = BiListNode(key, value, None, None)\n",
        "        self.tail = self.head\n",
        "      else:\n",
        "        tmp = self.head\n",
        "        self.head = BiListNode(key, value, prev=None, next=tmp)\n",
        "        tmp.prev = self.head\n",
        "      self.size += 1\n",
        "      if self.size > self.capacity:\n",
        "        del self.d[self.tail.key]\n",
        "        prev = self.tail.prev\n",
        "        prev.next = None\n",
        "        self.tail = self.tail.prev\n",
        "        self.tail.next = None\n",
        "        self.size -= 1\n",
        "\n",
        "      self.d[key] = self.head\n",
        "\n",
        "lRUCache = LRUCache(3)\n",
        "lRUCache.put(1,1)\n",
        "lRUCache.put(2,2)\n",
        "lRUCache.put(3,3)\n",
        "lRUCache.put(4,4)\n",
        "print(lRUCache.get(4))\n",
        "printBiList(lRUCache.head)\n",
        "print(lRUCache.get(3))\n",
        "printBiList(lRUCache.head)\n",
        "print(lRUCache.get(2))\n",
        "printBiList(lRUCache.head)\n",
        "print(lRUCache.get(1))\n",
        "printBiList(lRUCache.head)\n",
        "lRUCache.put(5,5)\n",
        "print(lRUCache.get(1))\n",
        "printBiList(lRUCache.head)\n",
        "print(lRUCache.get(2))\n",
        "printBiList(lRUCache.head)\n",
        "print(lRUCache.get(3))\n",
        "print(lRUCache.get(4))\n",
        "print(lRUCache.get(5))"
      ],
      "metadata": {
        "colab": {
          "base_uri": "https://localhost:8080/"
        },
        "id": "u2hVJ7VQcJC-",
        "outputId": "de2da9bf-cadb-41f2-c87e-e754e318a24e"
      },
      "execution_count": null,
      "outputs": [
        {
          "output_type": "stream",
          "name": "stdout",
          "text": [
            "4\n",
            "[(4, 4), (3, 3), (2, 2)]\n",
            "3\n",
            "[(3, 3), (4, 4), (2, 2)]\n",
            "2\n",
            "[(2, 2), (3, 3), (4, 4)]\n",
            "-1\n",
            "[(2, 2), (3, 3), (4, 4)]\n",
            "-1\n",
            "[(5, 5), (2, 2), (3, 3)]\n",
            "2\n",
            "[(2, 2), (5, 5), (3, 3)]\n",
            "3\n",
            "-1\n",
            "5\n"
          ]
        }
      ]
    },
    {
      "cell_type": "code",
      "source": [
        "from collections import deque\n",
        "\n",
        "class TreeNode:\n",
        "    def __init__(self, val=0, left=None, right=None):\n",
        "        self.val = val\n",
        "        self.left = left\n",
        "        self.right = right\n",
        "\n",
        "class Solution:\n",
        "    def maxDepth(self, root: Optional[TreeNode]) -> int:\n",
        "      if root == None: return 0\n",
        "      return 1+max(self.maxDepth(root.left), self.maxDepth(root.right))\n",
        "\n",
        "def list_to_tree(data):\n",
        "    if not data or data[0] is None:\n",
        "        return None  # Edge case: empty or null root\n",
        "    root = TreeNode(data[0])  # First element is the root\n",
        "    queue = deque([root])  # Queue for BFS\n",
        "    i = 1  # Index to track position in the list\n",
        "    while queue and i < len(data):\n",
        "        node = queue.popleft()  # Get the current node to attach children\n",
        "        # Assign left child if available\n",
        "        if i < len(data) and data[i] is not None:\n",
        "            node.left = TreeNode(data[i])\n",
        "            queue.append(node.left)\n",
        "        i += 1\n",
        "        # Assign right child if available\n",
        "        if i < len(data) and data[i] is not None:\n",
        "            node.right = TreeNode(data[i])\n",
        "            queue.append(node.right)\n",
        "        i += 1\n",
        "    return root  # Return the root of the constructed tree\n",
        "\n",
        "root = [1,None,2]\n",
        "Solution().maxDepth(list_to_tree(root))"
      ],
      "metadata": {
        "colab": {
          "base_uri": "https://localhost:8080/"
        },
        "id": "MXbPIoXrwNlv",
        "outputId": "8a7182bb-afcd-4ff5-f77b-5ab8790b735b"
      },
      "execution_count": null,
      "outputs": [
        {
          "output_type": "execute_result",
          "data": {
            "text/plain": [
              "2"
            ]
          },
          "metadata": {},
          "execution_count": 81
        }
      ]
    },
    {
      "cell_type": "code",
      "source": [
        "class Solution:\n",
        "    def isSameTree(self, p: Optional[TreeNode], q: Optional[TreeNode]) -> bool:\n",
        "      return tree_to_list(p) == tree_to_list(q)\n",
        "\n",
        "def tree_to_list(root):\n",
        "  res = []\n",
        "  q = deque([root])\n",
        "  while q:\n",
        "    node = q.popleft()\n",
        "    res.append(None if not node else node.val)\n",
        "    if node:\n",
        "      q.append(node.left)\n",
        "      q.append(node.right)\n",
        "  return res\n",
        "\n",
        "p = [1,2,1]\n",
        "q = [1,1,2]\n",
        "Solution().isSameTree(list_to_tree(p),list_to_tree(q))"
      ],
      "metadata": {
        "colab": {
          "base_uri": "https://localhost:8080/"
        },
        "id": "eik9zqhfdYZY",
        "outputId": "26297cd3-2fdb-4dc2-8acc-0612bf31fd6c"
      },
      "execution_count": null,
      "outputs": [
        {
          "output_type": "execute_result",
          "data": {
            "text/plain": [
              "False"
            ]
          },
          "metadata": {},
          "execution_count": 82
        }
      ]
    },
    {
      "cell_type": "code",
      "source": [
        "class Solution:\n",
        "    def invertTree(self, root: Optional[TreeNode]) -> Optional[TreeNode]:\n",
        "      if not root: return None\n",
        "      root.left,root.right = self.invertTree(root.right),self.invertTree(root.left)\n",
        "      return root\n",
        "\n",
        "root = []\n",
        "tree_to_list(Solution().invertTree(list_to_tree(root))    )"
      ],
      "metadata": {
        "colab": {
          "base_uri": "https://localhost:8080/"
        },
        "id": "mblx5rrigj0L",
        "outputId": "75c929f0-f261-4f45-d83c-84d23360d285"
      },
      "execution_count": null,
      "outputs": [
        {
          "output_type": "execute_result",
          "data": {
            "text/plain": [
              "[None]"
            ]
          },
          "metadata": {},
          "execution_count": 83
        }
      ]
    },
    {
      "cell_type": "code",
      "source": [
        "class Solution:\n",
        "    def invertTree(self, root: Optional[TreeNode]) -> Optional[TreeNode]:\n",
        "      if not root: return None\n",
        "      root.left,root.right = self.invertTree(root.right),self.invertTree(root.left)\n",
        "      return root\n",
        "\n",
        "    def isSymmetric(self, root: Optional[TreeNode]) -> bool:\n",
        "      if not root: return True\n",
        "      return tree_to_list(root.left) == tree_to_list(self.invertTree(root.right))\n",
        "\n",
        "root = [1,2,2,None,3,None,3]\n",
        "Solution().isSymmetric(list_to_tree(root))"
      ],
      "metadata": {
        "colab": {
          "base_uri": "https://localhost:8080/"
        },
        "id": "3rx1vduIhSxk",
        "outputId": "3e494e43-c7ca-4341-8737-81bff4786ad9"
      },
      "execution_count": null,
      "outputs": [
        {
          "output_type": "execute_result",
          "data": {
            "text/plain": [
              "False"
            ]
          },
          "metadata": {},
          "execution_count": 84
        }
      ]
    },
    {
      "cell_type": "code",
      "source": [
        "class Solution:\n",
        "    def buildTree(self, preorder: List[int], inorder: List[int]) -> Optional[TreeNode]:\n",
        "      # print(preorder, inorder)\n",
        "      if len(preorder) == 0 or len(inorder) == 0: return None\n",
        "      d = {}\n",
        "      for i in range(len(inorder)):\n",
        "        d[inorder[i]] = i\n",
        "      ret = TreeNode(val=preorder.pop(0))\n",
        "      ret.left = self.buildTree(preorder, inorder[:d[ret.val]])\n",
        "      ret.right = self.buildTree(preorder, inorder[d[ret.val]+1:])\n",
        "      # print(tree_to_list(ret))\n",
        "      return ret\n",
        "\n",
        "# preorder = [3,9,20,15,7]\n",
        "# inorder = [9,3,15,20,7]\n",
        "preorder = [3,1,2,4]\n",
        "inorder = [1,2,3,4]\n",
        "# preorder = [1,2]\n",
        "# inorder = [1,2]\n",
        "# preorder = [1,2,3]\n",
        "# inorder = [1,2,3]\n",
        "tree_to_list(Solution().buildTree(preorder, inorder))"
      ],
      "metadata": {
        "colab": {
          "base_uri": "https://localhost:8080/"
        },
        "id": "SGhCg7XD_eZT",
        "outputId": "08ac3772-65a7-43ca-9c85-6178652a4760"
      },
      "execution_count": null,
      "outputs": [
        {
          "output_type": "execute_result",
          "data": {
            "text/plain": [
              "[3, 1, 4, None, 2, None, None, None, None]"
            ]
          },
          "metadata": {},
          "execution_count": 85
        }
      ]
    },
    {
      "cell_type": "code",
      "source": [
        "class Solution:\n",
        "    def buildTree(self, inorder: List[int], postorder: List[int]) -> Optional[TreeNode]:\n",
        "      # print(inorder, postorder)\n",
        "      if len(postorder) == 0 or len(inorder) == 0: return None\n",
        "      ret = TreeNode(val=postorder.pop())\n",
        "      for i in range(len(inorder)):\n",
        "        if inorder[i] == ret.val:\n",
        "          pivot = i\n",
        "          break\n",
        "      ret.right = self.buildTree(inorder[pivot+1:], postorder)\n",
        "      ret.left = self.buildTree(inorder[:pivot], postorder)\n",
        "      return ret\n",
        "\n",
        "postorder = [9,15,7,20,3]\n",
        "inorder = [9,3,15,20,7]\n",
        "# preorder = [3,1,2,4]\n",
        "# inorder = [1,2,3,4]\n",
        "# preorder = [1,2]\n",
        "# inorder = [1,2]\n",
        "# preorder = [1,2,3]\n",
        "# inorder = [1,2,3]\n",
        "tree_to_list(Solution().buildTree(inorder, postorder))"
      ],
      "metadata": {
        "colab": {
          "base_uri": "https://localhost:8080/"
        },
        "id": "gMfOBurNpY1S",
        "outputId": "24e2c442-21ac-48d1-e7fa-b22e73ff8baa"
      },
      "execution_count": null,
      "outputs": [
        {
          "output_type": "execute_result",
          "data": {
            "text/plain": [
              "[3, 9, 20, None, None, 15, 7, None, None, None, None]"
            ]
          },
          "metadata": {},
          "execution_count": 86
        }
      ]
    },
    {
      "cell_type": "code",
      "source": [
        "class Node:\n",
        "    def __init__(self, val: int = 0, left: 'Node' = None, right: 'Node' = None, next: 'Node' = None):\n",
        "        self.val = val\n",
        "        self.left = left\n",
        "        self.right = right\n",
        "        self.next = next\n",
        "\n",
        "class Solution:\n",
        "    def connect(self, root: 'Node') -> 'Node':\n",
        "      if root == None: return root\n",
        "      q = [(root,0)]\n",
        "      prev = None\n",
        "      prevDepth = None\n",
        "      while len(q) > 0:\n",
        "        node,depth = q.pop(0)\n",
        "        if prev and prevDepth == depth:\n",
        "          prev.next = node\n",
        "        if node.left: q.append((node.left,depth+1))\n",
        "        if node.right: q.append((node.right,depth+1))\n",
        "        prev = node\n",
        "        prevDepth = depth\n",
        "      return root\n",
        "\n",
        "root = []\n",
        "tree_to_list(Solution().connect(list_to_tree(root)))"
      ],
      "metadata": {
        "colab": {
          "base_uri": "https://localhost:8080/"
        },
        "id": "4VEXLiZ2tjTD",
        "outputId": "d40b268b-5cf1-45e8-f694-790615ea71a4"
      },
      "execution_count": null,
      "outputs": [
        {
          "output_type": "execute_result",
          "data": {
            "text/plain": [
              "[None]"
            ]
          },
          "metadata": {},
          "execution_count": 87
        }
      ]
    },
    {
      "cell_type": "code",
      "source": [
        "class Solution:\n",
        "    def flatten(self, root: Optional[TreeNode]) -> None:\n",
        "      if root == None: return None\n",
        "      left = self.flatten(root.left)\n",
        "      right = self.flatten(root.right)\n",
        "      root.left = None\n",
        "      root.right = left\n",
        "      node = root\n",
        "      while node.right:\n",
        "        node = node.right\n",
        "      node.right = right\n",
        "      return root\n",
        "\n",
        "root = [1,2,5,3,4,None,6]\n",
        "tree_to_list(Solution().flatten(list_to_tree(root)))"
      ],
      "metadata": {
        "colab": {
          "base_uri": "https://localhost:8080/"
        },
        "id": "_18z-mXMW_Ot",
        "outputId": "08d5dccf-9887-46ea-faf1-8a3a15e90bc9"
      },
      "execution_count": null,
      "outputs": [
        {
          "output_type": "execute_result",
          "data": {
            "text/plain": [
              "[1, None, 2, None, 3, None, 4, None, 5, None, 6, None, None]"
            ]
          },
          "metadata": {},
          "execution_count": 88
        }
      ]
    },
    {
      "cell_type": "code",
      "source": [
        "# Definition for a binary tree node.\n",
        "# class TreeNode:\n",
        "#     def __init__(self, val=0, left=None, right=None):\n",
        "#         self.val = val\n",
        "#         self.left = left\n",
        "#         self.right = right\n",
        "class Solution:\n",
        "    def hasPathSum(self, root: Optional[TreeNode], targetSum: int) -> bool:\n",
        "      if root == None: return False\n",
        "      if root.left == None and root.right == None: return targetSum == root.val\n",
        "      return self.hasPathSum(root.left, targetSum-root.val) or self.hasPathSum(root.right, targetSum-root.val)\n",
        "\n",
        "# root = [5,4,8,11,None,13,4,7,2,None,None,None,1]\n",
        "root = [1,2,3]\n",
        "targetSum = 5\n",
        "Solution().hasPathSum(list_to_tree(root), targetSum)"
      ],
      "metadata": {
        "colab": {
          "base_uri": "https://localhost:8080/"
        },
        "id": "5PgoHqgofvJ7",
        "outputId": "252823da-b082-402c-b428-9cc1be3acbd4"
      },
      "execution_count": null,
      "outputs": [
        {
          "output_type": "execute_result",
          "data": {
            "text/plain": [
              "False"
            ]
          },
          "metadata": {},
          "execution_count": 89
        }
      ]
    },
    {
      "cell_type": "code",
      "source": [
        "# Definition for a binary tree node.\n",
        "# class TreeNode:\n",
        "#     def __init__(self, val=0, left=None, right=None):\n",
        "#         self.val = val\n",
        "#         self.left = left\n",
        "#         self.right = right\n",
        "class Solution:\n",
        "    def sumNumbers(self, root: Optional[TreeNode], prefix=None) -> int:\n",
        "      if root == None: return 0\n",
        "      if prefix == None: prefix = \"\"\n",
        "      if root.left == None and root.right == None: return int(prefix+str(root.val))\n",
        "      return self.sumNumbers(root.left,prefix+str(root.val)) + self.sumNumbers(root.right,prefix+str(root.val))\n",
        "\n",
        "root = [0,1]\n",
        "Solution().sumNumbers(list_to_tree(root))"
      ],
      "metadata": {
        "colab": {
          "base_uri": "https://localhost:8080/"
        },
        "id": "IM-s6jEmhtDT",
        "outputId": "d0d35b88-4a24-4847-bd5d-209b1413322e"
      },
      "execution_count": null,
      "outputs": [
        {
          "output_type": "execute_result",
          "data": {
            "text/plain": [
              "1"
            ]
          },
          "metadata": {},
          "execution_count": 90
        }
      ]
    },
    {
      "cell_type": "code",
      "source": [
        "class Solution:\n",
        "    def maxPathSum(self, root: Optional[TreeNode]) -> int:\n",
        "      def recurse(root):\n",
        "        if root == None: return -10**10, -10**10\n",
        "        l_closed, l_partial = recurse(root.left)\n",
        "        r_closed, r_partial = recurse(root.right)\n",
        "        ret = root.val\n",
        "        partial = max(l_partial+root.val, r_partial+root.val, root.val)\n",
        "        closed = max(partial, l_closed, r_closed, root.val, l_partial+root.val+r_partial)\n",
        "        # print(root.val, root.left.val if root.left else None, root.right.val if root.right else None, closed,partial)\n",
        "        return closed,partial\n",
        "      return max(recurse(root))\n",
        "\n",
        "# root = [1,2,3] #6\n",
        "# root = [-10,9,20,None,None,15,7] #42\n",
        "# root = [-3]\n",
        "# root = [5,4,8,11,None,13,4,7,2,None,None,None,1] # 48\n",
        "# root = [1,-2,-3,1,3,-2,None,-1] # 3\n",
        "root = [-6,None,3,2] # 5\n",
        "Solution().maxPathSum(list_to_tree(root))"
      ],
      "metadata": {
        "colab": {
          "base_uri": "https://localhost:8080/"
        },
        "id": "ZIHPN97KlrS_",
        "outputId": "e90234db-e118-4b54-9164-a5d990fb3400"
      },
      "execution_count": null,
      "outputs": [
        {
          "output_type": "execute_result",
          "data": {
            "text/plain": [
              "5"
            ]
          },
          "metadata": {},
          "execution_count": 91
        }
      ]
    },
    {
      "cell_type": "code",
      "source": [
        "class BSTIterator:\n",
        "    def adv_step(self):\n",
        "      if self.node == None: return 4\n",
        "      self.step += 1\n",
        "      if self.step == 1 and (not self.node.left or not self.l_iter.hasNext()):\n",
        "        self.step = 2\n",
        "      elif self.step == 3 and (not self.node.right or not self.r_iter.hasNext()):\n",
        "        self.step = 4\n",
        "\n",
        "    def __init__(self, root: Optional[TreeNode]):\n",
        "        self.step = 0\n",
        "        self.node = root\n",
        "        self.l_iter = BSTIterator(root.left) if self.node else None\n",
        "        self.r_iter = BSTIterator(root.right) if self.node else None\n",
        "        self.adv_step()\n",
        "\n",
        "    def next(self) -> int:\n",
        "      ret = None\n",
        "      if self.step == 2:\n",
        "        ret = self.node.val\n",
        "        self.adv_step()\n",
        "      elif self.step == 1:\n",
        "        ret = self.l_iter.next()\n",
        "        if not self.l_iter.hasNext(): self.adv_step()\n",
        "      elif self.step == 3:\n",
        "        ret = self.r_iter.next()\n",
        "        if not self.r_iter.hasNext(): self.adv_step()\n",
        "      return ret\n",
        "\n",
        "    def hasNext(self) -> bool:\n",
        "      ret = self.step != 4\n",
        "      return ret\n",
        "\n",
        "bSTIterator = BSTIterator(list_to_tree([7, 3, 15, None, None, 9, 20]))\n",
        "print(bSTIterator.next())\n",
        "print(bSTIterator.next())\n",
        "print(bSTIterator.hasNext())\n",
        "print(bSTIterator.next())\n",
        "print(bSTIterator.hasNext())\n",
        "print(bSTIterator.next())\n",
        "print(bSTIterator.hasNext())\n",
        "print(bSTIterator.next())\n",
        "print(bSTIterator.hasNext())"
      ],
      "metadata": {
        "colab": {
          "base_uri": "https://localhost:8080/"
        },
        "id": "KJrRpr0Nwfct",
        "outputId": "893804c2-b71e-4322-ecce-f93c095b43a2"
      },
      "execution_count": null,
      "outputs": [
        {
          "output_type": "stream",
          "name": "stdout",
          "text": [
            "3\n",
            "7\n",
            "True\n",
            "9\n",
            "True\n",
            "15\n",
            "True\n",
            "20\n",
            "False\n"
          ]
        }
      ]
    },
    {
      "cell_type": "code",
      "source": [
        "class Solution:\n",
        "    def countNodes(self, root: Optional[TreeNode]) -> int:\n",
        "      if root == None: return 0\n",
        "      return self.countNodes(root.left)+1+self.countNodes(root.right)\n",
        "\n",
        "# root = [1,2,3,4,5,6]\n",
        "root = [1]\n",
        "Solution().countNodes(list_to_tree(root))"
      ],
      "metadata": {
        "colab": {
          "base_uri": "https://localhost:8080/"
        },
        "id": "ljxNWT-I4pkZ",
        "outputId": "5dd3d22b-6298-4dbe-c895-19375f9557c3"
      },
      "execution_count": null,
      "outputs": [
        {
          "output_type": "execute_result",
          "data": {
            "text/plain": [
              "1"
            ]
          },
          "metadata": {},
          "execution_count": 93
        }
      ]
    },
    {
      "cell_type": "code",
      "source": [
        "class Solution:\n",
        "    def lowestCommonAncestor(self, root: 'TreeNode', p: 'TreeNode', q: 'TreeNode') -> 'TreeNode':\n",
        "      parents = {}\n",
        "      queue = [root]\n",
        "      while len(queue):\n",
        "        node = queue.pop(0)\n",
        "        if node.left:\n",
        "          parents[node.left] = node\n",
        "          queue.append(node.left)\n",
        "        if node.right:\n",
        "          parents[node.right] = node\n",
        "          queue.append(node.right)\n",
        "      p_l = []\n",
        "      while p:\n",
        "        p_l.insert(0,p.val)\n",
        "        p = parents[p] if p in parents else None\n",
        "      q_l = []\n",
        "      while q:\n",
        "        q_l.insert(0,q.val)\n",
        "        q = parents[q] if q in parents else None\n",
        "      found = 0\n",
        "      for n1,n2 in zip(p_l,q_l):\n",
        "        if n1 != n2: break\n",
        "        found += 1\n",
        "      return(find_node(root,p_l[found-1]))\n",
        "\n",
        "def find_node(root, n):\n",
        "      queue = [root]\n",
        "      while len(queue):\n",
        "        node = queue.pop(0)\n",
        "        if node.val == n: return node\n",
        "        if node.left:\n",
        "          queue.append(node.left)\n",
        "        if node.right:\n",
        "          queue.append(node.right)\n",
        "\n",
        "root = [3,5,1,6,2,0,8,None,None,7,4]\n",
        "p = 5\n",
        "q = 1\n",
        "tree = list_to_tree(root)\n",
        "Solution().lowestCommonAncestor(tree, find_node(tree,p), find_node(tree,q))"
      ],
      "metadata": {
        "colab": {
          "base_uri": "https://localhost:8080/"
        },
        "id": "0Xow8kp95wmY",
        "outputId": "63646c06-41b3-4cd7-e25c-743a5706a42a"
      },
      "execution_count": null,
      "outputs": [
        {
          "output_type": "execute_result",
          "data": {
            "text/plain": [
              "<__main__.TreeNode at 0x7f5a71241650>"
            ]
          },
          "metadata": {},
          "execution_count": 94
        }
      ]
    },
    {
      "cell_type": "code",
      "source": [
        "# Definition for a binary tree node.\n",
        "# class TreeNode:\n",
        "#     def __init__(self, val=0, left=None, right=None):\n",
        "#         self.val = val\n",
        "#         self.left = left\n",
        "#         self.right = right\n",
        "class Solution:\n",
        "    def rightSideView(self, root: Optional[TreeNode]) -> List[int]:\n",
        "      ret = []\n",
        "      q = [(root,0)]\n",
        "      prevDepth = 0\n",
        "      prevN = None\n",
        "      while len(q):\n",
        "        node,depth = q.pop(0)\n",
        "        if node == None: continue\n",
        "        if depth != prevDepth:\n",
        "          ret.append(prevN)\n",
        "        prevDepth = depth\n",
        "        prevN = node.val\n",
        "        q.append((node.left, depth+1))\n",
        "        q.append((node.right, depth+1))\n",
        "      if prevN != None: ret.append(prevN)\n",
        "      return ret\n",
        "\n",
        "# root = [1,2,3,4,None,None,None,5]\n",
        "# root = [1,None,3]\n",
        "root = []\n",
        "Solution().rightSideView(list_to_tree(root))"
      ],
      "metadata": {
        "colab": {
          "base_uri": "https://localhost:8080/"
        },
        "id": "sR299z2C3yv3",
        "outputId": "6ea26ab8-3daf-443a-f8b6-c3c2e33dfce7"
      },
      "execution_count": null,
      "outputs": [
        {
          "output_type": "execute_result",
          "data": {
            "text/plain": [
              "[]"
            ]
          },
          "metadata": {},
          "execution_count": 95
        }
      ]
    },
    {
      "cell_type": "code",
      "source": [
        "# Definition for a binary tree node.\n",
        "# class TreeNode:\n",
        "#     def __init__(self, val=0, left=None, right=None):\n",
        "#         self.val = val\n",
        "#         self.left = left\n",
        "#         self.right = right\n",
        "class Solution:\n",
        "    def averageOfLevels(self, root: Optional[TreeNode]) -> List[float]:\n",
        "      ret = []\n",
        "      q = [(root,0)]\n",
        "      prevDepth = 0\n",
        "      prevSum = 0\n",
        "      prevCount = 0\n",
        "      while len(q):\n",
        "        node,depth = q.pop(0)\n",
        "        if node == None: continue\n",
        "        if depth != prevDepth:\n",
        "          ret.append(prevSum/prevCount)\n",
        "          prevSum = 0\n",
        "          prevCount = 0\n",
        "        prevDepth = depth\n",
        "        prevSum += node.val\n",
        "        prevCount += 1\n",
        "        q.append((node.left, depth+1))\n",
        "        q.append((node.right, depth+1))\n",
        "      if prevCount > 0: ret.append(prevSum/prevCount)\n",
        "      return ret\n",
        "\n",
        "# root = [3,9,20,None,None,15,7]\n",
        "root = [3,9,20,15,7]\n",
        "Solution().averageOfLevels(list_to_tree(root))"
      ],
      "metadata": {
        "colab": {
          "base_uri": "https://localhost:8080/"
        },
        "id": "vTXhcZle5bXM",
        "outputId": "f60b9c9f-7d5c-40d7-a310-ae993b11b842"
      },
      "execution_count": null,
      "outputs": [
        {
          "output_type": "execute_result",
          "data": {
            "text/plain": [
              "[3.0, 14.5, 11.0]"
            ]
          },
          "metadata": {},
          "execution_count": 96
        }
      ]
    },
    {
      "cell_type": "code",
      "source": [
        "# Definition for a binary tree node.\n",
        "# class TreeNode:\n",
        "#     def __init__(self, val=0, left=None, right=None):\n",
        "#         self.val = val\n",
        "#         self.left = left\n",
        "#         self.right = right\n",
        "class Solution:\n",
        "    def levelOrder(self, root: Optional[TreeNode]) -> List[List[int]]:\n",
        "      ret = []\n",
        "      q = [(root,0)]\n",
        "      prevDepth = 0\n",
        "      prevList = []\n",
        "      while len(q):\n",
        "        node,depth = q.pop(0)\n",
        "        if node == None: continue\n",
        "        if depth != prevDepth:\n",
        "          ret.append(prevList)\n",
        "          prevList = []\n",
        "        prevDepth = depth\n",
        "        prevList.append(node.val)\n",
        "        q.append((node.left, depth+1))\n",
        "        q.append((node.right, depth+1))\n",
        "      if len(prevList) > 0: ret.append(prevList)\n",
        "      return ret\n",
        "\n",
        "# root = [3,9,20,None,None,15,7]\n",
        "# root = [1]\n",
        "root = []\n",
        "Solution().levelOrder(list_to_tree(root))"
      ],
      "metadata": {
        "colab": {
          "base_uri": "https://localhost:8080/"
        },
        "id": "N4_1O7Vl6i8u",
        "outputId": "473d7696-fb4e-442e-cb78-70be8b46663e"
      },
      "execution_count": null,
      "outputs": [
        {
          "output_type": "execute_result",
          "data": {
            "text/plain": [
              "[]"
            ]
          },
          "metadata": {},
          "execution_count": 97
        }
      ]
    },
    {
      "cell_type": "code",
      "source": [
        "# Definition for a binary tree node.\n",
        "# class TreeNode:\n",
        "#     def __init__(self, val=0, left=None, right=None):\n",
        "#         self.val = val\n",
        "#         self.left = left\n",
        "#         self.right = right\n",
        "class Solution:\n",
        "    def zigzagLevelOrder(self, root: Optional[TreeNode]) -> List[List[int]]:\n",
        "      ret = []\n",
        "      q = [(root,0)]\n",
        "      prevDepth = 0\n",
        "      prevList = []\n",
        "      prevForward = True\n",
        "      while len(q):\n",
        "        node,depth = q.pop(0)\n",
        "        if node == None: continue\n",
        "        if depth != prevDepth:\n",
        "          if not prevForward:\n",
        "            prevList = prevList[::-1]\n",
        "          prevForward = not prevForward\n",
        "          ret.append(prevList)\n",
        "          prevList = []\n",
        "        prevDepth = depth\n",
        "        prevList.append(node.val)\n",
        "        q.append((node.left, depth+1))\n",
        "        q.append((node.right, depth+1))\n",
        "      if len(prevList) > 0:\n",
        "        if not prevForward:\n",
        "          prevList = prevList[::-1]\n",
        "        ret.append(prevList)\n",
        "      return ret\n",
        "\n",
        "root = [3,9,20,None,None,15,7]\n",
        "# root = [1]\n",
        "# root = []\n",
        "Solution().zigzagLevelOrder(list_to_tree(root))"
      ],
      "metadata": {
        "colab": {
          "base_uri": "https://localhost:8080/"
        },
        "id": "j_SeO3Ek7Qt4",
        "outputId": "c92ba4d9-aaa1-4b6b-cb6d-3257b212a5f0"
      },
      "execution_count": null,
      "outputs": [
        {
          "output_type": "execute_result",
          "data": {
            "text/plain": [
              "[[3], [20, 9], [15, 7]]"
            ]
          },
          "metadata": {},
          "execution_count": 98
        }
      ]
    },
    {
      "cell_type": "code",
      "source": [
        "# Definition for a binary tree node.\n",
        "# class TreeNode:\n",
        "#     def __init__(self, val=0, left=None, right=None):\n",
        "#         self.val = val\n",
        "#         self.left = left\n",
        "#         self.right = right\n",
        "class Solution:\n",
        "    def getMinimumDifference(self, root: Optional[TreeNode]) -> int:\n",
        "      l = []\n",
        "      def traverse(node, l):\n",
        "        if node == None: return\n",
        "        traverse(node.left, l)\n",
        "        l.append(node.val)\n",
        "        traverse(node.right, l)\n",
        "      traverse(root, l)\n",
        "      return min(abs(a-b) for a,b, in zip(l,l[1:]))\n",
        "\n",
        "# root = [4,2,6,1,3]\n",
        "# root = [1,0,48,None,None,12,49]\n",
        "root = [236,104,701,None,227,None,911]\n",
        "Solution().getMinimumDifference(list_to_tree(root))"
      ],
      "metadata": {
        "colab": {
          "base_uri": "https://localhost:8080/"
        },
        "id": "Kr-wyeiH_ayU",
        "outputId": "9d5221d4-c1f9-4a13-9ca2-1a4c6cb6bee4"
      },
      "execution_count": null,
      "outputs": [
        {
          "output_type": "execute_result",
          "data": {
            "text/plain": [
              "9"
            ]
          },
          "metadata": {},
          "execution_count": 99
        }
      ]
    },
    {
      "cell_type": "code",
      "source": [
        "# Definition for a binary tree node.\n",
        "# class TreeNode:\n",
        "#     def __init__(self, val=0, left=None, right=None):\n",
        "#         self.val = val\n",
        "#         self.left = left\n",
        "#         self.right = right\n",
        "class Solution:\n",
        "    def kthSmallest(self, root: Optional[TreeNode], k: int) -> int:\n",
        "      l = []\n",
        "      def traverse(node, l):\n",
        "        if node == None: return\n",
        "        traverse(node.left, l)\n",
        "        l.append(node.val)\n",
        "        traverse(node.right, l)\n",
        "      traverse(root, l)\n",
        "      # print(l)\n",
        "      return l[k-1]\n",
        "\n",
        "# root = [3,1,4,None,2]\n",
        "root = [5,3,6,2,4,None,None,1]\n",
        "k = 3\n",
        "Solution().kthSmallest(list_to_tree(root),k)"
      ],
      "metadata": {
        "colab": {
          "base_uri": "https://localhost:8080/"
        },
        "id": "02QCJnkZCVYX",
        "outputId": "bea9e58f-1ae7-4f39-b89e-9a09f3f45358"
      },
      "execution_count": null,
      "outputs": [
        {
          "output_type": "execute_result",
          "data": {
            "text/plain": [
              "3"
            ]
          },
          "metadata": {},
          "execution_count": 100
        }
      ]
    },
    {
      "cell_type": "code",
      "source": [
        "# Definition for a binary tree node.\n",
        "# class TreeNode:\n",
        "#     def __init__(self, val=0, left=None, right=None):\n",
        "#         self.val = val\n",
        "#         self.left = left\n",
        "#         self.right = right\n",
        "class Solution:\n",
        "    def isValidBST(self, root: Optional[TreeNode]) -> bool:\n",
        "      l = []\n",
        "      def traverse(node, l):\n",
        "        if node == None: return\n",
        "        traverse(node.left, l)\n",
        "        l.append(node.val)\n",
        "        traverse(node.right, l)\n",
        "      traverse(root, l)\n",
        "      return all(a<b for a,b, in zip(l,l[1:]))\n",
        "\n",
        "root = [2,1,3]\n",
        "root = [5,1,4,None,None,3,6]\n",
        "Solution().isValidBST(list_to_tree(root))"
      ],
      "metadata": {
        "colab": {
          "base_uri": "https://localhost:8080/"
        },
        "id": "FCoZDEhqC97H",
        "outputId": "d9971da7-59bd-4fd4-becf-a3b137d04ddd"
      },
      "execution_count": null,
      "outputs": [
        {
          "output_type": "execute_result",
          "data": {
            "text/plain": [
              "False"
            ]
          },
          "metadata": {},
          "execution_count": 101
        }
      ]
    },
    {
      "cell_type": "code",
      "source": [
        "class Solution:\n",
        "    def numIslands(self, grid: List[List[str]]) -> int:\n",
        "      res = 0\n",
        "      visited = set()\n",
        "      def bfs(r,c):\n",
        "        q = [(r,c)]\n",
        "        while len(q):\n",
        "          row,col = q.pop(0)\n",
        "          # print(row,col,grid[row][col])\n",
        "          if grid[row][col] == \"0\": continue\n",
        "          if (row,col) in visited: continue\n",
        "          visited.add((row,col))\n",
        "          if row<len(grid)-1: q.append((row+1,col))\n",
        "          if row>0: q.append((row-1,col))\n",
        "          if col<len(grid[0])-1: q.append((row,col+1))\n",
        "          if col>0: q.append((row,col-1))\n",
        "      for r in range(len(grid)):\n",
        "        for c in range(len(grid[0])):\n",
        "          if grid[r][c] == \"1\" and (r,c) not in visited:\n",
        "            res += 1\n",
        "            bfs(r,c)\n",
        "      return res\n",
        "\n",
        "grid = [\n",
        "  [\"1\",\"1\",\"0\",\"0\",\"0\"],\n",
        "  [\"1\",\"1\",\"0\",\"0\",\"0\"],\n",
        "  [\"0\",\"0\",\"1\",\"0\",\"0\"],\n",
        "  [\"0\",\"0\",\"0\",\"1\",\"1\"]\n",
        "]\n",
        "Solution().numIslands(grid)"
      ],
      "metadata": {
        "colab": {
          "base_uri": "https://localhost:8080/"
        },
        "id": "1yqqB6YhqRBF",
        "outputId": "e4495e5b-448a-4a25-9466-c64c8330a544"
      },
      "execution_count": null,
      "outputs": [
        {
          "output_type": "execute_result",
          "data": {
            "text/plain": [
              "3"
            ]
          },
          "metadata": {},
          "execution_count": 102
        }
      ]
    },
    {
      "cell_type": "code",
      "source": [
        "class Solution:\n",
        "    def solve(self, board: List[List[str]]) -> None:\n",
        "      visited = set()\n",
        "      def bfs(r,c):\n",
        "        q = [(r,c)]\n",
        "        surrounded = True\n",
        "        res = set()\n",
        "        while len(q):\n",
        "          row,col = q.pop(0)\n",
        "          if board[row][col] == \"X\": continue\n",
        "          if (row,col) in visited: continue\n",
        "          if row == 0 or row == len(board)-1 or col == 0 or col == len(board[0])-1: surrounded = False\n",
        "          visited.add((row,col))\n",
        "          res.add((row,col))\n",
        "          if row<len(board)-1: q.append((row+1,col))\n",
        "          if row>0: q.append((row-1,col))\n",
        "          if col<len(board[0])-1: q.append((row,col+1))\n",
        "          if col>0: q.append((row,col-1))\n",
        "        return res,surrounded\n",
        "      for r in range(len(board)):\n",
        "        for c in range(len(board[0])):\n",
        "          if board[r][c] == \"O\" and (r,c) not in visited:\n",
        "            pts,surrounded = bfs(r,c)\n",
        "            # print(len(pts),surrounded)\n",
        "            if surrounded:\n",
        "              for (row,col) in pts:\n",
        "                board[row][col] = \"X\"\n",
        "\n",
        "board = [[\"X\",\"X\",\"X\",\"X\"],[\"X\",\"O\",\"O\",\"X\"],[\"X\",\"X\",\"O\",\"X\"],[\"X\",\"O\",\"X\",\"X\"]]\n",
        "Solution().solve(board)\n",
        "print(board)"
      ],
      "metadata": {
        "colab": {
          "base_uri": "https://localhost:8080/"
        },
        "id": "3xBnIfVBwCbi",
        "outputId": "b7d9c1f5-2f21-4571-9ae7-9c489dcafa8c"
      },
      "execution_count": null,
      "outputs": [
        {
          "output_type": "stream",
          "name": "stdout",
          "text": [
            "[['X', 'X', 'X', 'X'], ['X', 'X', 'X', 'X'], ['X', 'X', 'X', 'X'], ['X', 'O', 'X', 'X']]\n"
          ]
        }
      ]
    },
    {
      "cell_type": "code",
      "source": [
        "\"\"\"\n",
        "# Definition for a Node.\n",
        "class Node:\n",
        "    def __init__(self, val = 0, neighbors = None):\n",
        "        self.val = val\n",
        "        self.neighbors = neighbors if neighbors is not None else []\n",
        "\"\"\"\n",
        "\n",
        "from typing import Optional\n",
        "class Solution:\n",
        "    def cloneGraph(self, node: Optional['Node'], seen={}) -> Optional['Node']:\n",
        "      if node == None: return None\n",
        "      if node in seen:\n",
        "        return seen[node]\n",
        "      ret = Node(val=node.val)\n",
        "      seen[node] = ret\n",
        "      ret.neighbors = [self.cloneGraph(x, seen) for x in node.neighbors]\n",
        "      return ret"
      ],
      "metadata": {
        "id": "6hZme5je_sUF"
      },
      "execution_count": null,
      "outputs": []
    },
    {
      "cell_type": "code",
      "source": [
        "class Solution:\n",
        "    def calcEquation(self, equations: List[List[str]], values: List[float], queries: List[List[str]]) -> List[float]:\n",
        "      ret = []\n",
        "      for top,bot in queries:\n",
        "        # print(top,bot)\n",
        "        seen = set()\n",
        "        q = []\n",
        "        for i in range(len(values)):\n",
        "          top2,bot2 = equations[i]\n",
        "          if top2 == top:\n",
        "            seen.add(bot2)\n",
        "            q.append((bot2,values[i]))\n",
        "          elif bot2 == top:\n",
        "            seen.add(top2)\n",
        "            q.append((top2,1/values[i]))\n",
        "        found = False\n",
        "        while len(q):\n",
        "          # print(q)\n",
        "          bot2,val = q.pop(0)\n",
        "          seen.add(bot2)\n",
        "          if bot2 == bot:\n",
        "            ret.append(val)\n",
        "            found = True\n",
        "            break\n",
        "          for i in range(len(values)):\n",
        "            top3,bot3 = equations[i]\n",
        "            if bot2 == top3:\n",
        "              if bot3 not in seen:\n",
        "                q.append((bot3,val*values[i]))\n",
        "            elif bot2 == bot3:\n",
        "              if top3 not in seen:\n",
        "                q.append((top3,val/values[i]))\n",
        "        if not found: ret.append(-1.0)\n",
        "      return ret\n",
        "\n",
        "# equations = [[\"a\",\"b\"],[\"b\",\"c\"]]\n",
        "# values = [2.0,3.0]\n",
        "# queries = [[\"a\",\"c\"],[\"b\",\"a\"],[\"a\",\"e\"],[\"a\",\"a\"],[\"x\",\"x\"]]\n",
        "# equations = [[\"a\",\"b\"],[\"b\",\"c\"],[\"bc\",\"cd\"]]\n",
        "# values = [1.5,2.5,5.0]\n",
        "# queries = [[\"a\",\"c\"],[\"c\",\"b\"],[\"bc\",\"cd\"],[\"cd\",\"bc\"]]\n",
        "equations = [[\"a\",\"b\"]]\n",
        "values = [0.5]\n",
        "queries = [[\"a\",\"b\"],[\"b\",\"a\"],[\"a\",\"c\"],[\"x\",\"y\"]]\n",
        "Solution().calcEquation(equations, values, queries)"
      ],
      "metadata": {
        "colab": {
          "base_uri": "https://localhost:8080/"
        },
        "id": "XHUt7noPB_OX",
        "outputId": "79d00793-d645-43c9-b58b-389810ee3815"
      },
      "execution_count": null,
      "outputs": [
        {
          "output_type": "execute_result",
          "data": {
            "text/plain": [
              "[0.5, 2.0, -1.0, -1.0]"
            ]
          },
          "metadata": {},
          "execution_count": 105
        }
      ]
    },
    {
      "cell_type": "code",
      "source": [
        "class Solution:\n",
        "    def canFinish(self, numCourses: int, prerequisites: List[List[int]]) -> bool:\n",
        "      reachable = set(range(numCourses))\n",
        "      deps = {}\n",
        "      for a,b in prerequisites:\n",
        "        if a in reachable: reachable.remove(a)\n",
        "        deps[a] = deps.get(a, []) + [b]\n",
        "      def dfs(n, deps, reachable, seen=set()):\n",
        "        if n in seen: return False\n",
        "        if n in reachable: return True\n",
        "        for dep in deps[n]:\n",
        "          if not dfs(dep, deps, reachable, seen|{n}): return False\n",
        "        else:\n",
        "          reachable.add(n)\n",
        "        return True\n",
        "      for a,b in prerequisites:\n",
        "        # print(a,b)\n",
        "        ret = dfs(a, deps, reachable)\n",
        "        if not ret: return False\n",
        "      # print(deps, reachable)\n",
        "      return len(reachable) == numCourses\n",
        "\n",
        "numCourses = 2\n",
        "# prerequisites = [[1,0]]\n",
        "prerequisites = [[1,0],[0,1]]\n",
        "# prerequisites = [[1,4],[2,4],[3,1],[3,2]]\n",
        "Solution().canFinish(numCourses, prerequisites)"
      ],
      "metadata": {
        "colab": {
          "base_uri": "https://localhost:8080/"
        },
        "id": "Rxe1RDKGshMA",
        "outputId": "f1b7b854-3fc4-4540-b301-2a01b68cfc79"
      },
      "execution_count": null,
      "outputs": [
        {
          "output_type": "execute_result",
          "data": {
            "text/plain": [
              "False"
            ]
          },
          "metadata": {},
          "execution_count": 106
        }
      ]
    },
    {
      "cell_type": "code",
      "source": [
        "class Solution:\n",
        "    def findOrder(self, numCourses: int, prerequisites: List[List[int]]) -> bool:\n",
        "      reachable = set(range(numCourses))\n",
        "      deps = {}\n",
        "      ret = []\n",
        "      for a,b in prerequisites:\n",
        "        if a in reachable: reachable.remove(a)\n",
        "        deps[a] = deps.get(a, []) + [b]\n",
        "      for n in reachable:\n",
        "        ret.append(n)\n",
        "      def dfs(n, deps, reachable, order, seen=set()):\n",
        "        if n in seen: return False\n",
        "        if n in reachable: return True\n",
        "        for dep in deps[n]:\n",
        "          if not dfs(dep, deps, reachable, order, seen|{n}): return False\n",
        "        else:\n",
        "          reachable.add(n)\n",
        "          order.append(n)\n",
        "        return True\n",
        "      for a,b in prerequisites:\n",
        "        # print(a,b)\n",
        "        result = dfs(a, deps, reachable, ret)\n",
        "        if not result: return []\n",
        "      # print(deps, reachable)\n",
        "      return ret\n",
        "\n",
        "numCourses = 2000\n",
        "# prerequisites = [[1,0]]\n",
        "# prerequisites = [[1,0],[0,1]]\n",
        "# prerequisites = [[1,0],[2,0],[3,1],[3,2]]\n",
        "# prerequisites = []\n",
        "Solution().findOrder(numCourses, prerequisites)"
      ],
      "metadata": {
        "colab": {
          "base_uri": "https://localhost:8080/"
        },
        "id": "nrQSXbW8-ZxH",
        "outputId": "fb5256f9-98c7-45a4-f158-2cd49cd7aa7e"
      },
      "execution_count": null,
      "outputs": [
        {
          "output_type": "execute_result",
          "data": {
            "text/plain": [
              "[]"
            ]
          },
          "metadata": {},
          "execution_count": 107
        }
      ]
    },
    {
      "cell_type": "code",
      "source": [
        "class Solution:\n",
        "    def snakesAndLadders(self, board: List[List[int]]) -> int:\n",
        "      def to_pos(i):\n",
        "        row = (n-1)-((i-1)//n)\n",
        "        col = (n-i)%n if ((i-1)//n)%2 else (i-1)%n\n",
        "        return row,col\n",
        "      n = len(board)\n",
        "      q = set(x for x in range(2,min(6,n**2)+2))\n",
        "      seen = set()\n",
        "      steps = 1\n",
        "      while True:\n",
        "        new_q = set()\n",
        "        # print(steps,q)\n",
        "        for i in q:\n",
        "          if i in seen: continue\n",
        "          seen.add(i)\n",
        "          row,col = to_pos(i)\n",
        "          # print(i,row,col)\n",
        "          if board[row][col] != -1:\n",
        "            i = board[row][col]\n",
        "          if i == n**2:\n",
        "            return steps\n",
        "          for j in range(1,6+1):\n",
        "            if j > n**2: break\n",
        "            new_q.add(i+j)\n",
        "        if len(new_q) == 0: break\n",
        "        steps += 1\n",
        "        q = new_q\n",
        "      return -1\n",
        "\n",
        "# board = [[-1,-1,-1,-1,-1,-1],[-1,-1,-1,-1,-1,-1],[-1,-1,-1,-1,-1,-1],[-1,35,-1,-1,13,-1],[-1,-1,-1,-1,-1,-1],[-1,15,-1,-1,-1,-1]]\n",
        "# board = [[-1,-1],[-1,3]]\n",
        "# board = [[-1,1,2,-1],[2,13,15,-1],[-1,10,-1,-1],[-1,6,2,8]]\n",
        "board = [[-1,-1,19,10,-1],[2,-1,-1,6,-1],[-1,17,-1,19,-1],[25,-1,20,-1,-1],[-1,-1,-1,-1,15]]\n",
        "Solution().snakesAndLadders(board)"
      ],
      "metadata": {
        "colab": {
          "base_uri": "https://localhost:8080/"
        },
        "id": "EoBKb6bdcbP9",
        "outputId": "9f44962f-3b5a-479c-da5c-8bd966e56054"
      },
      "execution_count": null,
      "outputs": [
        {
          "output_type": "execute_result",
          "data": {
            "text/plain": [
              "2"
            ]
          },
          "metadata": {},
          "execution_count": 108
        }
      ]
    },
    {
      "cell_type": "code",
      "source": [
        "class Solution:\n",
        "    def minMutation(self, startGene: str, endGene: str, bank: List[str]) -> int:\n",
        "      def isMutation(s1,s2):\n",
        "        count = 0\n",
        "        for i in range(8):\n",
        "          if s1[i] != s2[i]: count += 1\n",
        "        return count == 1\n",
        "      q = [startGene]\n",
        "      steps = 0\n",
        "      seen = set()\n",
        "      while len(q):\n",
        "        new_q = []\n",
        "        for s in q:\n",
        "          if s == endGene: return steps\n",
        "          for b in bank:\n",
        "            if b not in seen and isMutation(s,b):\n",
        "              seen.add(b)\n",
        "              new_q.append(b)\n",
        "        q = new_q\n",
        "        steps += 1\n",
        "      return -1\n",
        "\n",
        "# startGene = \"AACCGGTT\"\n",
        "# endGene = \"AACCGGTA\"\n",
        "# bank = [\"AACCGGTA\"]\n",
        "startGene = \"AACCGGTT\"\n",
        "endGene = \"AAACGGTA\"\n",
        "bank = [\"AACCGGTA\",\"AACCGCTA\",\"AAACGGTA\"]\n",
        "\n",
        "Solution().minMutation(startGene, endGene, bank)"
      ],
      "metadata": {
        "colab": {
          "base_uri": "https://localhost:8080/"
        },
        "id": "rjI7iCYw_XN0",
        "outputId": "f7824f25-0d59-461e-ee0c-a272145db9f4"
      },
      "execution_count": null,
      "outputs": [
        {
          "output_type": "execute_result",
          "data": {
            "text/plain": [
              "2"
            ]
          },
          "metadata": {},
          "execution_count": 109
        }
      ]
    },
    {
      "cell_type": "code",
      "source": [
        "class Solution:\n",
        "    def ladderLength(self, beginWord: str, endWord: str, wordList: List[str]) -> int:\n",
        "      def isMutation(s1,s2):\n",
        "        count = 0\n",
        "        for i in range(len(s1)):\n",
        "          if s1[i] != s2[i]:\n",
        "            count += 1\n",
        "            if count > 1: return False\n",
        "        return count == 1\n",
        "      q = [beginWord]\n",
        "      steps = 1\n",
        "      seen = set()\n",
        "      while len(q):\n",
        "        new_q = []\n",
        "        for s in q:\n",
        "          if s == endWord: return steps\n",
        "          for b in wordList:\n",
        "            if b not in seen and isMutation(s,b):\n",
        "              seen.add(b)\n",
        "              new_q.append(b)\n",
        "        q = new_q\n",
        "        steps += 1\n",
        "      return 0\n",
        "\n",
        "# beginWord = \"hit\"\n",
        "# endWord = \"cog\"\n",
        "# wordList = [\"hot\",\"dot\",\"dog\",\"lot\",\"log\",\"cog\"]\n",
        "beginWord = \"hit\"\n",
        "endWord = \"cog\"\n",
        "wordList = [\"hot\",\"dot\",\"dog\",\"lot\",\"log\"]\n",
        "Solution().ladderLength(beginWord, endWord, wordList)"
      ],
      "metadata": {
        "colab": {
          "base_uri": "https://localhost:8080/"
        },
        "id": "4AEbJcAuFDVz",
        "outputId": "0ed6c34b-ba97-4920-fcf9-1ddaaed8287a"
      },
      "execution_count": null,
      "outputs": [
        {
          "output_type": "execute_result",
          "data": {
            "text/plain": [
              "0"
            ]
          },
          "metadata": {},
          "execution_count": 110
        }
      ]
    },
    {
      "cell_type": "code",
      "source": [
        "class Trie:\n",
        "    def __init__(self):\n",
        "      self.root = {}\n",
        "\n",
        "    def insert(self, word: str) -> None:\n",
        "      node = self.root\n",
        "      for c in word:\n",
        "        if c not in node:\n",
        "          node[c] = {}\n",
        "        node = node[c]\n",
        "      node[\".\"] = True\n",
        "      # print(self.root)\n",
        "\n",
        "    def search(self, word: str) -> bool:\n",
        "      node = self.root\n",
        "      for c in word:\n",
        "        if c not in node: return False\n",
        "        node = node[c]\n",
        "      return \".\" in node\n",
        "\n",
        "    def startsWith(self, prefix: str) -> bool:\n",
        "      node = self.root\n",
        "      for c in prefix:\n",
        "        if c not in node: return False\n",
        "        node = node[c]\n",
        "      return True\n",
        "\n",
        "trie = Trie()\n",
        "trie.insert(\"apple\")\n",
        "print(trie.search(\"apple\"))\n",
        "print(trie.search(\"app\"))\n",
        "print(trie.startsWith(\"app\"))\n",
        "trie.insert(\"app\")\n",
        "print(trie.search(\"app\"))"
      ],
      "metadata": {
        "colab": {
          "base_uri": "https://localhost:8080/"
        },
        "id": "t8ZG2edFGyYR",
        "outputId": "1b733477-c569-49b4-e9f9-4a8e558bf26a"
      },
      "execution_count": null,
      "outputs": [
        {
          "output_type": "stream",
          "name": "stdout",
          "text": [
            "True\n",
            "False\n",
            "True\n",
            "True\n"
          ]
        }
      ]
    },
    {
      "cell_type": "code",
      "source": [
        "class WordDictionary:\n",
        "    def __init__(self):\n",
        "      self.root = {}\n",
        "\n",
        "    def addWord(self, word: str) -> None:\n",
        "      node = self.root\n",
        "      for c in word:\n",
        "        if c not in node:\n",
        "          node[c] = {}\n",
        "        node = node[c]\n",
        "      node[\".\"] = {}\n",
        "      # print(self.root)\n",
        "\n",
        "    def search(self, word: str) -> bool:\n",
        "      def dfs(node, s):\n",
        "        if len(s) == 0: return \".\" in node\n",
        "        for c in s:\n",
        "          if c == \".\":\n",
        "            for child in node.values():\n",
        "              if dfs(child, s[1:]): return True\n",
        "            else:\n",
        "              return False\n",
        "          else:\n",
        "             return c in node and dfs(node[c], s[1:])\n",
        "\n",
        "      return dfs(self.root, word)\n",
        "\n",
        "wordDictionary = WordDictionary()\n",
        "wordDictionary.addWord(\"bad\")\n",
        "wordDictionary.addWord(\"dad\")\n",
        "wordDictionary.addWord(\"mad\")\n",
        "print(wordDictionary.search(\"pad\"))\n",
        "print(wordDictionary.search(\"bad\"))\n",
        "print(wordDictionary.search(\".ad\"))\n",
        "print(wordDictionary.search(\"b..\"))"
      ],
      "metadata": {
        "colab": {
          "base_uri": "https://localhost:8080/"
        },
        "id": "WFsFoBd2c70m",
        "outputId": "1e9b1a05-b544-4e06-bdf0-26b394568951"
      },
      "execution_count": null,
      "outputs": [
        {
          "output_type": "stream",
          "name": "stdout",
          "text": [
            "False\n",
            "True\n",
            "True\n",
            "True\n"
          ]
        }
      ]
    },
    {
      "cell_type": "code",
      "source": [
        "class Solution:\n",
        "    def findWords(self, board: List[List[str]], words: List[str]) -> List[str]:\n",
        "        self.d = WordDictionary()\n",
        "        for word in words:\n",
        "          self.d.addWord(word)\n",
        "        res = []\n",
        "        def dfs(row, col, seen, node, s, res):\n",
        "          # print(row, col, seen, s, res)\n",
        "          c = board[row][col]\n",
        "          if \".\" in node:\n",
        "            res.append(s)\n",
        "            del node[\".\"]\n",
        "          r2,c2 = row-1,col\n",
        "          if row > 0 and (r2,c2) not in seen and board[r2][c2] in node:\n",
        "            dfs(r2,c2,seen|{(r2,c2)},node[board[r2][c2]],s+board[r2][c2],res)\n",
        "            if len(node[board[r2][c2]]) == 0: del node[board[r2][c2]]\n",
        "          r2,c2 = row+1,col\n",
        "          if row < len(board)-1 and (r2,c2) not in seen and board[r2][c2] in node:\n",
        "            dfs(r2,c2,seen|{(r2,c2)},node[board[r2][c2]],s+board[r2][c2],res)\n",
        "            if len(node[board[r2][c2]]) == 0: del node[board[r2][c2]]\n",
        "          r2,c2 = row,col-1\n",
        "          if col > 0 and (r2,c2) not in seen and board[r2][c2] in node:\n",
        "            dfs(r2,c2,seen|{(r2,c2)},node[board[r2][c2]],s+board[r2][c2],res)\n",
        "            if len(node[board[r2][c2]]) == 0: del node[board[r2][c2]]\n",
        "          r2,c2 = row,col+1\n",
        "          if col < len(board[0])-1 and (r2,c2) not in seen and board[r2][c2] in node:\n",
        "            dfs(r2,c2,seen|{(r2,c2)},node[board[r2][c2]],s+board[r2][c2],res)\n",
        "            if len(node[board[r2][c2]]) == 0: del node[board[r2][c2]]\n",
        "        for r in range(len(board)):\n",
        "          for c in range(len(board[0])):\n",
        "            if board[r][c] in self.d.root:\n",
        "              if self.d.root[board[r][c]] == {\".\":{}}:\n",
        "                res.append(board[r][c])\n",
        "                del self.d.root[board[r][c]]\n",
        "            dfs(r,c,set(),self.d.root,\"\",res)\n",
        "        return res\n",
        "\n",
        "board = [[\"o\",\"a\",\"a\",\"n\"],[\"e\",\"t\",\"a\",\"e\"],[\"i\",\"h\",\"k\",\"r\"],[\"i\",\"f\",\"l\",\"v\"]]\n",
        "words = [\"oath\",\"pea\",\"eat\",\"rain\"]\n",
        "# board = [[\"a\",\"b\"],[\"c\",\"d\"]]\n",
        "# words = [\"abcb\"]\n",
        "# board = [[\"o\",\"a\",\"a\",\"n\"],[\"e\",\"t\",\"a\",\"e\"],[\"i\",\"h\",\"k\",\"r\"],[\"i\",\"f\",\"l\",\"v\"]]\n",
        "# words = [\"oath\",\"pea\",\"eat\",\"rain\",\"hklf\", \"hf\"]\n",
        "# board = [[\"a\"]]\n",
        "# words = [\"a\"]\n",
        "Solution().findWords(board,words)"
      ],
      "metadata": {
        "colab": {
          "base_uri": "https://localhost:8080/"
        },
        "id": "dIGiZlrLqpUJ",
        "outputId": "880815ec-af38-4f34-95e5-bddde8a4207e"
      },
      "execution_count": null,
      "outputs": [
        {
          "output_type": "execute_result",
          "data": {
            "text/plain": [
              "['oath', 'eat']"
            ]
          },
          "metadata": {},
          "execution_count": 113
        }
      ]
    },
    {
      "cell_type": "code",
      "source": [
        "class Solution:\n",
        "    def letterCombinations(self, digits: str) -> List[str]:\n",
        "      res = []\n",
        "      def dfs(digits, prefix, res):\n",
        "        if len(digits) == 0:\n",
        "          if len(prefix): res.append(prefix)\n",
        "          return\n",
        "        d = digits[0]\n",
        "        if d == \"2\":\n",
        "          for c in \"abc\":\n",
        "            dfs(digits[1:], prefix+c, res)\n",
        "        elif d == \"3\":\n",
        "          for c in \"def\":\n",
        "            dfs(digits[1:], prefix+c, res)\n",
        "        elif d == \"4\":\n",
        "          for c in \"ghi\":\n",
        "            dfs(digits[1:], prefix+c, res)\n",
        "        elif d == \"5\":\n",
        "          for c in \"jkl\":\n",
        "            dfs(digits[1:], prefix+c, res)\n",
        "        elif d == \"6\":\n",
        "          for c in \"mno\":\n",
        "            dfs(digits[1:], prefix+c, res)\n",
        "        elif d == \"7\":\n",
        "          for c in \"pqrs\":\n",
        "            dfs(digits[1:], prefix+c, res)\n",
        "        elif d == \"8\":\n",
        "          for c in \"tuv\":\n",
        "            dfs(digits[1:], prefix+c, res)\n",
        "        elif d == \"9\":\n",
        "          for c in \"wxyz\":\n",
        "            dfs(digits[1:], prefix+c, res)\n",
        "      dfs(digits, \"\", res)\n",
        "      return res\n",
        "\n",
        "# digits = \"23\"\n",
        "# digits = \"\"\n",
        "digits = \"2\"\n",
        "Solution().letterCombinations(digits)"
      ],
      "metadata": {
        "colab": {
          "base_uri": "https://localhost:8080/"
        },
        "id": "6AnDDjXiMZIO",
        "outputId": "7240048d-73d9-47db-e03e-887c2ec2027a"
      },
      "execution_count": null,
      "outputs": [
        {
          "output_type": "execute_result",
          "data": {
            "text/plain": [
              "['a', 'b', 'c']"
            ]
          },
          "metadata": {},
          "execution_count": 114
        }
      ]
    },
    {
      "cell_type": "code",
      "source": [
        "class Solution:\n",
        "    def combine(self, n: int, k: int) -> List[List[int]]:\n",
        "      ret = []\n",
        "      def dfs(selected, rest, k, ret):\n",
        "        if len(selected) == k: ret.append(list(selected))\n",
        "        tmp = rest\n",
        "        for i in rest:\n",
        "          tmp = tmp-{i}\n",
        "          dfs(selected|{i}, tmp, k, ret)\n",
        "      dfs(set(), set(range(1,n+1)), k, ret)\n",
        "      return ret\n",
        "\n",
        "n = 4\n",
        "k = 3\n",
        "Solution().combine(n,k)"
      ],
      "metadata": {
        "colab": {
          "base_uri": "https://localhost:8080/"
        },
        "id": "DxNtLlvdPhuF",
        "outputId": "d85094e3-92c9-4934-a891-ef17c8091c13"
      },
      "execution_count": null,
      "outputs": [
        {
          "output_type": "execute_result",
          "data": {
            "text/plain": [
              "[[1, 2, 3], [1, 2, 4], [1, 3, 4], [2, 3, 4]]"
            ]
          },
          "metadata": {},
          "execution_count": 115
        }
      ]
    },
    {
      "cell_type": "code",
      "source": [
        "class Solution:\n",
        "    def permute(self, nums: List[int]) -> List[List[int]]:\n",
        "      ret = []\n",
        "      def dfs(prefix,rest,ret):\n",
        "        if len(rest) == 0: ret.append(prefix)\n",
        "        for i in range(len(rest)):\n",
        "          dfs(prefix+[rest[i]], rest[:i]+rest[i+1:], ret)\n",
        "      dfs([],nums,ret)\n",
        "      return ret\n",
        "\n",
        "nums = [1,2,3]\n",
        "Solution().permute(nums)"
      ],
      "metadata": {
        "colab": {
          "base_uri": "https://localhost:8080/"
        },
        "id": "vpFEvsbwT0Lc",
        "outputId": "cec9d191-4d1f-4d99-bbb1-62203fa665bc"
      },
      "execution_count": null,
      "outputs": [
        {
          "output_type": "execute_result",
          "data": {
            "text/plain": [
              "[[1, 2, 3], [1, 3, 2], [2, 1, 3], [2, 3, 1], [3, 1, 2], [3, 2, 1]]"
            ]
          },
          "metadata": {},
          "execution_count": 116
        }
      ]
    },
    {
      "cell_type": "code",
      "source": [
        "class Solution:\n",
        "    def combinationSum(self, candidates: List[int], target: int) -> List[List[int]]:\n",
        "      ret = set()\n",
        "      def dfs(selected, sum):\n",
        "        # print(selected, sum)\n",
        "        if sum == 0: ret.add(tuple(sorted(selected)))\n",
        "        if sum <= 0: return\n",
        "        for n in candidates:\n",
        "          dfs(selected+[n], sum-n)\n",
        "      dfs([], target)\n",
        "      return [list(x) for x in ret]\n",
        "\n",
        "# candidates = [2,3,6,7]\n",
        "# target = 7\n",
        "# candidates = [2,3,5]\n",
        "# target = 8\n",
        "candidates = [2]\n",
        "target = 1\n",
        "Solution().combinationSum(candidates, target)"
      ],
      "metadata": {
        "colab": {
          "base_uri": "https://localhost:8080/"
        },
        "id": "HgMB76WNYBb2",
        "outputId": "cb485819-e7af-40ab-9b14-c511e3aa6728"
      },
      "execution_count": null,
      "outputs": [
        {
          "output_type": "execute_result",
          "data": {
            "text/plain": [
              "[]"
            ]
          },
          "metadata": {},
          "execution_count": 117
        }
      ]
    },
    {
      "cell_type": "code",
      "source": [
        "class Solution:\n",
        "    def totalNQueens(self, n: int) -> int:\n",
        "      self.count = 0\n",
        "      def is_valid(queens):\n",
        "        for xi in range(len(queens)):\n",
        "          for xj in range(xi+1,len(queens)):\n",
        "            yi,yj = queens[xi],queens[xj]\n",
        "            if abs(yi-yj) == abs(xi-xj): return False\n",
        "        return True\n",
        "      def dfs(prefix, rest):\n",
        "        if len(rest) == 0 and is_valid(prefix):\n",
        "          self.count += 1\n",
        "          return\n",
        "        for i in rest:\n",
        "          dfs(prefix+[i], rest-{i})\n",
        "      dfs([], set(range(n)))\n",
        "      return self.count\n",
        "\n",
        "n = 1\n",
        "Solution().totalNQueens(n)"
      ],
      "metadata": {
        "colab": {
          "base_uri": "https://localhost:8080/"
        },
        "id": "aKPDkMFJeIcQ",
        "outputId": "37475509-1f80-400a-8679-07d301866c1c"
      },
      "execution_count": null,
      "outputs": [
        {
          "output_type": "execute_result",
          "data": {
            "text/plain": [
              "1"
            ]
          },
          "metadata": {},
          "execution_count": 118
        }
      ]
    },
    {
      "cell_type": "code",
      "source": [
        "class Solution:\n",
        "    def generateParenthesis(self, n: int) -> List[str]:\n",
        "      res = []\n",
        "      def dfs(prefix, n_open, n_closed):\n",
        "        # print(prefix, n_open, n_closed)\n",
        "        if n_open == n_closed == 0:\n",
        "          res.append(prefix)\n",
        "          return\n",
        "        if n_open>0: dfs(prefix+\"(\", n_open-1, n_closed)\n",
        "        if n_closed>n_open: dfs(prefix+\")\", n_open, n_closed-1)\n",
        "      dfs(\"\", n, n)\n",
        "      return res\n",
        "\n",
        "n = 1\n",
        "Solution().generateParenthesis(n)"
      ],
      "metadata": {
        "colab": {
          "base_uri": "https://localhost:8080/"
        },
        "id": "lwhXmbwxjJuv",
        "outputId": "93a12a3a-b9b7-460f-9e5b-55272d0f7129"
      },
      "execution_count": null,
      "outputs": [
        {
          "output_type": "execute_result",
          "data": {
            "text/plain": [
              "['()']"
            ]
          },
          "metadata": {},
          "execution_count": 119
        }
      ]
    },
    {
      "cell_type": "code",
      "source": [
        "class Solution:\n",
        "    def exist(self, board: List[List[str]], word: str) -> bool:\n",
        "      def dfs(row, col, seen, s):\n",
        "        # print(row, col, seen, s)\n",
        "        if len(seen) > len(word) or s != word[:len(s)]: return False\n",
        "        if s == word: return True\n",
        "        r,c = row+1,col\n",
        "        if row < len(board)-1:\n",
        "          if (r,c) not in seen:\n",
        "            if dfs(r,c,seen|{(r,c)},s+board[r][c]): return True\n",
        "        r,c = row-1,col\n",
        "        if row > 0:\n",
        "          if (r,c) not in seen:\n",
        "            if dfs(r,c,seen|{(r,c)},s+board[r][c]): return True\n",
        "        r,c = row,col+1\n",
        "        if col < len(board[0])-1:\n",
        "          if (r,c) not in seen:\n",
        "            if dfs(r,c,seen|{(r,c)},s+board[r][c]): return True\n",
        "        r,c = row,col-1\n",
        "        if col > 0:\n",
        "          if (r,c) not in seen:\n",
        "            if dfs(r,c,seen|{(r,c)},s+board[r][c]): return True\n",
        "        return False\n",
        "      for r in range(len(board)):\n",
        "        for c in range(len(board[0])):\n",
        "          if dfs(r,c,{(r,c)},board[r][c]): return True\n",
        "      return False\n",
        "\n",
        "# board = [[\"A\",\"B\",\"C\",\"E\"],[\"S\",\"F\",\"C\",\"S\"],[\"A\",\"D\",\"E\",\"E\"]]\n",
        "# word = \"ABCCED\"\n",
        "# board = [[\"A\",\"B\",\"C\",\"E\"],[\"S\",\"F\",\"C\",\"S\"],[\"A\",\"D\",\"E\",\"E\"]]\n",
        "# word = \"SEE\"\n",
        "# board = [[\"A\",\"B\",\"C\",\"E\"],[\"S\",\"F\",\"C\",\"S\"],[\"A\",\"D\",\"E\",\"E\"]]\n",
        "# word = \"ABCB\"\n",
        "# board = [[\"a\",\"a\"]]\n",
        "# word = \"aaa\"\n",
        "board = [[\"A\",\"A\",\"A\",\"A\",\"A\",\"A\"],[\"A\",\"A\",\"A\",\"A\",\"A\",\"A\"],[\"A\",\"A\",\"A\",\"A\",\"A\",\"A\"],[\"A\",\"A\",\"A\",\"A\",\"A\",\"A\"],[\"A\",\"A\",\"A\",\"A\",\"A\",\"A\"],[\"A\",\"A\",\"A\",\"A\",\"A\",\"A\"]]\n",
        "word = \"BAAAAAAAAAAAAAA\"\n",
        "Solution().exist(board, word)"
      ],
      "metadata": {
        "colab": {
          "base_uri": "https://localhost:8080/"
        },
        "id": "FqR8OxgplNQw",
        "outputId": "808aef1a-fcbd-4e48-cf5a-eef7ebe434a5"
      },
      "execution_count": null,
      "outputs": [
        {
          "output_type": "execute_result",
          "data": {
            "text/plain": [
              "False"
            ]
          },
          "metadata": {},
          "execution_count": 120
        }
      ]
    },
    {
      "cell_type": "code",
      "source": [
        "# Definition for a binary tree node.\n",
        "# class TreeNode:\n",
        "#     def __init__(self, val=0, left=None, right=None):\n",
        "#         self.val = val\n",
        "#         self.left = left\n",
        "#         self.right = right\n",
        "class Solution:\n",
        "    def sortedArrayToBST(self, nums: List[int]) -> Optional[TreeNode]:\n",
        "        if len(nums) == 0: return None\n",
        "        center_i = len(nums)//2\n",
        "        root = TreeNode(val=nums[center_i])\n",
        "        root.left = self.sortedArrayToBST(nums[:center_i])\n",
        "        root.right = self.sortedArrayToBST(nums[center_i+1:])\n",
        "        return root"
      ],
      "metadata": {
        "id": "KLDN3s36ilMy"
      },
      "execution_count": null,
      "outputs": []
    },
    {
      "cell_type": "code",
      "source": [
        "class Solution:\n",
        "    def sortList(self, head: Optional[ListNode]) -> Optional[ListNode]:\n",
        "        l = []\n",
        "        node = head\n",
        "        while node:\n",
        "            l.append((node.val,node))\n",
        "            node = node.next\n",
        "        # print(l)\n",
        "        l.sort(key=lambda x: x[0])\n",
        "        dummy = ListNode()\n",
        "        prev = dummy\n",
        "        for _,node in l:\n",
        "            prev.next = node\n",
        "            prev = node\n",
        "        prev.next = None\n",
        "        return dummy.next"
      ],
      "metadata": {
        "id": "3IMHKDUCkbOX"
      },
      "execution_count": null,
      "outputs": []
    },
    {
      "cell_type": "code",
      "source": [
        "\"\"\"\n",
        "# Definition for a QuadTree node.\n",
        "class Node:\n",
        "    def __init__(self, val, isLeaf, topLeft, topRight, bottomLeft, bottomRight):\n",
        "        self.val = val\n",
        "        self.isLeaf = isLeaf\n",
        "        self.topLeft = topLeft\n",
        "        self.topRight = topRight\n",
        "        self.bottomLeft = bottomLeft\n",
        "        self.bottomRight = bottomRight\n",
        "\"\"\"\n",
        "\n",
        "class Solution:\n",
        "    def construct(self, grid: List[List[int]]) -> 'Node':\n",
        "        isLeaf = True\n",
        "        val = grid[0][0]\n",
        "        n = len(grid)\n",
        "        for r in range(n):\n",
        "            if not isLeaf: break\n",
        "            for c in range(n):\n",
        "                if val != grid[r][c]:\n",
        "                    isLeaf = False\n",
        "                    break\n",
        "        if isLeaf:\n",
        "            return Node(val, True, None,  None, None, None)\n",
        "        return Node(0,False,\n",
        "        self.construct([x[:n//2] for x in grid[:n//2]]),\n",
        "        self.construct([x[n//2:] for x in grid[:n//2]]),\n",
        "        self.construct([x[:n//2] for x in grid[n//2:]]),\n",
        "        self.construct([x[n//2:] for x in grid[n//2:]]))"
      ],
      "metadata": {
        "id": "T8YnweBdB0Jy"
      },
      "execution_count": null,
      "outputs": []
    },
    {
      "cell_type": "code",
      "source": [
        "# Definition for singly-linked list.\n",
        "# class ListNode:\n",
        "#     def __init__(self, val=0, next=None):\n",
        "#         self.val = val\n",
        "#         self.next = next\n",
        "class Solution:\n",
        "    def mergeKLists(self, lists: List[Optional[ListNode]]) -> Optional[ListNode]:\n",
        "        ll = []\n",
        "        for list in lists:\n",
        "            node = list\n",
        "            while node:\n",
        "                ll.append((node.val,node))\n",
        "                node = node.next\n",
        "        ll.sort(key=lambda x: x[0])\n",
        "        dummy = ListNode()\n",
        "        prev = dummy\n",
        "        for _,node in ll:\n",
        "            prev.next = node\n",
        "            prev = node\n",
        "        prev.next = None\n",
        "        return dummy.next\n"
      ],
      "metadata": {
        "id": "G0_O224NVBbz"
      },
      "execution_count": null,
      "outputs": []
    },
    {
      "cell_type": "code",
      "source": [
        "class Solution:\n",
        "    def maxSubArray(self, nums: List[int]) -> int:\n",
        "      rangeSum = nums[0]\n",
        "      maxSum = rangeSum\n",
        "      for i in range(1,len(nums)):\n",
        "        # print(i,rangeSum)\n",
        "        n = nums[i]\n",
        "        rangeSum += n\n",
        "        if n > rangeSum:\n",
        "          rangeSum = n\n",
        "        maxSum = max(maxSum,rangeSum)\n",
        "      return maxSum\n",
        "\n",
        "# nums = [-2,1,-3,4,-1,2,1,-5,4]\n",
        "# nums = [1]\n",
        "nums = [5,4,-1,7,8]\n",
        "Solution().maxSubArray(nums)"
      ],
      "metadata": {
        "colab": {
          "base_uri": "https://localhost:8080/"
        },
        "id": "E35qhrsVXsQI",
        "outputId": "c7e22e09-f341-4ca9-e81f-9b41b3c119d9"
      },
      "execution_count": null,
      "outputs": [
        {
          "output_type": "execute_result",
          "data": {
            "text/plain": [
              "23"
            ]
          },
          "metadata": {},
          "execution_count": 125
        }
      ]
    },
    {
      "cell_type": "code",
      "source": [
        "class Solution:\n",
        "    def maxSubarraySumCircular(self, nums: List[int]) -> int:\n",
        "      l = []\n",
        "      rangeSum = 0\n",
        "      left_max = -10**10\n",
        "      for i in range(0,len(nums)):\n",
        "        n = nums[i]\n",
        "        rangeSum += n\n",
        "        if rangeSum > left_max:\n",
        "          left_max = rangeSum\n",
        "        l.append(left_max)\n",
        "      # print(l)\n",
        "\n",
        "      r = []\n",
        "      rangeSum = 0\n",
        "      right_max = -10**10\n",
        "      for i in range(len(nums)-1,-1,-1):\n",
        "        n = nums[i]\n",
        "        rangeSum += n\n",
        "        if rangeSum > right_max:\n",
        "          right_max = rangeSum\n",
        "        r.insert(0,right_max)\n",
        "      # print(r)\n",
        "\n",
        "      max_wrap = -10**10\n",
        "      for i in range(len(nums)-1):\n",
        "        max_wrap = max(max_wrap, l[i]+r[i+1])\n",
        "      # print(max_wrap)\n",
        "\n",
        "      maxSum = -10**10\n",
        "      rangeSum = 0\n",
        "      for i in range(0,len(nums)):\n",
        "        n = nums[i%len(nums)]\n",
        "        rangeSum += n\n",
        "        if n > rangeSum:\n",
        "          rangeSum = n\n",
        "        maxSum = max(maxSum,rangeSum)\n",
        "\n",
        "      return max(maxSum, max_wrap)\n",
        "\n",
        "# nums = [5,4,-1,7,8]\n",
        "# nums = [1,-2,3,-2]\n",
        "# nums = [1, 1, -10, 1]\n",
        "# nums = [-3,-2,-3]\n",
        "# nums = [3,-1,2,-1]\n",
        "nums = [2,-1,-1,5,-100,5,-1,5]\n",
        "# nums = [-5,3,5]\n",
        "# nums = [5,5,-1,-1,-1,5,5]\n",
        "# nums = [-2]\n",
        "# nums = [52,183,124,154,-170,-191,-240,107,-178,171,75,186,-125,61,-298,284,21,-73,-294,253,146,248,-248,127,26,289,118,-22,-300,26,-116,-113,-44,29,252,-278,47,254,-106,246,-275,42,257,15,96,-298,-69,-104,-239,-95,-4,76,-202,156,-14,-178,188,-84,78,-195,-125,28,109,125,-25,-53,58,287,55,-296,198,281,53,-160,146,298,25,-41,-3,27,-242,169,287,-281,19,91,213,115,211,-218,124,-25,-272,278,296,-177,-166,-192,97,-49,-25,168,-81,6,-94,267,293,146,-1,-258,256,283,-156,197,28,78,267,-151,-230,-66,100,-94,-66,-123,121,-214,-182,187,65,-186,215,273,243,-99,-76,178,59,190,279,300,217,67,-117,170,163,153,-37,-147,-251,296,-176,117,68,258,-159,-300,-36,-91,-60,195,-293,-116,208,175,-100,-97,188,79,-270,80,100,211,112,264,-217,-142,5,105,171,-264,-247,138,275,227,-86,30,-219,153,10,-66,267,22,-56,-70,-234,-66,89,182,110,-146,162,-48,-201,-240,-225,-15,-275,129,-117,28,150,84,-264,249,-85,70,-140,-259,26,162,5,-203,143,184,101,140,207,131,177,274,-178,-79,14,-36,104,52,31,257,273,-52,74,276,104,-133,-255,188,-252,229,200,-74,-39,-250,142,-201,-196,-43,-40,255,-149,-299,-197,-175,-96,-155,-196,-24,12,79,71,-144,-59,-120,227,-256,-163,-297,116,286,-283,-31,-221,-41,121,-170,160,205,8,88,25,-272,-107,292,-180,299,94,-97,-81,-134,37,238]\n",
        "Solution().maxSubarraySumCircular(nums)"
      ],
      "metadata": {
        "colab": {
          "base_uri": "https://localhost:8080/"
        },
        "id": "Psr-bL-wiUBq",
        "outputId": "14847742-75d8-4968-f96d-16cd0a3e4da2"
      },
      "execution_count": null,
      "outputs": [
        {
          "output_type": "execute_result",
          "data": {
            "text/plain": [
              "14"
            ]
          },
          "metadata": {},
          "execution_count": 126
        }
      ]
    },
    {
      "cell_type": "code",
      "source": [
        "import math\n",
        "class Solution:\n",
        "    def searchInsert(self, nums: List[int], target: int) -> int:\n",
        "      lo,hi = 0,len(nums)-1\n",
        "      tmp = 0\n",
        "      while lo != hi:\n",
        "        i = (hi-lo)//2 + lo\n",
        "        # print(lo,hi,i)\n",
        "        if nums[i] == target: return i\n",
        "        if nums[i] < target:\n",
        "          lo = math.ceil((hi-lo)/2) + lo\n",
        "        else:\n",
        "          hi = math.floor((hi-lo)/2) + lo\n",
        "      return lo if target <= nums[lo] else lo+1\n",
        "\n",
        "# nums = [1,3,5,6]\n",
        "# target = 5\n",
        "# nums = [1,3,5,6]\n",
        "# target = 2\n",
        "# nums = [1,3,5,6]\n",
        "# target = 7\n",
        "# nums = [1]\n",
        "# target = 1\n",
        "nums = [1,3,4,6,7,10]\n",
        "target = 11\n",
        "Solution().searchInsert(nums,target)"
      ],
      "metadata": {
        "colab": {
          "base_uri": "https://localhost:8080/"
        },
        "id": "Q1DXXJh9oKRo",
        "outputId": "729d2b23-89ad-4277-d9a6-c2fa30b97fa8"
      },
      "execution_count": null,
      "outputs": [
        {
          "output_type": "execute_result",
          "data": {
            "text/plain": [
              "6"
            ]
          },
          "metadata": {},
          "execution_count": 127
        }
      ]
    },
    {
      "cell_type": "code",
      "source": [
        "class Solution:\n",
        "    def searchMatrix(self, matrix: List[List[int]], target: int) -> bool:\n",
        "      lo,hi = 0,len(matrix)-1\n",
        "      while hi != lo:\n",
        "        # print(lo,hi)\n",
        "        i = math.ceil((hi-lo)/2) + lo\n",
        "        if matrix[i][0] == target: return True\n",
        "        if matrix[i][0] < target:\n",
        "          lo = math.ceil((hi-lo)/2) + lo\n",
        "        else:\n",
        "          hi = math.floor((hi-lo)/2) + lo\n",
        "      row = lo\n",
        "      # print(\"row\",row)\n",
        "\n",
        "      lo,hi = 0,len(matrix[0])-1\n",
        "      while hi != lo:\n",
        "        # print(lo,hi)\n",
        "        i = (hi-lo)//2 + lo\n",
        "        if matrix[row][i] == target: return True\n",
        "        if matrix[row][i] < target:\n",
        "          lo = math.ceil((hi-lo)/2) + lo\n",
        "        else:\n",
        "          hi = math.floor((hi-lo)/2) + lo\n",
        "\n",
        "      return matrix[row][lo] == target\n",
        "\n",
        "# matrix = [[1,3,5,7],[10,11,16,20],[23,30,34,60]]\n",
        "# target = 3\n",
        "# matrix = [[1,3,5,7],[10,11,16,20],[23,30,34,60]]\n",
        "# target = 13\n",
        "# matrix = [[1]]\n",
        "# target = 1\n",
        "matrix = [[1],[3]]\n",
        "target = 3\n",
        "Solution().searchMatrix(matrix,target)"
      ],
      "metadata": {
        "colab": {
          "base_uri": "https://localhost:8080/"
        },
        "id": "ht0-eJfu8kyd",
        "outputId": "fc80503f-607d-4c01-8839-960ba80a47c6"
      },
      "execution_count": null,
      "outputs": [
        {
          "output_type": "execute_result",
          "data": {
            "text/plain": [
              "True"
            ]
          },
          "metadata": {},
          "execution_count": 128
        }
      ]
    },
    {
      "cell_type": "code",
      "source": [
        "class Solution:\n",
        "    def findPeakElement(self, nums: List[int]) -> int:\n",
        "      lo,hi = 0,len(nums)-1\n",
        "      while lo != hi:\n",
        "        i = (hi-lo)//2 + lo\n",
        "        # print(lo,hi,i)\n",
        "        if ((i == len(nums)-1 or nums[i] > nums[i+1]) and\n",
        "            (i == 0 or nums[i] > nums[i-1])):\n",
        "          # print(\"found\")\n",
        "          return i\n",
        "        if nums[i] < nums[i+1]:\n",
        "          lo = math.ceil((hi-lo)/2) + lo\n",
        "        else:\n",
        "          hi = math.floor((hi-lo)/2) + lo\n",
        "      return lo\n",
        "\n",
        "# nums = [1,2,3,1]\n",
        "nums = [1,2,1,3,5,6,4]\n",
        "Solution().findPeakElement(nums)"
      ],
      "metadata": {
        "colab": {
          "base_uri": "https://localhost:8080/"
        },
        "id": "jKd70W9Ofu4C",
        "outputId": "978aa830-c757-47b3-c915-62440ed27c6a"
      },
      "execution_count": null,
      "outputs": [
        {
          "output_type": "execute_result",
          "data": {
            "text/plain": [
              "5"
            ]
          },
          "metadata": {},
          "execution_count": 129
        }
      ]
    },
    {
      "cell_type": "code",
      "source": [
        "class Solution:\n",
        "    def search(self, nums: List[int], target: int) -> int:\n",
        "      lo,hi = 0,len(nums)-1\n",
        "      while lo != hi:\n",
        "        i = math.floor((hi-lo)/2) + lo\n",
        "        print(lo,hi,i)\n",
        "        if i == len(nums)-1 or i < len(nums)-1 and nums[i] > nums[i+1]:\n",
        "          # print(\"found it\",i)\n",
        "          lo = hi = i\n",
        "          break\n",
        "        if nums[i] > nums[hi]:\n",
        "          lo = math.ceil((hi-lo)/2) + lo\n",
        "        else:\n",
        "          hi = math.floor((hi-lo)/2) + lo\n",
        "\n",
        "      pivot = lo\n",
        "      if target >= nums[0] and target <= nums[pivot]:\n",
        "        lo,hi = 0,pivot\n",
        "      else:\n",
        "        lo,hi = min(len(nums)-1,pivot+1),len(nums)-1\n",
        "      # print(\"pivot\",pivot,lo,hi)\n",
        "\n",
        "      tmp = 0\n",
        "      while lo != hi:\n",
        "        i = (hi-lo)//2 + lo\n",
        "        # print(lo,hi,i)\n",
        "        if nums[i] == target: return i\n",
        "        if nums[i] < target:\n",
        "          lo = math.ceil((hi-lo)/2) + lo\n",
        "        else:\n",
        "          hi = math.floor((hi-lo)/2) + lo\n",
        "      return lo if target == nums[lo] else -1\n",
        "\n",
        "# nums = [4,5,6,7,0,1,2]\n",
        "# target = 0\n",
        "# nums = [4,5,6,7,0,1,2]\n",
        "# target = 3\n",
        "# nums = [1]\n",
        "# target = 0\n",
        "# nums = [1,3]\n",
        "# target = 3\n",
        "# nums = [3,1]\n",
        "# target = 3\n",
        "# nums = [1]\n",
        "# target = 1\n",
        "# nums = [4,5,6,7,8,1,2,3]\n",
        "# target = 8\n",
        "Solution().search(nums,target)"
      ],
      "metadata": {
        "colab": {
          "base_uri": "https://localhost:8080/"
        },
        "id": "ppqOTorUhnyc",
        "outputId": "86eb1651-fabc-4ed2-b104-16e11aacfae8"
      },
      "execution_count": null,
      "outputs": [
        {
          "output_type": "stream",
          "name": "stdout",
          "text": [
            "0 6 3\n",
            "0 3 1\n"
          ]
        },
        {
          "output_type": "execute_result",
          "data": {
            "text/plain": [
              "3"
            ]
          },
          "metadata": {},
          "execution_count": 130
        }
      ]
    },
    {
      "cell_type": "code",
      "source": [
        "class Solution:\n",
        "    def searchRange(self, nums: List[int], target: int) -> List[int]:\n",
        "      if len(nums) == 0: return [-1,-1]\n",
        "      lo,hi = 0,len(nums)-1\n",
        "      i = 0\n",
        "      while lo != hi:\n",
        "        i = (hi-lo)//2 + lo\n",
        "        # print(\"beg:\",lo,i,hi)\n",
        "        if nums[i] == target and (i == 0 or nums[i-1] != target):\n",
        "          # print(\"found beg\", lo,i,hi)\n",
        "          lo = i\n",
        "          break\n",
        "        if nums[i] < target:\n",
        "          lo = math.ceil((hi-lo)/2) + lo\n",
        "        else:\n",
        "          hi = math.floor((hi-lo)/2) + lo\n",
        "      beg = lo if nums[lo] == target else -1\n",
        "\n",
        "      lo,hi = 0,len(nums)-1\n",
        "      i = 0\n",
        "      while lo != hi:\n",
        "        i = (hi-lo)//2 + lo\n",
        "        # print(\"end:\",lo,i,hi)\n",
        "        if nums[i] == target and (i == len(nums)-1 or nums[i+1] != target):\n",
        "          # print(\"found end\")\n",
        "          lo = i\n",
        "          break\n",
        "        if nums[i] <= target:\n",
        "          lo = math.ceil((hi-lo)/2) + lo\n",
        "        else:\n",
        "          hi = math.floor((hi-lo)/2) + lo\n",
        "      end = lo if nums[lo] == target else -1\n",
        "\n",
        "      return [beg,end]\n",
        "\n",
        "nums = [5,7,7,8,8,10]\n",
        "target = 8\n",
        "nums = [5,7,7,8,8,10]\n",
        "target = 6\n",
        "nums = []\n",
        "target = 0\n",
        "nums = [1]\n",
        "target = 1\n",
        "nums = [2,2]\n",
        "target = 2\n",
        "Solution().searchRange(nums, target)"
      ],
      "metadata": {
        "colab": {
          "base_uri": "https://localhost:8080/"
        },
        "id": "SmwNuHb-C0c1",
        "outputId": "76a4b82a-8c88-4cab-e30c-54ebf0cba089"
      },
      "execution_count": null,
      "outputs": [
        {
          "output_type": "execute_result",
          "data": {
            "text/plain": [
              "[0, 1]"
            ]
          },
          "metadata": {},
          "execution_count": 131
        }
      ]
    },
    {
      "cell_type": "code",
      "source": [
        "class Solution:\n",
        "    def findMin(self, nums: List[int]) -> int:\n",
        "      lo,hi = 0,len(nums)-1\n",
        "      while lo != hi:\n",
        "        i = math.floor((hi-lo)/2) + lo\n",
        "        # print(lo,i,hi)\n",
        "        if i == len(nums)-1 or i < len(nums)-1 and nums[i] > nums[i+1]:\n",
        "          # print(\"found it\",i)\n",
        "          lo = hi = i\n",
        "          break\n",
        "        if nums[i] > nums[hi]:\n",
        "          lo = math.ceil((hi-lo)/2) + lo\n",
        "        else:\n",
        "          hi = math.floor((hi-lo)/2) + lo\n",
        "      if nums[0] < nums[len(nums)-1]:\n",
        "        pivot = len(nums)-1\n",
        "      else:\n",
        "        pivot = lo\n",
        "      # print(pivot,lo,hi)\n",
        "      if pivot < len(nums)-1:\n",
        "        return nums[pivot+1]\n",
        "      else:\n",
        "        return nums[0]\n",
        "\n",
        "nums = [3,4,5,1,2]\n",
        "# nums = [4,5,6,7,0,1,2]\n",
        "# nums = [11,13,15,17]\n",
        "Solution().findMin(nums)"
      ],
      "metadata": {
        "colab": {
          "base_uri": "https://localhost:8080/"
        },
        "id": "N9A7ZIkiJBxp",
        "outputId": "9881b2f3-fe5b-4a30-d5d9-0f6316331702"
      },
      "execution_count": null,
      "outputs": [
        {
          "output_type": "execute_result",
          "data": {
            "text/plain": [
              "1"
            ]
          },
          "metadata": {},
          "execution_count": 132
        }
      ]
    },
    {
      "cell_type": "code",
      "source": [
        "class Solution:\n",
        "    def findMedianSortedArrays(self, nums1: List[int], nums2: List[int]) -> float:\n",
        "      merged = nums1 + nums2\n",
        "      merged.sort()\n",
        "      if len(merged) % 2:\n",
        "        return merged[len(merged)//2]\n",
        "      else:\n",
        "        return (merged[len(merged)//2]+merged[len(merged)//2-1])/2\n",
        "\n",
        "nums1 = [1,3]\n",
        "nums2 = [2]\n",
        "nums1 = [1,2]\n",
        "nums2 = [3,4]\n",
        "Solution().findMedianSortedArrays(nums1, nums2)"
      ],
      "metadata": {
        "colab": {
          "base_uri": "https://localhost:8080/"
        },
        "id": "JAvgd-hiRhih",
        "outputId": "773312dd-283c-4942-caec-ec72fffed7cc"
      },
      "execution_count": null,
      "outputs": [
        {
          "output_type": "execute_result",
          "data": {
            "text/plain": [
              "2.5"
            ]
          },
          "metadata": {},
          "execution_count": 133
        }
      ]
    },
    {
      "cell_type": "code",
      "source": [
        "import heapq\n",
        "\n",
        "class Solution:\n",
        "    def findKthLargest(self, nums: List[int], k: int) -> int:\n",
        "      return heapq.nlargest(k, nums)[-1]\n",
        "\n",
        "nums = [3,2,1,5,6,4]\n",
        "k = 2\n",
        "nums = [3,2,3,1,2,4,5,5,6]\n",
        "k = 4\n",
        "Solution().findKthLargest(nums,k)"
      ],
      "metadata": {
        "colab": {
          "base_uri": "https://localhost:8080/"
        },
        "id": "PmC535oM3wCf",
        "outputId": "90af6742-9a59-49f4-a51d-2ab27378e614"
      },
      "execution_count": null,
      "outputs": [
        {
          "output_type": "execute_result",
          "data": {
            "text/plain": [
              "4"
            ]
          },
          "metadata": {},
          "execution_count": 134
        }
      ]
    },
    {
      "cell_type": "code",
      "source": [
        "class Solution:\n",
        "    def findMaximizedCapital(self, k: int, w: int, profits: List[int], capital: List[int]) -> int:\n",
        "      heap_profits = []\n",
        "      heap_capital = []\n",
        "      for i in range(len(profits)):\n",
        "        heapq.heappush(heap_capital, (capital[i],profits[i]))\n",
        "      for _ in range(k):\n",
        "        while len(heap_capital) > 0 and heap_capital[0][0] <= w:\n",
        "          capital, profit = heapq.heappop(heap_capital)\n",
        "          heapq.heappush(heap_profits, -profit)\n",
        "        if len(heap_profits) == 0: break\n",
        "        # print(heap_capital, heap_profits)\n",
        "        w += -heapq.heappop(heap_profits)\n",
        "      return w\n",
        "\n",
        "# k = 2\n",
        "# w = 0\n",
        "# profits = [1,2,3]\n",
        "# capital = [0,1,1]\n",
        "# k = 3\n",
        "# w = 0\n",
        "# profits = [1,2,3]\n",
        "# capital = [0,1,2]\n",
        "k = 1\n",
        "w = 0\n",
        "profits = [1,2,3]\n",
        "capital = [1,1,2]\n",
        "Solution().findMaximizedCapital(k,w,profits,capital)"
      ],
      "metadata": {
        "colab": {
          "base_uri": "https://localhost:8080/"
        },
        "id": "D96j9T7nl68A",
        "outputId": "4c622d87-e898-46ac-f93e-fd15daa3acd5"
      },
      "execution_count": null,
      "outputs": [
        {
          "output_type": "execute_result",
          "data": {
            "text/plain": [
              "0"
            ]
          },
          "metadata": {},
          "execution_count": 135
        }
      ]
    },
    {
      "cell_type": "code",
      "source": [
        "class Solution:\n",
        "    def kSmallestPairs(self, nums1: List[int], nums2: List[int], k: int) -> List[List[int]]:\n",
        "      heap = []\n",
        "      def push(i,j):\n",
        "        if i < len(nums1) and j < len(nums2):\n",
        "          heapq.heappush(heap, (nums1[i]+nums2[j],(i,j)))\n",
        "      push(0,0)\n",
        "      res = []\n",
        "      for _ in range(k):\n",
        "        _, (i,j) = heapq.heappop(heap)\n",
        "        res.append((nums1[i],nums2[j]))\n",
        "        push(i,j+1)\n",
        "        if j == 0: push(i+1,j)\n",
        "      return res\n",
        "\n",
        "nums1 = [1,7,11]\n",
        "nums2 = [2,4,6]\n",
        "k = 9\n",
        "# nums1 = [1,1,2]\n",
        "# nums2 = [1,2,3]\n",
        "# k = 2\n",
        "# nums1 = [1]\n",
        "# nums2 = [3,5,6,7,8,100]\n",
        "# k = 4\n",
        "# nums1 = [0,0,0,0,0,2,2,2,2]\n",
        "# nums2 = [-3,22,35,56,76]\n",
        "# k = 22\n",
        "# nums1 = [1,2,4,5,6]\n",
        "# nums2 = [3,5,7,9]\n",
        "# k = 20\n",
        "# nums1 = [-10,-4,0,0,6]\n",
        "# nums2 = [3,5,6,7,8,100]\n",
        "# k = 10\n",
        "Solution().kSmallestPairs(nums1,nums2,k)"
      ],
      "metadata": {
        "colab": {
          "base_uri": "https://localhost:8080/"
        },
        "id": "HF7tr3VCGBi7",
        "outputId": "2921b0b2-2eaf-4aa0-9159-a31c6cfe8c6d"
      },
      "execution_count": null,
      "outputs": [
        {
          "output_type": "execute_result",
          "data": {
            "text/plain": [
              "[(1, 2), (1, 4), (1, 6), (7, 2), (7, 4), (7, 6), (11, 2), (11, 4), (11, 6)]"
            ]
          },
          "metadata": {},
          "execution_count": 136
        }
      ]
    },
    {
      "cell_type": "code",
      "source": [
        "class MedianFinder:\n",
        "\n",
        "    def __init__(self):\n",
        "      self.lh = []\n",
        "      self.rh = []\n",
        "\n",
        "    def addNum(self, num: int) -> None:\n",
        "      if len(self.lh) == 0 or num < -self.lh[0]:\n",
        "        heapq.heappush(self.lh, -num)\n",
        "      else:\n",
        "        heapq.heappush(self.rh, num)\n",
        "      if len(self.lh) > len(self.rh)+1:\n",
        "        n = heapq.heappop(self.lh)\n",
        "        heapq.heappush(self.rh, -n)\n",
        "      elif len(self.rh) > len(self.lh):\n",
        "        n = heapq.heappop(self.rh)\n",
        "        heapq.heappush(self.lh, -n)\n",
        "      # print(self.lh,self.rh)\n",
        "\n",
        "    def findMedian(self) -> float:\n",
        "      if len(self.lh) > len(self.rh):\n",
        "        return -self.lh[0]\n",
        "      else:\n",
        "        return (-self.lh[0]+self.rh[0])/2\n",
        "\n",
        "medianFinder = MedianFinder()\n",
        "medianFinder.addNum(1)\n",
        "medianFinder.addNum(2)\n",
        "print(medianFinder.findMedian())\n",
        "medianFinder.addNum(3)\n",
        "print(medianFinder.findMedian())"
      ],
      "metadata": {
        "colab": {
          "base_uri": "https://localhost:8080/"
        },
        "id": "g2uu1IcT6I67",
        "outputId": "65195fb6-a76d-4a53-ac6b-90233774afe7"
      },
      "execution_count": null,
      "outputs": [
        {
          "output_type": "stream",
          "name": "stdout",
          "text": [
            "1.5\n",
            "2\n"
          ]
        }
      ]
    },
    {
      "cell_type": "code",
      "source": [
        "class Solution:\n",
        "    def addBinary(self, a: str, b: str) -> str:\n",
        "      def to_int(s):\n",
        "        ret = 0\n",
        "        while len(s):\n",
        "          ret += int(s[0])\n",
        "          s = s[1:]\n",
        "          if len(s): ret *= 2\n",
        "        return ret\n",
        "      def to_str(n):\n",
        "        ret = []\n",
        "        while n:\n",
        "          s = str(n%2)\n",
        "          ret.insert(0,s)\n",
        "          n = n//2\n",
        "        if len(ret) == 0: ret = [\"0\"]\n",
        "        return \"\".join(ret)\n",
        "      return to_str(to_int(a)+to_int(b))\n",
        "\n",
        "a = \"11\"\n",
        "b = \"1\"\n",
        "a = \"1010\"\n",
        "b = \"1011\"\n",
        "a = \"0\"\n",
        "b = \"0\"\n",
        "Solution().addBinary(a,b)"
      ],
      "metadata": {
        "colab": {
          "base_uri": "https://localhost:8080/",
          "height": 35
        },
        "id": "aGa9EGtYDg_j",
        "outputId": "e4e0934c-731a-43a1-a570-67d9ab0a722f"
      },
      "execution_count": null,
      "outputs": [
        {
          "output_type": "execute_result",
          "data": {
            "text/plain": [
              "'0'"
            ],
            "application/vnd.google.colaboratory.intrinsic+json": {
              "type": "string"
            }
          },
          "metadata": {},
          "execution_count": 138
        }
      ]
    },
    {
      "cell_type": "code",
      "source": [
        "class Solution:\n",
        "    def reverseBits(self, n: int) -> int:\n",
        "      def to_int(s):\n",
        "        ret = 0\n",
        "        while len(s):\n",
        "          ret += int(s[0])\n",
        "          s = s[1:]\n",
        "          if len(s): ret *= 2\n",
        "        return ret\n",
        "      def to_str(n):\n",
        "        ret = []\n",
        "        for _ in range(32):\n",
        "          s = str(n%2)\n",
        "          ret.insert(0,s)\n",
        "          n = n//2\n",
        "        if len(ret) == 0: ret = [\"0\"]\n",
        "        return \"\".join(ret)\n",
        "      return to_int(to_str(n)[::-1])\n",
        "\n",
        "n = 0b00000010100101000001111010011100\n",
        "Solution().reverseBits(n)"
      ],
      "metadata": {
        "colab": {
          "base_uri": "https://localhost:8080/"
        },
        "id": "y2oPunKgIoli",
        "outputId": "32753f85-959e-4703-c7fb-6ea05d3c9fbd"
      },
      "execution_count": null,
      "outputs": [
        {
          "output_type": "execute_result",
          "data": {
            "text/plain": [
              "964176192"
            ]
          },
          "metadata": {},
          "execution_count": 139
        }
      ]
    },
    {
      "cell_type": "code",
      "source": [
        "class Solution:\n",
        "    def hammingWeight(self, n: int) -> int:\n",
        "      count = 0\n",
        "      while n:\n",
        "        if n%2: count += 1\n",
        "        n = n//2\n",
        "      return count\n",
        "\n",
        "n = 2147483645\n",
        "Solution().hammingWeight(n)"
      ],
      "metadata": {
        "colab": {
          "base_uri": "https://localhost:8080/"
        },
        "id": "Q5P-SJIdKZha",
        "outputId": "759464f6-2373-42ec-a948-c2142ad2b26b"
      },
      "execution_count": null,
      "outputs": [
        {
          "output_type": "execute_result",
          "data": {
            "text/plain": [
              "30"
            ]
          },
          "metadata": {},
          "execution_count": 140
        }
      ]
    },
    {
      "cell_type": "code",
      "source": [
        "class Solution:\n",
        "    def singleNumber(self, nums: List[int]) -> int:\n",
        "      ret = 0\n",
        "      for n in nums:\n",
        "        ret = ret ^ n\n",
        "      return ret\n",
        "\n",
        "nums = [2,2,1]\n",
        "Solution().singleNumber(nums)"
      ],
      "metadata": {
        "colab": {
          "base_uri": "https://localhost:8080/"
        },
        "id": "vUjR7FsZLNAT",
        "outputId": "49dceae8-cf08-4161-fecc-a86f08aa6de7"
      },
      "execution_count": null,
      "outputs": [
        {
          "output_type": "execute_result",
          "data": {
            "text/plain": [
              "1"
            ]
          },
          "metadata": {},
          "execution_count": 141
        }
      ]
    },
    {
      "cell_type": "code",
      "source": [
        "class Solution:\n",
        "    def singleNumber(self, nums: List[int]) -> int:\n",
        "      bits = [0 for _ in range(32)]\n",
        "      for n in nums:\n",
        "        for i in range(31,-1,-1):\n",
        "          if n%2:\n",
        "            bits[i] += 1\n",
        "          n = n//2\n",
        "      # print(bits)\n",
        "      num = int(\"\".join([str(x%3) for x in bits]),2)\n",
        "      if bits[0]%3: num -= 2**32\n",
        "      return num\n",
        "\n",
        "# nums = [2,2,3,2]\n",
        "# nums = [0,1,0,1,0,1,99]\n",
        "# nums = [3,3,3,2]\n",
        "nums = [-2,-2,1,1,4,1,4,4,-4,-2]\n",
        "Solution().singleNumber(nums)"
      ],
      "metadata": {
        "colab": {
          "base_uri": "https://localhost:8080/"
        },
        "id": "N7zHgepxZowI",
        "outputId": "b3dff63b-5660-4058-c297-7706afa56bc6"
      },
      "execution_count": null,
      "outputs": [
        {
          "output_type": "execute_result",
          "data": {
            "text/plain": [
              "-4"
            ]
          },
          "metadata": {},
          "execution_count": 142
        }
      ]
    },
    {
      "cell_type": "code",
      "source": [
        "class Solution:\n",
        "    def rangeBitwiseAnd(self, left: int, right: int) -> int:\n",
        "      res = left & right\n",
        "      if right-left == 0: return res\n",
        "      res &= ~2**math.ceil(math.log(right-left,2))+1\n",
        "      return res\n",
        "\n",
        "left = 0\n",
        "right = 0\n",
        "left = 1\n",
        "right = 2147483647\n",
        "left = 1\n",
        "right = 1\n",
        "left = 3\n",
        "right = 6\n",
        "Solution().rangeBitwiseAnd(left,right)"
      ],
      "metadata": {
        "colab": {
          "base_uri": "https://localhost:8080/"
        },
        "id": "8FdL6kNEKm_x",
        "outputId": "f991b94a-76bc-4131-e3bc-fd44ff6578b8"
      },
      "execution_count": null,
      "outputs": [
        {
          "output_type": "execute_result",
          "data": {
            "text/plain": [
              "0"
            ]
          },
          "metadata": {},
          "execution_count": 143
        }
      ]
    },
    {
      "cell_type": "code",
      "source": [
        "class Solution:\n",
        "    def isPalindrome(self, x: int) -> bool:\n",
        "      if x < 0: return False\n",
        "      if x == 0: return True\n",
        "      tens = math.floor(math.log(x,10))\n",
        "      # print(tens)\n",
        "      for i in range((tens+1)//2):\n",
        "        print((x//(10**(tens-i)))%10, (x//(10**(i)))%10)\n",
        "        if (x//(10**(tens-i)))%10 != (x//(10**(i)))%10: return False\n",
        "      return True\n",
        "\n",
        "x = 0\n",
        "Solution().isPalindrome(x)"
      ],
      "metadata": {
        "colab": {
          "base_uri": "https://localhost:8080/"
        },
        "id": "YrWSjWSWP11P",
        "outputId": "6db266c0-86a7-4750-fef9-12e440c9f75c"
      },
      "execution_count": null,
      "outputs": [
        {
          "output_type": "execute_result",
          "data": {
            "text/plain": [
              "True"
            ]
          },
          "metadata": {},
          "execution_count": 144
        }
      ]
    },
    {
      "cell_type": "code",
      "source": [
        "class Solution:\n",
        "    def plusOne(self, digits: List[int]) -> List[int]:\n",
        "      n = int(\"\".join([str(x) for x in digits]))\n",
        "      return [int(x) for x in list(str(n+1))]\n",
        "\n",
        "digits = [1,2,3]\n",
        "Solution().plusOne(digits)"
      ],
      "metadata": {
        "colab": {
          "base_uri": "https://localhost:8080/"
        },
        "id": "G1FrArGqNgxH",
        "outputId": "c69c851e-fa10-44d0-a5e9-a81c504513ac"
      },
      "execution_count": null,
      "outputs": [
        {
          "output_type": "execute_result",
          "data": {
            "text/plain": [
              "[1, 2, 4]"
            ]
          },
          "metadata": {},
          "execution_count": 145
        }
      ]
    },
    {
      "cell_type": "code",
      "source": [
        "class Solution:\n",
        "    def trailingZeroes(self, n: int) -> int:\n",
        "      count = 0\n",
        "      while n//5 > 0:\n",
        "        count += n//5\n",
        "        n = n//5\n",
        "      return count\n",
        "\n",
        "n = 100\n",
        "Solution().trailingZeroes(n)"
      ],
      "metadata": {
        "colab": {
          "base_uri": "https://localhost:8080/"
        },
        "id": "NBbxc7vTPJae",
        "outputId": "9a75f580-6664-457c-e1f1-746f0b304b13"
      },
      "execution_count": null,
      "outputs": [
        {
          "output_type": "execute_result",
          "data": {
            "text/plain": [
              "24"
            ]
          },
          "metadata": {},
          "execution_count": 146
        }
      ]
    },
    {
      "cell_type": "code",
      "source": [
        "class Solution:\n",
        "    def mySqrt(self, x: int) -> int:\n",
        "      if x == 0: return 0\n",
        "      ret = x\n",
        "      while ret*ret >= x:\n",
        "        ret = ret >> 1\n",
        "      while ret*ret <= x:\n",
        "        ret += 1\n",
        "      return ret-1\n",
        "\n",
        "x = 0\n",
        "Solution().mySqrt(x)"
      ],
      "metadata": {
        "colab": {
          "base_uri": "https://localhost:8080/"
        },
        "id": "hXYL9F0_ibE6",
        "outputId": "8b21466b-50f0-4b3b-8f96-0ffc7422dd8c"
      },
      "execution_count": null,
      "outputs": [
        {
          "output_type": "execute_result",
          "data": {
            "text/plain": [
              "0"
            ]
          },
          "metadata": {},
          "execution_count": 147
        }
      ]
    },
    {
      "cell_type": "code",
      "source": [
        "class Solution:\n",
        "    def myPow(self, x: float, n: int) -> float:\n",
        "      return x ** n\n",
        "\n",
        "x = 2.00000\n",
        "n = 10\n",
        "Solution().myPow(x,n)"
      ],
      "metadata": {
        "colab": {
          "base_uri": "https://localhost:8080/"
        },
        "id": "rY5vodJ-jo14",
        "outputId": "e224a243-d196-448c-c9bb-a4e363685d15"
      },
      "execution_count": null,
      "outputs": [
        {
          "output_type": "execute_result",
          "data": {
            "text/plain": [
              "1024.0"
            ]
          },
          "metadata": {},
          "execution_count": 148
        }
      ]
    },
    {
      "cell_type": "code",
      "source": [
        "class Solution:\n",
        "    def maxPoints(self, points: List[List[int]]) -> int:\n",
        "      if len(points) <= 1: return len(points)\n",
        "      ret = 0\n",
        "      def calc_mb(x1,y1,x2,y2):\n",
        "        if x2-x1 == 0:\n",
        "          return float('inf'),x1\n",
        "        m = (y2-y1) / (x2-x1)\n",
        "        if m == 0: return 0,y1\n",
        "        return m, y1-m*x1\n",
        "      def intersect(m,b,x,y):\n",
        "        if m == float('inf'): return x==b\n",
        "        if m == 0: return y==b\n",
        "        return math.isclose(y, m*x + b)\n",
        "      for i in range(len(points)):\n",
        "        for j in range(i+1,len(points)):\n",
        "          m,b = calc_mb(*points[i],*points[j])\n",
        "          # print(m,b)\n",
        "          count = 2\n",
        "          for k in range(j+1,len(points)):\n",
        "            if intersect(m,b,*points[k]):\n",
        "              count += 1\n",
        "          ret = max(ret,count)\n",
        "      return ret\n",
        "\n",
        "# points = [[1,1],[2,2],[3,3]]\n",
        "# points = [[1,1],[3,2],[5,3],[4,1],[2,3],[1,4]]\n",
        "# points = [[0,0]]\n",
        "# points = [[2,3],[3,3],[-5,3]]\n",
        "# points = [[4,5],[4,-1],[4,0]]\n",
        "# points = [[-6,-1],[3,1],[12,3]]\n",
        "points = [[-184,-551],[-105,-467],[-90,-394],[-60,-248],[115,359],[138,429],[60,336],[150,774],[207,639],[-150,-686],[-135,-613],[92,289],[23,79],[135,701],[0,9],[-230,-691],[-115,-341],[-161,-481],[230,709],[-30,-102]]\n",
        "Solution().maxPoints(points)"
      ],
      "metadata": {
        "colab": {
          "base_uri": "https://localhost:8080/"
        },
        "id": "2QpBXhY1k9Fy",
        "outputId": "2c29eddf-d5c3-46dc-94db-564f2b140a9c"
      },
      "execution_count": null,
      "outputs": [
        {
          "output_type": "execute_result",
          "data": {
            "text/plain": [
              "11"
            ]
          },
          "metadata": {},
          "execution_count": 149
        }
      ]
    },
    {
      "cell_type": "code",
      "source": [
        "from functools import lru_cache\n",
        "\n",
        "class Solution:\n",
        "    @lru_cache\n",
        "    def climbStairs(self, n: int) -> int:\n",
        "      if n == 0: return 0\n",
        "      if n == 1: return 1\n",
        "      if n == 2: return 2\n",
        "      return self.climbStairs(n-1) + self.climbStairs(n-2)\n",
        "\n",
        "n = 44\n",
        "Solution().climbStairs(n)"
      ],
      "metadata": {
        "colab": {
          "base_uri": "https://localhost:8080/"
        },
        "id": "OXW3OYtVtugF",
        "outputId": "1f9c3fc3-a606-47e9-fb85-11dd552ec60a"
      },
      "execution_count": null,
      "outputs": [
        {
          "output_type": "execute_result",
          "data": {
            "text/plain": [
              "1134903170"
            ]
          },
          "metadata": {},
          "execution_count": 150
        }
      ]
    },
    {
      "cell_type": "code",
      "source": [
        "class Solution:\n",
        "    def rob(self, nums: List[int]) -> int:\n",
        "      @lru_cache\n",
        "      def recurse(start):\n",
        "        if len(self.nums)-start == 1: return self.nums[start]\n",
        "        if len(self.nums)-start == 2: return max(self.nums[start:])\n",
        "        if len(self.nums)-start == 3: return max(self.nums[start+1],self.nums[start]+self.nums[start+2])\n",
        "        return max(self.nums[start]+recurse(start+2), self.nums[start+1]+recurse(start+3))\n",
        "\n",
        "      self.nums = nums\n",
        "      return recurse(0)\n",
        "\n",
        "# nums = [1,2,3,1]\n",
        "nums = [2,7,9,3,1]\n",
        "Solution().rob(nums)"
      ],
      "metadata": {
        "colab": {
          "base_uri": "https://localhost:8080/"
        },
        "id": "I1cww0Om1k58",
        "outputId": "df8fe5f7-a1d3-4e41-e83b-6d5653123b3a"
      },
      "execution_count": null,
      "outputs": [
        {
          "output_type": "execute_result",
          "data": {
            "text/plain": [
              "12"
            ]
          },
          "metadata": {},
          "execution_count": 168
        }
      ]
    },
    {
      "cell_type": "code",
      "source": [
        "class Solution:\n",
        "    def wordBreak(self, s: str, wordDict: List[str]) -> bool:\n",
        "      @lru_cache\n",
        "      def recurse(s):\n",
        "        if len(s) == 0: return True\n",
        "        for word in self.wordDict:\n",
        "          if s[:len(word)] == word:\n",
        "            if recurse(s[len(word):]): return True\n",
        "        return False\n",
        "\n",
        "      self.wordDict = wordDict\n",
        "      return recurse(s)\n",
        "\n",
        "s = \"leetcode\"\n",
        "wordDict = [\"leet\",\"code\"]\n",
        "s = \"applepenapple\"\n",
        "wordDict = [\"apple\",\"pen\"]\n",
        "s = \"catsandog\"\n",
        "wordDict = [\"cats\",\"dog\",\"sand\",\"and\",\"cat\"]\n",
        "Solution().wordBreak(s,wordDict)"
      ],
      "metadata": {
        "colab": {
          "base_uri": "https://localhost:8080/"
        },
        "id": "miwfI5AG8l02",
        "outputId": "7792d3f1-c529-4fe8-a200-3ad6396fed9e"
      },
      "execution_count": null,
      "outputs": [
        {
          "output_type": "execute_result",
          "data": {
            "text/plain": [
              "False"
            ]
          },
          "metadata": {},
          "execution_count": 182
        }
      ]
    },
    {
      "cell_type": "code",
      "source": [
        "class Solution:\n",
        "    def coinChange(self, coins: List[int], amount: int) -> int:\n",
        "      @lru_cache(maxsize=None)\n",
        "      def recurse(amount):\n",
        "        if amount == 0: return 0\n",
        "        if amount < 0: return float(\"inf\")\n",
        "        ret = float(\"inf\")\n",
        "        for coin in self.coins:\n",
        "          ret = min(ret, 1+recurse(amount-coin))\n",
        "        return ret\n",
        "\n",
        "      self.coins = coins\n",
        "      ret = recurse(amount)\n",
        "      return ret if ret != float(\"inf\") else -1\n",
        "\n",
        "coins = [1,2,5]\n",
        "amount = 11\n",
        "coins = [2]\n",
        "amount = 3\n",
        "coins = [1]\n",
        "amount = 0\n",
        "coins = [1,2,5]\n",
        "amount = 100\n",
        "coins = [186,419,83,408]\n",
        "amount = 6249\n",
        "Solution().coinChange(coins, amount)"
      ],
      "metadata": {
        "colab": {
          "base_uri": "https://localhost:8080/"
        },
        "id": "IoHjUq-_-ORm",
        "outputId": "2489a0f5-7265-4783-ef4d-83cd6de955c9"
      },
      "execution_count": null,
      "outputs": [
        {
          "output_type": "execute_result",
          "data": {
            "text/plain": [
              "20"
            ]
          },
          "metadata": {},
          "execution_count": 192
        }
      ]
    },
    {
      "cell_type": "code",
      "source": [
        "from typing import *\n",
        "from functools import lru_cache\n",
        "\n",
        "class Solution:\n",
        "    def lengthOfLIS(self, nums: List[int]) -> int:\n",
        "      @lru_cache(maxsize=None)\n",
        "      def recurse(start):\n",
        "        ret = 1\n",
        "        prev = self.nums[start]\n",
        "        count = 1\n",
        "        for i in range(start+1,len(self.nums)):\n",
        "          # print(i,ret,prev,count,nums)\n",
        "          if self.nums[i] == prev+1:\n",
        "            prev = self.nums[i]\n",
        "            count += 1\n",
        "          elif self.nums[i] > prev:\n",
        "            ret = max(ret, count+recurse(i))\n",
        "        # print(ret,prev,count,nums)\n",
        "        ret = max(ret, count)\n",
        "        return ret\n",
        "      ret = 0\n",
        "      self.nums = nums\n",
        "      for i in range(len(nums)):\n",
        "         ret = max(ret, recurse(i))\n",
        "      return ret\n",
        "\n",
        "nums = [10,9,2,5,3,7,101,18]\n",
        "# nums = [0,1,0,3,2,3]\n",
        "# nums = [7,7,7,7,7,7,7]\n",
        "# nums = [1,2,2,2]\n",
        "Solution().lengthOfLIS(nums)"
      ],
      "metadata": {
        "colab": {
          "base_uri": "https://localhost:8080/",
          "height": 0
        },
        "id": "dz7iBUmzAOEO",
        "outputId": "636485cb-ade5-4464-cfa2-8896286c14a4"
      },
      "execution_count": 49,
      "outputs": [
        {
          "output_type": "execute_result",
          "data": {
            "text/plain": [
              "4"
            ]
          },
          "metadata": {},
          "execution_count": 49
        }
      ]
    },
    {
      "cell_type": "code",
      "source": [
        "class Solution:\n",
        "    def minimumTotal(self, triangle: List[List[int]]) -> int:\n",
        "      @lru_cache(maxsize=None)\n",
        "      def recurse(row,i):\n",
        "        if row == len(triangle)-1: return triangle[row][i]\n",
        "        else:\n",
        "          return triangle[row][i]+min(recurse(row+1,i), recurse(row+1,i+1))\n",
        "      return recurse(0,0)\n",
        "\n",
        "triangle = [[2],[3,4],[6,5,7],[4,1,8,3]]\n",
        "triangle = [[-10]]\n",
        "Solution().minimumTotal(triangle)"
      ],
      "metadata": {
        "id": "v20vR5LWE6y_",
        "colab": {
          "base_uri": "https://localhost:8080/",
          "height": 0
        },
        "outputId": "54fbeddd-89c6-4dea-bd71-4bced25a88a4"
      },
      "execution_count": 56,
      "outputs": [
        {
          "output_type": "execute_result",
          "data": {
            "text/plain": [
              "-10"
            ]
          },
          "metadata": {},
          "execution_count": 56
        }
      ]
    },
    {
      "cell_type": "code",
      "source": [
        "class Solution:\n",
        "    def minPathSum(self, grid: List[List[int]]) -> int:\n",
        "      @lru_cache(maxsize=None)\n",
        "      def recurse(row,col):\n",
        "        if row == len(grid)-1 and col == len(grid[0])-1:\n",
        "          return grid[row][col]\n",
        "        res = float(\"inf\")\n",
        "        if row < len(grid)-1:\n",
        "          res = grid[row][col] + recurse(row+1,col)\n",
        "        if col < len(grid[0])-1:\n",
        "          res = min(res, grid[row][col] + recurse(row,col+1))\n",
        "        return res\n",
        "      return recurse(0,0)\n",
        "\n",
        "grid = [[1,3,1],[1,5,1],[4,2,1]]\n",
        "grid = [[1,2,3],[4,5,6]]\n",
        "Solution().minPathSum(grid)"
      ],
      "metadata": {
        "colab": {
          "base_uri": "https://localhost:8080/",
          "height": 0
        },
        "id": "sXUTd4Y22gSx",
        "outputId": "27923a91-4055-43d1-9fed-e209bc9b5fe0"
      },
      "execution_count": 65,
      "outputs": [
        {
          "output_type": "execute_result",
          "data": {
            "text/plain": [
              "12"
            ]
          },
          "metadata": {},
          "execution_count": 65
        }
      ]
    },
    {
      "cell_type": "code",
      "source": [
        "class Solution:\n",
        "    def uniquePathsWithObstacles(self, obstacleGrid: List[List[int]]) -> int:\n",
        "      @lru_cache(maxsize=None)\n",
        "      def recurse(row,col):\n",
        "        if obstacleGrid[row][col] == 1: return 0\n",
        "        if row == len(obstacleGrid)-1 and col == len(obstacleGrid[0])-1: return 1\n",
        "        ret = 0\n",
        "        if row < len(obstacleGrid)-1:\n",
        "          ret += recurse(row+1,col)\n",
        "        if col < len(obstacleGrid[0])-1:\n",
        "          ret += recurse(row,col+1)\n",
        "        return ret\n",
        "      return recurse(0,0)\n",
        "\n",
        "obstacleGrid = [[0,0,0],[0,1,0],[0,0,0]]\n",
        "obstacleGrid = [[0,1],[0,0]]\n",
        "Solution().uniquePathsWithObstacles(obstacleGrid)"
      ],
      "metadata": {
        "colab": {
          "base_uri": "https://localhost:8080/",
          "height": 0
        },
        "id": "JqnTBbdl4bB5",
        "outputId": "f02a3244-b8c2-4fc1-c3df-48bb1150f205"
      },
      "execution_count": 76,
      "outputs": [
        {
          "output_type": "execute_result",
          "data": {
            "text/plain": [
              "1"
            ]
          },
          "metadata": {},
          "execution_count": 76
        }
      ]
    },
    {
      "cell_type": "code",
      "source": [
        "class Solution:\n",
        "    def longestPalindrome(self, s: str) -> str:\n",
        "      @lru_cache(maxsize=None)\n",
        "      def check(s):\n",
        "        for i in range(len(s)):\n",
        "          if s[i]!=s[len(s)-1-i]:\n",
        "            return False\n",
        "        return True\n",
        "      ret = \"\"\n",
        "      for i in range(len(s)):\n",
        "        for j in range(len(s)-1,i-1,-1):\n",
        "          if j-i+1 > len(ret):\n",
        "            if check(s[i:j+1]):\n",
        "              if len(s[i:j+1]) > len(ret): ret = s[i:j+1]\n",
        "      return ret\n",
        "\n",
        "s = \"babad\"\n",
        "# s = \"cbbd\"\n",
        "# s = \"ac\"\n",
        "Solution().longestPalindrome(s)"
      ],
      "metadata": {
        "colab": {
          "base_uri": "https://localhost:8080/",
          "height": 35
        },
        "id": "0hrWOvPN7mci",
        "outputId": "6c2a741c-9e78-44ae-a67e-546ee41818d4"
      },
      "execution_count": 136,
      "outputs": [
        {
          "output_type": "execute_result",
          "data": {
            "text/plain": [
              "'bab'"
            ],
            "application/vnd.google.colaboratory.intrinsic+json": {
              "type": "string"
            }
          },
          "metadata": {},
          "execution_count": 136
        }
      ]
    },
    {
      "cell_type": "code",
      "source": [
        "class Solution:\n",
        "    def isInterleave(self, s1: str, s2: str, s3: str) -> bool:\n",
        "      @lru_cache(maxsize=None)\n",
        "      def recurse(prefix,s1,s2):\n",
        "        if prefix != s3[:len(prefix)]: return False\n",
        "        if len(s1) == len(s2) == 0:\n",
        "          # if prefix == s3: print(prefix)\n",
        "          return prefix == s3\n",
        "        if len(s1) > 0 and recurse(prefix+s1[0],s1[1:],s2): return True\n",
        "        if len(s2) > 0 and recurse(prefix+s2[0],s1,s2[1:]): return True\n",
        "        return False\n",
        "      return recurse(\"\",s1,s2)\n",
        "\n",
        "s1 = \"aabcc\"\n",
        "s2 = \"dbbca\"\n",
        "s3 = \"aadbbcbcac\"\n",
        "s1 = \"aabcc\"\n",
        "s2 = \"dbbca\"\n",
        "s3 = \"aadbbbaccc\"\n",
        "s1 = \"bcaccccacccaa\"\n",
        "s2 = \"aabccbbbbbaca\"\n",
        "s3 = \"aabcbccbbbabaaccccacacccba\"\n",
        "Solution().isInterleave(s1,s2,s3)"
      ],
      "metadata": {
        "colab": {
          "base_uri": "https://localhost:8080/",
          "height": 0
        },
        "id": "UO0hgdD3Ahe4",
        "outputId": "07c51a0e-cceb-4eb5-cf1b-757e8656f330"
      },
      "execution_count": 151,
      "outputs": [
        {
          "output_type": "execute_result",
          "data": {
            "text/plain": [
              "False"
            ]
          },
          "metadata": {},
          "execution_count": 151
        }
      ]
    },
    {
      "cell_type": "code",
      "source": [
        "from functools import lru_cache\n",
        "\n",
        "class Solution:\n",
        "    def minDistance(self, word1: str, word2: str) -> int:\n",
        "      @lru_cache(maxsize=None)\n",
        "      def recurse(src,tgt):\n",
        "        # print(\"#\",src,tgt)\n",
        "        if src == tgt: return 0\n",
        "        ret = 10**10\n",
        "        i = 0\n",
        "        if len(src) and len(tgt) and src[0]==tgt[0]:\n",
        "          ret = min(ret,recurse(src[1:],tgt[1:]))\n",
        "        ret = min(ret, 1+recurse(src[1:],tgt[1:]))\n",
        "        if len(src):\n",
        "          ret = min(ret, 1+recurse(src[1:],tgt))\n",
        "        if len(tgt):\n",
        "          ret = min(ret, 1+recurse(src,tgt[1:]))\n",
        "        return ret\n",
        "      return recurse(word1,word2)\n",
        "\n",
        "word1 = \"horse\"\n",
        "word2 = \"ros\"\n",
        "word1 = \"intention\"\n",
        "word2 = \"execution\"\n",
        "word1 = \"sea\"\n",
        "word2 = \"eat\"\n",
        "word1 = \"prosperity\"\n",
        "word2 = \"properties\"\n",
        "Solution().minDistance(word1, word2)"
      ],
      "metadata": {
        "colab": {
          "base_uri": "https://localhost:8080/",
          "height": 0
        },
        "id": "6QvTTAKxGdBO",
        "outputId": "04ab384a-6678-402e-9645-874be5cfd845"
      },
      "execution_count": 16,
      "outputs": [
        {
          "output_type": "execute_result",
          "data": {
            "text/plain": [
              "4"
            ]
          },
          "metadata": {},
          "execution_count": 16
        }
      ]
    },
    {
      "cell_type": "code",
      "source": [
        "from typing import *\n",
        "\n",
        "class Solution:\n",
        "    def maxProfit(self, prices: List[int]) -> int:\n",
        "      left = []\n",
        "      minSeen = 10**10\n",
        "      maxProfit = 0\n",
        "      for i in range(len(prices)):\n",
        "        n = prices[i]\n",
        "        maxProfit = max(maxProfit, n-minSeen)\n",
        "        minSeen = min(minSeen, n)\n",
        "        left.append(maxProfit)\n",
        "      right = []\n",
        "      maxSeen = prices[len(prices)-1]\n",
        "      maxProfit = 0\n",
        "      for i in range(len(prices)-1,-1,-1):\n",
        "        n = prices[i]\n",
        "        maxProfit = max(maxProfit, maxSeen-n)\n",
        "        maxSeen = max(maxSeen, n)\n",
        "        right.insert(0,maxProfit)\n",
        "      ret = 0\n",
        "      for i in range(len(prices)-1):\n",
        "        ret = max(ret,left[i]+right[i+1])\n",
        "      ret = max(ret,right[0])\n",
        "      return ret\n",
        "\n",
        "# prices = [3,3,5,0,0,3,1,4]\n",
        "# prices = [1,2,3,4,5]\n",
        "prices = [7,6,4,3,1]\n",
        "Solution().maxProfit(prices)"
      ],
      "metadata": {
        "colab": {
          "base_uri": "https://localhost:8080/",
          "height": 0
        },
        "id": "mhzpcJ4mjhYi",
        "outputId": "d93c92b7-fdde-445c-8ac2-9e26990b0aa7"
      },
      "execution_count": 46,
      "outputs": [
        {
          "output_type": "execute_result",
          "data": {
            "text/plain": [
              "0"
            ]
          },
          "metadata": {},
          "execution_count": 46
        }
      ]
    },
    {
      "cell_type": "code",
      "source": [
        "from typing import *\n",
        "from functools import lru_cache\n",
        "\n",
        "class Solution:\n",
        "    def maxProfit(self, k: int, prices: List[int]) -> int:\n",
        "      @lru_cache(maxsize=None)\n",
        "      def recurse(start,k):\n",
        "        if k == 0 or start > len(prices)-1: return 0\n",
        "        # print(\"recurse\",start,k)\n",
        "        ret = 0\n",
        "        minSeen = prices[start]\n",
        "        maxProfit = 0\n",
        "        for i in range(start+1,len(prices)):\n",
        "          n = prices[i]\n",
        "          if n-minSeen > maxProfit:\n",
        "            maxProfit = n-minSeen\n",
        "            ret = max(ret,maxProfit+recurse(i+1,k-1))\n",
        "          minSeen = min(minSeen, n)\n",
        "        return ret\n",
        "      return recurse(0, k)\n",
        "\n",
        "# k = 2\n",
        "# prices = [2,4,1]\n",
        "# k = 2\n",
        "# prices = [3,2,6,5,0,3]\n",
        "k = 7\n",
        "prices = [48,12,60,93,97,42,25,64,17,56,85,93,9,48,52,42,58,85,81,84,69,36,1,54,23,15,72,15,11,94]\n",
        "# k = 100\n",
        "# prices = [70,4,83,56,94,72,78,43,2,86,65,100,94,56,41,66,3,33,10,3,45,94,15,12,78,60,58,0,58,15,21,7,11,41,12,96,83,77,47,62,27,19,40,63,30,4,77,52,17,57,21,66,63,29,51,40,37,6,44,42,92,16,64,33,31,51,36,0,29,95,92,35,66,91,19,21,100,95,40,61,15,83,31,55,59,84,21,99,45,64,90,25,40,6,41,5,25,52,59,61,51,37,92,90,20,20,96,66,79,28,83,60,91,30,52,55,1,99,8,68,14,84,59,5,34,93,25,10,93,21,35,66,88,20,97,25,63,80,20,86,33,53,43,86,53,55,61,77,9,2,56,78,43,19,68,69,49,1,6,5,82,46,24,33,85,24,56,51,45,100,94,26,15,33,35,59,25,65,32,26,93,73,0,40,92,56,76,18,2,45,64,66,64,39,77,1,55,90,10,27,85,40,95,78,39,40,62,30,12,57,84,95,86,57,41,52,77,17,9,15,33,17,68,63,59,40,5,63,30,86,57,5,55,47,0,92,95,100,25,79,84,93,83,93,18,20,32,63,65,56,68,7,31,100,88,93,11,43,20,13,54,34,29,90,50,24,13,44,89,57,65,95,58,32,67,38,2,41,4,63,56,88,39,57,10,1,97,98,25,45,96,35,22,0,37,74,98,14,37,77,54,40,17,9,28,83,13,92,3,8,60,52,64,8,87,77,96,70,61,3,96,83,56,5,99,81,94,3,38,91,55,83,15,30,39,54,79,55,86,85,32,27,20,74,91,99,100,46,69,77,34,97,0,50,51,21,12,3,84,84,48,69,94,28,64,36,70,34,70,11,89,58,6,90,86,4,97,63,10,37,48,68,30,29,53,4,91,7,56,63,22,93,69,93,1,85,11,20,41,36,66,67,57,76,85,37,80,99,63,23,71,11,73,41,48,54,61,49,91,97,60,38,99,8,17,2,5,56,3,69,90,62,75,76,55,71,83,34,2,36,56,40,15,62,39,78,7,37,58,22,64,59,80,16,2,34,83,43,40,39,38,35,89,72,56,77,78,14,45,0,57,32,82,93,96,3,51,27,36,38,1,19,66,98,93,91,18,95,93,39,12,40,73,100,17,72,93,25,35,45,91,78,13,97,56,40,69,86,69,99,4,36,36,82,35,52,12,46,74,57,65,91,51,41,42,17,78,49,75,9,23,65,44,47,93,84,70,19,22,57,27,84,57,85,2,61,17,90,34,49,74,64,46,61,0,28,57,78,75,31,27,24,10,93,34,19,75,53,17,26,2,41,89,79,37,14,93,55,74,11,77,60,61,2,68,0,15,12,47,12,48,57,73,17,18,11,83,38,5,36,53,94,40,48,81,53,32,53,12,21,90,100,32,29,94,92,83,80,36,73,59,61,43,100,36,71,89,9,24,56,7,48,34,58,0,43,34,18,1,29,97,70,92,88,0,48,51,53,0,50,21,91,23,34,49,19,17,9,23,43,87,72,39,17,17,97,14,29,4,10,84,10,33,100,86,43,20,22,58,90,70,48,23,75,4,66,97,95,1,80,24,43,97,15,38,53,55,86,63,40,7,26,60,95,12,98,15,95,71,86,46,33,68,32,86,89,18,88,97,32,42,5,57,13,1,23,34,37,13,65,13,47,55,85,37,57,14,89,94,57,13,6,98,47,52,51,19,99,42,1,19,74,60,8,48,28,65,6,12,57,49,27,95,1,2,10,25,49,68,57,32,99,24,19,25,32,89,88,73,96,57,14,65,34,8,82,9,94,91,19,53,61,70,54,4,66,26,8,63,62,9,20,42,17,52,97,51,53,19,48,76,40,80,6,1,89,52,70,38,95,62,24,88,64,42,61,6,50,91,87,69,13,58,43,98,19,94,65,56,72,20,72,92,85,58,46,67,2,23,88,58,25,88,18,92,46,15,18,37,9,90,2,38,0,16,86,44,69,71,70,30,38,17,69,69,80,73,79,56,17,95,12,37,43,5,5,6,42,16,44,22,62,37,86,8,51,73,46,44,15,98,54,22,47,28,11,75,52,49,38,84,55,3,69,100,54,66,6,23,98,22,99,21,74,75,33,67,8,80,90,23,46,93,69,85,46,87,76,93,38,77,37,72,35,3,82,11,67,46,53,29,60,33,12,62,23,27,72,35,63,68,14,35,27,98,94,65,3,13,48,83,27,84,86,49,31,63,40,12,34,79,61,47,29,33,52,100,85,38,24,1,16,62,89,36,74,9,49,62,89]\n",
        "Solution().maxProfit(k, prices)"
      ],
      "metadata": {
        "colab": {
          "base_uri": "https://localhost:8080/"
        },
        "id": "fxs5beBBqdcf",
        "outputId": "fd142853-939f-4b8c-bad3-ccb060788748"
      },
      "execution_count": 27,
      "outputs": [
        {
          "output_type": "execute_result",
          "data": {
            "text/plain": [
              "469"
            ]
          },
          "metadata": {},
          "execution_count": 27
        }
      ]
    }
  ]
}