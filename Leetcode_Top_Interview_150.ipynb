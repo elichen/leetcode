{
  "nbformat": 4,
  "nbformat_minor": 0,
  "metadata": {
    "colab": {
      "provenance": [],
      "authorship_tag": "ABX9TyMv8P+AzpK9Lu8en0OwHEWz",
      "include_colab_link": true
    },
    "kernelspec": {
      "name": "python3",
      "display_name": "Python 3"
    },
    "language_info": {
      "name": "python"
    }
  },
  "cells": [
    {
      "cell_type": "markdown",
      "metadata": {
        "id": "view-in-github",
        "colab_type": "text"
      },
      "source": [
        "<a href=\"https://colab.research.google.com/github/elichen/leetcode/blob/main/Leetcode_Top_Interview_150.ipynb\" target=\"_parent\"><img src=\"https://colab.research.google.com/assets/colab-badge.svg\" alt=\"Open In Colab\"/></a>"
      ]
    },
    {
      "cell_type": "code",
      "source": [
        "from typing import *"
      ],
      "metadata": {
        "id": "ow1JtLkmdqsj"
      },
      "execution_count": 1,
      "outputs": []
    },
    {
      "cell_type": "code",
      "execution_count": 2,
      "metadata": {
        "colab": {
          "base_uri": "https://localhost:8080/"
        },
        "id": "c8-kmm84dOu5",
        "outputId": "62d049f3-e35a-45fe-9346-acb6283269bb"
      },
      "outputs": [
        {
          "output_type": "execute_result",
          "data": {
            "text/plain": [
              "[1, 2, 2, 3, 5, 6]"
            ]
          },
          "metadata": {},
          "execution_count": 2
        }
      ],
      "source": [
        "class Solution:\n",
        "    def merge(self, nums1: List[int], m: int, nums2: List[int], n: int) -> None:\n",
        "        \"\"\"\n",
        "        Do not return anything, modify nums1 in-place instead.\n",
        "        \"\"\"\n",
        "        i_m, i_n = m-1,n-1\n",
        "        for i in range(m+n-1,-1,-1):\n",
        "            if i_m == -1 or (i_n != -1 and nums2[i_n] > nums1[i_m]):\n",
        "                nums1[i] = nums2[i_n]\n",
        "                i_n -= 1\n",
        "            else:\n",
        "                nums1[i] = nums1[i_m]\n",
        "                i_m -= 1\n",
        "\n",
        "nums1 =[1,2,3,0,0,0]\n",
        "m =3\n",
        "nums2 =[2,5,6]\n",
        "n =3\n",
        "s = Solution()\n",
        "s.merge(nums1, m, nums2, n)\n",
        "nums1"
      ]
    },
    {
      "cell_type": "code",
      "source": [
        "class Solution:\n",
        "    def removeElement(self, nums: List[int], val: int) -> int:\n",
        "      def find_next(i):\n",
        "        while i >= 0:\n",
        "          if nums[i] != val: break\n",
        "          i -= 1\n",
        "        return i\n",
        "      next = find_next(len(nums)-1)\n",
        "      k = 0\n",
        "      for i in range(len(nums)):\n",
        "        # print(i,next,nums)\n",
        "        if nums[i] == val:\n",
        "          if next > 0 and i<next:\n",
        "            nums[i],nums[next] = nums[next],nums[i]\n",
        "            next = find_next(next)\n",
        "            k += 1\n",
        "        else:\n",
        "          k += 1\n",
        "      return k\n",
        "\n",
        "nums = [0,1,2,2,3,0,4,2]\n",
        "val = 2\n",
        "s = Solution()\n",
        "k = s.removeElement(nums,val)\n",
        "print(nums,k)"
      ],
      "metadata": {
        "colab": {
          "base_uri": "https://localhost:8080/"
        },
        "id": "nABE5-wegtpQ",
        "outputId": "517f307a-f35b-4e19-ca63-f28294c94734"
      },
      "execution_count": 3,
      "outputs": [
        {
          "output_type": "stream",
          "name": "stdout",
          "text": [
            "[0, 1, 4, 0, 3, 2, 2, 2] 5\n"
          ]
        }
      ]
    },
    {
      "cell_type": "code",
      "source": [
        "class Solution:\n",
        "    def removeDuplicates(self, nums: List[int]) -> int:\n",
        "        def find_next(i):\n",
        "          t = i\n",
        "          while i < len(nums):\n",
        "            if nums[i] != nums[t]: break\n",
        "            i += 1\n",
        "          return i\n",
        "        k = 0\n",
        "        i = 0\n",
        "        next = 0\n",
        "        while next < len(nums):\n",
        "          nums[i] = nums[next]\n",
        "          k += 1\n",
        "          next = find_next(next)\n",
        "          i += 1\n",
        "        return k\n",
        "\n",
        "nums = [0,0,1,1,1,2,2,3,3,4]\n",
        "s = Solution()\n",
        "k = s.removeDuplicates(nums)\n",
        "print(nums,k)"
      ],
      "metadata": {
        "colab": {
          "base_uri": "https://localhost:8080/"
        },
        "id": "7mRVVuWdpjFb",
        "outputId": "96f2bf6f-deac-4c6a-992b-15e8dc8c8943"
      },
      "execution_count": 4,
      "outputs": [
        {
          "output_type": "stream",
          "name": "stdout",
          "text": [
            "[0, 1, 2, 3, 4, 2, 2, 3, 3, 4] 5\n"
          ]
        }
      ]
    },
    {
      "cell_type": "code",
      "source": [
        "class Solution:\n",
        "    def removeDuplicates(self, nums: List[int]) -> int:\n",
        "        def find_next(i,seen):\n",
        "          t = i\n",
        "          i += 1\n",
        "          while i < len(nums):\n",
        "            if nums[i] != nums[t]:\n",
        "              seen = 0\n",
        "              break\n",
        "            if seen < 1:\n",
        "              seen += 1\n",
        "              break\n",
        "            i += 1\n",
        "          return i,seen\n",
        "        k = 0\n",
        "        i = 0\n",
        "        next = 0\n",
        "        seen = 0\n",
        "        while next < len(nums):\n",
        "          # print(i,next,seen)\n",
        "          nums[i] = nums[next]\n",
        "          k += 1\n",
        "          i += 1\n",
        "          next,seen = find_next(next,seen)\n",
        "        return k\n",
        "\n",
        "nums = [1,1,1,2,2,3]\n",
        "s = Solution()\n",
        "k = s.removeDuplicates(nums)\n",
        "print(nums,k)"
      ],
      "metadata": {
        "colab": {
          "base_uri": "https://localhost:8080/"
        },
        "id": "6OGCmJHBsbz8",
        "outputId": "eba40d70-dabb-4be0-9c28-8d8c382fa5cb"
      },
      "execution_count": 5,
      "outputs": [
        {
          "output_type": "stream",
          "name": "stdout",
          "text": [
            "[1, 1, 2, 2, 3, 3] 5\n"
          ]
        }
      ]
    },
    {
      "cell_type": "code",
      "source": [
        "class Solution:\n",
        "    def majorityElement(self, nums: List[int]) -> int:\n",
        "      map = {}\n",
        "      for n in nums:\n",
        "        map[n] = map.get(n, 0) + 1\n",
        "      for k,v in map.items():\n",
        "        if v > len(nums)//2: return k\n",
        "\n",
        "nums = [2,2,1,1,1,2,2]\n",
        "s = Solution()\n",
        "k = s.majorityElement(nums)\n",
        "print(nums,k)"
      ],
      "metadata": {
        "colab": {
          "base_uri": "https://localhost:8080/"
        },
        "id": "-rrOOd2b0tQ5",
        "outputId": "1e06e362-3f9f-42cb-aae0-ee234d41759e"
      },
      "execution_count": 6,
      "outputs": [
        {
          "output_type": "stream",
          "name": "stdout",
          "text": [
            "[2, 2, 1, 1, 1, 2, 2] 2\n"
          ]
        }
      ]
    },
    {
      "cell_type": "code",
      "source": [
        "class Solution:\n",
        "    def rotate(self, nums: List[int], k: int) -> None:\n",
        "        \"\"\"\n",
        "        Do not return anything, modify nums in-place instead.\n",
        "        \"\"\"\n",
        "        i = 0\n",
        "        total = 0\n",
        "        offset = 0\n",
        "        tmp = nums[i]\n",
        "        while True:\n",
        "          # print(total, i, offset, nums)\n",
        "          total += 1\n",
        "          dst = (i+k)%len(nums)\n",
        "          prev = nums[dst]\n",
        "          nums[dst] = tmp\n",
        "          tmp = prev\n",
        "          i = dst\n",
        "          if i == offset:\n",
        "            if total == len(nums): break\n",
        "            offset += 1\n",
        "            i = offset\n",
        "            tmp = nums[i]\n",
        "\n",
        "nums = [1,2,3,4,5,6]\n",
        "k = 2\n",
        "s = Solution()\n",
        "s.rotate(nums,k)\n",
        "print(nums)"
      ],
      "metadata": {
        "colab": {
          "base_uri": "https://localhost:8080/"
        },
        "id": "kzvs2yTTD1hj",
        "outputId": "91138b76-ee16-4e11-fd6f-ec53b5455409"
      },
      "execution_count": 7,
      "outputs": [
        {
          "output_type": "stream",
          "name": "stdout",
          "text": [
            "[5, 6, 1, 2, 3, 4]\n"
          ]
        }
      ]
    },
    {
      "cell_type": "code",
      "source": [
        "class Solution:\n",
        "    def maxProfit(self, prices: List[int]) -> int:\n",
        "      minSeen = 10**10\n",
        "      maxProfit = 0\n",
        "      for n in prices:\n",
        "        maxProfit = max(maxProfit, n-minSeen)\n",
        "        minSeen = min(minSeen, n)\n",
        "        # print(maxProfit, minSeen)\n",
        "      return maxProfit\n",
        "\n",
        "prices = [7,6,4,3,1]\n",
        "s = Solution()\n",
        "s.maxProfit(prices)"
      ],
      "metadata": {
        "colab": {
          "base_uri": "https://localhost:8080/"
        },
        "id": "CpCttQ_FVIXe",
        "outputId": "c3223d11-4208-44a4-bf03-c945f37a0e66"
      },
      "execution_count": 8,
      "outputs": [
        {
          "output_type": "execute_result",
          "data": {
            "text/plain": [
              "0"
            ]
          },
          "metadata": {},
          "execution_count": 8
        }
      ]
    },
    {
      "cell_type": "code",
      "source": [
        "class Solution:\n",
        "    def maxProfit(self, prices: List[int]) -> int:\n",
        "      maxProfit = 0\n",
        "      prevPrice = 10**10\n",
        "      for n in prices:\n",
        "        if n > prevPrice: maxProfit += n-prevPrice\n",
        "        prevPrice = n\n",
        "      return maxProfit\n",
        "\n",
        "prices = [7,6,4,3,1]\n",
        "s = Solution()\n",
        "s.maxProfit(prices)"
      ],
      "metadata": {
        "colab": {
          "base_uri": "https://localhost:8080/"
        },
        "id": "YSm35_fBfEIT",
        "outputId": "2c7d156f-ef17-4562-ddb5-4f497d7fdf47"
      },
      "execution_count": 9,
      "outputs": [
        {
          "output_type": "execute_result",
          "data": {
            "text/plain": [
              "0"
            ]
          },
          "metadata": {},
          "execution_count": 9
        }
      ]
    },
    {
      "cell_type": "code",
      "source": [
        "class Solution:\n",
        "    def canJump(self, nums: List[int]) -> bool:\n",
        "      reach = nums[0]\n",
        "      for i in range(len(nums)):\n",
        "        # print(i, reach)\n",
        "        if reach == -1: return False\n",
        "        reach = max(reach,nums[i])\n",
        "        reach -= 1\n",
        "      return True\n",
        "\n",
        "nums = [3,2,1,0,4]\n",
        "s = Solution()\n",
        "s.canJump(nums)"
      ],
      "metadata": {
        "colab": {
          "base_uri": "https://localhost:8080/"
        },
        "id": "bE9mX4PogKnC",
        "outputId": "6a181fac-ba6c-448a-97a0-5ac7160c95a1"
      },
      "execution_count": 10,
      "outputs": [
        {
          "output_type": "execute_result",
          "data": {
            "text/plain": [
              "False"
            ]
          },
          "metadata": {},
          "execution_count": 10
        }
      ]
    },
    {
      "cell_type": "code",
      "source": [
        "class Solution:\n",
        "    def jump(self, nums: List[int]) -> int:\n",
        "      jumps = 0\n",
        "      currRange = 0\n",
        "      maxRange = 0\n",
        "      for i in range(len(nums)-1):\n",
        "        # print(i,jumps,currRange,maxRange)\n",
        "        maxRange = max(nums[i],maxRange-1)\n",
        "        if currRange == 0:\n",
        "          currRange = maxRange\n",
        "          jumps += 1\n",
        "        currRange -= 1\n",
        "      return jumps\n",
        "\n",
        "nums = [2,3,0,1,4]\n",
        "s = Solution()\n",
        "s.jump(nums)"
      ],
      "metadata": {
        "colab": {
          "base_uri": "https://localhost:8080/"
        },
        "id": "b2UxngbQoPY0",
        "outputId": "0305912b-9e01-4779-c0d1-027e3a76b46c"
      },
      "execution_count": 11,
      "outputs": [
        {
          "output_type": "execute_result",
          "data": {
            "text/plain": [
              "2"
            ]
          },
          "metadata": {},
          "execution_count": 11
        }
      ]
    },
    {
      "cell_type": "code",
      "source": [
        "class Solution:\n",
        "    def hIndex(self, citations: List[int]) -> int:\n",
        "      s = sorted(citations)\n",
        "      h = 0\n",
        "      for i in range(len(s)):\n",
        "        n = len(s) - i\n",
        "        t_h = min(s[i],n)\n",
        "        h = max(h, t_h)\n",
        "      return h\n",
        "\n",
        "citations = [1,3,1]\n",
        "s = Solution()\n",
        "s.hIndex(citations)"
      ],
      "metadata": {
        "colab": {
          "base_uri": "https://localhost:8080/"
        },
        "id": "l3qPtN1gVCFn",
        "outputId": "ad7ccb2e-5b70-4f06-857d-c392cfb39095"
      },
      "execution_count": 12,
      "outputs": [
        {
          "output_type": "execute_result",
          "data": {
            "text/plain": [
              "1"
            ]
          },
          "metadata": {},
          "execution_count": 12
        }
      ]
    },
    {
      "cell_type": "code",
      "source": [
        "import random\n",
        "class RandomizedSet:\n",
        "    def __init__(self):\n",
        "      self.data = set()\n",
        "\n",
        "    def insert(self, val: int) -> bool:\n",
        "        r = val not in self.data\n",
        "        self.data.add(val)\n",
        "        return r\n",
        "\n",
        "    def remove(self, val: int) -> bool:\n",
        "        r = val in self.data\n",
        "        if r: self.data.remove(val)\n",
        "        return r\n",
        "\n",
        "    def getRandom(self) -> int:\n",
        "        i = random.randint(0,len(self.data)-1)\n",
        "        return list(self.data)[i]\n",
        "\n",
        "randomizedSet = RandomizedSet()\n",
        "print(randomizedSet.insert(1))\n",
        "print(randomizedSet.remove(2))\n",
        "print(randomizedSet.insert(2))\n",
        "print(randomizedSet.getRandom())\n",
        "print(randomizedSet.remove(1))\n",
        "print(randomizedSet.insert(2))\n",
        "print(randomizedSet.getRandom())"
      ],
      "metadata": {
        "colab": {
          "base_uri": "https://localhost:8080/"
        },
        "id": "73u3UR3zXvr3",
        "outputId": "3cf9600c-0d69-46c6-df86-7cb8d9f235bd"
      },
      "execution_count": 13,
      "outputs": [
        {
          "output_type": "stream",
          "name": "stdout",
          "text": [
            "True\n",
            "False\n",
            "True\n",
            "2\n",
            "True\n",
            "False\n",
            "2\n"
          ]
        }
      ]
    },
    {
      "cell_type": "code",
      "source": [
        "class Solution:\n",
        "    def productExceptSelf(self, nums: List[int]) -> List[int]:\n",
        "      total = 1\n",
        "      zeros = 0\n",
        "      for n in nums:\n",
        "        if n != 0:\n",
        "          total *= n\n",
        "        else:\n",
        "          zeros += 1\n",
        "        if zeros > 1: total = 0\n",
        "      print(total)\n",
        "      r = []\n",
        "      for n in nums:\n",
        "        if n == 0:\n",
        "          r.append(total)\n",
        "        elif zeros > 0:\n",
        "          r.append(0)\n",
        "        else:\n",
        "          r.append(int(total * n**-1))\n",
        "      return r\n",
        "\n",
        "nums = [1,2,3,4]\n",
        "s = Solution()\n",
        "s.productExceptSelf(nums)"
      ],
      "metadata": {
        "colab": {
          "base_uri": "https://localhost:8080/"
        },
        "id": "AgBdEqKcfbSq",
        "outputId": "95c6d80e-dba5-4f8a-8ed0-3e9d3b612146"
      },
      "execution_count": 14,
      "outputs": [
        {
          "output_type": "stream",
          "name": "stdout",
          "text": [
            "24\n"
          ]
        },
        {
          "output_type": "execute_result",
          "data": {
            "text/plain": [
              "[24, 12, 8, 6]"
            ]
          },
          "metadata": {},
          "execution_count": 14
        }
      ]
    },
    {
      "cell_type": "code",
      "source": [
        "class Solution:\n",
        "    def canCompleteCircuit(self, gas: List[int], cost: List[int]) -> int:\n",
        "      deltas = [g-c for g,c in zip(gas,cost)]\n",
        "      # print(deltas)\n",
        "      runningSum = 0\n",
        "      sums = []\n",
        "      minIdx = 0\n",
        "      minSum = 10**10\n",
        "      for i in range(len(deltas)):\n",
        "        runningSum += deltas[i]\n",
        "        sums.append(runningSum)\n",
        "        if runningSum <= minSum:\n",
        "          minIdx = i\n",
        "          minSum = runningSum\n",
        "      # print(sums)\n",
        "      if sums[-1] >= 0:\n",
        "        return((minIdx+1)%len(deltas))\n",
        "      else:\n",
        "        return -1\n",
        "\n",
        "gas = [11,4,7,1,0]\n",
        "cost = [2,5,5,9,1]\n",
        "s = Solution()\n",
        "s.canCompleteCircuit(gas,cost)"
      ],
      "metadata": {
        "colab": {
          "base_uri": "https://localhost:8080/"
        },
        "id": "5-3560khnoMJ",
        "outputId": "f79707c6-f1aa-4b87-da16-9247cd622b4c"
      },
      "execution_count": 15,
      "outputs": [
        {
          "output_type": "execute_result",
          "data": {
            "text/plain": [
              "0"
            ]
          },
          "metadata": {},
          "execution_count": 15
        }
      ]
    },
    {
      "cell_type": "code",
      "source": [
        "class Solution:\n",
        "    def candy(self, ratings: List[int]) -> int:\n",
        "      l = [0]\n",
        "      cur_run = 0\n",
        "      for i in range(len(ratings)-1):\n",
        "        if ratings[i]<ratings[i+1]:\n",
        "          cur_run += 1\n",
        "        else:\n",
        "          cur_run = 0\n",
        "        l.append(cur_run)\n",
        "      r = [0]\n",
        "      cur_run = 0\n",
        "      for i in range(len(ratings)-1,0,-1):\n",
        "        if ratings[i]<ratings[i-1]:\n",
        "          cur_run += 1\n",
        "        else:\n",
        "          cur_run = 0\n",
        "        r.append(cur_run)\n",
        "      r.reverse()\n",
        "      # print(l,r)\n",
        "      return sum([max(x,y) for x,y in zip(l,r)])+len(ratings)\n",
        "\n",
        "ratings = [1,3,2,2,1]\n",
        "s = Solution()\n",
        "s.candy(ratings)"
      ],
      "metadata": {
        "colab": {
          "base_uri": "https://localhost:8080/"
        },
        "id": "5d_fLs4vr6n0",
        "outputId": "6a342c40-53b8-4a11-addb-af0a554f8924"
      },
      "execution_count": 16,
      "outputs": [
        {
          "output_type": "execute_result",
          "data": {
            "text/plain": [
              "7"
            ]
          },
          "metadata": {},
          "execution_count": 16
        }
      ]
    },
    {
      "cell_type": "code",
      "source": [
        "class Solution:\n",
        "    def trap(self, height: List[int]) -> int:\n",
        "        total = 0\n",
        "        cliffs = []\n",
        "        for i in range(len(height)):\n",
        "            h = height[i]\n",
        "            next = height[i+1] if i<len(height)-1 else 0\n",
        "            # print(i, total, cliffs)\n",
        "            if h > next:\n",
        "                cliffs.append((h,next,i))\n",
        "            elif h < next:\n",
        "                new_cliffs = []\n",
        "                for c_h,c_n,c_i in cliffs:\n",
        "                    if next >= c_n:\n",
        "                      # print(\"adding\", (min(c_h,next)-c_n)*(i-c_i))\n",
        "                      total += (min(c_h,next)-c_n)*(i-c_i)\n",
        "                    if c_h > next:\n",
        "                      new_cliffs.append((c_h,max(next,c_n),c_i))\n",
        "                cliffs = new_cliffs\n",
        "            prev = h\n",
        "        return total\n",
        "\n",
        "height = [6,4,2,0,3,2,0,3,1,4,5,3,2,7,5,3,0,1,2,1,3,4,6,8,1,3]\n",
        "s = Solution()\n",
        "s.trap(height)"
      ],
      "metadata": {
        "colab": {
          "base_uri": "https://localhost:8080/"
        },
        "id": "OA7LoUgEFMT1",
        "outputId": "4f526434-ad36-4dee-d6eb-397e6efc77af"
      },
      "execution_count": 17,
      "outputs": [
        {
          "output_type": "execute_result",
          "data": {
            "text/plain": [
              "83"
            ]
          },
          "metadata": {},
          "execution_count": 17
        }
      ]
    },
    {
      "cell_type": "code",
      "source": [
        "class Solution:\n",
        "    def romanToInt(self, s: str) -> int:\n",
        "      s2n = {\"I\":1, \"V\":5, \"X\":10, \"L\":50, \"C\":100, \"D\":500, \"M\":1000}\n",
        "      total = 0\n",
        "      i = 0\n",
        "      while i < len(s):\n",
        "        if i < len(s)-1 and s2n[s[i]] < s2n[s[i+1]]:\n",
        "          total += s2n[s[i+1]]-s2n[s[i]]\n",
        "          i += 1\n",
        "        else:\n",
        "          total += s2n[s[i]]\n",
        "        i += 1\n",
        "      return total\n",
        "\n",
        "s = Solution()\n",
        "s.romanToInt(\"LVIII\")"
      ],
      "metadata": {
        "colab": {
          "base_uri": "https://localhost:8080/"
        },
        "id": "hU4PGrg0ZQ0Y",
        "outputId": "45c38553-d6f6-499f-c867-0d33a2a302df"
      },
      "execution_count": 18,
      "outputs": [
        {
          "output_type": "execute_result",
          "data": {
            "text/plain": [
              "58"
            ]
          },
          "metadata": {},
          "execution_count": 18
        }
      ]
    },
    {
      "cell_type": "code",
      "source": [
        "class Solution:\n",
        "    def intToRoman(self, num: int) -> str:\n",
        "      n2s = {1: 'I', 5: 'V', 10: 'X', 50: 'L', 100: 'C', 500: 'D', 1000: 'M'}\n",
        "      result = \"\"\n",
        "      while num > 0:\n",
        "        p = int(str(num)[0])\n",
        "        if p == 4 or p == 9:\n",
        "          p += 1\n",
        "          num = int(str(p) + str(num)[1:])\n",
        "          n = max(x for x in n2s.keys() if x<=num)\n",
        "          result += n2s[n//p]\n",
        "          result += n2s[n]\n",
        "          num -= n\n",
        "        else:\n",
        "          n = max(x for x in n2s.keys() if x<=num)\n",
        "          result += n2s[n]\n",
        "          num -= n\n",
        "      return result\n",
        "\n",
        "s = Solution()\n",
        "s.intToRoman(1994)"
      ],
      "metadata": {
        "colab": {
          "base_uri": "https://localhost:8080/",
          "height": 35
        },
        "id": "pA8SGpWaadaj",
        "outputId": "edc7ebb6-4f02-49bc-919a-f5c5401c69f9"
      },
      "execution_count": 19,
      "outputs": [
        {
          "output_type": "execute_result",
          "data": {
            "text/plain": [
              "'MCMXCIV'"
            ],
            "application/vnd.google.colaboratory.intrinsic+json": {
              "type": "string"
            }
          },
          "metadata": {},
          "execution_count": 19
        }
      ]
    },
    {
      "cell_type": "code",
      "source": [
        "class Solution:\n",
        "    def lengthOfLastWord(self, s: str) -> int:\n",
        "      return len(s.split()[-1])\n",
        "\n",
        "s = \"luffy is still joyboy\"\n",
        "Solution().lengthOfLastWord(s)"
      ],
      "metadata": {
        "colab": {
          "base_uri": "https://localhost:8080/"
        },
        "id": "w5FjH2-rrjbM",
        "outputId": "dcaab334-bbac-4512-e63d-c4dc1491439a"
      },
      "execution_count": 20,
      "outputs": [
        {
          "output_type": "execute_result",
          "data": {
            "text/plain": [
              "6"
            ]
          },
          "metadata": {},
          "execution_count": 20
        }
      ]
    },
    {
      "cell_type": "code",
      "source": [
        "class Solution:\n",
        "    def longestCommonPrefix(self, strs: List[str]) -> str:\n",
        "      i = 0\n",
        "      ret = \"\"\n",
        "      while i < len(strs[0]):\n",
        "        for s in strs[1:]:\n",
        "          if i >= len(s): break\n",
        "          if s[i] != strs[0][i]: break\n",
        "        else:\n",
        "          ret += strs[0][i]\n",
        "          i += 1\n",
        "          continue\n",
        "        break\n",
        "      return ret\n",
        "\n",
        "strs = [\"\"]\n",
        "Solution().longestCommonPrefix(strs)"
      ],
      "metadata": {
        "colab": {
          "base_uri": "https://localhost:8080/",
          "height": 35
        },
        "id": "ofRN4esJr6GU",
        "outputId": "044c39a1-7504-432e-9006-28b68574cb50"
      },
      "execution_count": 21,
      "outputs": [
        {
          "output_type": "execute_result",
          "data": {
            "text/plain": [
              "''"
            ],
            "application/vnd.google.colaboratory.intrinsic+json": {
              "type": "string"
            }
          },
          "metadata": {},
          "execution_count": 21
        }
      ]
    },
    {
      "cell_type": "code",
      "source": [
        "class Solution:\n",
        "    def reverseWords(self, s: str) -> str:\n",
        "      return \" \".join(s.split()[::-1])\n",
        "\n",
        "s = \"the sky is blue\"\n",
        "Solution().reverseWords(s)"
      ],
      "metadata": {
        "colab": {
          "base_uri": "https://localhost:8080/",
          "height": 35
        },
        "id": "6ON4-yPJq4qv",
        "outputId": "d37e1787-7d48-4802-eed5-05992fb3cc86"
      },
      "execution_count": 22,
      "outputs": [
        {
          "output_type": "execute_result",
          "data": {
            "text/plain": [
              "'blue is sky the'"
            ],
            "application/vnd.google.colaboratory.intrinsic+json": {
              "type": "string"
            }
          },
          "metadata": {},
          "execution_count": 22
        }
      ]
    },
    {
      "cell_type": "code",
      "source": [
        "class Solution:\n",
        "    def convert(self, s: str, numRows: int) -> str:\n",
        "      r = \"\"\n",
        "      for i in range(numRows):\n",
        "        j = i\n",
        "        while j < len(s):\n",
        "          # print(j, s[j])\n",
        "          r += s[j]\n",
        "          diag = j+numRows*2-2-i*2\n",
        "          if i > 0 and i < numRows-1 and diag < len(s):\n",
        "            # print(i, \"diag:\",diag, s[diag])\n",
        "            r += s[diag]\n",
        "          j += numRows*2-2 if numRows > 1 else 1\n",
        "      return r\n",
        "\n",
        "s = \"A\"\n",
        "numRows = 1\n",
        "Solution().convert(s,numRows)"
      ],
      "metadata": {
        "colab": {
          "base_uri": "https://localhost:8080/",
          "height": 35
        },
        "id": "3pDGzp4OtWSX",
        "outputId": "4204ecf5-592f-477d-c387-3684d55091bf"
      },
      "execution_count": 23,
      "outputs": [
        {
          "output_type": "execute_result",
          "data": {
            "text/plain": [
              "'A'"
            ],
            "application/vnd.google.colaboratory.intrinsic+json": {
              "type": "string"
            }
          },
          "metadata": {},
          "execution_count": 23
        }
      ]
    },
    {
      "cell_type": "code",
      "source": [
        "class Solution:\n",
        "    def strStr(self, haystack: str, needle: str) -> int:\n",
        "      for i in range(len(haystack)):\n",
        "        if haystack[i:i+len(needle)] == needle:\n",
        "          return i\n",
        "      return -1\n",
        "\n",
        "haystack = \"hello\"\n",
        "needle = \"ll\"\n",
        "Solution().strStr(haystack, needle)"
      ],
      "metadata": {
        "colab": {
          "base_uri": "https://localhost:8080/"
        },
        "id": "fAKd28b88ASM",
        "outputId": "aabffa2d-b760-4257-d2f7-09df8e1c5f08"
      },
      "execution_count": 24,
      "outputs": [
        {
          "output_type": "execute_result",
          "data": {
            "text/plain": [
              "2"
            ]
          },
          "metadata": {},
          "execution_count": 24
        }
      ]
    },
    {
      "cell_type": "code",
      "source": [
        "import math\n",
        "class Solution:\n",
        "    def fullJustify(self, words: List[str], maxWidth: int) -> List[str]:\n",
        "      w = 0\n",
        "      result = []\n",
        "      while w < len(words):\n",
        "        l = 0\n",
        "        t = []\n",
        "        while w < len(words) and l+len(words[w]) < maxWidth+1:\n",
        "          t.append(words[w])\n",
        "          l += len(words[w])+1\n",
        "          w += 1\n",
        "        if w == len(words):\n",
        "          str = \" \".join(t)\n",
        "        else:\n",
        "          str = \"\"\n",
        "          spaces = maxWidth - sum(len(s) for s in t)\n",
        "          for i in range(len(t)):\n",
        "            if i != len(t)-1:\n",
        "              str += t[i]\n",
        "              toFill = (math.ceil(spaces / (len(t)-i-1)))\n",
        "              str += \" \" * toFill\n",
        "              spaces -= toFill\n",
        "            else:\n",
        "              str += t[i]\n",
        "        if len(str) < maxWidth:\n",
        "          str += \" \" * (maxWidth - len(str))\n",
        "        result.append(str)\n",
        "      return result\n",
        "\n",
        "# words = [\"This\", \"is\", \"an\", \"example\", \"of\", \"text\", \"justification.\"]\n",
        "# words = [\"What\",\"must\",\"be\",\"acknowledgment\",\"shall\",\"be\"]\n",
        "# words = [\"Science\",\"is\",\"what\",\"we\",\"understand\",\"well\",\"enough\",\"to\",\"explain\",\"to\",\"a\",\"computer.\",\"Art\",\"is\",\"everything\",\"else\",\"we\",\"do\"]\n",
        "words = [\"ask\",\"not\",\"what\",\"your\",\"country\",\"can\",\"do\",\"for\",\"you\",\"ask\",\"what\",\"you\",\"can\",\"do\",\"for\",\"your\",\"country\"]\n",
        "maxWidth = 16\n",
        "Solution().fullJustify(words, maxWidth)"
      ],
      "metadata": {
        "colab": {
          "base_uri": "https://localhost:8080/"
        },
        "id": "owvDGSMa9UcA",
        "outputId": "3919c34f-ab78-4a5b-d854-3c62f5d41f6f"
      },
      "execution_count": 25,
      "outputs": [
        {
          "output_type": "execute_result",
          "data": {
            "text/plain": [
              "['ask   not   what',\n",
              " 'your country can',\n",
              " 'do  for  you ask',\n",
              " 'what  you can do',\n",
              " 'for your country']"
            ]
          },
          "metadata": {},
          "execution_count": 25
        }
      ]
    },
    {
      "cell_type": "code",
      "source": [
        "class Solution:\n",
        "    def isPalindrome(self, s: str) -> bool:\n",
        "      s = [c.lower() for c in s if c.isalnum()]\n",
        "      for i in range(len(s)//2):\n",
        "        if s[i] != s[len(s)-1-i]: return False\n",
        "      return True\n",
        "\n",
        "# s = \"A man, a plan, a canal: Panama\"\n",
        "# s = \"race a car\"\n",
        "# s = \" \"\n",
        "s = \"0P\"\n",
        "Solution().isPalindrome(s)"
      ],
      "metadata": {
        "colab": {
          "base_uri": "https://localhost:8080/"
        },
        "id": "NWXi_yoSTd2V",
        "outputId": "25f85cdb-0748-4fab-f224-4ae1b26c09e8"
      },
      "execution_count": 26,
      "outputs": [
        {
          "output_type": "execute_result",
          "data": {
            "text/plain": [
              "False"
            ]
          },
          "metadata": {},
          "execution_count": 26
        }
      ]
    },
    {
      "cell_type": "code",
      "source": [
        "class Solution:\n",
        "    def isSubsequence(self, s: str, t: str) -> bool:\n",
        "      i = 0\n",
        "      for c in t:\n",
        "        if i < len(s) and c == s[i]:\n",
        "          i += 1\n",
        "      return i == len(s)\n",
        "\n",
        "s = \"ac\"\n",
        "t = \"asdf\"\n",
        "Solution().isSubsequence(s,t)"
      ],
      "metadata": {
        "colab": {
          "base_uri": "https://localhost:8080/"
        },
        "id": "xxYGwB-zVpvt",
        "outputId": "3c21f9da-67a5-43ec-fd9f-da9aa656a6db"
      },
      "execution_count": 27,
      "outputs": [
        {
          "output_type": "execute_result",
          "data": {
            "text/plain": [
              "False"
            ]
          },
          "metadata": {},
          "execution_count": 27
        }
      ]
    },
    {
      "cell_type": "code",
      "source": [
        "class Solution:\n",
        "    def twoSum(self, numbers: List[int], target: int) -> List[int]:\n",
        "      p1,p2 = 0,len(numbers)-1\n",
        "      while True:\n",
        "        # print(p1,p2)\n",
        "        sum = numbers[p1]+numbers[p2]\n",
        "        if sum == target: return [p1+1,p2+1]\n",
        "        if sum > target: p2 -= 1\n",
        "        else: p1 += 1\n",
        "\n",
        "\n",
        "numbers = [5,25,75]\n",
        "target = 100\n",
        "Solution().twoSum(numbers,target)"
      ],
      "metadata": {
        "colab": {
          "base_uri": "https://localhost:8080/"
        },
        "id": "heDJ3BWBXM8a",
        "outputId": "109f66f7-ad39-4aae-9c0e-07f1601b2100"
      },
      "execution_count": 28,
      "outputs": [
        {
          "output_type": "execute_result",
          "data": {
            "text/plain": [
              "[2, 3]"
            ]
          },
          "metadata": {},
          "execution_count": 28
        }
      ]
    },
    {
      "cell_type": "code",
      "source": [
        "class Solution:\n",
        "    def maxArea(self, height: List[int]) -> int:\n",
        "      p1,p2 = 0,len(height)-1\n",
        "      m = 0\n",
        "      while True:\n",
        "        if p1 == p2: return m\n",
        "        w = min(height[p1],height[p2])*(p2-p1)\n",
        "        # print(w, p1, p2)\n",
        "        m = max(m,w)\n",
        "        if height[p1] < height[p2]: p1 += 1\n",
        "        else: p2 -= 1\n",
        "\n",
        "height = [1,1]\n",
        "Solution().maxArea(height)"
      ],
      "metadata": {
        "colab": {
          "base_uri": "https://localhost:8080/"
        },
        "id": "W5cC4IzVfDmO",
        "outputId": "6cba5366-3958-4c88-9489-3b4a906014a5"
      },
      "execution_count": 29,
      "outputs": [
        {
          "output_type": "execute_result",
          "data": {
            "text/plain": [
              "1"
            ]
          },
          "metadata": {},
          "execution_count": 29
        }
      ]
    },
    {
      "cell_type": "code",
      "source": [
        "class Solution:\n",
        "    def threeSum(self, nums: List[int]) -> List[List[int]]:\n",
        "      nums.sort()\n",
        "      result = set()\n",
        "      for i in range(len(nums)-2):\n",
        "        if i > 0 and nums[i] == nums[i - 1]:\n",
        "            continue\n",
        "        j = i+1\n",
        "        k = len(nums)-1\n",
        "        while j != k:\n",
        "          # print(i,j,k)\n",
        "          sum = nums[i]+nums[j]+nums[k]\n",
        "          if sum == 0:\n",
        "            result.add(tuple(sorted([nums[i],nums[j],nums[k]])))\n",
        "            j += 1\n",
        "          elif sum > 0:\n",
        "            k -= 1\n",
        "          else:\n",
        "            j += 1\n",
        "      return [list(x) for x in result]\n",
        "\n",
        "nums = [-1,0,1,2,-1,-4]\n",
        "Solution().threeSum(nums)"
      ],
      "metadata": {
        "colab": {
          "base_uri": "https://localhost:8080/"
        },
        "id": "f0aPdQBK7O8M",
        "outputId": "e646154a-746e-459e-9ead-319e545d2468"
      },
      "execution_count": 30,
      "outputs": [
        {
          "output_type": "execute_result",
          "data": {
            "text/plain": [
              "[[-1, 0, 1], [-1, -1, 2]]"
            ]
          },
          "metadata": {},
          "execution_count": 30
        }
      ]
    },
    {
      "cell_type": "code",
      "source": [
        "class Solution:\n",
        "    def minSubArrayLen(self, target: int, nums: List[int]) -> int:\n",
        "      sum = 0\n",
        "      p = 0\n",
        "      result = 0\n",
        "      for i in range(len(nums)):\n",
        "        sum += nums[i]\n",
        "        while p<i and sum-nums[p] >= target:\n",
        "          sum -= nums[p]\n",
        "          p += 1\n",
        "        if sum >= target and (result == 0 or i-p+1 < result):\n",
        "          result = i-p+1\n",
        "      return result\n",
        "\n",
        "target = 11\n",
        "nums = [1,1,1,1,1,1,1,1]\n",
        "Solution().minSubArrayLen(target, nums)"
      ],
      "metadata": {
        "colab": {
          "base_uri": "https://localhost:8080/"
        },
        "id": "-G4a_Cd__0PB",
        "outputId": "ab9945a0-462c-4678-cca4-9098313ff545"
      },
      "execution_count": 31,
      "outputs": [
        {
          "output_type": "execute_result",
          "data": {
            "text/plain": [
              "0"
            ]
          },
          "metadata": {},
          "execution_count": 31
        }
      ]
    },
    {
      "cell_type": "code",
      "source": [
        "class Solution:\n",
        "    def lengthOfLongestSubstring(self, s: str) -> int:\n",
        "      p = 0\n",
        "      ret = \"\"\n",
        "      for i in range(len(s)):\n",
        "        # print(i,p,ret)\n",
        "        if s[i] not in s[p:i]:\n",
        "          tmp = s[p:i+1]\n",
        "          if len(tmp) > len(ret):\n",
        "            ret = tmp\n",
        "        else:\n",
        "          p = i-1\n",
        "          while s[i] != s[p]:\n",
        "            p -= 1\n",
        "          p += 1\n",
        "      return len(ret)\n",
        "      # return ret\n",
        "\n",
        "s = \"pwwkew\"\n",
        "Solution().lengthOfLongestSubstring(s)"
      ],
      "metadata": {
        "colab": {
          "base_uri": "https://localhost:8080/"
        },
        "id": "8AmT8omCor9b",
        "outputId": "d355b8bf-80c9-413d-e531-9c44c1b8dbab"
      },
      "execution_count": 32,
      "outputs": [
        {
          "output_type": "execute_result",
          "data": {
            "text/plain": [
              "3"
            ]
          },
          "metadata": {},
          "execution_count": 32
        }
      ]
    },
    {
      "cell_type": "code",
      "source": [
        "from functools import lru_cache\n",
        "class Solution:\n",
        "    def findSubstring(self, s: str, words: List[str]) -> List[int]:\n",
        "      @lru_cache\n",
        "      def isConcatString(s,words):\n",
        "        words = list(words)\n",
        "        # print(s,words)\n",
        "        while len(s) > 0 and len(words) > 0:\n",
        "          l = len(words[0])\n",
        "          w = s[:l]\n",
        "          if w not in words: return False\n",
        "          s = s[l:]\n",
        "          words.remove(w)\n",
        "        return len(s) == 0 and len(words) == 0\n",
        "\n",
        "      ret = []\n",
        "      l = sum(len(x) for x in words)\n",
        "      for i in range(len(s)-l+1):\n",
        "        if isConcatString(s[i:i+l], tuple(words)):\n",
        "          ret.append(i)\n",
        "      return ret\n",
        "\n",
        "s = \"barfoofoobarthefoobarman\"\n",
        "words = [\"bar\",\"foo\",\"the\"]\n",
        "Solution().findSubstring(s,words)"
      ],
      "metadata": {
        "colab": {
          "base_uri": "https://localhost:8080/"
        },
        "id": "7CCxIe-Wt6uL",
        "outputId": "3bdb74ae-73c0-4b1d-aa39-fdd003dcb58d"
      },
      "execution_count": 33,
      "outputs": [
        {
          "output_type": "execute_result",
          "data": {
            "text/plain": [
              "[6, 9, 12]"
            ]
          },
          "metadata": {},
          "execution_count": 33
        }
      ]
    },
    {
      "cell_type": "code",
      "source": [
        "from collections import Counter\n",
        "class Solution:\n",
        "    def minWindow(self, s: str, t: str) -> str:\n",
        "      sc = Counter(s)\n",
        "      tc = Counter(t)\n",
        "      for c in tc.keys():\n",
        "        if sc[c] < tc[c]: return \"\"\n",
        "      p = len(s)-1\n",
        "      while True:\n",
        "        c = s[p]\n",
        "        if c in tc and sc[c] == tc[c]: break\n",
        "        sc[c] -= 1\n",
        "        p -= 1\n",
        "      res = s[:p+1]\n",
        "      for i in range(len(s)):\n",
        "        c = s[i]\n",
        "        sc[c] -= 1\n",
        "        # print(i,res,c,s[i+1:p+1],sc)\n",
        "        if c in tc and sc[c] < tc[c]:\n",
        "          for j in range(p+1,len(s)):\n",
        "            sc[s[j]] += 1\n",
        "            if s[j] == c:\n",
        "              p = j\n",
        "              break\n",
        "          else:\n",
        "            return res\n",
        "        if p-i < len(res): res = s[i+1:p+1]\n",
        "      return res\n",
        "\n",
        "s = \"cabwefgewcwaefgcf\"\n",
        "t = \"cae\"\n",
        "Solution().minWindow(s,t)"
      ],
      "metadata": {
        "colab": {
          "base_uri": "https://localhost:8080/",
          "height": 35
        },
        "id": "J2syzJExFVSa",
        "outputId": "cecb3269-b2f7-4ce9-b280-9cf86df6a04d"
      },
      "execution_count": 34,
      "outputs": [
        {
          "output_type": "execute_result",
          "data": {
            "text/plain": [
              "'cwae'"
            ],
            "application/vnd.google.colaboratory.intrinsic+json": {
              "type": "string"
            }
          },
          "metadata": {},
          "execution_count": 34
        }
      ]
    },
    {
      "cell_type": "code",
      "source": [
        "from pprint import pprint\n",
        "class Solution:\n",
        "    def isValidSudoku(self, board: List[List[str]]) -> bool:\n",
        "      for i in range(9):\n",
        "        seen = set()\n",
        "        for j in range(9):\n",
        "          c = board[i][j]\n",
        "          if c != \".\":\n",
        "            if c in seen: return False\n",
        "            seen.add(c)\n",
        "      for i in range(9):\n",
        "        seen = set()\n",
        "        for j in range(9):\n",
        "          c = board[j][i]\n",
        "          if c != \".\":\n",
        "            if c in seen: return False\n",
        "            seen.add(c)\n",
        "      for i in range(9):\n",
        "        seen = set()\n",
        "        row,col = (i//3)*3,(i%3)*3\n",
        "        for j in range(3):\n",
        "          for k in range(3):\n",
        "            c = board[row+j][col+k]\n",
        "            if c != \".\":\n",
        "              if c in seen: return False\n",
        "              seen.add(c)\n",
        "      return True\n",
        "\n",
        "board = [[\".\",\".\",\".\",\".\",\"5\",\".\",\".\",\"1\",\".\"],[\".\",\"4\",\".\",\"3\",\".\",\".\",\".\",\".\",\".\"],[\".\",\".\",\".\",\".\",\".\",\"3\",\".\",\".\",\"1\"],[\"8\",\".\",\".\",\".\",\".\",\".\",\".\",\"2\",\".\"],[\".\",\".\",\"2\",\".\",\"7\",\".\",\".\",\".\",\".\"],[\".\",\"1\",\"5\",\".\",\".\",\".\",\".\",\".\",\".\"],[\".\",\".\",\".\",\".\",\".\",\"2\",\".\",\".\",\".\"],[\".\",\"2\",\".\",\"9\",\".\",\".\",\".\",\".\",\".\"],[\".\",\".\",\"4\",\".\",\".\",\".\",\".\",\".\",\".\"]]\n",
        "pprint(board)\n",
        "Solution().isValidSudoku(board)"
      ],
      "metadata": {
        "colab": {
          "base_uri": "https://localhost:8080/"
        },
        "id": "8x3JTVZri4tc",
        "outputId": "a86026d4-dec2-4c1b-f518-e2c48b45a4bc"
      },
      "execution_count": 35,
      "outputs": [
        {
          "output_type": "stream",
          "name": "stdout",
          "text": [
            "[['.', '.', '.', '.', '5', '.', '.', '1', '.'],\n",
            " ['.', '4', '.', '3', '.', '.', '.', '.', '.'],\n",
            " ['.', '.', '.', '.', '.', '3', '.', '.', '1'],\n",
            " ['8', '.', '.', '.', '.', '.', '.', '2', '.'],\n",
            " ['.', '.', '2', '.', '7', '.', '.', '.', '.'],\n",
            " ['.', '1', '5', '.', '.', '.', '.', '.', '.'],\n",
            " ['.', '.', '.', '.', '.', '2', '.', '.', '.'],\n",
            " ['.', '2', '.', '9', '.', '.', '.', '.', '.'],\n",
            " ['.', '.', '4', '.', '.', '.', '.', '.', '.']]\n"
          ]
        },
        {
          "output_type": "execute_result",
          "data": {
            "text/plain": [
              "False"
            ]
          },
          "metadata": {},
          "execution_count": 35
        }
      ]
    },
    {
      "cell_type": "code",
      "source": [
        "class Solution:\n",
        "    def spiralOrder(self, matrix: List[List[int]]) -> List[int]:\n",
        "      r,c = 0,0\n",
        "      w,h = len(matrix[0]),len(matrix)\n",
        "      dr,dc = 0,1\n",
        "      br,bc = [1,h-1],[0,w-1]\n",
        "      n = 0\n",
        "      res = []\n",
        "      while n < w*h:\n",
        "        # print(r,c,br,bc)\n",
        "        val = matrix[r][c]\n",
        "        res.append(val)\n",
        "        n += 1\n",
        "        if dr == 1 and r == br[1]:\n",
        "          dr,dc = 0,-1\n",
        "          br[1] -= 1\n",
        "        elif dr == -1 and r == br[0]:\n",
        "          dr,dc = 0,1\n",
        "          br[0] += 1\n",
        "        elif dc == 1 and c == bc[1]:\n",
        "          dr,dc = 1,0\n",
        "          bc[1] -= 1\n",
        "        elif dc == -1 and c == bc[0]:\n",
        "          dr,dc = -1,0\n",
        "          bc[0] += 1\n",
        "        r,c, = r+dr,c+dc\n",
        "      return res\n",
        "\n",
        "matrix = [[1,2,3,4],[5,6,7,8],[9,10,11,12]]\n",
        "Solution().spiralOrder(matrix)"
      ],
      "metadata": {
        "colab": {
          "base_uri": "https://localhost:8080/"
        },
        "id": "QDjkFZu4m1_s",
        "outputId": "b0f25f86-dea1-43ae-854d-00c0ea212a6c"
      },
      "execution_count": 36,
      "outputs": [
        {
          "output_type": "execute_result",
          "data": {
            "text/plain": [
              "[1, 2, 3, 4, 8, 12, 11, 10, 9, 5, 6, 7]"
            ]
          },
          "metadata": {},
          "execution_count": 36
        }
      ]
    },
    {
      "cell_type": "code",
      "source": [
        "class Solution:\n",
        "    def rotate(self, matrix: List[List[int]]) -> None:\n",
        "      w = len(matrix)\n",
        "      for r in range(w//2):\n",
        "        n = w-2*r-1\n",
        "        for i in range(n):\n",
        "          # print(r,i,n,matrix)\n",
        "          t = matrix[r][r+i]\n",
        "          matrix[r][r+i] = matrix[r+n-i][r]\n",
        "          matrix[r+n-i][r] = matrix[r+n][r+n-i]\n",
        "          matrix[r+n][r+n-i] = matrix[r+i][r+n]\n",
        "          matrix[r+i][r+n] = t\n",
        "      return matrix\n",
        "\n",
        "matrix = [[5,1,9,11],[2,4,8,10],[13,3,6,7],[15,14,12,16]]\n",
        "Solution().rotate(matrix)"
      ],
      "metadata": {
        "colab": {
          "base_uri": "https://localhost:8080/"
        },
        "id": "h0qBNf81ufKJ",
        "outputId": "078fd8f0-39b4-4a2b-9fd0-35d45abac6c7"
      },
      "execution_count": 37,
      "outputs": [
        {
          "output_type": "execute_result",
          "data": {
            "text/plain": [
              "[[15, 13, 2, 5], [14, 3, 4, 1], [12, 6, 8, 9], [16, 7, 10, 11]]"
            ]
          },
          "metadata": {},
          "execution_count": 37
        }
      ]
    },
    {
      "cell_type": "code",
      "source": [
        "class Solution:\n",
        "    def setZeroes(self, matrix: List[List[int]]) -> None:\n",
        "      rows,cols = len(matrix),len(matrix[0])\n",
        "      for r in range(rows):\n",
        "        for c in range(cols):\n",
        "          if matrix[r][c] == 0:\n",
        "            for i in range(rows):\n",
        "              if matrix[i][c] != 0:\n",
        "                matrix[i][c] = None\n",
        "            for i in range(cols):\n",
        "              if matrix[r][i] != 0:\n",
        "                matrix[r][i] = None\n",
        "      for r in range(rows):\n",
        "        for c in range(cols):\n",
        "          if matrix[r][c] == None:\n",
        "            matrix[r][c] = 0\n",
        "      return matrix\n",
        "\n",
        "matrix = [[0,1,2,0],[3,4,5,2],[1,3,1,5]]\n",
        "Solution().setZeroes(matrix)"
      ],
      "metadata": {
        "colab": {
          "base_uri": "https://localhost:8080/"
        },
        "id": "snFTJ8jt4ErJ",
        "outputId": "85b56797-424d-4617-c7e1-d86d6b5466ca"
      },
      "execution_count": 38,
      "outputs": [
        {
          "output_type": "execute_result",
          "data": {
            "text/plain": [
              "[[0, 0, 0, 0], [0, 4, 5, 0], [0, 3, 1, 0]]"
            ]
          },
          "metadata": {},
          "execution_count": 38
        }
      ]
    },
    {
      "cell_type": "code",
      "source": [
        "import copy\n",
        "class Solution:\n",
        "    def gameOfLife(self, board: List[List[int]]) -> None:\n",
        "      rows,cols = len(board),len(board[0])\n",
        "      orig = copy.deepcopy(board)\n",
        "      def count(row,col):\n",
        "        ret = 0\n",
        "        for r in range(max(0,row-1),min(rows-1,row+1)+1):\n",
        "          for c in range(max(0,col-1),min(cols-1,col+1)+1):\n",
        "            if r == row and c == col: continue\n",
        "            ret += orig[r][c]\n",
        "        return ret\n",
        "      for r in range(rows):\n",
        "        for c in range(cols):\n",
        "          if orig[r][c] == 1:\n",
        "            pop = count(r,c)\n",
        "            board[r][c] = int(pop == 2 or pop == 3)\n",
        "          else:\n",
        "            board[r][c] = int(count(r,c) == 3)\n",
        "\n",
        "board = [[0,1,0],[0,0,1],[1,1,1],[0,0,0]]\n",
        "Solution().gameOfLife(board)\n",
        "board"
      ],
      "metadata": {
        "colab": {
          "base_uri": "https://localhost:8080/"
        },
        "id": "SADBF-uE7lXB",
        "outputId": "8d09333a-5b9a-4611-ef3f-0b7b98f2cc79"
      },
      "execution_count": 39,
      "outputs": [
        {
          "output_type": "execute_result",
          "data": {
            "text/plain": [
              "[[0, 0, 0], [1, 0, 1], [0, 1, 1], [0, 1, 0]]"
            ]
          },
          "metadata": {},
          "execution_count": 39
        }
      ]
    },
    {
      "cell_type": "code",
      "source": [
        "from collections import Counter\n",
        "class Solution:\n",
        "    def canConstruct(self, ransomNote: str, magazine: str) -> bool:\n",
        "      rc = Counter(ransomNote)\n",
        "      mc = Counter(magazine)\n",
        "      for c in rc.keys():\n",
        "        if rc[c] > mc[c]: return False\n",
        "      return True\n",
        "\n",
        "ransomNote = \"aa\"\n",
        "magazine = \"aab\"\n",
        "Solution().canConstruct(ransomNote, magazine)"
      ],
      "metadata": {
        "colab": {
          "base_uri": "https://localhost:8080/"
        },
        "id": "uC7YHP8OBEsG",
        "outputId": "fbbb9eb4-bad9-488e-9905-4828aba68da3"
      },
      "execution_count": 40,
      "outputs": [
        {
          "output_type": "execute_result",
          "data": {
            "text/plain": [
              "True"
            ]
          },
          "metadata": {},
          "execution_count": 40
        }
      ]
    },
    {
      "cell_type": "code",
      "source": [
        "class Solution:\n",
        "    def isIsomorphic(self, s: str, t: str) -> bool:\n",
        "      def convert(s):\n",
        "        i = 0\n",
        "        d = {}\n",
        "        res = []\n",
        "        for c in s:\n",
        "          if c not in d:\n",
        "            d[c] = i\n",
        "            i += 1\n",
        "          res.append(d[c])\n",
        "        return res\n",
        "      return convert(s) == convert(t)\n",
        "\n",
        "s = \"egg\"\n",
        "t = \"add\"\n",
        "Solution().isIsomorphic(s,t)"
      ],
      "metadata": {
        "colab": {
          "base_uri": "https://localhost:8080/"
        },
        "id": "YsX_8XHMLpwH",
        "outputId": "b99d005c-32f2-483b-c0e4-fd16ec1f3645"
      },
      "execution_count": 41,
      "outputs": [
        {
          "output_type": "execute_result",
          "data": {
            "text/plain": [
              "True"
            ]
          },
          "metadata": {},
          "execution_count": 41
        }
      ]
    },
    {
      "cell_type": "code",
      "source": [
        "class Solution:\n",
        "    def wordPattern(self, pattern: str, s: str) -> bool:\n",
        "      words = s.split()\n",
        "      d = {}\n",
        "      rd = {}\n",
        "      if len(pattern) != len(words): return False\n",
        "      for i in range(len(pattern)):\n",
        "        if pattern[i] not in d and words[i] not in rd:\n",
        "          d[pattern[i]] = words[i]\n",
        "          rd[words[i]] = pattern[i]\n",
        "        else:\n",
        "          if pattern[i] in d and d[pattern[i]] != words[i]: return False\n",
        "          if words[i] in rd and rd[words[i]] != pattern[i]: return False\n",
        "      return True\n",
        "\n",
        "pattern = \"aaa\"\n",
        "s = \"aa aa aa aa\"\n",
        "Solution().wordPattern(pattern, s)"
      ],
      "metadata": {
        "colab": {
          "base_uri": "https://localhost:8080/"
        },
        "id": "kyXm4yiXOdUh",
        "outputId": "00ac003b-54d6-4149-a00e-32ef7121ac95"
      },
      "execution_count": 42,
      "outputs": [
        {
          "output_type": "execute_result",
          "data": {
            "text/plain": [
              "False"
            ]
          },
          "metadata": {},
          "execution_count": 42
        }
      ]
    },
    {
      "cell_type": "code",
      "source": [
        "from collections import Counter\n",
        "class Solution:\n",
        "    def isAnagram(self, s: str, t: str) -> bool:\n",
        "      return Counter(s) == Counter(t)\n",
        "\n",
        "s = \"rat\"\n",
        "t = \"car\"\n",
        "Solution().isAnagram(s,t)"
      ],
      "metadata": {
        "colab": {
          "base_uri": "https://localhost:8080/"
        },
        "id": "MQNFLaX_RkWw",
        "outputId": "2bbc5352-69af-4201-e65d-66870462c6c6"
      },
      "execution_count": 43,
      "outputs": [
        {
          "output_type": "execute_result",
          "data": {
            "text/plain": [
              "False"
            ]
          },
          "metadata": {},
          "execution_count": 43
        }
      ]
    },
    {
      "cell_type": "code",
      "source": [
        "class Solution:\n",
        "    def groupAnagrams(self, strs: List[str]) -> List[List[str]]:\n",
        "      d = {}\n",
        "      for s in strs:\n",
        "        tmp = tuple(sorted(s))\n",
        "        if tmp in d:\n",
        "          d[tmp].append(s)\n",
        "        else:\n",
        "          d[tmp] = [s]\n",
        "      return list([list(x) for x in d.values()])\n",
        "\n",
        "strs = [\"ddddddddddg\",\"dgggggggggg\"]\n",
        "Solution().groupAnagrams(strs)"
      ],
      "metadata": {
        "colab": {
          "base_uri": "https://localhost:8080/"
        },
        "id": "Siynq_PZSU83",
        "outputId": "5797e4bb-e138-4277-a781-9ddf3918ec4b"
      },
      "execution_count": 44,
      "outputs": [
        {
          "output_type": "execute_result",
          "data": {
            "text/plain": [
              "[['ddddddddddg'], ['dgggggggggg']]"
            ]
          },
          "metadata": {},
          "execution_count": 44
        }
      ]
    },
    {
      "cell_type": "code",
      "source": [
        "class Solution:\n",
        "    def twoSum(self, nums: List[int], target: int) -> List[int]:\n",
        "      d = {nums[i]:i for i in range(len(nums))}\n",
        "      for i in range(len(nums)):\n",
        "        t = target-nums[i]\n",
        "        if t in d and d[t] != i: return [i,d[t]]\n",
        "\n",
        "nums = [3,3]\n",
        "target = 6\n",
        "Solution().twoSum(nums, target)"
      ],
      "metadata": {
        "colab": {
          "base_uri": "https://localhost:8080/"
        },
        "id": "xv14RgqDVwqY",
        "outputId": "796fed0b-698e-4f13-b45b-a75ebd1edf27"
      },
      "execution_count": 45,
      "outputs": [
        {
          "output_type": "execute_result",
          "data": {
            "text/plain": [
              "[0, 1]"
            ]
          },
          "metadata": {},
          "execution_count": 45
        }
      ]
    },
    {
      "cell_type": "code",
      "source": [
        "class Solution:\n",
        "    def isHappy(self, n: int) -> bool:\n",
        "      seen = set()\n",
        "      while True:\n",
        "        n = sum([int(x)**2 for x in str(n)])\n",
        "        if n == 1: return True\n",
        "        if n in seen: return False\n",
        "        seen.add(n)\n",
        "\n",
        "n = 2\n",
        "Solution().isHappy(n)"
      ],
      "metadata": {
        "colab": {
          "base_uri": "https://localhost:8080/"
        },
        "id": "j6aGRsdlXve7",
        "outputId": "c3fa7bfb-202d-44d5-b212-3990f2e9fe8b"
      },
      "execution_count": 46,
      "outputs": [
        {
          "output_type": "execute_result",
          "data": {
            "text/plain": [
              "False"
            ]
          },
          "metadata": {},
          "execution_count": 46
        }
      ]
    },
    {
      "cell_type": "code",
      "source": [
        "class Solution:\n",
        "    def containsNearbyDuplicate(self, nums: List[int], k: int) -> bool:\n",
        "      d = {}\n",
        "      for i in range(len(nums)):\n",
        "        # print(d)\n",
        "        if nums[i] in d:\n",
        "          for idx in d[nums[i]]:\n",
        "            if abs(idx-i) <= k: return True\n",
        "        d[nums[i]] = d.get(nums[i],[]) + [i]\n",
        "      return False\n",
        "\n",
        "nums = [1,2,3,1,2,3]\n",
        "k = 2\n",
        "Solution().containsNearbyDuplicate(nums,k)"
      ],
      "metadata": {
        "colab": {
          "base_uri": "https://localhost:8080/"
        },
        "id": "tWkKhS7uY0uW",
        "outputId": "0c645e80-d362-44bc-a488-8a46ea847da2"
      },
      "execution_count": 47,
      "outputs": [
        {
          "output_type": "execute_result",
          "data": {
            "text/plain": [
              "False"
            ]
          },
          "metadata": {},
          "execution_count": 47
        }
      ]
    },
    {
      "cell_type": "code",
      "source": [
        "class Solution:\n",
        "    def longestConsecutive(self, nums: List[int]) -> int:\n",
        "      f = {}\n",
        "      b = {}\n",
        "      for n in nums:\n",
        "        if n in f: continue\n",
        "\n",
        "        if n+1 in f:\n",
        "          f[n] = f[n+1]+1\n",
        "        else:\n",
        "          f[n] = 0\n",
        "        if n-1 in b:\n",
        "          b[n] = b[n-1]+1\n",
        "        else:\n",
        "          b[n] = 0\n",
        "\n",
        "        if f[n] != 0:\n",
        "          b[n+f[n]] = b[n]+f[n]\n",
        "        if b[n] != 0:\n",
        "          f[n-b[n]] = f[n]+b[n]\n",
        "        # print(n,f,b)\n",
        "\n",
        "      if len(nums) == 0: return 0\n",
        "      return max(f.values())+1\n",
        "\n",
        "nums = [-6,-9,8,-8,-1,-3,-6,8,-9,-1,-4,-8,-5,0,1,6,-8,-5,-7,8,-2,-8,4,5,-5,-1,-5]\n",
        "Solution().longestConsecutive(nums)"
      ],
      "metadata": {
        "id": "jraT5Lk0xYZm",
        "colab": {
          "base_uri": "https://localhost:8080/"
        },
        "outputId": "37c6b9db-5e54-49f3-ed49-53777149d306"
      },
      "execution_count": 48,
      "outputs": [
        {
          "output_type": "execute_result",
          "data": {
            "text/plain": [
              "11"
            ]
          },
          "metadata": {},
          "execution_count": 48
        }
      ]
    },
    {
      "cell_type": "code",
      "source": [
        "class Solution:\n",
        "    def summaryRanges(self, nums: List[int]) -> List[str]:\n",
        "      ranges = []\n",
        "      for n in nums:\n",
        "        new_ranges = []\n",
        "        found = False\n",
        "        for range in ranges:\n",
        "          if n == range[0]-1:\n",
        "            found = True\n",
        "            range[0] = n\n",
        "          if n == range[1]+1:\n",
        "            found = True\n",
        "            range[1] = n\n",
        "          new_ranges.append(range)\n",
        "        if not found:\n",
        "          new_ranges.append([n,n])\n",
        "        ranges = new_ranges\n",
        "      res = []\n",
        "      for range in ranges:\n",
        "        if range[0] == range[1]:\n",
        "          res.append(str(range[0]))\n",
        "        else:\n",
        "          res.append(f\"{range[0]}->{range[1]}\")\n",
        "      return res\n",
        "\n",
        "nums = [0,2,3,4,6,8,9]\n",
        "Solution().summaryRanges(nums)"
      ],
      "metadata": {
        "colab": {
          "base_uri": "https://localhost:8080/"
        },
        "id": "JcNCiGOH9wc_",
        "outputId": "421edf32-31e4-409e-c303-855fa354ba7c"
      },
      "execution_count": 49,
      "outputs": [
        {
          "output_type": "execute_result",
          "data": {
            "text/plain": [
              "['0', '2->4', '6', '8->9']"
            ]
          },
          "metadata": {},
          "execution_count": 49
        }
      ]
    },
    {
      "cell_type": "code",
      "source": [
        "class Solution:\n",
        "    def merge(self, intervals: List[List[int]]) -> List[List[int]]:\n",
        "      res = []\n",
        "      for r1 in intervals:\n",
        "        new_res = []\n",
        "        for r2 in res:\n",
        "          if r2[0] <= r1[1] and r2[1] >= r1[0]:\n",
        "            r1 = [min(r1[0],r2[0]),max(r1[1],r2[1])]\n",
        "          else:\n",
        "            new_res.append(r2)\n",
        "        new_res.append(r1)\n",
        "        res = new_res\n",
        "        # print(res)\n",
        "      return res\n",
        "\n",
        "intervals = [[1,4],[4,5]]\n",
        "Solution().merge(intervals)"
      ],
      "metadata": {
        "colab": {
          "base_uri": "https://localhost:8080/"
        },
        "id": "MlXa6kwLAK0n",
        "outputId": "5442a8f9-b7b6-4c56-b507-9c7db6c7096d"
      },
      "execution_count": 50,
      "outputs": [
        {
          "output_type": "execute_result",
          "data": {
            "text/plain": [
              "[[1, 5]]"
            ]
          },
          "metadata": {},
          "execution_count": 50
        }
      ]
    },
    {
      "cell_type": "code",
      "source": [
        "class Solution:\n",
        "    def insert(self, intervals: List[List[int]], newInterval: List[int]) -> List[List[int]]:\n",
        "      res = []\n",
        "      r1 = newInterval\n",
        "      for i in range(len(intervals)):\n",
        "        r2 = intervals[i]\n",
        "        if r1 and r2[0] <= r1[1] and r2[1] >= r1[0]:\n",
        "          r1 = [min(r1[0],r2[0]),max(r1[1],r2[1])]\n",
        "        else:\n",
        "          if r1 and r1[1] < r2[0]:\n",
        "            res.append(r1)\n",
        "            r1 = None\n",
        "          res.append(r2)\n",
        "          if r1 and i == len(intervals)-1 and r1[0] > r2[1]:\n",
        "            res.append(r1)\n",
        "            r1 = None\n",
        "      if r1: res.append(r1)\n",
        "      return res\n",
        "\n",
        "intervals = [[2,5],[6,7],[8,9]]\n",
        "newInterval = [0,1]\n",
        "Solution().insert(intervals, newInterval)"
      ],
      "metadata": {
        "colab": {
          "base_uri": "https://localhost:8080/"
        },
        "id": "Jq92TUQMkwCQ",
        "outputId": "5791dfdd-c7ee-4cde-8287-fbd9051fe106"
      },
      "execution_count": 51,
      "outputs": [
        {
          "output_type": "execute_result",
          "data": {
            "text/plain": [
              "[[0, 1], [2, 5], [6, 7], [8, 9]]"
            ]
          },
          "metadata": {},
          "execution_count": 51
        }
      ]
    },
    {
      "cell_type": "code",
      "source": [
        "class Solution:\n",
        "    def findMinArrowShots(self, points: List[List[int]]) -> int:\n",
        "      points.sort()\n",
        "      res = []\n",
        "      r1 = points[0]\n",
        "      for r2 in points:\n",
        "        # print(r1, r2, res)\n",
        "        if r1 and r2[0] <= r1[1] and r2[1] >= r1[0]:\n",
        "          r1 = [max(r1[0],r2[0]),min(r1[1],r2[1])]\n",
        "        else:\n",
        "          if r1:\n",
        "            res.append(r1)\n",
        "            r1 = None\n",
        "          r1 = r2\n",
        "      if r1:\n",
        "        res.append(r1)\n",
        "      return len(res)\n",
        "\n",
        "points = [[3,9],[7,12],[3,8],[6,8],[9,10],[2,9],[0,9],[3,9],[0,6],[2,8]]\n",
        "Solution().findMinArrowShots(points)"
      ],
      "metadata": {
        "colab": {
          "base_uri": "https://localhost:8080/"
        },
        "id": "JYEiHJuzsS8s",
        "outputId": "8edf6d11-f474-4597-e727-d6766575a6f1"
      },
      "execution_count": 52,
      "outputs": [
        {
          "output_type": "execute_result",
          "data": {
            "text/plain": [
              "2"
            ]
          },
          "metadata": {},
          "execution_count": 52
        }
      ]
    },
    {
      "cell_type": "code",
      "source": [
        "class Solution:\n",
        "    def isValid(self, s: str) -> bool:\n",
        "      q = []\n",
        "      for c in s:\n",
        "        if c == \"(\": q.append(c)\n",
        "        if c == \")\" and (len(q) == 0 or q.pop() != \"(\"): return False\n",
        "        if c == \"[\": q.append(c)\n",
        "        if c == \"]\" and (len(q) == 0 or q.pop() != \"[\"): return False\n",
        "        if c == \"{\": q.append(c)\n",
        "        if c == \"}\" and (len(q) == 0 or q.pop() != \"{\"): return False\n",
        "      return len(q)==0\n",
        "\n",
        "s = \"[]{}\"\n",
        "Solution().isValid(s)"
      ],
      "metadata": {
        "colab": {
          "base_uri": "https://localhost:8080/"
        },
        "id": "XisnSU6P1BGg",
        "outputId": "c9a00df7-6e47-46b9-a551-59ec0eac8daa"
      },
      "execution_count": 53,
      "outputs": [
        {
          "output_type": "execute_result",
          "data": {
            "text/plain": [
              "True"
            ]
          },
          "metadata": {},
          "execution_count": 53
        }
      ]
    },
    {
      "cell_type": "code",
      "source": [
        "class Solution:\n",
        "    def simplifyPath(self, path: str) -> str:\n",
        "      res = []\n",
        "      prevSlash = 0\n",
        "      for s in path.split(\"/\"):\n",
        "        if s != \"\" and s != \".\":\n",
        "          if s == \"..\":\n",
        "            if len(res) > 0: res.pop()\n",
        "          else:\n",
        "            res.append(s)\n",
        "      return \"/\" + \"/\".join(res)\n",
        "\n",
        "path =  \"/.../a/../b/c/../d/./\"\n",
        "Solution().simplifyPath(path)"
      ],
      "metadata": {
        "colab": {
          "base_uri": "https://localhost:8080/",
          "height": 35
        },
        "id": "LPHLEUPYHW1w",
        "outputId": "8ec81a41-8366-4a88-dbac-9af5796ebdc2"
      },
      "execution_count": 54,
      "outputs": [
        {
          "output_type": "execute_result",
          "data": {
            "text/plain": [
              "'/.../b/d'"
            ],
            "application/vnd.google.colaboratory.intrinsic+json": {
              "type": "string"
            }
          },
          "metadata": {},
          "execution_count": 54
        }
      ]
    },
    {
      "cell_type": "code",
      "source": [
        "class MinStack:\n",
        "    def __init__(self):\n",
        "        self.q = []\n",
        "\n",
        "    def push(self, val: int) -> None:\n",
        "        if len(self.q) > 0:\n",
        "          minVal = self.q[-1][1]\n",
        "        else:\n",
        "          minVal = val\n",
        "        self.q.append((val,min(minVal,val)))\n",
        "\n",
        "    def pop(self) -> None:\n",
        "        self.q.pop()\n",
        "\n",
        "    def top(self) -> int:\n",
        "        return self.q[-1][0]\n",
        "\n",
        "    def getMin(self) -> int:\n",
        "        return self.q[-1][1]\n",
        "\n",
        "minStack = MinStack()\n",
        "minStack.push(-2)\n",
        "minStack.push(0)\n",
        "minStack.push(-3)\n",
        "print(minStack.getMin())\n",
        "minStack.pop()\n",
        "print(minStack.top())\n",
        "print(minStack.getMin())"
      ],
      "metadata": {
        "colab": {
          "base_uri": "https://localhost:8080/"
        },
        "id": "AKlzDGW6KIQo",
        "outputId": "c9a77c3a-e4bd-4e1f-9da6-c166f697c255"
      },
      "execution_count": 55,
      "outputs": [
        {
          "output_type": "stream",
          "name": "stdout",
          "text": [
            "-3\n",
            "0\n",
            "-2\n"
          ]
        }
      ]
    },
    {
      "cell_type": "code",
      "source": [
        "import math\n",
        "class Solution:\n",
        "    def evalRPN(self, tokens: List[str]) -> int:\n",
        "      stack = []\n",
        "      for t in tokens:\n",
        "        # print(stack)\n",
        "        if t in ['+', '-', '*', '/']:\n",
        "          v2 = stack.pop()\n",
        "          v1 = stack.pop()\n",
        "          if t == \"/\":\n",
        "            val = int(v1) / int(v2)\n",
        "            if val > 0:\n",
        "              val = math.floor(val)\n",
        "            else:\n",
        "              val = math.ceil(val)\n",
        "            stack.append(val)\n",
        "          else:\n",
        "            stack.append(eval(f\"{v1} {t} {v2}\"))\n",
        "        else:\n",
        "          stack.append(t)\n",
        "      return int(stack[0])\n",
        "\n",
        "tokens = [\"18\"]\n",
        "Solution().evalRPN(tokens)"
      ],
      "metadata": {
        "colab": {
          "base_uri": "https://localhost:8080/"
        },
        "id": "PEoSkbpFOV9M",
        "outputId": "5044a905-33b4-40e2-c24c-b7e134286684"
      },
      "execution_count": 56,
      "outputs": [
        {
          "output_type": "execute_result",
          "data": {
            "text/plain": [
              "18"
            ]
          },
          "metadata": {},
          "execution_count": 56
        }
      ]
    },
    {
      "cell_type": "code",
      "source": [
        "class Solution:\n",
        "    def calculate(self, s: str) -> int:\n",
        "      stack = []\n",
        "      currNum = None\n",
        "      for i in range(len(s)):\n",
        "        c = s[i]\n",
        "        if c == \" \": continue\n",
        "        # print(i,c,stack)\n",
        "        if c.isnumeric():\n",
        "          currNum = int(c) if currNum == None else currNum*10+int(c)\n",
        "          if i == len(s)-1 or not s[i+1].isnumeric():\n",
        "            stack.append(currNum)\n",
        "            currNum = None\n",
        "\n",
        "        if c in [\"-\",\"+\"]:\n",
        "          stack.append(c)\n",
        "        elif c in [\"(\",\")\"]:\n",
        "          if c == \"(\":\n",
        "            stack.append(c)\n",
        "          if c == \")\":\n",
        "            n = stack.pop()\n",
        "            stack[-1] = n\n",
        "\n",
        "        if i == len(s)-1 or not s[i+1].isnumeric():\n",
        "          if len(stack) >= 2 and type(stack[-1]) == int and stack[-2] == \"-\" and (len(stack) < 3 or type(stack[-3]) != int):\n",
        "            n = stack.pop()\n",
        "            stack[-1] = -n\n",
        "          if len(stack) >= 3 and type(stack[-1]) == int and type(stack[-3]) == int:\n",
        "            if stack[-2] == \"+\":\n",
        "              n2 = stack.pop()\n",
        "              stack.pop()\n",
        "              stack[-1] += n2\n",
        "            elif stack[-2] == \"-\":\n",
        "              n2 = stack.pop()\n",
        "              stack.pop()\n",
        "              stack[-1] -= n2\n",
        "\n",
        "      return stack[0]\n",
        "\n",
        "s = \"(1+(4+5+2)-3)+(6+8)\"\n",
        "Solution().calculate(s)"
      ],
      "metadata": {
        "colab": {
          "base_uri": "https://localhost:8080/"
        },
        "id": "_mjwW4eMqo1p",
        "outputId": "75bd9010-8ed6-45aa-be8a-885ce72b692c"
      },
      "execution_count": 57,
      "outputs": [
        {
          "output_type": "execute_result",
          "data": {
            "text/plain": [
              "23"
            ]
          },
          "metadata": {},
          "execution_count": 57
        }
      ]
    },
    {
      "cell_type": "code",
      "source": [
        "class ListNode:\n",
        "    def __init__(self, x: int, next: 'Node' = None):\n",
        "        self.val = int(x)\n",
        "        self.next = next\n",
        "\n",
        "class Solution:\n",
        "    def hasCycle(self, head: Optional[ListNode]) -> bool:\n",
        "      p1 = head\n",
        "      p2 = head.next if head != None else None\n",
        "      while p1 != None and p2 != None:\n",
        "        if p1 == p2 or (p2.next != None and p2.next == p1): return True\n",
        "        p1 = p1.next\n",
        "        p2 = p2.next.next if p2.next != None else p2.next\n",
        "      return False\n",
        "\n",
        "head = []\n",
        "pos = -1\n",
        "l = None\n",
        "tailPtr = None\n",
        "tail = None\n",
        "for i in range(len(head)-1,-1,-1):\n",
        "  tmp = ListNode(head[i])\n",
        "  if i == len(head)-1: tail = tmp\n",
        "  if i == pos:\n",
        "    tailPtr = tmp\n",
        "  tmp.next = l\n",
        "  l = tmp\n",
        "if pos >= 0:\n",
        "  tail.next = tailPtr\n",
        "\n",
        "Solution().hasCycle(l)"
      ],
      "metadata": {
        "colab": {
          "base_uri": "https://localhost:8080/"
        },
        "id": "U4PZKSlbDX36",
        "outputId": "3bff82ba-c225-46f3-e8d5-b6d0fa16351f"
      },
      "execution_count": 58,
      "outputs": [
        {
          "output_type": "execute_result",
          "data": {
            "text/plain": [
              "False"
            ]
          },
          "metadata": {},
          "execution_count": 58
        }
      ]
    },
    {
      "cell_type": "code",
      "source": [
        "class Solution:\n",
        "    def addTwoNumbers(self, l1: Optional[ListNode], l2: Optional[ListNode]) -> Optional[ListNode]:\n",
        "      def getNum(l1):\n",
        "        n1 = 0\n",
        "        i = 0\n",
        "        while l1 != None:\n",
        "          n1 = n1+l1.val*10**(i)\n",
        "          l1 = l1.next\n",
        "          i += 1\n",
        "        return n1\n",
        "      n1,n2 = getNum(l1),getNum(l2)\n",
        "      return makeList(list(str(n1+n2))[::-1])\n",
        "\n",
        "def makeList(l):\n",
        "  res = None\n",
        "  for i in range(len(l)-1,-1,-1):\n",
        "    tmp = ListNode(int(l[i]))\n",
        "    tmp.next = res\n",
        "    res = tmp\n",
        "  return res\n",
        "\n",
        "l1 = [2,4,3]\n",
        "l2 = [5,6,4]\n",
        "Solution().addTwoNumbers(makeList(l1),makeList(l2))"
      ],
      "metadata": {
        "colab": {
          "base_uri": "https://localhost:8080/"
        },
        "id": "-t1CIZPBJOAS",
        "outputId": "44aa6d70-7a9f-48f2-ab33-86027d5640ad"
      },
      "execution_count": 59,
      "outputs": [
        {
          "output_type": "execute_result",
          "data": {
            "text/plain": [
              "<__main__.ListNode at 0x7a39d43465d0>"
            ]
          },
          "metadata": {},
          "execution_count": 59
        }
      ]
    },
    {
      "cell_type": "code",
      "source": [
        "class Solution:\n",
        "    def mergeTwoLists(self, list1: Optional[ListNode], list2: Optional[ListNode]) -> Optional[ListNode]:\n",
        "      res = []\n",
        "      while list1 or list2:\n",
        "        if not list1:\n",
        "          res.append(list2)\n",
        "          list2 = list2.next\n",
        "        elif not list2:\n",
        "          res.append(list1)\n",
        "          list1 = list1.next\n",
        "        elif list1.val <= list2.val:\n",
        "          res.append(list1)\n",
        "          list1 = list1.next\n",
        "        elif list2.val <= list1.val:\n",
        "          res.append(list2)\n",
        "          list2 = list2.next\n",
        "      for i in range(len(res)):\n",
        "        if i == len(res)-1:\n",
        "          res[i].next = None\n",
        "        else:\n",
        "          res[i].next = res[i+1]\n",
        "      return res[0] if len(res)>0 else None\n",
        "\n",
        "l1 = []\n",
        "l2 = []\n",
        "\n",
        "def printList(l):\n",
        "  ret = []\n",
        "  while l != None:\n",
        "    ret.append(l.val)\n",
        "    l = l.next\n",
        "  print(ret)\n",
        "\n",
        "Solution().mergeTwoLists(makeList(l1),makeList(l2))"
      ],
      "metadata": {
        "id": "BNUbLpNYNhep"
      },
      "execution_count": 60,
      "outputs": []
    },
    {
      "cell_type": "code",
      "source": [
        "class Node:\n",
        "    def __init__(self, x: int, next: 'Node' = None, random: 'Node' = None):\n",
        "        self.val = int(x)\n",
        "        self.next = next\n",
        "        self.random = random\n",
        "\n",
        "class Solution:\n",
        "    def copyRandomList(self, head: 'Optional[Node]') -> 'Optional[Node]':\n",
        "      nodes = []\n",
        "      m = {}\n",
        "      l = head\n",
        "      while l:\n",
        "        nodes.append(Node(l.val, next=l.next, random=l.random))\n",
        "        m[l] = nodes[-1]\n",
        "        l = l.next\n",
        "      for node in nodes:\n",
        "        if node.next: node.next = m[node.next]\n",
        "        if node.random: node.random = m[node.random]\n",
        "      # printListRandom(nodes[0])\n",
        "      return nodes[0] if len(nodes)>0 else None\n",
        "\n",
        "head = [[7,None],[13,0],[11,4],[10,2],[1,0]]\n",
        "l = None\n",
        "nodes = []\n",
        "for i in range(len(head)-1,-1,-1):\n",
        "  l = Node(head[i][0],next=l)\n",
        "  nodes.insert(0,l)\n",
        "for i in range(len(head)):\n",
        "  if head[i][1] != None:\n",
        "    nodes[i].random = nodes[head[i][1]]\n",
        "\n",
        "def printListRandom(l):\n",
        "  ret = []\n",
        "  while l != None:\n",
        "    random = l.random.val if l.random else None\n",
        "    ret.append((l.val, random))\n",
        "    l = l.next\n",
        "  print(ret)\n",
        "\n",
        "Solution().copyRandomList(l)"
      ],
      "metadata": {
        "colab": {
          "base_uri": "https://localhost:8080/"
        },
        "id": "4fhIuS-3XRtF",
        "outputId": "9ec43570-cb4c-4fd6-8b54-e6468441c67c"
      },
      "execution_count": 61,
      "outputs": [
        {
          "output_type": "execute_result",
          "data": {
            "text/plain": [
              "<__main__.Node at 0x7a39d43359d0>"
            ]
          },
          "metadata": {},
          "execution_count": 61
        }
      ]
    },
    {
      "cell_type": "code",
      "source": [
        "class Solution:\n",
        "    def reverseBetween(self, head: Optional[ListNode], left: int, right: int) -> Optional[ListNode]:\n",
        "      i = 0\n",
        "      l = head\n",
        "      lNode = None\n",
        "      rNode = None\n",
        "      while l:\n",
        "        i += 1\n",
        "        if i == left: lNode = l\n",
        "        if i == right: rNode = l\n",
        "        l = l.next\n",
        "\n",
        "      # printList(lNode)\n",
        "      prev = rNode.next\n",
        "      curr = lNode\n",
        "      next = rNode.next\n",
        "      while curr and curr != next:\n",
        "        tmp = curr.next\n",
        "        curr.next = prev\n",
        "        prev = curr\n",
        "        curr = tmp\n",
        "      # printList(rNode)\n",
        "\n",
        "      l = head\n",
        "      prevNode = ListNode(0,next=head)\n",
        "      ret = prevNode\n",
        "      i = 0\n",
        "      while l:\n",
        "        i += 1\n",
        "        if i == left:\n",
        "          prevNode.next = rNode\n",
        "        prevNode = l\n",
        "        l = l.next\n",
        "      return ret.next\n",
        "\n",
        "head = [1]\n",
        "left = 1\n",
        "right = 1\n",
        "Solution().reverseBetween(makeList(head), left, right)"
      ],
      "metadata": {
        "colab": {
          "base_uri": "https://localhost:8080/"
        },
        "id": "niKyRTGveWB-",
        "outputId": "11072636-52df-4d65-de6d-487138fa2a73"
      },
      "execution_count": 62,
      "outputs": [
        {
          "output_type": "execute_result",
          "data": {
            "text/plain": [
              "<__main__.ListNode at 0x7a39d433e390>"
            ]
          },
          "metadata": {},
          "execution_count": 62
        }
      ]
    },
    {
      "cell_type": "code",
      "source": [
        "# Definition for singly-linked list.\n",
        "# class ListNode:\n",
        "#     def __init__(self, val=0, next=None):\n",
        "#         self.val = val\n",
        "#         self.next = next\n",
        "class Solution:\n",
        "    def reverseKGroup(self, head: Optional[ListNode], k: int) -> Optional[ListNode]:\n",
        "      dummy = ListNode(0, next=head)\n",
        "      prev = dummy\n",
        "      curr = head\n",
        "      i = 1\n",
        "      while curr != None:\n",
        "        if i > 1 and i == k:\n",
        "          # print(prev.val,curr.val,curr.next)\n",
        "          next = curr.next\n",
        "          groupPrev = next\n",
        "          groupCurr = prev.next\n",
        "          while groupCurr != next:\n",
        "            tmp = groupCurr.next\n",
        "            groupCurr.next = groupPrev\n",
        "            groupPrev = groupCurr\n",
        "            groupCurr = tmp\n",
        "          tmp = prev.next\n",
        "          prev.next = curr\n",
        "          prev = tmp\n",
        "          curr = next\n",
        "          i = 1\n",
        "        else:\n",
        "          i += 1\n",
        "          curr = curr.next\n",
        "\n",
        "      return dummy.next\n",
        "\n",
        "head = [1,2,3,4,5]\n",
        "k = 3\n",
        "printList(Solution().reverseKGroup(makeList(head),k))"
      ],
      "metadata": {
        "colab": {
          "base_uri": "https://localhost:8080/"
        },
        "id": "Qv1F4lAFezj8",
        "outputId": "c83c202a-96f2-49e6-b5e3-c7cce7b1fa7f"
      },
      "execution_count": 63,
      "outputs": [
        {
          "output_type": "stream",
          "name": "stdout",
          "text": [
            "[3, 2, 1, 4, 5]\n"
          ]
        }
      ]
    },
    {
      "cell_type": "code",
      "source": [
        "# Definition for singly-linked list.\n",
        "# class ListNode:\n",
        "#     def __init__(self, val=0, next=None):\n",
        "#         self.val = val\n",
        "#         self.next = next\n",
        "class Solution:\n",
        "    def removeNthFromEnd(self, head: Optional[ListNode], n: int) -> Optional[ListNode]:\n",
        "      ret = ListNode(0, next=head)\n",
        "      i = 0\n",
        "      node = head\n",
        "      while node != None:\n",
        "        i += 1\n",
        "        node = node.next\n",
        "      end = i+1\n",
        "      node = head\n",
        "      prev = ret\n",
        "      while node != None:\n",
        "        end -= 1\n",
        "        if end == n:\n",
        "          prev.next = node.next\n",
        "          break\n",
        "        prev = node\n",
        "        node = node.next\n",
        "\n",
        "      return ret.next\n",
        "\n",
        "head = [1,2]\n",
        "n = 1\n",
        "printList(Solution().removeNthFromEnd(makeList(head),n))"
      ],
      "metadata": {
        "colab": {
          "base_uri": "https://localhost:8080/"
        },
        "id": "sL7vKlA175MC",
        "outputId": "74981fcb-7200-4374-80c6-8e64ad3ecca2"
      },
      "execution_count": 64,
      "outputs": [
        {
          "output_type": "stream",
          "name": "stdout",
          "text": [
            "[1]\n"
          ]
        }
      ]
    },
    {
      "cell_type": "code",
      "source": [
        "# Definition for singly-linked list.\n",
        "# class ListNode:\n",
        "#     def __init__(self, val=0, next=None):\n",
        "#         self.val = val\n",
        "#         self.next = next\n",
        "class Solution:\n",
        "    def deleteDuplicates(self, head: Optional[ListNode]) -> Optional[ListNode]:\n",
        "      ret = ListNode(0, next=head)\n",
        "      node = head\n",
        "      prev = ret\n",
        "      while node != None:\n",
        "        # print(node.val)\n",
        "        if node.next and node.val == node.next.val:\n",
        "          # print(\"new dup block\")\n",
        "          while node.next and node.val == node.next.val:\n",
        "            # print(\"removing\",node.val)\n",
        "            tmp = node\n",
        "            node.next = node.next.next\n",
        "          prev.next = node.next\n",
        "          node = prev\n",
        "\n",
        "        prev = node\n",
        "        node = node.next\n",
        "\n",
        "      return ret.next\n",
        "\n",
        "head = [1,1,1,2,3]\n",
        "printList(Solution().deleteDuplicates(makeList(head)))"
      ],
      "metadata": {
        "colab": {
          "base_uri": "https://localhost:8080/"
        },
        "id": "IKb7Zck7-z7H",
        "outputId": "fcce8424-b1fd-494d-e1e8-36beca62a0c7"
      },
      "execution_count": 65,
      "outputs": [
        {
          "output_type": "stream",
          "name": "stdout",
          "text": [
            "[2, 3]\n"
          ]
        }
      ]
    },
    {
      "cell_type": "code",
      "source": [
        "# Definition for singly-linked list.\n",
        "# class ListNode:\n",
        "#     def __init__(self, val=0, next=None):\n",
        "#         self.val = val\n",
        "#         self.next = next\n",
        "class Solution:\n",
        "    def rotateRight(self, head: Optional[ListNode], k: int) -> Optional[ListNode]:\n",
        "      ret = ListNode(0, next=head)\n",
        "\n",
        "      i = 0\n",
        "      prev = ret\n",
        "      node = head\n",
        "      while node != None:\n",
        "        i += 1\n",
        "        prev = node\n",
        "        node = node.next\n",
        "      end = i+1\n",
        "      tail = prev\n",
        "      length = end-1\n",
        "\n",
        "      prev = ret\n",
        "      node = head\n",
        "      while node != None:\n",
        "        end -= 1\n",
        "        if end == k%length:\n",
        "          # print(node.val)\n",
        "          tail.next = ret.next\n",
        "          ret.next = node\n",
        "          prev.next = None\n",
        "          break\n",
        "        prev = node\n",
        "        node = node.next\n",
        "\n",
        "      return ret.next\n",
        "\n",
        "head = [0,1,2]\n",
        "k = 4\n",
        "printList(Solution().rotateRight(makeList(head),k))"
      ],
      "metadata": {
        "colab": {
          "base_uri": "https://localhost:8080/"
        },
        "id": "ejYnSaQcOR_W",
        "outputId": "1f910a85-cc00-411e-a566-3efd8516d5b0"
      },
      "execution_count": 66,
      "outputs": [
        {
          "output_type": "stream",
          "name": "stdout",
          "text": [
            "[2, 0, 1]\n"
          ]
        }
      ]
    },
    {
      "cell_type": "code",
      "source": [
        "# Definition for singly-linked list.\n",
        "# class ListNode:\n",
        "#     def __init__(self, val=0, next=None):\n",
        "#         self.val = val\n",
        "#         self.next = next\n",
        "class Solution:\n",
        "    def partition(self, head: Optional[ListNode], x: int) -> Optional[ListNode]:\n",
        "      r1 = ListNode(0, next=None)\n",
        "      r2 = ListNode(0, next=None)\n",
        "      lt = r1\n",
        "      gt = r2\n",
        "      node = head\n",
        "      while node:\n",
        "        # printList(r1)\n",
        "        # printList(r2)\n",
        "        # print(\"--\")\n",
        "        next = node.next\n",
        "        if node.val < x:\n",
        "          tmp = lt.next\n",
        "          lt.next = node\n",
        "          node.next = tmp\n",
        "          lt = lt.next\n",
        "        else:\n",
        "          tmp = gt.next\n",
        "          gt.next = node\n",
        "          node.next = tmp\n",
        "          gt = gt.next\n",
        "        node = next\n",
        "\n",
        "      node = r1\n",
        "      while node.next:\n",
        "        node = node.next\n",
        "      node.next = r2.next\n",
        "\n",
        "      return r1.next\n",
        "\n",
        "head = [2,1]\n",
        "x = 2\n",
        "printList(Solution().partition(makeList(head),x))"
      ],
      "metadata": {
        "colab": {
          "base_uri": "https://localhost:8080/"
        },
        "id": "vgfJO7FdVT7V",
        "outputId": "42f1bedf-d161-435e-8c28-33e8bdf75869"
      },
      "execution_count": 67,
      "outputs": [
        {
          "output_type": "stream",
          "name": "stdout",
          "text": [
            "[1, 2]\n"
          ]
        }
      ]
    },
    {
      "cell_type": "code",
      "source": [
        "class BiListNode:\n",
        "    def __init__(self, key=0, val=0, prev=None, next=None):\n",
        "        self.key = key\n",
        "        self.val = val\n",
        "        self.prev = prev\n",
        "        self.next = next\n",
        "\n",
        "def printBiList(l):\n",
        "  prev = BiListNode(next=l)\n",
        "  res = []\n",
        "  while l:\n",
        "    res.append((l.key,l.val))\n",
        "    assert(not l.next or l.next.prev == l)\n",
        "    l = l.next\n",
        "  print(res)\n",
        "\n",
        "class LRUCache:\n",
        "\n",
        "    def __init__(self, capacity: int):\n",
        "      self.head = None\n",
        "      self.tail = None\n",
        "      self.d = {}\n",
        "      self.capacity = capacity\n",
        "      self.size = 0\n",
        "\n",
        "    def bump(self, key):\n",
        "      if self.head == self.tail: return\n",
        "      node = self.d[key]\n",
        "      if self.head == node: return\n",
        "      if self.tail == node and self.tail != self.head:\n",
        "        prev = self.tail.prev\n",
        "        self.tail = prev\n",
        "        if prev: self.tail.next = None\n",
        "      prevHead = self.head\n",
        "      self.head = node\n",
        "      nodeNext = node.next\n",
        "      nodePrev = node.prev\n",
        "      node.next = prevHead\n",
        "      node.prev = None\n",
        "      prevHead.prev = node\n",
        "      nodePrev.next = nodeNext\n",
        "      if nodeNext: nodeNext.prev = nodePrev\n",
        "\n",
        "    def get(self, key: int) -> int:\n",
        "      if not key in self.d:\n",
        "        return -1\n",
        "      self.bump(key)\n",
        "      return self.d[key].val\n",
        "\n",
        "    def put(self, key: int, value: int) -> None:\n",
        "      if key in self.d:\n",
        "        self.bump(key)\n",
        "        self.d[key].val = value\n",
        "        return\n",
        "      if self.head == None:\n",
        "        self.head = BiListNode(key, value, None, None)\n",
        "        self.tail = self.head\n",
        "      else:\n",
        "        tmp = self.head\n",
        "        self.head = BiListNode(key, value, prev=None, next=tmp)\n",
        "        tmp.prev = self.head\n",
        "      self.size += 1\n",
        "      if self.size > self.capacity:\n",
        "        del self.d[self.tail.key]\n",
        "        prev = self.tail.prev\n",
        "        prev.next = None\n",
        "        self.tail = self.tail.prev\n",
        "        self.tail.next = None\n",
        "        self.size -= 1\n",
        "\n",
        "      self.d[key] = self.head\n",
        "\n",
        "lRUCache = LRUCache(3)\n",
        "lRUCache.put(1,1)\n",
        "lRUCache.put(2,2)\n",
        "lRUCache.put(3,3)\n",
        "lRUCache.put(4,4)\n",
        "print(lRUCache.get(4))\n",
        "printBiList(lRUCache.head)\n",
        "print(lRUCache.get(3))\n",
        "printBiList(lRUCache.head)\n",
        "print(lRUCache.get(2))\n",
        "printBiList(lRUCache.head)\n",
        "print(lRUCache.get(1))\n",
        "printBiList(lRUCache.head)\n",
        "lRUCache.put(5,5)\n",
        "print(lRUCache.get(1))\n",
        "printBiList(lRUCache.head)\n",
        "print(lRUCache.get(2))\n",
        "printBiList(lRUCache.head)\n",
        "print(lRUCache.get(3))\n",
        "print(lRUCache.get(4))\n",
        "print(lRUCache.get(5))"
      ],
      "metadata": {
        "colab": {
          "base_uri": "https://localhost:8080/"
        },
        "id": "u2hVJ7VQcJC-",
        "outputId": "5a21e0b5-d192-42d4-861d-8d3971a9b8d1"
      },
      "execution_count": 68,
      "outputs": [
        {
          "output_type": "stream",
          "name": "stdout",
          "text": [
            "4\n",
            "[(4, 4), (3, 3), (2, 2)]\n",
            "3\n",
            "[(3, 3), (4, 4), (2, 2)]\n",
            "2\n",
            "[(2, 2), (3, 3), (4, 4)]\n",
            "-1\n",
            "[(2, 2), (3, 3), (4, 4)]\n",
            "-1\n",
            "[(5, 5), (2, 2), (3, 3)]\n",
            "2\n",
            "[(2, 2), (5, 5), (3, 3)]\n",
            "3\n",
            "-1\n",
            "5\n"
          ]
        }
      ]
    },
    {
      "cell_type": "code",
      "source": [
        "from collections import deque\n",
        "\n",
        "class TreeNode:\n",
        "    def __init__(self, val=0, left=None, right=None):\n",
        "        self.val = val\n",
        "        self.left = left\n",
        "        self.right = right\n",
        "\n",
        "class Solution:\n",
        "    def maxDepth(self, root: Optional[TreeNode]) -> int:\n",
        "      if root == None: return 0\n",
        "      return 1+max(self.maxDepth(root.left), self.maxDepth(root.right))\n",
        "\n",
        "def list_to_tree(data):\n",
        "    if not data or data[0] is None:\n",
        "        return None  # Edge case: empty or null root\n",
        "    root = TreeNode(data[0])  # First element is the root\n",
        "    queue = deque([root])  # Queue for BFS\n",
        "    i = 1  # Index to track position in the list\n",
        "    while queue and i < len(data):\n",
        "        node = queue.popleft()  # Get the current node to attach children\n",
        "        # Assign left child if available\n",
        "        if i < len(data) and data[i] is not None:\n",
        "            node.left = TreeNode(data[i])\n",
        "            queue.append(node.left)\n",
        "        i += 1\n",
        "        # Assign right child if available\n",
        "        if i < len(data) and data[i] is not None:\n",
        "            node.right = TreeNode(data[i])\n",
        "            queue.append(node.right)\n",
        "        i += 1\n",
        "    return root  # Return the root of the constructed tree\n",
        "\n",
        "root = [1,None,2]\n",
        "Solution().maxDepth(list_to_tree(root))"
      ],
      "metadata": {
        "colab": {
          "base_uri": "https://localhost:8080/"
        },
        "id": "MXbPIoXrwNlv",
        "outputId": "6c19f0c8-7db6-40b9-ad01-d0622d603b71"
      },
      "execution_count": 69,
      "outputs": [
        {
          "output_type": "execute_result",
          "data": {
            "text/plain": [
              "2"
            ]
          },
          "metadata": {},
          "execution_count": 69
        }
      ]
    },
    {
      "cell_type": "code",
      "source": [
        "class Solution:\n",
        "    def isSameTree(self, p: Optional[TreeNode], q: Optional[TreeNode]) -> bool:\n",
        "      return tree_to_list(p) == tree_to_list(q)\n",
        "\n",
        "def tree_to_list(root):\n",
        "  res = []\n",
        "  q = deque([root])\n",
        "  while q:\n",
        "    node = q.popleft()\n",
        "    res.append(None if not node else node.val)\n",
        "    if node:\n",
        "      q.append(node.left)\n",
        "      q.append(node.right)\n",
        "  return res\n",
        "\n",
        "p = [1,2,1]\n",
        "q = [1,1,2]\n",
        "Solution().isSameTree(list_to_tree(p),list_to_tree(q))"
      ],
      "metadata": {
        "colab": {
          "base_uri": "https://localhost:8080/"
        },
        "id": "eik9zqhfdYZY",
        "outputId": "39a47b20-fb99-482a-a120-3fd58885f611"
      },
      "execution_count": 70,
      "outputs": [
        {
          "output_type": "execute_result",
          "data": {
            "text/plain": [
              "False"
            ]
          },
          "metadata": {},
          "execution_count": 70
        }
      ]
    },
    {
      "cell_type": "code",
      "source": [
        "class Solution:\n",
        "    def invertTree(self, root: Optional[TreeNode]) -> Optional[TreeNode]:\n",
        "      if not root: return None\n",
        "      root.left,root.right = self.invertTree(root.right),self.invertTree(root.left)\n",
        "      return root\n",
        "\n",
        "root = []\n",
        "tree_to_list(Solution().invertTree(list_to_tree(root))    )"
      ],
      "metadata": {
        "colab": {
          "base_uri": "https://localhost:8080/"
        },
        "id": "mblx5rrigj0L",
        "outputId": "71bffb48-8067-4a1e-dd4b-2790adfa0538"
      },
      "execution_count": 71,
      "outputs": [
        {
          "output_type": "execute_result",
          "data": {
            "text/plain": [
              "[None]"
            ]
          },
          "metadata": {},
          "execution_count": 71
        }
      ]
    },
    {
      "cell_type": "code",
      "source": [
        "class Solution:\n",
        "    def invertTree(self, root: Optional[TreeNode]) -> Optional[TreeNode]:\n",
        "      if not root: return None\n",
        "      root.left,root.right = self.invertTree(root.right),self.invertTree(root.left)\n",
        "      return root\n",
        "\n",
        "    def isSymmetric(self, root: Optional[TreeNode]) -> bool:\n",
        "      if not root: return True\n",
        "      return tree_to_list(root.left) == tree_to_list(self.invertTree(root.right))\n",
        "\n",
        "root = [1,2,2,None,3,None,3]\n",
        "Solution().isSymmetric(list_to_tree(root))"
      ],
      "metadata": {
        "colab": {
          "base_uri": "https://localhost:8080/"
        },
        "id": "3rx1vduIhSxk",
        "outputId": "2fea7c7d-765e-4a04-e8e4-67e2e232753a"
      },
      "execution_count": 72,
      "outputs": [
        {
          "output_type": "execute_result",
          "data": {
            "text/plain": [
              "False"
            ]
          },
          "metadata": {},
          "execution_count": 72
        }
      ]
    },
    {
      "cell_type": "code",
      "source": [
        "class Solution:\n",
        "    def buildTree(self, preorder: List[int], inorder: List[int]) -> Optional[TreeNode]:\n",
        "      # print(preorder, inorder)\n",
        "      if len(preorder) == 0 or len(inorder) == 0: return None\n",
        "      d = {}\n",
        "      for i in range(len(inorder)):\n",
        "        d[inorder[i]] = i\n",
        "      ret = TreeNode(val=preorder.pop(0))\n",
        "      ret.left = self.buildTree(preorder, inorder[:d[ret.val]])\n",
        "      ret.right = self.buildTree(preorder, inorder[d[ret.val]+1:])\n",
        "      # print(tree_to_list(ret))\n",
        "      return ret\n",
        "\n",
        "# preorder = [3,9,20,15,7]\n",
        "# inorder = [9,3,15,20,7]\n",
        "preorder = [3,1,2,4]\n",
        "inorder = [1,2,3,4]\n",
        "# preorder = [1,2]\n",
        "# inorder = [1,2]\n",
        "# preorder = [1,2,3]\n",
        "# inorder = [1,2,3]\n",
        "tree_to_list(Solution().buildTree(preorder, inorder))"
      ],
      "metadata": {
        "colab": {
          "base_uri": "https://localhost:8080/"
        },
        "id": "SGhCg7XD_eZT",
        "outputId": "2b1a7e1e-492b-4326-b00e-0538a8891cdc"
      },
      "execution_count": 73,
      "outputs": [
        {
          "output_type": "execute_result",
          "data": {
            "text/plain": [
              "[3, 1, 4, None, 2, None, None, None, None]"
            ]
          },
          "metadata": {},
          "execution_count": 73
        }
      ]
    },
    {
      "cell_type": "code",
      "source": [
        "class Solution:\n",
        "    def buildTree(self, inorder: List[int], postorder: List[int]) -> Optional[TreeNode]:\n",
        "      # print(inorder, postorder)\n",
        "      if len(postorder) == 0 or len(inorder) == 0: return None\n",
        "      ret = TreeNode(val=postorder.pop())\n",
        "      for i in range(len(inorder)):\n",
        "        if inorder[i] == ret.val:\n",
        "          pivot = i\n",
        "          break\n",
        "      ret.right = self.buildTree(inorder[pivot+1:], postorder)\n",
        "      ret.left = self.buildTree(inorder[:pivot], postorder)\n",
        "      return ret\n",
        "\n",
        "postorder = [9,15,7,20,3]\n",
        "inorder = [9,3,15,20,7]\n",
        "# preorder = [3,1,2,4]\n",
        "# inorder = [1,2,3,4]\n",
        "# preorder = [1,2]\n",
        "# inorder = [1,2]\n",
        "# preorder = [1,2,3]\n",
        "# inorder = [1,2,3]\n",
        "tree_to_list(Solution().buildTree(inorder, postorder))"
      ],
      "metadata": {
        "colab": {
          "base_uri": "https://localhost:8080/"
        },
        "id": "gMfOBurNpY1S",
        "outputId": "1f131f5d-f258-4e88-8dc3-045b09f4e088"
      },
      "execution_count": 74,
      "outputs": [
        {
          "output_type": "execute_result",
          "data": {
            "text/plain": [
              "[3, 9, 20, None, None, 15, 7, None, None, None, None]"
            ]
          },
          "metadata": {},
          "execution_count": 74
        }
      ]
    },
    {
      "cell_type": "code",
      "source": [
        "class Node:\n",
        "    def __init__(self, val: int = 0, left: 'Node' = None, right: 'Node' = None, next: 'Node' = None):\n",
        "        self.val = val\n",
        "        self.left = left\n",
        "        self.right = right\n",
        "        self.next = next\n",
        "\n",
        "class Solution:\n",
        "    def connect(self, root: 'Node') -> 'Node':\n",
        "      if root == None: return root\n",
        "      q = [(root,0)]\n",
        "      prev = None\n",
        "      prevDepth = None\n",
        "      while len(q) > 0:\n",
        "        node,depth = q.pop(0)\n",
        "        if prev and prevDepth == depth:\n",
        "          prev.next = node\n",
        "        if node.left: q.append((node.left,depth+1))\n",
        "        if node.right: q.append((node.right,depth+1))\n",
        "        prev = node\n",
        "        prevDepth = depth\n",
        "      return root\n",
        "\n",
        "root = []\n",
        "tree_to_list(Solution().connect(list_to_tree(root)))"
      ],
      "metadata": {
        "colab": {
          "base_uri": "https://localhost:8080/"
        },
        "id": "4VEXLiZ2tjTD",
        "outputId": "f44cd72a-ddb3-45ac-9d33-7fab305e8f8c"
      },
      "execution_count": 75,
      "outputs": [
        {
          "output_type": "execute_result",
          "data": {
            "text/plain": [
              "[None]"
            ]
          },
          "metadata": {},
          "execution_count": 75
        }
      ]
    },
    {
      "cell_type": "code",
      "source": [
        "class Solution:\n",
        "    def flatten(self, root: Optional[TreeNode]) -> None:\n",
        "      if root == None: return None\n",
        "      left = self.flatten(root.left)\n",
        "      right = self.flatten(root.right)\n",
        "      root.left = None\n",
        "      root.right = left\n",
        "      node = root\n",
        "      while node.right:\n",
        "        node = node.right\n",
        "      node.right = right\n",
        "      return root\n",
        "\n",
        "root = [1,2,5,3,4,None,6]\n",
        "tree_to_list(Solution().flatten(list_to_tree(root)))"
      ],
      "metadata": {
        "colab": {
          "base_uri": "https://localhost:8080/"
        },
        "id": "_18z-mXMW_Ot",
        "outputId": "868eff9d-6c1d-4abe-86dc-095859300e5c"
      },
      "execution_count": 76,
      "outputs": [
        {
          "output_type": "execute_result",
          "data": {
            "text/plain": [
              "[1, None, 2, None, 3, None, 4, None, 5, None, 6, None, None]"
            ]
          },
          "metadata": {},
          "execution_count": 76
        }
      ]
    },
    {
      "cell_type": "code",
      "source": [
        "# Definition for a binary tree node.\n",
        "# class TreeNode:\n",
        "#     def __init__(self, val=0, left=None, right=None):\n",
        "#         self.val = val\n",
        "#         self.left = left\n",
        "#         self.right = right\n",
        "class Solution:\n",
        "    def hasPathSum(self, root: Optional[TreeNode], targetSum: int) -> bool:\n",
        "      if root == None: return False\n",
        "      if root.left == None and root.right == None: return targetSum == root.val\n",
        "      return self.hasPathSum(root.left, targetSum-root.val) or self.hasPathSum(root.right, targetSum-root.val)\n",
        "\n",
        "# root = [5,4,8,11,None,13,4,7,2,None,None,None,1]\n",
        "root = [1,2,3]\n",
        "targetSum = 5\n",
        "Solution().hasPathSum(list_to_tree(root), targetSum)"
      ],
      "metadata": {
        "colab": {
          "base_uri": "https://localhost:8080/"
        },
        "id": "5PgoHqgofvJ7",
        "outputId": "cbeaff44-8f48-40ad-ee27-6207c592ea05"
      },
      "execution_count": 77,
      "outputs": [
        {
          "output_type": "execute_result",
          "data": {
            "text/plain": [
              "False"
            ]
          },
          "metadata": {},
          "execution_count": 77
        }
      ]
    },
    {
      "cell_type": "code",
      "source": [
        "# Definition for a binary tree node.\n",
        "# class TreeNode:\n",
        "#     def __init__(self, val=0, left=None, right=None):\n",
        "#         self.val = val\n",
        "#         self.left = left\n",
        "#         self.right = right\n",
        "class Solution:\n",
        "    def sumNumbers(self, root: Optional[TreeNode], prefix=None) -> int:\n",
        "      if root == None: return 0\n",
        "      if prefix == None: prefix = \"\"\n",
        "      if root.left == None and root.right == None: return int(prefix+str(root.val))\n",
        "      return self.sumNumbers(root.left,prefix+str(root.val)) + self.sumNumbers(root.right,prefix+str(root.val))\n",
        "\n",
        "root = [0,1]\n",
        "Solution().sumNumbers(list_to_tree(root))"
      ],
      "metadata": {
        "colab": {
          "base_uri": "https://localhost:8080/"
        },
        "id": "IM-s6jEmhtDT",
        "outputId": "c5305d7e-dc5e-4cfc-e52c-10687edeebeb"
      },
      "execution_count": 78,
      "outputs": [
        {
          "output_type": "execute_result",
          "data": {
            "text/plain": [
              "1"
            ]
          },
          "metadata": {},
          "execution_count": 78
        }
      ]
    },
    {
      "cell_type": "code",
      "source": [
        "class Solution:\n",
        "    def maxPathSum(self, root: Optional[TreeNode]) -> int:\n",
        "      def recurse(root):\n",
        "        if root == None: return -10**10, -10**10\n",
        "        l_closed, l_partial = recurse(root.left)\n",
        "        r_closed, r_partial = recurse(root.right)\n",
        "        ret = root.val\n",
        "        partial = max(l_partial+root.val, r_partial+root.val, root.val)\n",
        "        closed = max(partial, l_closed, r_closed, root.val, l_partial+root.val+r_partial)\n",
        "        # print(root.val, root.left.val if root.left else None, root.right.val if root.right else None, closed,partial)\n",
        "        return closed,partial\n",
        "      return max(recurse(root))\n",
        "\n",
        "# root = [1,2,3] #6\n",
        "# root = [-10,9,20,None,None,15,7] #42\n",
        "# root = [-3]\n",
        "# root = [5,4,8,11,None,13,4,7,2,None,None,None,1] # 48\n",
        "# root = [1,-2,-3,1,3,-2,None,-1] # 3\n",
        "root = [-6,None,3,2] # 5\n",
        "Solution().maxPathSum(list_to_tree(root))"
      ],
      "metadata": {
        "colab": {
          "base_uri": "https://localhost:8080/"
        },
        "id": "ZIHPN97KlrS_",
        "outputId": "45b46801-3a44-4b4c-8d62-d564a3014ba0"
      },
      "execution_count": 79,
      "outputs": [
        {
          "output_type": "execute_result",
          "data": {
            "text/plain": [
              "5"
            ]
          },
          "metadata": {},
          "execution_count": 79
        }
      ]
    },
    {
      "cell_type": "code",
      "source": [
        "class BSTIterator:\n",
        "    def adv_step(self):\n",
        "      if self.node == None: return 4\n",
        "      self.step += 1\n",
        "      if self.step == 1 and (not self.node.left or not self.l_iter.hasNext()):\n",
        "        self.step = 2\n",
        "      elif self.step == 3 and (not self.node.right or not self.r_iter.hasNext()):\n",
        "        self.step = 4\n",
        "\n",
        "    def __init__(self, root: Optional[TreeNode]):\n",
        "        self.step = 0\n",
        "        self.node = root\n",
        "        self.l_iter = BSTIterator(root.left) if self.node else None\n",
        "        self.r_iter = BSTIterator(root.right) if self.node else None\n",
        "        self.adv_step()\n",
        "\n",
        "    def next(self) -> int:\n",
        "      ret = None\n",
        "      if self.step == 2:\n",
        "        ret = self.node.val\n",
        "        self.adv_step()\n",
        "      elif self.step == 1:\n",
        "        ret = self.l_iter.next()\n",
        "        if not self.l_iter.hasNext(): self.adv_step()\n",
        "      elif self.step == 3:\n",
        "        ret = self.r_iter.next()\n",
        "        if not self.r_iter.hasNext(): self.adv_step()\n",
        "      return ret\n",
        "\n",
        "    def hasNext(self) -> bool:\n",
        "      ret = self.step != 4\n",
        "      return ret\n",
        "\n",
        "bSTIterator = BSTIterator(list_to_tree([7, 3, 15, None, None, 9, 20]))\n",
        "print(bSTIterator.next())\n",
        "print(bSTIterator.next())\n",
        "print(bSTIterator.hasNext())\n",
        "print(bSTIterator.next())\n",
        "print(bSTIterator.hasNext())\n",
        "print(bSTIterator.next())\n",
        "print(bSTIterator.hasNext())\n",
        "print(bSTIterator.next())\n",
        "print(bSTIterator.hasNext())"
      ],
      "metadata": {
        "colab": {
          "base_uri": "https://localhost:8080/"
        },
        "id": "KJrRpr0Nwfct",
        "outputId": "cbfceacf-a265-437f-c74e-94a59d007d7c"
      },
      "execution_count": 80,
      "outputs": [
        {
          "output_type": "stream",
          "name": "stdout",
          "text": [
            "3\n",
            "7\n",
            "True\n",
            "9\n",
            "True\n",
            "15\n",
            "True\n",
            "20\n",
            "False\n"
          ]
        }
      ]
    },
    {
      "cell_type": "code",
      "source": [
        "class Solution:\n",
        "    def countNodes(self, root: Optional[TreeNode]) -> int:\n",
        "      if root == None: return 0\n",
        "      return self.countNodes(root.left)+1+self.countNodes(root.right)\n",
        "\n",
        "# root = [1,2,3,4,5,6]\n",
        "root = [1]\n",
        "Solution().countNodes(list_to_tree(root))"
      ],
      "metadata": {
        "colab": {
          "base_uri": "https://localhost:8080/"
        },
        "id": "ljxNWT-I4pkZ",
        "outputId": "8fddd6b5-fe0b-419e-c443-3c43f2c11619"
      },
      "execution_count": 81,
      "outputs": [
        {
          "output_type": "execute_result",
          "data": {
            "text/plain": [
              "1"
            ]
          },
          "metadata": {},
          "execution_count": 81
        }
      ]
    },
    {
      "cell_type": "code",
      "source": [
        "class Solution:\n",
        "    def lowestCommonAncestor(self, root: 'TreeNode', p: 'TreeNode', q: 'TreeNode') -> 'TreeNode':\n",
        "      parents = {}\n",
        "      queue = [root]\n",
        "      while len(queue):\n",
        "        node = queue.pop(0)\n",
        "        if node.left:\n",
        "          parents[node.left] = node\n",
        "          queue.append(node.left)\n",
        "        if node.right:\n",
        "          parents[node.right] = node\n",
        "          queue.append(node.right)\n",
        "      p_l = []\n",
        "      while p:\n",
        "        p_l.insert(0,p.val)\n",
        "        p = parents[p] if p in parents else None\n",
        "      q_l = []\n",
        "      while q:\n",
        "        q_l.insert(0,q.val)\n",
        "        q = parents[q] if q in parents else None\n",
        "      found = 0\n",
        "      for n1,n2 in zip(p_l,q_l):\n",
        "        if n1 != n2: break\n",
        "        found += 1\n",
        "      return(find_node(root,p_l[found-1]))\n",
        "\n",
        "def find_node(root, n):\n",
        "      queue = [root]\n",
        "      while len(queue):\n",
        "        node = queue.pop(0)\n",
        "        if node.val == n: return node\n",
        "        if node.left:\n",
        "          queue.append(node.left)\n",
        "        if node.right:\n",
        "          queue.append(node.right)\n",
        "\n",
        "root = [3,5,1,6,2,0,8,None,None,7,4]\n",
        "p = 5\n",
        "q = 1\n",
        "tree = list_to_tree(root)\n",
        "Solution().lowestCommonAncestor(tree, find_node(tree,p), find_node(tree,q))"
      ],
      "metadata": {
        "colab": {
          "base_uri": "https://localhost:8080/"
        },
        "id": "0Xow8kp95wmY",
        "outputId": "ca948a58-1b7d-4e06-a501-3795197870f6"
      },
      "execution_count": 82,
      "outputs": [
        {
          "output_type": "execute_result",
          "data": {
            "text/plain": [
              "<__main__.TreeNode at 0x7a39d435cc90>"
            ]
          },
          "metadata": {},
          "execution_count": 82
        }
      ]
    },
    {
      "cell_type": "code",
      "source": [
        "# Definition for a binary tree node.\n",
        "# class TreeNode:\n",
        "#     def __init__(self, val=0, left=None, right=None):\n",
        "#         self.val = val\n",
        "#         self.left = left\n",
        "#         self.right = right\n",
        "class Solution:\n",
        "    def rightSideView(self, root: Optional[TreeNode]) -> List[int]:\n",
        "      ret = []\n",
        "      q = [(root,0)]\n",
        "      prevDepth = 0\n",
        "      prevN = None\n",
        "      while len(q):\n",
        "        node,depth = q.pop(0)\n",
        "        if node == None: continue\n",
        "        if depth != prevDepth:\n",
        "          ret.append(prevN)\n",
        "        prevDepth = depth\n",
        "        prevN = node.val\n",
        "        q.append((node.left, depth+1))\n",
        "        q.append((node.right, depth+1))\n",
        "      if prevN != None: ret.append(prevN)\n",
        "      return ret\n",
        "\n",
        "# root = [1,2,3,4,None,None,None,5]\n",
        "# root = [1,None,3]\n",
        "root = []\n",
        "Solution().rightSideView(list_to_tree(root))"
      ],
      "metadata": {
        "colab": {
          "base_uri": "https://localhost:8080/"
        },
        "id": "sR299z2C3yv3",
        "outputId": "cb784032-fe73-44fa-c1b2-d6d07bf15d8c"
      },
      "execution_count": 83,
      "outputs": [
        {
          "output_type": "execute_result",
          "data": {
            "text/plain": [
              "[]"
            ]
          },
          "metadata": {},
          "execution_count": 83
        }
      ]
    },
    {
      "cell_type": "code",
      "source": [
        "# Definition for a binary tree node.\n",
        "# class TreeNode:\n",
        "#     def __init__(self, val=0, left=None, right=None):\n",
        "#         self.val = val\n",
        "#         self.left = left\n",
        "#         self.right = right\n",
        "class Solution:\n",
        "    def averageOfLevels(self, root: Optional[TreeNode]) -> List[float]:\n",
        "      ret = []\n",
        "      q = [(root,0)]\n",
        "      prevDepth = 0\n",
        "      prevSum = 0\n",
        "      prevCount = 0\n",
        "      while len(q):\n",
        "        node,depth = q.pop(0)\n",
        "        if node == None: continue\n",
        "        if depth != prevDepth:\n",
        "          ret.append(prevSum/prevCount)\n",
        "          prevSum = 0\n",
        "          prevCount = 0\n",
        "        prevDepth = depth\n",
        "        prevSum += node.val\n",
        "        prevCount += 1\n",
        "        q.append((node.left, depth+1))\n",
        "        q.append((node.right, depth+1))\n",
        "      if prevCount > 0: ret.append(prevSum/prevCount)\n",
        "      return ret\n",
        "\n",
        "# root = [3,9,20,None,None,15,7]\n",
        "root = [3,9,20,15,7]\n",
        "Solution().averageOfLevels(list_to_tree(root))"
      ],
      "metadata": {
        "colab": {
          "base_uri": "https://localhost:8080/"
        },
        "id": "vTXhcZle5bXM",
        "outputId": "44b2fd9b-537e-445d-d1bc-f9eca14e12dd"
      },
      "execution_count": 84,
      "outputs": [
        {
          "output_type": "execute_result",
          "data": {
            "text/plain": [
              "[3.0, 14.5, 11.0]"
            ]
          },
          "metadata": {},
          "execution_count": 84
        }
      ]
    },
    {
      "cell_type": "code",
      "source": [
        "# Definition for a binary tree node.\n",
        "# class TreeNode:\n",
        "#     def __init__(self, val=0, left=None, right=None):\n",
        "#         self.val = val\n",
        "#         self.left = left\n",
        "#         self.right = right\n",
        "class Solution:\n",
        "    def levelOrder(self, root: Optional[TreeNode]) -> List[List[int]]:\n",
        "      ret = []\n",
        "      q = [(root,0)]\n",
        "      prevDepth = 0\n",
        "      prevList = []\n",
        "      while len(q):\n",
        "        node,depth = q.pop(0)\n",
        "        if node == None: continue\n",
        "        if depth != prevDepth:\n",
        "          ret.append(prevList)\n",
        "          prevList = []\n",
        "        prevDepth = depth\n",
        "        prevList.append(node.val)\n",
        "        q.append((node.left, depth+1))\n",
        "        q.append((node.right, depth+1))\n",
        "      if len(prevList) > 0: ret.append(prevList)\n",
        "      return ret\n",
        "\n",
        "# root = [3,9,20,None,None,15,7]\n",
        "# root = [1]\n",
        "root = []\n",
        "Solution().levelOrder(list_to_tree(root))"
      ],
      "metadata": {
        "colab": {
          "base_uri": "https://localhost:8080/"
        },
        "id": "N4_1O7Vl6i8u",
        "outputId": "f752c766-bc9a-40a1-9c5c-8d606cb52f1a"
      },
      "execution_count": 85,
      "outputs": [
        {
          "output_type": "execute_result",
          "data": {
            "text/plain": [
              "[]"
            ]
          },
          "metadata": {},
          "execution_count": 85
        }
      ]
    },
    {
      "cell_type": "code",
      "source": [
        "# Definition for a binary tree node.\n",
        "# class TreeNode:\n",
        "#     def __init__(self, val=0, left=None, right=None):\n",
        "#         self.val = val\n",
        "#         self.left = left\n",
        "#         self.right = right\n",
        "class Solution:\n",
        "    def zigzagLevelOrder(self, root: Optional[TreeNode]) -> List[List[int]]:\n",
        "      ret = []\n",
        "      q = [(root,0)]\n",
        "      prevDepth = 0\n",
        "      prevList = []\n",
        "      prevForward = True\n",
        "      while len(q):\n",
        "        node,depth = q.pop(0)\n",
        "        if node == None: continue\n",
        "        if depth != prevDepth:\n",
        "          if not prevForward:\n",
        "            prevList = prevList[::-1]\n",
        "          prevForward = not prevForward\n",
        "          ret.append(prevList)\n",
        "          prevList = []\n",
        "        prevDepth = depth\n",
        "        prevList.append(node.val)\n",
        "        q.append((node.left, depth+1))\n",
        "        q.append((node.right, depth+1))\n",
        "      if len(prevList) > 0:\n",
        "        if not prevForward:\n",
        "          prevList = prevList[::-1]\n",
        "        ret.append(prevList)\n",
        "      return ret\n",
        "\n",
        "root = [3,9,20,None,None,15,7]\n",
        "# root = [1]\n",
        "# root = []\n",
        "Solution().zigzagLevelOrder(list_to_tree(root))"
      ],
      "metadata": {
        "colab": {
          "base_uri": "https://localhost:8080/"
        },
        "id": "j_SeO3Ek7Qt4",
        "outputId": "13954fd0-0ae9-4793-8347-98862296f663"
      },
      "execution_count": 86,
      "outputs": [
        {
          "output_type": "execute_result",
          "data": {
            "text/plain": [
              "[[3], [20, 9], [15, 7]]"
            ]
          },
          "metadata": {},
          "execution_count": 86
        }
      ]
    },
    {
      "cell_type": "code",
      "source": [
        "# Definition for a binary tree node.\n",
        "# class TreeNode:\n",
        "#     def __init__(self, val=0, left=None, right=None):\n",
        "#         self.val = val\n",
        "#         self.left = left\n",
        "#         self.right = right\n",
        "class Solution:\n",
        "    def getMinimumDifference(self, root: Optional[TreeNode]) -> int:\n",
        "      l = []\n",
        "      def traverse(node, l):\n",
        "        if node == None: return\n",
        "        traverse(node.left, l)\n",
        "        l.append(node.val)\n",
        "        traverse(node.right, l)\n",
        "      traverse(root, l)\n",
        "      return min(abs(a-b) for a,b, in zip(l,l[1:]))\n",
        "\n",
        "# root = [4,2,6,1,3]\n",
        "# root = [1,0,48,None,None,12,49]\n",
        "root = [236,104,701,None,227,None,911]\n",
        "Solution().getMinimumDifference(list_to_tree(root))"
      ],
      "metadata": {
        "colab": {
          "base_uri": "https://localhost:8080/"
        },
        "id": "Kr-wyeiH_ayU",
        "outputId": "b619a46d-bea1-4848-eb57-cfd4d0f881fc"
      },
      "execution_count": 87,
      "outputs": [
        {
          "output_type": "execute_result",
          "data": {
            "text/plain": [
              "9"
            ]
          },
          "metadata": {},
          "execution_count": 87
        }
      ]
    },
    {
      "cell_type": "code",
      "source": [
        "# Definition for a binary tree node.\n",
        "# class TreeNode:\n",
        "#     def __init__(self, val=0, left=None, right=None):\n",
        "#         self.val = val\n",
        "#         self.left = left\n",
        "#         self.right = right\n",
        "class Solution:\n",
        "    def kthSmallest(self, root: Optional[TreeNode], k: int) -> int:\n",
        "      l = []\n",
        "      def traverse(node, l):\n",
        "        if node == None: return\n",
        "        traverse(node.left, l)\n",
        "        l.append(node.val)\n",
        "        traverse(node.right, l)\n",
        "      traverse(root, l)\n",
        "      # print(l)\n",
        "      return l[k-1]\n",
        "\n",
        "# root = [3,1,4,None,2]\n",
        "root = [5,3,6,2,4,None,None,1]\n",
        "k = 3\n",
        "Solution().kthSmallest(list_to_tree(root),k)"
      ],
      "metadata": {
        "colab": {
          "base_uri": "https://localhost:8080/"
        },
        "id": "02QCJnkZCVYX",
        "outputId": "7455bbcc-5784-49b2-c61e-9a30578284ab"
      },
      "execution_count": 88,
      "outputs": [
        {
          "output_type": "execute_result",
          "data": {
            "text/plain": [
              "3"
            ]
          },
          "metadata": {},
          "execution_count": 88
        }
      ]
    },
    {
      "cell_type": "code",
      "source": [
        "# Definition for a binary tree node.\n",
        "# class TreeNode:\n",
        "#     def __init__(self, val=0, left=None, right=None):\n",
        "#         self.val = val\n",
        "#         self.left = left\n",
        "#         self.right = right\n",
        "class Solution:\n",
        "    def isValidBST(self, root: Optional[TreeNode]) -> bool:\n",
        "      l = []\n",
        "      def traverse(node, l):\n",
        "        if node == None: return\n",
        "        traverse(node.left, l)\n",
        "        l.append(node.val)\n",
        "        traverse(node.right, l)\n",
        "      traverse(root, l)\n",
        "      return all(a<b for a,b, in zip(l,l[1:]))\n",
        "\n",
        "root = [2,1,3]\n",
        "root = [5,1,4,None,None,3,6]\n",
        "Solution().isValidBST(list_to_tree(root))"
      ],
      "metadata": {
        "colab": {
          "base_uri": "https://localhost:8080/"
        },
        "id": "FCoZDEhqC97H",
        "outputId": "94ae9415-a5d1-427a-b5be-c5a3ac0d6351"
      },
      "execution_count": 89,
      "outputs": [
        {
          "output_type": "execute_result",
          "data": {
            "text/plain": [
              "False"
            ]
          },
          "metadata": {},
          "execution_count": 89
        }
      ]
    },
    {
      "cell_type": "code",
      "source": [
        "class Solution:\n",
        "    def numIslands(self, grid: List[List[str]]) -> int:\n",
        "      res = 0\n",
        "      visited = set()\n",
        "      def bfs(r,c):\n",
        "        q = [(r,c)]\n",
        "        while len(q):\n",
        "          row,col = q.pop(0)\n",
        "          # print(row,col,grid[row][col])\n",
        "          if grid[row][col] == \"0\": continue\n",
        "          if (row,col) in visited: continue\n",
        "          visited.add((row,col))\n",
        "          if row<len(grid)-1: q.append((row+1,col))\n",
        "          if row>0: q.append((row-1,col))\n",
        "          if col<len(grid[0])-1: q.append((row,col+1))\n",
        "          if col>0: q.append((row,col-1))\n",
        "      for r in range(len(grid)):\n",
        "        for c in range(len(grid[0])):\n",
        "          if grid[r][c] == \"1\" and (r,c) not in visited:\n",
        "            res += 1\n",
        "            bfs(r,c)\n",
        "      return res\n",
        "\n",
        "grid = [\n",
        "  [\"1\",\"1\",\"0\",\"0\",\"0\"],\n",
        "  [\"1\",\"1\",\"0\",\"0\",\"0\"],\n",
        "  [\"0\",\"0\",\"1\",\"0\",\"0\"],\n",
        "  [\"0\",\"0\",\"0\",\"1\",\"1\"]\n",
        "]\n",
        "Solution().numIslands(grid)"
      ],
      "metadata": {
        "colab": {
          "base_uri": "https://localhost:8080/"
        },
        "id": "1yqqB6YhqRBF",
        "outputId": "13212ec6-e45a-4e67-fde1-3d00a1cad429"
      },
      "execution_count": 90,
      "outputs": [
        {
          "output_type": "execute_result",
          "data": {
            "text/plain": [
              "3"
            ]
          },
          "metadata": {},
          "execution_count": 90
        }
      ]
    },
    {
      "cell_type": "code",
      "source": [
        "class Solution:\n",
        "    def solve(self, board: List[List[str]]) -> None:\n",
        "      visited = set()\n",
        "      def bfs(r,c):\n",
        "        q = [(r,c)]\n",
        "        surrounded = True\n",
        "        res = set()\n",
        "        while len(q):\n",
        "          row,col = q.pop(0)\n",
        "          if board[row][col] == \"X\": continue\n",
        "          if (row,col) in visited: continue\n",
        "          if row == 0 or row == len(board)-1 or col == 0 or col == len(board[0])-1: surrounded = False\n",
        "          visited.add((row,col))\n",
        "          res.add((row,col))\n",
        "          if row<len(board)-1: q.append((row+1,col))\n",
        "          if row>0: q.append((row-1,col))\n",
        "          if col<len(board[0])-1: q.append((row,col+1))\n",
        "          if col>0: q.append((row,col-1))\n",
        "        return res,surrounded\n",
        "      for r in range(len(board)):\n",
        "        for c in range(len(board[0])):\n",
        "          if board[r][c] == \"O\" and (r,c) not in visited:\n",
        "            pts,surrounded = bfs(r,c)\n",
        "            # print(len(pts),surrounded)\n",
        "            if surrounded:\n",
        "              for (row,col) in pts:\n",
        "                board[row][col] = \"X\"\n",
        "\n",
        "board = [[\"X\",\"X\",\"X\",\"X\"],[\"X\",\"O\",\"O\",\"X\"],[\"X\",\"X\",\"O\",\"X\"],[\"X\",\"O\",\"X\",\"X\"]]\n",
        "Solution().solve(board)\n",
        "print(board)"
      ],
      "metadata": {
        "colab": {
          "base_uri": "https://localhost:8080/"
        },
        "id": "3xBnIfVBwCbi",
        "outputId": "3ebb6baf-8353-40cc-f267-78f3ae11682b"
      },
      "execution_count": 91,
      "outputs": [
        {
          "output_type": "stream",
          "name": "stdout",
          "text": [
            "[['X', 'X', 'X', 'X'], ['X', 'X', 'X', 'X'], ['X', 'X', 'X', 'X'], ['X', 'O', 'X', 'X']]\n"
          ]
        }
      ]
    },
    {
      "cell_type": "code",
      "source": [
        "\"\"\"\n",
        "# Definition for a Node.\n",
        "class Node:\n",
        "    def __init__(self, val = 0, neighbors = None):\n",
        "        self.val = val\n",
        "        self.neighbors = neighbors if neighbors is not None else []\n",
        "\"\"\"\n",
        "\n",
        "from typing import Optional\n",
        "class Solution:\n",
        "    def cloneGraph(self, node: Optional['Node'], seen={}) -> Optional['Node']:\n",
        "      if node == None: return None\n",
        "      if node in seen:\n",
        "        return seen[node]\n",
        "      ret = Node(val=node.val)\n",
        "      seen[node] = ret\n",
        "      ret.neighbors = [self.cloneGraph(x, seen) for x in node.neighbors]\n",
        "      return ret"
      ],
      "metadata": {
        "id": "6hZme5je_sUF"
      },
      "execution_count": 92,
      "outputs": []
    },
    {
      "cell_type": "code",
      "source": [
        "class Solution:\n",
        "    def calcEquation(self, equations: List[List[str]], values: List[float], queries: List[List[str]]) -> List[float]:\n",
        "      ret = []\n",
        "      for top,bot in queries:\n",
        "        # print(top,bot)\n",
        "        seen = set()\n",
        "        q = []\n",
        "        for i in range(len(values)):\n",
        "          top2,bot2 = equations[i]\n",
        "          if top2 == top:\n",
        "            seen.add(bot2)\n",
        "            q.append((bot2,values[i]))\n",
        "          elif bot2 == top:\n",
        "            seen.add(top2)\n",
        "            q.append((top2,1/values[i]))\n",
        "        found = False\n",
        "        while len(q):\n",
        "          # print(q)\n",
        "          bot2,val = q.pop(0)\n",
        "          seen.add(bot2)\n",
        "          if bot2 == bot:\n",
        "            ret.append(val)\n",
        "            found = True\n",
        "            break\n",
        "          for i in range(len(values)):\n",
        "            top3,bot3 = equations[i]\n",
        "            if bot2 == top3:\n",
        "              if bot3 not in seen:\n",
        "                q.append((bot3,val*values[i]))\n",
        "            elif bot2 == bot3:\n",
        "              if top3 not in seen:\n",
        "                q.append((top3,val/values[i]))\n",
        "        if not found: ret.append(-1.0)\n",
        "      return ret\n",
        "\n",
        "# equations = [[\"a\",\"b\"],[\"b\",\"c\"]]\n",
        "# values = [2.0,3.0]\n",
        "# queries = [[\"a\",\"c\"],[\"b\",\"a\"],[\"a\",\"e\"],[\"a\",\"a\"],[\"x\",\"x\"]]\n",
        "# equations = [[\"a\",\"b\"],[\"b\",\"c\"],[\"bc\",\"cd\"]]\n",
        "# values = [1.5,2.5,5.0]\n",
        "# queries = [[\"a\",\"c\"],[\"c\",\"b\"],[\"bc\",\"cd\"],[\"cd\",\"bc\"]]\n",
        "equations = [[\"a\",\"b\"]]\n",
        "values = [0.5]\n",
        "queries = [[\"a\",\"b\"],[\"b\",\"a\"],[\"a\",\"c\"],[\"x\",\"y\"]]\n",
        "Solution().calcEquation(equations, values, queries)"
      ],
      "metadata": {
        "colab": {
          "base_uri": "https://localhost:8080/"
        },
        "id": "XHUt7noPB_OX",
        "outputId": "2a89b27d-98b3-4e5c-9ebd-d2a7291d5ecd"
      },
      "execution_count": 93,
      "outputs": [
        {
          "output_type": "execute_result",
          "data": {
            "text/plain": [
              "[0.5, 2.0, -1.0, -1.0]"
            ]
          },
          "metadata": {},
          "execution_count": 93
        }
      ]
    },
    {
      "cell_type": "code",
      "source": [
        "class Solution:\n",
        "    def canFinish(self, numCourses: int, prerequisites: List[List[int]]) -> bool:\n",
        "      reachable = set(range(numCourses))\n",
        "      deps = {}\n",
        "      for a,b in prerequisites:\n",
        "        if a in reachable: reachable.remove(a)\n",
        "        deps[a] = deps.get(a, []) + [b]\n",
        "      def dfs(n, deps, reachable, seen=set()):\n",
        "        if n in seen: return False\n",
        "        if n in reachable: return True\n",
        "        for dep in deps[n]:\n",
        "          if not dfs(dep, deps, reachable, seen|{n}): return False\n",
        "        else:\n",
        "          reachable.add(n)\n",
        "        return True\n",
        "      for a,b in prerequisites:\n",
        "        # print(a,b)\n",
        "        ret = dfs(a, deps, reachable)\n",
        "        if not ret: return False\n",
        "      # print(deps, reachable)\n",
        "      return len(reachable) == numCourses\n",
        "\n",
        "numCourses = 2\n",
        "# prerequisites = [[1,0]]\n",
        "prerequisites = [[1,0],[0,1]]\n",
        "# prerequisites = [[1,4],[2,4],[3,1],[3,2]]\n",
        "Solution().canFinish(numCourses, prerequisites)"
      ],
      "metadata": {
        "colab": {
          "base_uri": "https://localhost:8080/"
        },
        "id": "Rxe1RDKGshMA",
        "outputId": "7f0f1227-44ba-410b-b5b1-271bde7d1b40"
      },
      "execution_count": 94,
      "outputs": [
        {
          "output_type": "execute_result",
          "data": {
            "text/plain": [
              "False"
            ]
          },
          "metadata": {},
          "execution_count": 94
        }
      ]
    },
    {
      "cell_type": "code",
      "source": [
        "class Solution:\n",
        "    def findOrder(self, numCourses: int, prerequisites: List[List[int]]) -> bool:\n",
        "      reachable = set(range(numCourses))\n",
        "      deps = {}\n",
        "      ret = []\n",
        "      for a,b in prerequisites:\n",
        "        if a in reachable: reachable.remove(a)\n",
        "        deps[a] = deps.get(a, []) + [b]\n",
        "      for n in reachable:\n",
        "        ret.append(n)\n",
        "      def dfs(n, deps, reachable, order, seen=set()):\n",
        "        if n in seen: return False\n",
        "        if n in reachable: return True\n",
        "        for dep in deps[n]:\n",
        "          if not dfs(dep, deps, reachable, order, seen|{n}): return False\n",
        "        else:\n",
        "          reachable.add(n)\n",
        "          order.append(n)\n",
        "        return True\n",
        "      for a,b in prerequisites:\n",
        "        # print(a,b)\n",
        "        result = dfs(a, deps, reachable, ret)\n",
        "        if not result: return []\n",
        "      # print(deps, reachable)\n",
        "      return ret\n",
        "\n",
        "numCourses = 2000\n",
        "# prerequisites = [[1,0]]\n",
        "# prerequisites = [[1,0],[0,1]]\n",
        "# prerequisites = [[1,0],[2,0],[3,1],[3,2]]\n",
        "# prerequisites = []\n",
        "Solution().findOrder(numCourses, prerequisites)"
      ],
      "metadata": {
        "colab": {
          "base_uri": "https://localhost:8080/"
        },
        "id": "nrQSXbW8-ZxH",
        "outputId": "5491c802-e5d6-4ccb-ca3d-ecc243fa3add"
      },
      "execution_count": 95,
      "outputs": [
        {
          "output_type": "execute_result",
          "data": {
            "text/plain": [
              "[]"
            ]
          },
          "metadata": {},
          "execution_count": 95
        }
      ]
    },
    {
      "cell_type": "code",
      "source": [
        "class Solution:\n",
        "    def snakesAndLadders(self, board: List[List[int]]) -> int:\n",
        "      def to_pos(i):\n",
        "        row = (n-1)-((i-1)//n)\n",
        "        col = (n-i)%n if ((i-1)//n)%2 else (i-1)%n\n",
        "        return row,col\n",
        "      n = len(board)\n",
        "      q = set(x for x in range(2,min(6,n**2)+2))\n",
        "      seen = set()\n",
        "      steps = 1\n",
        "      while True:\n",
        "        new_q = set()\n",
        "        # print(steps,q)\n",
        "        for i in q:\n",
        "          if i in seen: continue\n",
        "          seen.add(i)\n",
        "          row,col = to_pos(i)\n",
        "          # print(i,row,col)\n",
        "          if board[row][col] != -1:\n",
        "            i = board[row][col]\n",
        "          if i == n**2:\n",
        "            return steps\n",
        "          for j in range(1,6+1):\n",
        "            if j > n**2: break\n",
        "            new_q.add(i+j)\n",
        "        if len(new_q) == 0: break\n",
        "        steps += 1\n",
        "        q = new_q\n",
        "      return -1\n",
        "\n",
        "# board = [[-1,-1,-1,-1,-1,-1],[-1,-1,-1,-1,-1,-1],[-1,-1,-1,-1,-1,-1],[-1,35,-1,-1,13,-1],[-1,-1,-1,-1,-1,-1],[-1,15,-1,-1,-1,-1]]\n",
        "# board = [[-1,-1],[-1,3]]\n",
        "# board = [[-1,1,2,-1],[2,13,15,-1],[-1,10,-1,-1],[-1,6,2,8]]\n",
        "board = [[-1,-1,19,10,-1],[2,-1,-1,6,-1],[-1,17,-1,19,-1],[25,-1,20,-1,-1],[-1,-1,-1,-1,15]]\n",
        "Solution().snakesAndLadders(board)"
      ],
      "metadata": {
        "colab": {
          "base_uri": "https://localhost:8080/"
        },
        "id": "EoBKb6bdcbP9",
        "outputId": "673d2d08-a3b4-485a-9f67-98fe77bc818a"
      },
      "execution_count": 96,
      "outputs": [
        {
          "output_type": "execute_result",
          "data": {
            "text/plain": [
              "2"
            ]
          },
          "metadata": {},
          "execution_count": 96
        }
      ]
    },
    {
      "cell_type": "code",
      "source": [
        "class Solution:\n",
        "    def minMutation(self, startGene: str, endGene: str, bank: List[str]) -> int:\n",
        "      def isMutation(s1,s2):\n",
        "        count = 0\n",
        "        for i in range(8):\n",
        "          if s1[i] != s2[i]: count += 1\n",
        "        return count == 1\n",
        "      q = [startGene]\n",
        "      steps = 0\n",
        "      seen = set()\n",
        "      while len(q):\n",
        "        new_q = []\n",
        "        for s in q:\n",
        "          if s == endGene: return steps\n",
        "          for b in bank:\n",
        "            if b not in seen and isMutation(s,b):\n",
        "              seen.add(b)\n",
        "              new_q.append(b)\n",
        "        q = new_q\n",
        "        steps += 1\n",
        "      return -1\n",
        "\n",
        "# startGene = \"AACCGGTT\"\n",
        "# endGene = \"AACCGGTA\"\n",
        "# bank = [\"AACCGGTA\"]\n",
        "startGene = \"AACCGGTT\"\n",
        "endGene = \"AAACGGTA\"\n",
        "bank = [\"AACCGGTA\",\"AACCGCTA\",\"AAACGGTA\"]\n",
        "\n",
        "Solution().minMutation(startGene, endGene, bank)"
      ],
      "metadata": {
        "colab": {
          "base_uri": "https://localhost:8080/"
        },
        "id": "rjI7iCYw_XN0",
        "outputId": "c1d5bed1-587a-4acd-b22e-60fdee550358"
      },
      "execution_count": 97,
      "outputs": [
        {
          "output_type": "execute_result",
          "data": {
            "text/plain": [
              "2"
            ]
          },
          "metadata": {},
          "execution_count": 97
        }
      ]
    },
    {
      "cell_type": "code",
      "source": [
        "class Solution:\n",
        "    def ladderLength(self, beginWord: str, endWord: str, wordList: List[str]) -> int:\n",
        "      def isMutation(s1,s2):\n",
        "        count = 0\n",
        "        for i in range(len(s1)):\n",
        "          if s1[i] != s2[i]:\n",
        "            count += 1\n",
        "            if count > 1: return False\n",
        "        return count == 1\n",
        "      q = [beginWord]\n",
        "      steps = 1\n",
        "      seen = set()\n",
        "      while len(q):\n",
        "        new_q = []\n",
        "        for s in q:\n",
        "          if s == endWord: return steps\n",
        "          for b in wordList:\n",
        "            if b not in seen and isMutation(s,b):\n",
        "              seen.add(b)\n",
        "              new_q.append(b)\n",
        "        q = new_q\n",
        "        steps += 1\n",
        "      return 0\n",
        "\n",
        "# beginWord = \"hit\"\n",
        "# endWord = \"cog\"\n",
        "# wordList = [\"hot\",\"dot\",\"dog\",\"lot\",\"log\",\"cog\"]\n",
        "beginWord = \"hit\"\n",
        "endWord = \"cog\"\n",
        "wordList = [\"hot\",\"dot\",\"dog\",\"lot\",\"log\"]\n",
        "Solution().ladderLength(beginWord, endWord, wordList)"
      ],
      "metadata": {
        "colab": {
          "base_uri": "https://localhost:8080/"
        },
        "id": "4AEbJcAuFDVz",
        "outputId": "f13dd8ec-991e-4ae4-bc07-4adae20a45d1"
      },
      "execution_count": 98,
      "outputs": [
        {
          "output_type": "execute_result",
          "data": {
            "text/plain": [
              "0"
            ]
          },
          "metadata": {},
          "execution_count": 98
        }
      ]
    },
    {
      "cell_type": "code",
      "source": [
        "class Trie:\n",
        "    def __init__(self):\n",
        "      self.root = {}\n",
        "\n",
        "    def insert(self, word: str) -> None:\n",
        "      node = self.root\n",
        "      for c in word:\n",
        "        if c not in node:\n",
        "          node[c] = {}\n",
        "        node = node[c]\n",
        "      node[\".\"] = True\n",
        "      # print(self.root)\n",
        "\n",
        "    def search(self, word: str) -> bool:\n",
        "      node = self.root\n",
        "      for c in word:\n",
        "        if c not in node: return False\n",
        "        node = node[c]\n",
        "      return \".\" in node\n",
        "\n",
        "    def startsWith(self, prefix: str) -> bool:\n",
        "      node = self.root\n",
        "      for c in prefix:\n",
        "        if c not in node: return False\n",
        "        node = node[c]\n",
        "      return True\n",
        "\n",
        "trie = Trie()\n",
        "trie.insert(\"apple\")\n",
        "print(trie.search(\"apple\"))\n",
        "print(trie.search(\"app\"))\n",
        "print(trie.startsWith(\"app\"))\n",
        "trie.insert(\"app\")\n",
        "print(trie.search(\"app\"))"
      ],
      "metadata": {
        "colab": {
          "base_uri": "https://localhost:8080/"
        },
        "id": "t8ZG2edFGyYR",
        "outputId": "687bd629-57a7-44a8-fc53-19f48aa2230f"
      },
      "execution_count": 99,
      "outputs": [
        {
          "output_type": "stream",
          "name": "stdout",
          "text": [
            "True\n",
            "False\n",
            "True\n",
            "True\n"
          ]
        }
      ]
    },
    {
      "cell_type": "code",
      "source": [
        "class WordDictionary:\n",
        "    def __init__(self):\n",
        "      self.root = {}\n",
        "\n",
        "    def addWord(self, word: str) -> None:\n",
        "      node = self.root\n",
        "      for c in word:\n",
        "        if c not in node:\n",
        "          node[c] = {}\n",
        "        node = node[c]\n",
        "      node[\".\"] = {}\n",
        "      # print(self.root)\n",
        "\n",
        "    def search(self, word: str) -> bool:\n",
        "      def dfs(node, s):\n",
        "        if len(s) == 0: return \".\" in node\n",
        "        for c in s:\n",
        "          if c == \".\":\n",
        "            for child in node.values():\n",
        "              if dfs(child, s[1:]): return True\n",
        "            else:\n",
        "              return False\n",
        "          else:\n",
        "             return c in node and dfs(node[c], s[1:])\n",
        "\n",
        "      return dfs(self.root, word)\n",
        "\n",
        "wordDictionary = WordDictionary()\n",
        "wordDictionary.addWord(\"bad\")\n",
        "wordDictionary.addWord(\"dad\")\n",
        "wordDictionary.addWord(\"mad\")\n",
        "print(wordDictionary.search(\"pad\"))\n",
        "print(wordDictionary.search(\"bad\"))\n",
        "print(wordDictionary.search(\".ad\"))\n",
        "print(wordDictionary.search(\"b..\"))"
      ],
      "metadata": {
        "colab": {
          "base_uri": "https://localhost:8080/"
        },
        "id": "WFsFoBd2c70m",
        "outputId": "8079cf3d-9bb8-4ee4-d66e-fe4e6bdd8a89"
      },
      "execution_count": 100,
      "outputs": [
        {
          "output_type": "stream",
          "name": "stdout",
          "text": [
            "False\n",
            "True\n",
            "True\n",
            "True\n"
          ]
        }
      ]
    },
    {
      "cell_type": "code",
      "source": [
        "class Solution:\n",
        "    def findWords(self, board: List[List[str]], words: List[str]) -> List[str]:\n",
        "        self.d = WordDictionary()\n",
        "        for word in words:\n",
        "          self.d.addWord(word)\n",
        "        res = []\n",
        "        def dfs(row, col, seen, node, s, res):\n",
        "          # print(row, col, seen, s, res)\n",
        "          c = board[row][col]\n",
        "          if \".\" in node:\n",
        "            res.append(s)\n",
        "            del node[\".\"]\n",
        "          r2,c2 = row-1,col\n",
        "          if row > 0 and (r2,c2) not in seen and board[r2][c2] in node:\n",
        "            dfs(r2,c2,seen|{(r2,c2)},node[board[r2][c2]],s+board[r2][c2],res)\n",
        "            if len(node[board[r2][c2]]) == 0: del node[board[r2][c2]]\n",
        "          r2,c2 = row+1,col\n",
        "          if row < len(board)-1 and (r2,c2) not in seen and board[r2][c2] in node:\n",
        "            dfs(r2,c2,seen|{(r2,c2)},node[board[r2][c2]],s+board[r2][c2],res)\n",
        "            if len(node[board[r2][c2]]) == 0: del node[board[r2][c2]]\n",
        "          r2,c2 = row,col-1\n",
        "          if col > 0 and (r2,c2) not in seen and board[r2][c2] in node:\n",
        "            dfs(r2,c2,seen|{(r2,c2)},node[board[r2][c2]],s+board[r2][c2],res)\n",
        "            if len(node[board[r2][c2]]) == 0: del node[board[r2][c2]]\n",
        "          r2,c2 = row,col+1\n",
        "          if col < len(board[0])-1 and (r2,c2) not in seen and board[r2][c2] in node:\n",
        "            dfs(r2,c2,seen|{(r2,c2)},node[board[r2][c2]],s+board[r2][c2],res)\n",
        "            if len(node[board[r2][c2]]) == 0: del node[board[r2][c2]]\n",
        "        for r in range(len(board)):\n",
        "          for c in range(len(board[0])):\n",
        "            if board[r][c] in self.d.root:\n",
        "              if self.d.root[board[r][c]] == {\".\":{}}:\n",
        "                res.append(board[r][c])\n",
        "                del self.d.root[board[r][c]]\n",
        "            dfs(r,c,set(),self.d.root,\"\",res)\n",
        "        return res\n",
        "\n",
        "board = [[\"o\",\"a\",\"a\",\"n\"],[\"e\",\"t\",\"a\",\"e\"],[\"i\",\"h\",\"k\",\"r\"],[\"i\",\"f\",\"l\",\"v\"]]\n",
        "words = [\"oath\",\"pea\",\"eat\",\"rain\"]\n",
        "# board = [[\"a\",\"b\"],[\"c\",\"d\"]]\n",
        "# words = [\"abcb\"]\n",
        "# board = [[\"o\",\"a\",\"a\",\"n\"],[\"e\",\"t\",\"a\",\"e\"],[\"i\",\"h\",\"k\",\"r\"],[\"i\",\"f\",\"l\",\"v\"]]\n",
        "# words = [\"oath\",\"pea\",\"eat\",\"rain\",\"hklf\", \"hf\"]\n",
        "# board = [[\"a\"]]\n",
        "# words = [\"a\"]\n",
        "Solution().findWords(board,words)"
      ],
      "metadata": {
        "colab": {
          "base_uri": "https://localhost:8080/"
        },
        "id": "dIGiZlrLqpUJ",
        "outputId": "18f31d08-ce90-4bd6-d282-fb480d95318b"
      },
      "execution_count": 101,
      "outputs": [
        {
          "output_type": "execute_result",
          "data": {
            "text/plain": [
              "['oath', 'eat']"
            ]
          },
          "metadata": {},
          "execution_count": 101
        }
      ]
    },
    {
      "cell_type": "code",
      "source": [
        "class Solution:\n",
        "    def letterCombinations(self, digits: str) -> List[str]:\n",
        "      res = []\n",
        "      def dfs(digits, prefix, res):\n",
        "        if len(digits) == 0:\n",
        "          if len(prefix): res.append(prefix)\n",
        "          return\n",
        "        d = digits[0]\n",
        "        if d == \"2\":\n",
        "          for c in \"abc\":\n",
        "            dfs(digits[1:], prefix+c, res)\n",
        "        elif d == \"3\":\n",
        "          for c in \"def\":\n",
        "            dfs(digits[1:], prefix+c, res)\n",
        "        elif d == \"4\":\n",
        "          for c in \"ghi\":\n",
        "            dfs(digits[1:], prefix+c, res)\n",
        "        elif d == \"5\":\n",
        "          for c in \"jkl\":\n",
        "            dfs(digits[1:], prefix+c, res)\n",
        "        elif d == \"6\":\n",
        "          for c in \"mno\":\n",
        "            dfs(digits[1:], prefix+c, res)\n",
        "        elif d == \"7\":\n",
        "          for c in \"pqrs\":\n",
        "            dfs(digits[1:], prefix+c, res)\n",
        "        elif d == \"8\":\n",
        "          for c in \"tuv\":\n",
        "            dfs(digits[1:], prefix+c, res)\n",
        "        elif d == \"9\":\n",
        "          for c in \"wxyz\":\n",
        "            dfs(digits[1:], prefix+c, res)\n",
        "      dfs(digits, \"\", res)\n",
        "      return res\n",
        "\n",
        "# digits = \"23\"\n",
        "# digits = \"\"\n",
        "digits = \"2\"\n",
        "Solution().letterCombinations(digits)"
      ],
      "metadata": {
        "colab": {
          "base_uri": "https://localhost:8080/"
        },
        "id": "6AnDDjXiMZIO",
        "outputId": "13032114-7569-4fb2-c8ec-a8b0f916425a"
      },
      "execution_count": 102,
      "outputs": [
        {
          "output_type": "execute_result",
          "data": {
            "text/plain": [
              "['a', 'b', 'c']"
            ]
          },
          "metadata": {},
          "execution_count": 102
        }
      ]
    },
    {
      "cell_type": "code",
      "source": [
        "class Solution:\n",
        "    def combine(self, n: int, k: int) -> List[List[int]]:\n",
        "      ret = []\n",
        "      def dfs(selected, rest, k, ret):\n",
        "        if len(selected) == k: ret.append(list(selected))\n",
        "        tmp = rest\n",
        "        for i in rest:\n",
        "          tmp = tmp-{i}\n",
        "          dfs(selected|{i}, tmp, k, ret)\n",
        "      dfs(set(), set(range(1,n+1)), k, ret)\n",
        "      return ret\n",
        "\n",
        "n = 4\n",
        "k = 3\n",
        "Solution().combine(n,k)"
      ],
      "metadata": {
        "colab": {
          "base_uri": "https://localhost:8080/"
        },
        "id": "DxNtLlvdPhuF",
        "outputId": "6d253d31-a22e-4378-b45b-1cf86b4859a1"
      },
      "execution_count": 103,
      "outputs": [
        {
          "output_type": "execute_result",
          "data": {
            "text/plain": [
              "[[1, 2, 3], [1, 2, 4], [1, 3, 4], [2, 3, 4]]"
            ]
          },
          "metadata": {},
          "execution_count": 103
        }
      ]
    },
    {
      "cell_type": "code",
      "source": [
        "class Solution:\n",
        "    def permute(self, nums: List[int]) -> List[List[int]]:\n",
        "      ret = []\n",
        "      def dfs(prefix,rest,ret):\n",
        "        if len(rest) == 0: ret.append(prefix)\n",
        "        for i in range(len(rest)):\n",
        "          dfs(prefix+[rest[i]], rest[:i]+rest[i+1:], ret)\n",
        "      dfs([],nums,ret)\n",
        "      return ret\n",
        "\n",
        "nums = [1,2,3]\n",
        "Solution().permute(nums)"
      ],
      "metadata": {
        "colab": {
          "base_uri": "https://localhost:8080/"
        },
        "id": "vpFEvsbwT0Lc",
        "outputId": "fc310a9e-bf99-43bb-a62d-35f2dd936d63"
      },
      "execution_count": 104,
      "outputs": [
        {
          "output_type": "execute_result",
          "data": {
            "text/plain": [
              "[[1, 2, 3], [1, 3, 2], [2, 1, 3], [2, 3, 1], [3, 1, 2], [3, 2, 1]]"
            ]
          },
          "metadata": {},
          "execution_count": 104
        }
      ]
    },
    {
      "cell_type": "code",
      "source": [
        "class Solution:\n",
        "    def combinationSum(self, candidates: List[int], target: int) -> List[List[int]]:\n",
        "      ret = set()\n",
        "      def dfs(selected, sum):\n",
        "        # print(selected, sum)\n",
        "        if sum == 0: ret.add(tuple(sorted(selected)))\n",
        "        if sum <= 0: return\n",
        "        for n in candidates:\n",
        "          dfs(selected+[n], sum-n)\n",
        "      dfs([], target)\n",
        "      return [list(x) for x in ret]\n",
        "\n",
        "# candidates = [2,3,6,7]\n",
        "# target = 7\n",
        "# candidates = [2,3,5]\n",
        "# target = 8\n",
        "candidates = [2]\n",
        "target = 1\n",
        "Solution().combinationSum(candidates, target)"
      ],
      "metadata": {
        "colab": {
          "base_uri": "https://localhost:8080/"
        },
        "id": "HgMB76WNYBb2",
        "outputId": "1ad33851-ef19-4c7d-c71f-6a5d5c173a04"
      },
      "execution_count": 105,
      "outputs": [
        {
          "output_type": "execute_result",
          "data": {
            "text/plain": [
              "[]"
            ]
          },
          "metadata": {},
          "execution_count": 105
        }
      ]
    },
    {
      "cell_type": "code",
      "source": [
        "class Solution:\n",
        "    def totalNQueens(self, n: int) -> int:\n",
        "      self.count = 0\n",
        "      def is_valid(queens):\n",
        "        for xi in range(len(queens)):\n",
        "          for xj in range(xi+1,len(queens)):\n",
        "            yi,yj = queens[xi],queens[xj]\n",
        "            if abs(yi-yj) == abs(xi-xj): return False\n",
        "        return True\n",
        "      def dfs(prefix, rest):\n",
        "        if len(rest) == 0 and is_valid(prefix):\n",
        "          self.count += 1\n",
        "          return\n",
        "        for i in rest:\n",
        "          dfs(prefix+[i], rest-{i})\n",
        "      dfs([], set(range(n)))\n",
        "      return self.count\n",
        "\n",
        "n = 1\n",
        "Solution().totalNQueens(n)"
      ],
      "metadata": {
        "colab": {
          "base_uri": "https://localhost:8080/"
        },
        "id": "aKPDkMFJeIcQ",
        "outputId": "7a2d915b-9bf7-413e-9b49-8cb2c0adc0dd"
      },
      "execution_count": 106,
      "outputs": [
        {
          "output_type": "execute_result",
          "data": {
            "text/plain": [
              "1"
            ]
          },
          "metadata": {},
          "execution_count": 106
        }
      ]
    },
    {
      "cell_type": "code",
      "source": [
        "class Solution:\n",
        "    def generateParenthesis(self, n: int) -> List[str]:\n",
        "      res = []\n",
        "      def dfs(prefix, n_open, n_closed):\n",
        "        # print(prefix, n_open, n_closed)\n",
        "        if n_open == n_closed == 0:\n",
        "          res.append(prefix)\n",
        "          return\n",
        "        if n_open>0: dfs(prefix+\"(\", n_open-1, n_closed)\n",
        "        if n_closed>n_open: dfs(prefix+\")\", n_open, n_closed-1)\n",
        "      dfs(\"\", n, n)\n",
        "      return res\n",
        "\n",
        "n = 1\n",
        "Solution().generateParenthesis(n)"
      ],
      "metadata": {
        "colab": {
          "base_uri": "https://localhost:8080/"
        },
        "id": "lwhXmbwxjJuv",
        "outputId": "ada90ffc-0b80-4f88-cd45-51bf3509e86b"
      },
      "execution_count": 107,
      "outputs": [
        {
          "output_type": "execute_result",
          "data": {
            "text/plain": [
              "['()']"
            ]
          },
          "metadata": {},
          "execution_count": 107
        }
      ]
    },
    {
      "cell_type": "code",
      "source": [
        "class Solution:\n",
        "    def exist(self, board: List[List[str]], word: str) -> bool:\n",
        "      def dfs(row, col, seen, s):\n",
        "        # print(row, col, seen, s)\n",
        "        if len(seen) > len(word) or s != word[:len(s)]: return False\n",
        "        if s == word: return True\n",
        "        r,c = row+1,col\n",
        "        if row < len(board)-1:\n",
        "          if (r,c) not in seen:\n",
        "            if dfs(r,c,seen|{(r,c)},s+board[r][c]): return True\n",
        "        r,c = row-1,col\n",
        "        if row > 0:\n",
        "          if (r,c) not in seen:\n",
        "            if dfs(r,c,seen|{(r,c)},s+board[r][c]): return True\n",
        "        r,c = row,col+1\n",
        "        if col < len(board[0])-1:\n",
        "          if (r,c) not in seen:\n",
        "            if dfs(r,c,seen|{(r,c)},s+board[r][c]): return True\n",
        "        r,c = row,col-1\n",
        "        if col > 0:\n",
        "          if (r,c) not in seen:\n",
        "            if dfs(r,c,seen|{(r,c)},s+board[r][c]): return True\n",
        "        return False\n",
        "      for r in range(len(board)):\n",
        "        for c in range(len(board[0])):\n",
        "          if dfs(r,c,{(r,c)},board[r][c]): return True\n",
        "      return False\n",
        "\n",
        "# board = [[\"A\",\"B\",\"C\",\"E\"],[\"S\",\"F\",\"C\",\"S\"],[\"A\",\"D\",\"E\",\"E\"]]\n",
        "# word = \"ABCCED\"\n",
        "# board = [[\"A\",\"B\",\"C\",\"E\"],[\"S\",\"F\",\"C\",\"S\"],[\"A\",\"D\",\"E\",\"E\"]]\n",
        "# word = \"SEE\"\n",
        "# board = [[\"A\",\"B\",\"C\",\"E\"],[\"S\",\"F\",\"C\",\"S\"],[\"A\",\"D\",\"E\",\"E\"]]\n",
        "# word = \"ABCB\"\n",
        "# board = [[\"a\",\"a\"]]\n",
        "# word = \"aaa\"\n",
        "board = [[\"A\",\"A\",\"A\",\"A\",\"A\",\"A\"],[\"A\",\"A\",\"A\",\"A\",\"A\",\"A\"],[\"A\",\"A\",\"A\",\"A\",\"A\",\"A\"],[\"A\",\"A\",\"A\",\"A\",\"A\",\"A\"],[\"A\",\"A\",\"A\",\"A\",\"A\",\"A\"],[\"A\",\"A\",\"A\",\"A\",\"A\",\"A\"]]\n",
        "word = \"BAAAAAAAAAAAAAA\"\n",
        "Solution().exist(board, word)"
      ],
      "metadata": {
        "colab": {
          "base_uri": "https://localhost:8080/"
        },
        "id": "FqR8OxgplNQw",
        "outputId": "332363a6-611a-489b-c237-9aa370905dcc"
      },
      "execution_count": 116,
      "outputs": [
        {
          "output_type": "execute_result",
          "data": {
            "text/plain": [
              "False"
            ]
          },
          "metadata": {},
          "execution_count": 116
        }
      ]
    }
  ]
}