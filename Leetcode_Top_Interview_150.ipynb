{
  "nbformat": 4,
  "nbformat_minor": 0,
  "metadata": {
    "colab": {
      "provenance": [],
      "authorship_tag": "ABX9TyOvsKZ/kpq2FRj8MVrzu345",
      "include_colab_link": true
    },
    "kernelspec": {
      "name": "python3",
      "display_name": "Python 3"
    },
    "language_info": {
      "name": "python"
    }
  },
  "cells": [
    {
      "cell_type": "markdown",
      "metadata": {
        "id": "view-in-github",
        "colab_type": "text"
      },
      "source": [
        "<a href=\"https://colab.research.google.com/github/elichen/leetcode/blob/main/Leetcode_Top_Interview_150.ipynb\" target=\"_parent\"><img src=\"https://colab.research.google.com/assets/colab-badge.svg\" alt=\"Open In Colab\"/></a>"
      ]
    },
    {
      "cell_type": "code",
      "source": [
        "from typing import *"
      ],
      "metadata": {
        "id": "ow1JtLkmdqsj"
      },
      "execution_count": 2,
      "outputs": []
    },
    {
      "cell_type": "code",
      "execution_count": 3,
      "metadata": {
        "colab": {
          "base_uri": "https://localhost:8080/"
        },
        "id": "c8-kmm84dOu5",
        "outputId": "4a3e2bf6-7d0d-4df1-d65a-424f18417bbf"
      },
      "outputs": [
        {
          "output_type": "execute_result",
          "data": {
            "text/plain": [
              "[1, 2, 2, 3, 5, 6]"
            ]
          },
          "metadata": {},
          "execution_count": 3
        }
      ],
      "source": [
        "class Solution:\n",
        "    def merge(self, nums1: List[int], m: int, nums2: List[int], n: int) -> None:\n",
        "        \"\"\"\n",
        "        Do not return anything, modify nums1 in-place instead.\n",
        "        \"\"\"\n",
        "        i_m, i_n = m-1,n-1\n",
        "        for i in range(m+n-1,-1,-1):\n",
        "            if i_m == -1 or (i_n != -1 and nums2[i_n] > nums1[i_m]):\n",
        "                nums1[i] = nums2[i_n]\n",
        "                i_n -= 1\n",
        "            else:\n",
        "                nums1[i] = nums1[i_m]\n",
        "                i_m -= 1\n",
        "\n",
        "nums1 =[1,2,3,0,0,0]\n",
        "m =3\n",
        "nums2 =[2,5,6]\n",
        "n =3\n",
        "s = Solution()\n",
        "s.merge(nums1, m, nums2, n)\n",
        "nums1"
      ]
    },
    {
      "cell_type": "code",
      "source": [
        "class Solution:\n",
        "    def removeElement(self, nums: List[int], val: int) -> int:\n",
        "      def find_next(i):\n",
        "        while i >= 0:\n",
        "          if nums[i] != val: break\n",
        "          i -= 1\n",
        "        return i\n",
        "      next = find_next(len(nums)-1)\n",
        "      k = 0\n",
        "      for i in range(len(nums)):\n",
        "        # print(i,next,nums)\n",
        "        if nums[i] == val:\n",
        "          if next > 0 and i<next:\n",
        "            nums[i],nums[next] = nums[next],nums[i]\n",
        "            next = find_next(next)\n",
        "            k += 1\n",
        "        else:\n",
        "          k += 1\n",
        "      return k\n",
        "\n",
        "nums = [0,1,2,2,3,0,4,2]\n",
        "val = 2\n",
        "s = Solution()\n",
        "k = s.removeElement(nums,val)\n",
        "print(nums,k)"
      ],
      "metadata": {
        "colab": {
          "base_uri": "https://localhost:8080/"
        },
        "id": "nABE5-wegtpQ",
        "outputId": "a12e02cf-4d93-47f4-d4b3-c27bf8daacb2"
      },
      "execution_count": 4,
      "outputs": [
        {
          "output_type": "stream",
          "name": "stdout",
          "text": [
            "[0, 1, 4, 0, 3, 2, 2, 2] 5\n"
          ]
        }
      ]
    },
    {
      "cell_type": "code",
      "source": [
        "class Solution:\n",
        "    def removeDuplicates(self, nums: List[int]) -> int:\n",
        "        def find_next(i):\n",
        "          t = i\n",
        "          while i < len(nums):\n",
        "            if nums[i] != nums[t]: break\n",
        "            i += 1\n",
        "          return i\n",
        "        k = 0\n",
        "        i = 0\n",
        "        next = 0\n",
        "        while next < len(nums):\n",
        "          nums[i] = nums[next]\n",
        "          k += 1\n",
        "          next = find_next(next)\n",
        "          i += 1\n",
        "        return k\n",
        "\n",
        "nums = [0,0,1,1,1,2,2,3,3,4]\n",
        "s = Solution()\n",
        "k = s.removeDuplicates(nums)\n",
        "print(nums,k)"
      ],
      "metadata": {
        "colab": {
          "base_uri": "https://localhost:8080/"
        },
        "id": "7mRVVuWdpjFb",
        "outputId": "4912b08c-230a-4a67-e73b-52977b2ae91b"
      },
      "execution_count": 5,
      "outputs": [
        {
          "output_type": "stream",
          "name": "stdout",
          "text": [
            "[0, 1, 2, 3, 4, 2, 2, 3, 3, 4] 5\n"
          ]
        }
      ]
    },
    {
      "cell_type": "code",
      "source": [
        "class Solution:\n",
        "    def removeDuplicates(self, nums: List[int]) -> int:\n",
        "        def find_next(i,seen):\n",
        "          t = i\n",
        "          i += 1\n",
        "          while i < len(nums):\n",
        "            if nums[i] != nums[t]:\n",
        "              seen = 0\n",
        "              break\n",
        "            if seen < 1:\n",
        "              seen += 1\n",
        "              break\n",
        "            i += 1\n",
        "          return i,seen\n",
        "        k = 0\n",
        "        i = 0\n",
        "        next = 0\n",
        "        seen = 0\n",
        "        while next < len(nums):\n",
        "          # print(i,next,seen)\n",
        "          nums[i] = nums[next]\n",
        "          k += 1\n",
        "          i += 1\n",
        "          next,seen = find_next(next,seen)\n",
        "        return k\n",
        "\n",
        "nums = [1,1,1,2,2,3]\n",
        "s = Solution()\n",
        "k = s.removeDuplicates(nums)\n",
        "print(nums,k)"
      ],
      "metadata": {
        "colab": {
          "base_uri": "https://localhost:8080/"
        },
        "id": "6OGCmJHBsbz8",
        "outputId": "9960ce11-24a8-42de-e742-ee20fc5aceed"
      },
      "execution_count": 6,
      "outputs": [
        {
          "output_type": "stream",
          "name": "stdout",
          "text": [
            "[1, 1, 2, 2, 3, 3] 5\n"
          ]
        }
      ]
    },
    {
      "cell_type": "code",
      "source": [
        "class Solution:\n",
        "    def majorityElement(self, nums: List[int]) -> int:\n",
        "      map = {}\n",
        "      for n in nums:\n",
        "        map[n] = map.get(n, 0) + 1\n",
        "      for k,v in map.items():\n",
        "        if v > len(nums)//2: return k\n",
        "\n",
        "nums = [2,2,1,1,1,2,2]\n",
        "s = Solution()\n",
        "k = s.majorityElement(nums)\n",
        "print(nums,k)"
      ],
      "metadata": {
        "colab": {
          "base_uri": "https://localhost:8080/"
        },
        "id": "-rrOOd2b0tQ5",
        "outputId": "e9fbe4f9-9c88-4a57-b603-01386b392d9b"
      },
      "execution_count": 7,
      "outputs": [
        {
          "output_type": "stream",
          "name": "stdout",
          "text": [
            "[2, 2, 1, 1, 1, 2, 2] 2\n"
          ]
        }
      ]
    },
    {
      "cell_type": "code",
      "source": [
        "class Solution:\n",
        "    def rotate(self, nums: List[int], k: int) -> None:\n",
        "        \"\"\"\n",
        "        Do not return anything, modify nums in-place instead.\n",
        "        \"\"\"\n",
        "        i = 0\n",
        "        total = 0\n",
        "        offset = 0\n",
        "        tmp = nums[i]\n",
        "        while True:\n",
        "          # print(total, i, offset, nums)\n",
        "          total += 1\n",
        "          dst = (i+k)%len(nums)\n",
        "          prev = nums[dst]\n",
        "          nums[dst] = tmp\n",
        "          tmp = prev\n",
        "          i = dst\n",
        "          if i == offset:\n",
        "            if total == len(nums): break\n",
        "            offset += 1\n",
        "            i = offset\n",
        "            tmp = nums[i]\n",
        "\n",
        "nums = [1,2,3,4,5,6]\n",
        "k = 2\n",
        "s = Solution()\n",
        "s.rotate(nums,k)\n",
        "print(nums)"
      ],
      "metadata": {
        "colab": {
          "base_uri": "https://localhost:8080/"
        },
        "id": "kzvs2yTTD1hj",
        "outputId": "f3dc18fc-2257-47ea-baf2-77a76eba14f3"
      },
      "execution_count": 8,
      "outputs": [
        {
          "output_type": "stream",
          "name": "stdout",
          "text": [
            "[5, 6, 1, 2, 3, 4]\n"
          ]
        }
      ]
    },
    {
      "cell_type": "code",
      "source": [
        "class Solution:\n",
        "    def maxProfit(self, prices: List[int]) -> int:\n",
        "      minSeen = 10**10\n",
        "      maxProfit = 0\n",
        "      for n in prices:\n",
        "        maxProfit = max(maxProfit, n-minSeen)\n",
        "        minSeen = min(minSeen, n)\n",
        "        # print(maxProfit, minSeen)\n",
        "      return maxProfit\n",
        "\n",
        "prices = [7,6,4,3,1]\n",
        "s = Solution()\n",
        "s.maxProfit(prices)"
      ],
      "metadata": {
        "colab": {
          "base_uri": "https://localhost:8080/"
        },
        "id": "CpCttQ_FVIXe",
        "outputId": "0b35845f-c0ae-4443-a4ec-556ee8e815c8"
      },
      "execution_count": 9,
      "outputs": [
        {
          "output_type": "execute_result",
          "data": {
            "text/plain": [
              "0"
            ]
          },
          "metadata": {},
          "execution_count": 9
        }
      ]
    },
    {
      "cell_type": "code",
      "source": [
        "class Solution:\n",
        "    def maxProfit(self, prices: List[int]) -> int:\n",
        "      maxProfit = 0\n",
        "      prevPrice = 10**10\n",
        "      for n in prices:\n",
        "        if n > prevPrice: maxProfit += n-prevPrice\n",
        "        prevPrice = n\n",
        "      return maxProfit\n",
        "\n",
        "prices = [7,6,4,3,1]\n",
        "s = Solution()\n",
        "s.maxProfit(prices)"
      ],
      "metadata": {
        "colab": {
          "base_uri": "https://localhost:8080/"
        },
        "id": "YSm35_fBfEIT",
        "outputId": "bb0441ef-7ce2-4998-8141-e291b4a8fbd9"
      },
      "execution_count": 10,
      "outputs": [
        {
          "output_type": "execute_result",
          "data": {
            "text/plain": [
              "0"
            ]
          },
          "metadata": {},
          "execution_count": 10
        }
      ]
    },
    {
      "cell_type": "code",
      "source": [
        "class Solution:\n",
        "    def canJump(self, nums: List[int]) -> bool:\n",
        "      reach = nums[0]\n",
        "      for i in range(len(nums)):\n",
        "        # print(i, reach)\n",
        "        if reach == -1: return False\n",
        "        reach = max(reach,nums[i])\n",
        "        reach -= 1\n",
        "      return True\n",
        "\n",
        "nums = [3,2,1,0,4]\n",
        "s = Solution()\n",
        "s.canJump(nums)"
      ],
      "metadata": {
        "colab": {
          "base_uri": "https://localhost:8080/"
        },
        "id": "bE9mX4PogKnC",
        "outputId": "0ae511af-3004-487e-d997-3176b6d58d82"
      },
      "execution_count": 11,
      "outputs": [
        {
          "output_type": "execute_result",
          "data": {
            "text/plain": [
              "False"
            ]
          },
          "metadata": {},
          "execution_count": 11
        }
      ]
    },
    {
      "cell_type": "code",
      "source": [
        "class Solution:\n",
        "    def jump(self, nums: List[int]) -> int:\n",
        "      jumps = 0\n",
        "      currRange = 0\n",
        "      maxRange = 0\n",
        "      for i in range(len(nums)-1):\n",
        "        # print(i,jumps,currRange,maxRange)\n",
        "        maxRange = max(nums[i],maxRange-1)\n",
        "        if currRange == 0:\n",
        "          currRange = maxRange\n",
        "          jumps += 1\n",
        "        currRange -= 1\n",
        "      return jumps\n",
        "\n",
        "nums = [2,3,0,1,4]\n",
        "s = Solution()\n",
        "s.jump(nums)"
      ],
      "metadata": {
        "colab": {
          "base_uri": "https://localhost:8080/"
        },
        "id": "b2UxngbQoPY0",
        "outputId": "db2d7add-72f1-4db9-bc41-f21abcdda89f"
      },
      "execution_count": 12,
      "outputs": [
        {
          "output_type": "execute_result",
          "data": {
            "text/plain": [
              "2"
            ]
          },
          "metadata": {},
          "execution_count": 12
        }
      ]
    },
    {
      "cell_type": "code",
      "source": [
        "class Solution:\n",
        "    def hIndex(self, citations: List[int]) -> int:\n",
        "      s = sorted(citations)\n",
        "      h = 0\n",
        "      for i in range(len(s)):\n",
        "        n = len(s) - i\n",
        "        t_h = min(s[i],n)\n",
        "        h = max(h, t_h)\n",
        "      return h\n",
        "\n",
        "citations = [1,3,1]\n",
        "s = Solution()\n",
        "s.hIndex(citations)"
      ],
      "metadata": {
        "colab": {
          "base_uri": "https://localhost:8080/"
        },
        "id": "l3qPtN1gVCFn",
        "outputId": "8de49d09-8443-4923-f5eb-7d9887450a45"
      },
      "execution_count": 13,
      "outputs": [
        {
          "output_type": "execute_result",
          "data": {
            "text/plain": [
              "1"
            ]
          },
          "metadata": {},
          "execution_count": 13
        }
      ]
    },
    {
      "cell_type": "code",
      "source": [
        "import random\n",
        "class RandomizedSet:\n",
        "    def __init__(self):\n",
        "      self.data = set()\n",
        "\n",
        "    def insert(self, val: int) -> bool:\n",
        "        r = val not in self.data\n",
        "        self.data.add(val)\n",
        "        return r\n",
        "\n",
        "    def remove(self, val: int) -> bool:\n",
        "        r = val in self.data\n",
        "        if r: self.data.remove(val)\n",
        "        return r\n",
        "\n",
        "    def getRandom(self) -> int:\n",
        "        i = random.randint(0,len(self.data)-1)\n",
        "        return list(self.data)[i]\n",
        "\n",
        "randomizedSet = RandomizedSet()\n",
        "print(randomizedSet.insert(1))\n",
        "print(randomizedSet.remove(2))\n",
        "print(randomizedSet.insert(2))\n",
        "print(randomizedSet.getRandom())\n",
        "print(randomizedSet.remove(1))\n",
        "print(randomizedSet.insert(2))\n",
        "print(randomizedSet.getRandom())"
      ],
      "metadata": {
        "colab": {
          "base_uri": "https://localhost:8080/"
        },
        "id": "73u3UR3zXvr3",
        "outputId": "9f40335a-045f-4144-d269-35a6bcbdd51f"
      },
      "execution_count": 14,
      "outputs": [
        {
          "output_type": "stream",
          "name": "stdout",
          "text": [
            "True\n",
            "False\n",
            "True\n",
            "1\n",
            "True\n",
            "False\n",
            "2\n"
          ]
        }
      ]
    },
    {
      "cell_type": "code",
      "source": [
        "class Solution:\n",
        "    def productExceptSelf(self, nums: List[int]) -> List[int]:\n",
        "      total = 1\n",
        "      zeros = 0\n",
        "      for n in nums:\n",
        "        if n != 0:\n",
        "          total *= n\n",
        "        else:\n",
        "          zeros += 1\n",
        "        if zeros > 1: total = 0\n",
        "      print(total)\n",
        "      r = []\n",
        "      for n in nums:\n",
        "        if n == 0:\n",
        "          r.append(total)\n",
        "        elif zeros > 0:\n",
        "          r.append(0)\n",
        "        else:\n",
        "          r.append(int(total * n**-1))\n",
        "      return r\n",
        "\n",
        "nums = [1,2,3,4]\n",
        "s = Solution()\n",
        "s.productExceptSelf(nums)"
      ],
      "metadata": {
        "colab": {
          "base_uri": "https://localhost:8080/"
        },
        "id": "AgBdEqKcfbSq",
        "outputId": "3aeb49ee-a176-44d0-a41c-c25dd2ef16ea"
      },
      "execution_count": 15,
      "outputs": [
        {
          "output_type": "stream",
          "name": "stdout",
          "text": [
            "24\n"
          ]
        },
        {
          "output_type": "execute_result",
          "data": {
            "text/plain": [
              "[24, 12, 8, 6]"
            ]
          },
          "metadata": {},
          "execution_count": 15
        }
      ]
    },
    {
      "cell_type": "code",
      "source": [
        "class Solution:\n",
        "    def canCompleteCircuit(self, gas: List[int], cost: List[int]) -> int:\n",
        "      deltas = [g-c for g,c in zip(gas,cost)]\n",
        "      # print(deltas)\n",
        "      runningSum = 0\n",
        "      sums = []\n",
        "      minIdx = 0\n",
        "      minSum = 10**10\n",
        "      for i in range(len(deltas)):\n",
        "        runningSum += deltas[i]\n",
        "        sums.append(runningSum)\n",
        "        if runningSum <= minSum:\n",
        "          minIdx = i\n",
        "          minSum = runningSum\n",
        "      # print(sums)\n",
        "      if sums[-1] >= 0:\n",
        "        return((minIdx+1)%len(deltas))\n",
        "      else:\n",
        "        return -1\n",
        "\n",
        "gas = [11,4,7,1,0]\n",
        "cost = [2,5,5,9,1]\n",
        "s = Solution()\n",
        "s.canCompleteCircuit(gas,cost)"
      ],
      "metadata": {
        "colab": {
          "base_uri": "https://localhost:8080/"
        },
        "id": "5-3560khnoMJ",
        "outputId": "3cd3279b-491e-47df-f1d1-8219017dc7aa"
      },
      "execution_count": 16,
      "outputs": [
        {
          "output_type": "execute_result",
          "data": {
            "text/plain": [
              "0"
            ]
          },
          "metadata": {},
          "execution_count": 16
        }
      ]
    },
    {
      "cell_type": "code",
      "source": [
        "class Solution:\n",
        "    def candy(self, ratings: List[int]) -> int:\n",
        "      l = [0]\n",
        "      cur_run = 0\n",
        "      for i in range(len(ratings)-1):\n",
        "        if ratings[i]<ratings[i+1]:\n",
        "          cur_run += 1\n",
        "        else:\n",
        "          cur_run = 0\n",
        "        l.append(cur_run)\n",
        "      r = [0]\n",
        "      cur_run = 0\n",
        "      for i in range(len(ratings)-1,0,-1):\n",
        "        if ratings[i]<ratings[i-1]:\n",
        "          cur_run += 1\n",
        "        else:\n",
        "          cur_run = 0\n",
        "        r.append(cur_run)\n",
        "      r.reverse()\n",
        "      # print(l,r)\n",
        "      return sum([max(x,y) for x,y in zip(l,r)])+len(ratings)\n",
        "\n",
        "ratings = [1,3,2,2,1]\n",
        "s = Solution()\n",
        "s.candy(ratings)"
      ],
      "metadata": {
        "colab": {
          "base_uri": "https://localhost:8080/"
        },
        "id": "5d_fLs4vr6n0",
        "outputId": "1f94d707-31f1-45fe-b2d3-933a2a5d92fb"
      },
      "execution_count": 17,
      "outputs": [
        {
          "output_type": "execute_result",
          "data": {
            "text/plain": [
              "7"
            ]
          },
          "metadata": {},
          "execution_count": 17
        }
      ]
    },
    {
      "cell_type": "code",
      "source": [
        "class Solution:\n",
        "    def trap(self, height: List[int]) -> int:\n",
        "        total = 0\n",
        "        cliffs = []\n",
        "        for i in range(len(height)):\n",
        "            h = height[i]\n",
        "            next = height[i+1] if i<len(height)-1 else 0\n",
        "            # print(i, total, cliffs)\n",
        "            if h > next:\n",
        "                cliffs.append((h,next,i))\n",
        "            elif h < next:\n",
        "                new_cliffs = []\n",
        "                for c_h,c_n,c_i in cliffs:\n",
        "                    if next >= c_n:\n",
        "                      # print(\"adding\", (min(c_h,next)-c_n)*(i-c_i))\n",
        "                      total += (min(c_h,next)-c_n)*(i-c_i)\n",
        "                    if c_h > next:\n",
        "                      new_cliffs.append((c_h,max(next,c_n),c_i))\n",
        "                cliffs = new_cliffs\n",
        "            prev = h\n",
        "        return total\n",
        "\n",
        "height = [6,4,2,0,3,2,0,3,1,4,5,3,2,7,5,3,0,1,2,1,3,4,6,8,1,3]\n",
        "s = Solution()\n",
        "s.trap(height)"
      ],
      "metadata": {
        "colab": {
          "base_uri": "https://localhost:8080/"
        },
        "id": "OA7LoUgEFMT1",
        "outputId": "712c5a4b-be44-44a7-d7b2-abd636901501"
      },
      "execution_count": 18,
      "outputs": [
        {
          "output_type": "execute_result",
          "data": {
            "text/plain": [
              "83"
            ]
          },
          "metadata": {},
          "execution_count": 18
        }
      ]
    },
    {
      "cell_type": "code",
      "source": [
        "class Solution:\n",
        "    def romanToInt(self, s: str) -> int:\n",
        "      s2n = {\"I\":1, \"V\":5, \"X\":10, \"L\":50, \"C\":100, \"D\":500, \"M\":1000}\n",
        "      total = 0\n",
        "      i = 0\n",
        "      while i < len(s):\n",
        "        if i < len(s)-1 and s2n[s[i]] < s2n[s[i+1]]:\n",
        "          total += s2n[s[i+1]]-s2n[s[i]]\n",
        "          i += 1\n",
        "        else:\n",
        "          total += s2n[s[i]]\n",
        "        i += 1\n",
        "      return total\n",
        "\n",
        "s = Solution()\n",
        "s.romanToInt(\"LVIII\")"
      ],
      "metadata": {
        "colab": {
          "base_uri": "https://localhost:8080/"
        },
        "id": "hU4PGrg0ZQ0Y",
        "outputId": "275632bd-e893-4c55-e6a1-c95adf98de52"
      },
      "execution_count": 19,
      "outputs": [
        {
          "output_type": "execute_result",
          "data": {
            "text/plain": [
              "58"
            ]
          },
          "metadata": {},
          "execution_count": 19
        }
      ]
    },
    {
      "cell_type": "code",
      "source": [
        "class Solution:\n",
        "    def intToRoman(self, num: int) -> str:\n",
        "      n2s = {1: 'I', 5: 'V', 10: 'X', 50: 'L', 100: 'C', 500: 'D', 1000: 'M'}\n",
        "      result = \"\"\n",
        "      while num > 0:\n",
        "        p = int(str(num)[0])\n",
        "        if p == 4 or p == 9:\n",
        "          p += 1\n",
        "          num = int(str(p) + str(num)[1:])\n",
        "          n = max(x for x in n2s.keys() if x<=num)\n",
        "          result += n2s[n//p]\n",
        "          result += n2s[n]\n",
        "          num -= n\n",
        "        else:\n",
        "          n = max(x for x in n2s.keys() if x<=num)\n",
        "          result += n2s[n]\n",
        "          num -= n\n",
        "      return result\n",
        "\n",
        "s = Solution()\n",
        "s.intToRoman(1994)"
      ],
      "metadata": {
        "colab": {
          "base_uri": "https://localhost:8080/",
          "height": 35
        },
        "id": "pA8SGpWaadaj",
        "outputId": "0070efcf-7f73-455f-d5bc-fc71c9322b0c"
      },
      "execution_count": 20,
      "outputs": [
        {
          "output_type": "execute_result",
          "data": {
            "text/plain": [
              "'MCMXCIV'"
            ],
            "application/vnd.google.colaboratory.intrinsic+json": {
              "type": "string"
            }
          },
          "metadata": {},
          "execution_count": 20
        }
      ]
    },
    {
      "cell_type": "code",
      "source": [
        "class Solution:\n",
        "    def lengthOfLastWord(self, s: str) -> int:\n",
        "      return len(s.split()[-1])\n",
        "\n",
        "s = \"luffy is still joyboy\"\n",
        "Solution().lengthOfLastWord(s)"
      ],
      "metadata": {
        "colab": {
          "base_uri": "https://localhost:8080/"
        },
        "id": "w5FjH2-rrjbM",
        "outputId": "943eada4-db12-4d58-a8d5-18dac94c30ab"
      },
      "execution_count": 21,
      "outputs": [
        {
          "output_type": "execute_result",
          "data": {
            "text/plain": [
              "6"
            ]
          },
          "metadata": {},
          "execution_count": 21
        }
      ]
    },
    {
      "cell_type": "code",
      "source": [
        "class Solution:\n",
        "    def longestCommonPrefix(self, strs: List[str]) -> str:\n",
        "      i = 0\n",
        "      ret = \"\"\n",
        "      while i < len(strs[0]):\n",
        "        for s in strs[1:]:\n",
        "          if i >= len(s): break\n",
        "          if s[i] != strs[0][i]: break\n",
        "        else:\n",
        "          ret += strs[0][i]\n",
        "          i += 1\n",
        "          continue\n",
        "        break\n",
        "      return ret\n",
        "\n",
        "strs = [\"\"]\n",
        "Solution().longestCommonPrefix(strs)"
      ],
      "metadata": {
        "colab": {
          "base_uri": "https://localhost:8080/",
          "height": 35
        },
        "id": "ofRN4esJr6GU",
        "outputId": "54a96906-16b5-4255-8152-7050eddd12e9"
      },
      "execution_count": 22,
      "outputs": [
        {
          "output_type": "execute_result",
          "data": {
            "text/plain": [
              "''"
            ],
            "application/vnd.google.colaboratory.intrinsic+json": {
              "type": "string"
            }
          },
          "metadata": {},
          "execution_count": 22
        }
      ]
    },
    {
      "cell_type": "code",
      "source": [
        "class Solution:\n",
        "    def reverseWords(self, s: str) -> str:\n",
        "      return \" \".join(s.split()[::-1])\n",
        "\n",
        "s = \"the sky is blue\"\n",
        "Solution().reverseWords(s)"
      ],
      "metadata": {
        "colab": {
          "base_uri": "https://localhost:8080/",
          "height": 35
        },
        "id": "6ON4-yPJq4qv",
        "outputId": "1a1d0238-2fad-4cc7-92b3-3486d9da9ebb"
      },
      "execution_count": 23,
      "outputs": [
        {
          "output_type": "execute_result",
          "data": {
            "text/plain": [
              "'blue is sky the'"
            ],
            "application/vnd.google.colaboratory.intrinsic+json": {
              "type": "string"
            }
          },
          "metadata": {},
          "execution_count": 23
        }
      ]
    },
    {
      "cell_type": "code",
      "source": [
        "class Solution:\n",
        "    def convert(self, s: str, numRows: int) -> str:\n",
        "      r = \"\"\n",
        "      for i in range(numRows):\n",
        "        j = i\n",
        "        while j < len(s):\n",
        "          # print(j, s[j])\n",
        "          r += s[j]\n",
        "          diag = j+numRows*2-2-i*2\n",
        "          if i > 0 and i < numRows-1 and diag < len(s):\n",
        "            # print(i, \"diag:\",diag, s[diag])\n",
        "            r += s[diag]\n",
        "          j += numRows*2-2 if numRows > 1 else 1\n",
        "      return r\n",
        "\n",
        "s = \"A\"\n",
        "numRows = 1\n",
        "Solution().convert(s,numRows)"
      ],
      "metadata": {
        "colab": {
          "base_uri": "https://localhost:8080/",
          "height": 35
        },
        "id": "3pDGzp4OtWSX",
        "outputId": "4da34427-9da8-4cd8-cc01-747febb592e7"
      },
      "execution_count": 24,
      "outputs": [
        {
          "output_type": "execute_result",
          "data": {
            "text/plain": [
              "'A'"
            ],
            "application/vnd.google.colaboratory.intrinsic+json": {
              "type": "string"
            }
          },
          "metadata": {},
          "execution_count": 24
        }
      ]
    },
    {
      "cell_type": "code",
      "source": [
        "class Solution:\n",
        "    def strStr(self, haystack: str, needle: str) -> int:\n",
        "      for i in range(len(haystack)):\n",
        "        if haystack[i:i+len(needle)] == needle:\n",
        "          return i\n",
        "      return -1\n",
        "\n",
        "haystack = \"hello\"\n",
        "needle = \"ll\"\n",
        "Solution().strStr(haystack, needle)"
      ],
      "metadata": {
        "colab": {
          "base_uri": "https://localhost:8080/"
        },
        "id": "fAKd28b88ASM",
        "outputId": "d8cc8cbb-300f-4b50-d11d-5930576524f5"
      },
      "execution_count": 25,
      "outputs": [
        {
          "output_type": "execute_result",
          "data": {
            "text/plain": [
              "2"
            ]
          },
          "metadata": {},
          "execution_count": 25
        }
      ]
    },
    {
      "cell_type": "code",
      "source": [
        "import math\n",
        "class Solution:\n",
        "    def fullJustify(self, words: List[str], maxWidth: int) -> List[str]:\n",
        "      w = 0\n",
        "      result = []\n",
        "      while w < len(words):\n",
        "        l = 0\n",
        "        t = []\n",
        "        while w < len(words) and l+len(words[w]) < maxWidth+1:\n",
        "          t.append(words[w])\n",
        "          l += len(words[w])+1\n",
        "          w += 1\n",
        "        if w == len(words):\n",
        "          str = \" \".join(t)\n",
        "        else:\n",
        "          str = \"\"\n",
        "          spaces = maxWidth - sum(len(s) for s in t)\n",
        "          for i in range(len(t)):\n",
        "            if i != len(t)-1:\n",
        "              str += t[i]\n",
        "              toFill = (math.ceil(spaces / (len(t)-i-1)))\n",
        "              str += \" \" * toFill\n",
        "              spaces -= toFill\n",
        "            else:\n",
        "              str += t[i]\n",
        "        if len(str) < maxWidth:\n",
        "          str += \" \" * (maxWidth - len(str))\n",
        "        result.append(str)\n",
        "      return result\n",
        "\n",
        "# words = [\"This\", \"is\", \"an\", \"example\", \"of\", \"text\", \"justification.\"]\n",
        "# words = [\"What\",\"must\",\"be\",\"acknowledgment\",\"shall\",\"be\"]\n",
        "# words = [\"Science\",\"is\",\"what\",\"we\",\"understand\",\"well\",\"enough\",\"to\",\"explain\",\"to\",\"a\",\"computer.\",\"Art\",\"is\",\"everything\",\"else\",\"we\",\"do\"]\n",
        "words = [\"ask\",\"not\",\"what\",\"your\",\"country\",\"can\",\"do\",\"for\",\"you\",\"ask\",\"what\",\"you\",\"can\",\"do\",\"for\",\"your\",\"country\"]\n",
        "maxWidth = 16\n",
        "Solution().fullJustify(words, maxWidth)"
      ],
      "metadata": {
        "colab": {
          "base_uri": "https://localhost:8080/"
        },
        "id": "owvDGSMa9UcA",
        "outputId": "a94f45f2-b668-462e-d91b-92c8b1fd8ae9"
      },
      "execution_count": 26,
      "outputs": [
        {
          "output_type": "execute_result",
          "data": {
            "text/plain": [
              "['ask   not   what',\n",
              " 'your country can',\n",
              " 'do  for  you ask',\n",
              " 'what  you can do',\n",
              " 'for your country']"
            ]
          },
          "metadata": {},
          "execution_count": 26
        }
      ]
    },
    {
      "cell_type": "code",
      "source": [
        "class Solution:\n",
        "    def isPalindrome(self, s: str) -> bool:\n",
        "      s = [c.lower() for c in s if c.isalnum()]\n",
        "      for i in range(len(s)//2):\n",
        "        if s[i] != s[len(s)-1-i]: return False\n",
        "      return True\n",
        "\n",
        "# s = \"A man, a plan, a canal: Panama\"\n",
        "# s = \"race a car\"\n",
        "# s = \" \"\n",
        "s = \"0P\"\n",
        "Solution().isPalindrome(s)"
      ],
      "metadata": {
        "colab": {
          "base_uri": "https://localhost:8080/"
        },
        "id": "NWXi_yoSTd2V",
        "outputId": "2ce60fb5-9594-4236-cb79-377f4c56efce"
      },
      "execution_count": 27,
      "outputs": [
        {
          "output_type": "execute_result",
          "data": {
            "text/plain": [
              "False"
            ]
          },
          "metadata": {},
          "execution_count": 27
        }
      ]
    },
    {
      "cell_type": "code",
      "source": [
        "class Solution:\n",
        "    def isSubsequence(self, s: str, t: str) -> bool:\n",
        "      i = 0\n",
        "      for c in t:\n",
        "        if i < len(s) and c == s[i]:\n",
        "          i += 1\n",
        "      return i == len(s)\n",
        "\n",
        "s = \"ac\"\n",
        "t = \"asdf\"\n",
        "Solution().isSubsequence(s,t)"
      ],
      "metadata": {
        "colab": {
          "base_uri": "https://localhost:8080/"
        },
        "id": "xxYGwB-zVpvt",
        "outputId": "8e704a64-2d0f-481d-8339-bb9c1e09bc71"
      },
      "execution_count": 28,
      "outputs": [
        {
          "output_type": "execute_result",
          "data": {
            "text/plain": [
              "False"
            ]
          },
          "metadata": {},
          "execution_count": 28
        }
      ]
    },
    {
      "cell_type": "code",
      "source": [
        "class Solution:\n",
        "    def twoSum(self, numbers: List[int], target: int) -> List[int]:\n",
        "      p1,p2 = 0,len(numbers)-1\n",
        "      while True:\n",
        "        # print(p1,p2)\n",
        "        sum = numbers[p1]+numbers[p2]\n",
        "        if sum == target: return [p1+1,p2+1]\n",
        "        if sum > target: p2 -= 1\n",
        "        else: p1 += 1\n",
        "\n",
        "\n",
        "numbers = [5,25,75]\n",
        "target = 100\n",
        "Solution().twoSum(numbers,target)"
      ],
      "metadata": {
        "colab": {
          "base_uri": "https://localhost:8080/"
        },
        "id": "heDJ3BWBXM8a",
        "outputId": "8ddce37a-5e19-4100-f6f5-76e6e9d0fb68"
      },
      "execution_count": 29,
      "outputs": [
        {
          "output_type": "execute_result",
          "data": {
            "text/plain": [
              "[2, 3]"
            ]
          },
          "metadata": {},
          "execution_count": 29
        }
      ]
    },
    {
      "cell_type": "code",
      "source": [
        "class Solution:\n",
        "    def maxArea(self, height: List[int]) -> int:\n",
        "      p1,p2 = 0,len(height)-1\n",
        "      m = 0\n",
        "      while True:\n",
        "        if p1 == p2: return m\n",
        "        w = min(height[p1],height[p2])*(p2-p1)\n",
        "        # print(w, p1, p2)\n",
        "        m = max(m,w)\n",
        "        if height[p1] < height[p2]: p1 += 1\n",
        "        else: p2 -= 1\n",
        "\n",
        "height = [1,1]\n",
        "Solution().maxArea(height)"
      ],
      "metadata": {
        "colab": {
          "base_uri": "https://localhost:8080/"
        },
        "id": "W5cC4IzVfDmO",
        "outputId": "a2400da0-8cb8-420f-8c51-ffc6f0715f6e"
      },
      "execution_count": 30,
      "outputs": [
        {
          "output_type": "execute_result",
          "data": {
            "text/plain": [
              "1"
            ]
          },
          "metadata": {},
          "execution_count": 30
        }
      ]
    },
    {
      "cell_type": "code",
      "source": [
        "class Solution:\n",
        "    def threeSum(self, nums: List[int]) -> List[List[int]]:\n",
        "      nums.sort()\n",
        "      result = set()\n",
        "      for i in range(len(nums)-2):\n",
        "        if i > 0 and nums[i] == nums[i - 1]:\n",
        "            continue\n",
        "        j = i+1\n",
        "        k = len(nums)-1\n",
        "        while j != k:\n",
        "          # print(i,j,k)\n",
        "          sum = nums[i]+nums[j]+nums[k]\n",
        "          if sum == 0:\n",
        "            result.add(tuple(sorted([nums[i],nums[j],nums[k]])))\n",
        "            j += 1\n",
        "          elif sum > 0:\n",
        "            k -= 1\n",
        "          else:\n",
        "            j += 1\n",
        "      return [list(x) for x in result]\n",
        "\n",
        "nums = [-1,0,1,2,-1,-4]\n",
        "Solution().threeSum(nums)"
      ],
      "metadata": {
        "colab": {
          "base_uri": "https://localhost:8080/"
        },
        "id": "f0aPdQBK7O8M",
        "outputId": "fb6ef40b-44ad-48d1-e5c4-65c0a564af18"
      },
      "execution_count": 31,
      "outputs": [
        {
          "output_type": "execute_result",
          "data": {
            "text/plain": [
              "[[-1, 0, 1], [-1, -1, 2]]"
            ]
          },
          "metadata": {},
          "execution_count": 31
        }
      ]
    },
    {
      "cell_type": "code",
      "source": [
        "class Solution:\n",
        "    def minSubArrayLen(self, target: int, nums: List[int]) -> int:\n",
        "      sum = 0\n",
        "      p = 0\n",
        "      result = 0\n",
        "      for i in range(len(nums)):\n",
        "        sum += nums[i]\n",
        "        while p<i and sum-nums[p] >= target:\n",
        "          sum -= nums[p]\n",
        "          p += 1\n",
        "        if sum >= target and (result == 0 or i-p+1 < result):\n",
        "          result = i-p+1\n",
        "      return result\n",
        "\n",
        "target = 11\n",
        "nums = [1,1,1,1,1,1,1,1]\n",
        "Solution().minSubArrayLen(target, nums)"
      ],
      "metadata": {
        "colab": {
          "base_uri": "https://localhost:8080/"
        },
        "id": "-G4a_Cd__0PB",
        "outputId": "b788208a-8812-40bf-f05f-c4f990d289d4"
      },
      "execution_count": 32,
      "outputs": [
        {
          "output_type": "execute_result",
          "data": {
            "text/plain": [
              "0"
            ]
          },
          "metadata": {},
          "execution_count": 32
        }
      ]
    },
    {
      "cell_type": "code",
      "source": [
        "class Solution:\n",
        "    def lengthOfLongestSubstring(self, s: str) -> int:\n",
        "      p = 0\n",
        "      ret = \"\"\n",
        "      for i in range(len(s)):\n",
        "        # print(i,p,ret)\n",
        "        if s[i] not in s[p:i]:\n",
        "          tmp = s[p:i+1]\n",
        "          if len(tmp) > len(ret):\n",
        "            ret = tmp\n",
        "        else:\n",
        "          p = i-1\n",
        "          while s[i] != s[p]:\n",
        "            p -= 1\n",
        "          p += 1\n",
        "      return len(ret)\n",
        "      # return ret\n",
        "\n",
        "s = \"pwwkew\"\n",
        "Solution().lengthOfLongestSubstring(s)"
      ],
      "metadata": {
        "colab": {
          "base_uri": "https://localhost:8080/"
        },
        "id": "8AmT8omCor9b",
        "outputId": "2ee843bd-0490-4cb3-908f-2f4754d06a2f"
      },
      "execution_count": 33,
      "outputs": [
        {
          "output_type": "execute_result",
          "data": {
            "text/plain": [
              "3"
            ]
          },
          "metadata": {},
          "execution_count": 33
        }
      ]
    },
    {
      "cell_type": "code",
      "source": [
        "from functools import lru_cache\n",
        "class Solution:\n",
        "    def findSubstring(self, s: str, words: List[str]) -> List[int]:\n",
        "      @lru_cache\n",
        "      def isConcatString(s,words):\n",
        "        words = list(words)\n",
        "        # print(s,words)\n",
        "        while len(s) > 0 and len(words) > 0:\n",
        "          l = len(words[0])\n",
        "          w = s[:l]\n",
        "          if w not in words: return False\n",
        "          s = s[l:]\n",
        "          words.remove(w)\n",
        "        return len(s) == 0 and len(words) == 0\n",
        "\n",
        "      ret = []\n",
        "      l = sum(len(x) for x in words)\n",
        "      for i in range(len(s)-l+1):\n",
        "        if isConcatString(s[i:i+l], tuple(words)):\n",
        "          ret.append(i)\n",
        "      return ret\n",
        "\n",
        "s = \"barfoofoobarthefoobarman\"\n",
        "words = [\"bar\",\"foo\",\"the\"]\n",
        "Solution().findSubstring(s,words)"
      ],
      "metadata": {
        "colab": {
          "base_uri": "https://localhost:8080/"
        },
        "id": "7CCxIe-Wt6uL",
        "outputId": "5de8e650-bbb5-4b54-f2e0-3447371a4922"
      },
      "execution_count": 34,
      "outputs": [
        {
          "output_type": "execute_result",
          "data": {
            "text/plain": [
              "[6, 9, 12]"
            ]
          },
          "metadata": {},
          "execution_count": 34
        }
      ]
    },
    {
      "cell_type": "code",
      "source": [
        "from collections import Counter\n",
        "class Solution:\n",
        "    def minWindow(self, s: str, t: str) -> str:\n",
        "      sc = Counter(s)\n",
        "      tc = Counter(t)\n",
        "      for c in tc.keys():\n",
        "        if sc[c] < tc[c]: return \"\"\n",
        "      p = len(s)-1\n",
        "      while True:\n",
        "        c = s[p]\n",
        "        if c in tc and sc[c] == tc[c]: break\n",
        "        sc[c] -= 1\n",
        "        p -= 1\n",
        "      res = s[:p+1]\n",
        "      for i in range(len(s)):\n",
        "        c = s[i]\n",
        "        sc[c] -= 1\n",
        "        # print(i,res,c,s[i+1:p+1],sc)\n",
        "        if c in tc and sc[c] < tc[c]:\n",
        "          for j in range(p+1,len(s)):\n",
        "            sc[s[j]] += 1\n",
        "            if s[j] == c:\n",
        "              p = j\n",
        "              break\n",
        "          else:\n",
        "            return res\n",
        "        if p-i < len(res): res = s[i+1:p+1]\n",
        "      return res\n",
        "\n",
        "s = \"cabwefgewcwaefgcf\"\n",
        "t = \"cae\"\n",
        "Solution().minWindow(s,t)"
      ],
      "metadata": {
        "colab": {
          "base_uri": "https://localhost:8080/",
          "height": 35
        },
        "id": "J2syzJExFVSa",
        "outputId": "f6deba97-fa1b-43c7-ac7f-731ded080ca2"
      },
      "execution_count": 35,
      "outputs": [
        {
          "output_type": "execute_result",
          "data": {
            "text/plain": [
              "'cwae'"
            ],
            "application/vnd.google.colaboratory.intrinsic+json": {
              "type": "string"
            }
          },
          "metadata": {},
          "execution_count": 35
        }
      ]
    },
    {
      "cell_type": "code",
      "source": [
        "from pprint import pprint\n",
        "class Solution:\n",
        "    def isValidSudoku(self, board: List[List[str]]) -> bool:\n",
        "      for i in range(9):\n",
        "        seen = set()\n",
        "        for j in range(9):\n",
        "          c = board[i][j]\n",
        "          if c != \".\":\n",
        "            if c in seen: return False\n",
        "            seen.add(c)\n",
        "      for i in range(9):\n",
        "        seen = set()\n",
        "        for j in range(9):\n",
        "          c = board[j][i]\n",
        "          if c != \".\":\n",
        "            if c in seen: return False\n",
        "            seen.add(c)\n",
        "      for i in range(9):\n",
        "        seen = set()\n",
        "        row,col = (i//3)*3,(i%3)*3\n",
        "        for j in range(3):\n",
        "          for k in range(3):\n",
        "            c = board[row+j][col+k]\n",
        "            if c != \".\":\n",
        "              if c in seen: return False\n",
        "              seen.add(c)\n",
        "      return True\n",
        "\n",
        "board = [[\".\",\".\",\".\",\".\",\"5\",\".\",\".\",\"1\",\".\"],[\".\",\"4\",\".\",\"3\",\".\",\".\",\".\",\".\",\".\"],[\".\",\".\",\".\",\".\",\".\",\"3\",\".\",\".\",\"1\"],[\"8\",\".\",\".\",\".\",\".\",\".\",\".\",\"2\",\".\"],[\".\",\".\",\"2\",\".\",\"7\",\".\",\".\",\".\",\".\"],[\".\",\"1\",\"5\",\".\",\".\",\".\",\".\",\".\",\".\"],[\".\",\".\",\".\",\".\",\".\",\"2\",\".\",\".\",\".\"],[\".\",\"2\",\".\",\"9\",\".\",\".\",\".\",\".\",\".\"],[\".\",\".\",\"4\",\".\",\".\",\".\",\".\",\".\",\".\"]]\n",
        "pprint(board)\n",
        "Solution().isValidSudoku(board)"
      ],
      "metadata": {
        "colab": {
          "base_uri": "https://localhost:8080/"
        },
        "id": "8x3JTVZri4tc",
        "outputId": "39f8c558-a158-4ba8-cafe-c957eb0b202a"
      },
      "execution_count": 36,
      "outputs": [
        {
          "output_type": "stream",
          "name": "stdout",
          "text": [
            "[['.', '.', '.', '.', '5', '.', '.', '1', '.'],\n",
            " ['.', '4', '.', '3', '.', '.', '.', '.', '.'],\n",
            " ['.', '.', '.', '.', '.', '3', '.', '.', '1'],\n",
            " ['8', '.', '.', '.', '.', '.', '.', '2', '.'],\n",
            " ['.', '.', '2', '.', '7', '.', '.', '.', '.'],\n",
            " ['.', '1', '5', '.', '.', '.', '.', '.', '.'],\n",
            " ['.', '.', '.', '.', '.', '2', '.', '.', '.'],\n",
            " ['.', '2', '.', '9', '.', '.', '.', '.', '.'],\n",
            " ['.', '.', '4', '.', '.', '.', '.', '.', '.']]\n"
          ]
        },
        {
          "output_type": "execute_result",
          "data": {
            "text/plain": [
              "False"
            ]
          },
          "metadata": {},
          "execution_count": 36
        }
      ]
    },
    {
      "cell_type": "code",
      "source": [
        "class Solution:\n",
        "    def spiralOrder(self, matrix: List[List[int]]) -> List[int]:\n",
        "      r,c = 0,0\n",
        "      w,h = len(matrix[0]),len(matrix)\n",
        "      dr,dc = 0,1\n",
        "      br,bc = [1,h-1],[0,w-1]\n",
        "      n = 0\n",
        "      res = []\n",
        "      while n < w*h:\n",
        "        # print(r,c,br,bc)\n",
        "        val = matrix[r][c]\n",
        "        res.append(val)\n",
        "        n += 1\n",
        "        if dr == 1 and r == br[1]:\n",
        "          dr,dc = 0,-1\n",
        "          br[1] -= 1\n",
        "        elif dr == -1 and r == br[0]:\n",
        "          dr,dc = 0,1\n",
        "          br[0] += 1\n",
        "        elif dc == 1 and c == bc[1]:\n",
        "          dr,dc = 1,0\n",
        "          bc[1] -= 1\n",
        "        elif dc == -1 and c == bc[0]:\n",
        "          dr,dc = -1,0\n",
        "          bc[0] += 1\n",
        "        r,c, = r+dr,c+dc\n",
        "      return res\n",
        "\n",
        "matrix = [[1,2,3,4],[5,6,7,8],[9,10,11,12]]\n",
        "Solution().spiralOrder(matrix)"
      ],
      "metadata": {
        "colab": {
          "base_uri": "https://localhost:8080/"
        },
        "id": "QDjkFZu4m1_s",
        "outputId": "73b5e93b-c667-4040-b40a-71e4c2415f72"
      },
      "execution_count": 37,
      "outputs": [
        {
          "output_type": "execute_result",
          "data": {
            "text/plain": [
              "[1, 2, 3, 4, 8, 12, 11, 10, 9, 5, 6, 7]"
            ]
          },
          "metadata": {},
          "execution_count": 37
        }
      ]
    },
    {
      "cell_type": "code",
      "source": [
        "class Solution:\n",
        "    def rotate(self, matrix: List[List[int]]) -> None:\n",
        "      w = len(matrix)\n",
        "      for r in range(w//2):\n",
        "        n = w-2*r-1\n",
        "        for i in range(n):\n",
        "          # print(r,i,n,matrix)\n",
        "          t = matrix[r][r+i]\n",
        "          matrix[r][r+i] = matrix[r+n-i][r]\n",
        "          matrix[r+n-i][r] = matrix[r+n][r+n-i]\n",
        "          matrix[r+n][r+n-i] = matrix[r+i][r+n]\n",
        "          matrix[r+i][r+n] = t\n",
        "      return matrix\n",
        "\n",
        "matrix = [[5,1,9,11],[2,4,8,10],[13,3,6,7],[15,14,12,16]]\n",
        "Solution().rotate(matrix)"
      ],
      "metadata": {
        "colab": {
          "base_uri": "https://localhost:8080/"
        },
        "id": "h0qBNf81ufKJ",
        "outputId": "36b7bd80-0d10-4fcd-95e7-5c830811907c"
      },
      "execution_count": 38,
      "outputs": [
        {
          "output_type": "execute_result",
          "data": {
            "text/plain": [
              "[[15, 13, 2, 5], [14, 3, 4, 1], [12, 6, 8, 9], [16, 7, 10, 11]]"
            ]
          },
          "metadata": {},
          "execution_count": 38
        }
      ]
    },
    {
      "cell_type": "code",
      "source": [
        "class Solution:\n",
        "    def setZeroes(self, matrix: List[List[int]]) -> None:\n",
        "      rows,cols = len(matrix),len(matrix[0])\n",
        "      for r in range(rows):\n",
        "        for c in range(cols):\n",
        "          if matrix[r][c] == 0:\n",
        "            for i in range(rows):\n",
        "              if matrix[i][c] != 0:\n",
        "                matrix[i][c] = None\n",
        "            for i in range(cols):\n",
        "              if matrix[r][i] != 0:\n",
        "                matrix[r][i] = None\n",
        "      for r in range(rows):\n",
        "        for c in range(cols):\n",
        "          if matrix[r][c] == None:\n",
        "            matrix[r][c] = 0\n",
        "      return matrix\n",
        "\n",
        "matrix = [[0,1,2,0],[3,4,5,2],[1,3,1,5]]\n",
        "Solution().setZeroes(matrix)"
      ],
      "metadata": {
        "colab": {
          "base_uri": "https://localhost:8080/"
        },
        "id": "snFTJ8jt4ErJ",
        "outputId": "d15e9ced-543d-4638-f962-7d4abb31b82b"
      },
      "execution_count": 39,
      "outputs": [
        {
          "output_type": "execute_result",
          "data": {
            "text/plain": [
              "[[0, 0, 0, 0], [0, 4, 5, 0], [0, 3, 1, 0]]"
            ]
          },
          "metadata": {},
          "execution_count": 39
        }
      ]
    },
    {
      "cell_type": "code",
      "source": [
        "import copy\n",
        "class Solution:\n",
        "    def gameOfLife(self, board: List[List[int]]) -> None:\n",
        "      rows,cols = len(board),len(board[0])\n",
        "      orig = copy.deepcopy(board)\n",
        "      def count(row,col):\n",
        "        ret = 0\n",
        "        for r in range(max(0,row-1),min(rows-1,row+1)+1):\n",
        "          for c in range(max(0,col-1),min(cols-1,col+1)+1):\n",
        "            if r == row and c == col: continue\n",
        "            ret += orig[r][c]\n",
        "        return ret\n",
        "      for r in range(rows):\n",
        "        for c in range(cols):\n",
        "          if orig[r][c] == 1:\n",
        "            pop = count(r,c)\n",
        "            board[r][c] = int(pop == 2 or pop == 3)\n",
        "          else:\n",
        "            board[r][c] = int(count(r,c) == 3)\n",
        "\n",
        "board = [[0,1,0],[0,0,1],[1,1,1],[0,0,0]]\n",
        "Solution().gameOfLife(board)\n",
        "board"
      ],
      "metadata": {
        "colab": {
          "base_uri": "https://localhost:8080/"
        },
        "id": "SADBF-uE7lXB",
        "outputId": "3e7dd82a-7869-4df2-b767-677e2ee2ea11"
      },
      "execution_count": 40,
      "outputs": [
        {
          "output_type": "execute_result",
          "data": {
            "text/plain": [
              "[[0, 0, 0], [1, 0, 1], [0, 1, 1], [0, 1, 0]]"
            ]
          },
          "metadata": {},
          "execution_count": 40
        }
      ]
    },
    {
      "cell_type": "code",
      "source": [
        "from collections import Counter\n",
        "class Solution:\n",
        "    def canConstruct(self, ransomNote: str, magazine: str) -> bool:\n",
        "      rc = Counter(ransomNote)\n",
        "      mc = Counter(magazine)\n",
        "      for c in rc.keys():\n",
        "        if rc[c] > mc[c]: return False\n",
        "      return True\n",
        "\n",
        "ransomNote = \"aa\"\n",
        "magazine = \"aab\"\n",
        "Solution().canConstruct(ransomNote, magazine)"
      ],
      "metadata": {
        "colab": {
          "base_uri": "https://localhost:8080/"
        },
        "id": "uC7YHP8OBEsG",
        "outputId": "9c297668-20bb-43d4-8c72-a79d71d5f8ed"
      },
      "execution_count": 41,
      "outputs": [
        {
          "output_type": "execute_result",
          "data": {
            "text/plain": [
              "True"
            ]
          },
          "metadata": {},
          "execution_count": 41
        }
      ]
    },
    {
      "cell_type": "code",
      "source": [
        "class Solution:\n",
        "    def isIsomorphic(self, s: str, t: str) -> bool:\n",
        "      def convert(s):\n",
        "        i = 0\n",
        "        d = {}\n",
        "        res = []\n",
        "        for c in s:\n",
        "          if c not in d:\n",
        "            d[c] = i\n",
        "            i += 1\n",
        "          res.append(d[c])\n",
        "        return res\n",
        "      return convert(s) == convert(t)\n",
        "\n",
        "s = \"egg\"\n",
        "t = \"add\"\n",
        "Solution().isIsomorphic(s,t)"
      ],
      "metadata": {
        "colab": {
          "base_uri": "https://localhost:8080/"
        },
        "id": "YsX_8XHMLpwH",
        "outputId": "051bcc96-8cc6-4f88-c197-8b8412dd4122"
      },
      "execution_count": 42,
      "outputs": [
        {
          "output_type": "execute_result",
          "data": {
            "text/plain": [
              "True"
            ]
          },
          "metadata": {},
          "execution_count": 42
        }
      ]
    },
    {
      "cell_type": "code",
      "source": [
        "class Solution:\n",
        "    def wordPattern(self, pattern: str, s: str) -> bool:\n",
        "      words = s.split()\n",
        "      d = {}\n",
        "      rd = {}\n",
        "      if len(pattern) != len(words): return False\n",
        "      for i in range(len(pattern)):\n",
        "        if pattern[i] not in d and words[i] not in rd:\n",
        "          d[pattern[i]] = words[i]\n",
        "          rd[words[i]] = pattern[i]\n",
        "        else:\n",
        "          if pattern[i] in d and d[pattern[i]] != words[i]: return False\n",
        "          if words[i] in rd and rd[words[i]] != pattern[i]: return False\n",
        "      return True\n",
        "\n",
        "pattern = \"aaa\"\n",
        "s = \"aa aa aa aa\"\n",
        "Solution().wordPattern(pattern, s)"
      ],
      "metadata": {
        "colab": {
          "base_uri": "https://localhost:8080/"
        },
        "id": "kyXm4yiXOdUh",
        "outputId": "38b760e8-4e20-469e-ccba-6385064526bb"
      },
      "execution_count": 43,
      "outputs": [
        {
          "output_type": "execute_result",
          "data": {
            "text/plain": [
              "False"
            ]
          },
          "metadata": {},
          "execution_count": 43
        }
      ]
    },
    {
      "cell_type": "code",
      "source": [
        "from collections import Counter\n",
        "class Solution:\n",
        "    def isAnagram(self, s: str, t: str) -> bool:\n",
        "      return Counter(s) == Counter(t)\n",
        "\n",
        "s = \"rat\"\n",
        "t = \"car\"\n",
        "Solution().isAnagram(s,t)"
      ],
      "metadata": {
        "colab": {
          "base_uri": "https://localhost:8080/"
        },
        "id": "MQNFLaX_RkWw",
        "outputId": "19254ade-98b0-405f-8f47-3e72e22ac9c8"
      },
      "execution_count": 44,
      "outputs": [
        {
          "output_type": "execute_result",
          "data": {
            "text/plain": [
              "False"
            ]
          },
          "metadata": {},
          "execution_count": 44
        }
      ]
    },
    {
      "cell_type": "code",
      "source": [
        "class Solution:\n",
        "    def groupAnagrams(self, strs: List[str]) -> List[List[str]]:\n",
        "      d = {}\n",
        "      for s in strs:\n",
        "        tmp = tuple(sorted(s))\n",
        "        if tmp in d:\n",
        "          d[tmp].append(s)\n",
        "        else:\n",
        "          d[tmp] = [s]\n",
        "      return list([list(x) for x in d.values()])\n",
        "\n",
        "strs = [\"ddddddddddg\",\"dgggggggggg\"]\n",
        "Solution().groupAnagrams(strs)"
      ],
      "metadata": {
        "colab": {
          "base_uri": "https://localhost:8080/"
        },
        "id": "Siynq_PZSU83",
        "outputId": "1718acb3-8960-44be-e6fe-a6d0e3c2eafe"
      },
      "execution_count": 45,
      "outputs": [
        {
          "output_type": "execute_result",
          "data": {
            "text/plain": [
              "[['ddddddddddg'], ['dgggggggggg']]"
            ]
          },
          "metadata": {},
          "execution_count": 45
        }
      ]
    },
    {
      "cell_type": "code",
      "source": [
        "class Solution:\n",
        "    def twoSum(self, nums: List[int], target: int) -> List[int]:\n",
        "      d = {nums[i]:i for i in range(len(nums))}\n",
        "      for i in range(len(nums)):\n",
        "        t = target-nums[i]\n",
        "        if t in d and d[t] != i: return [i,d[t]]\n",
        "\n",
        "nums = [3,3]\n",
        "target = 6\n",
        "Solution().twoSum(nums, target)"
      ],
      "metadata": {
        "colab": {
          "base_uri": "https://localhost:8080/"
        },
        "id": "xv14RgqDVwqY",
        "outputId": "bd910d6a-259a-484e-e08f-d046454a1c42"
      },
      "execution_count": 46,
      "outputs": [
        {
          "output_type": "execute_result",
          "data": {
            "text/plain": [
              "[0, 1]"
            ]
          },
          "metadata": {},
          "execution_count": 46
        }
      ]
    },
    {
      "cell_type": "code",
      "source": [
        "class Solution:\n",
        "    def isHappy(self, n: int) -> bool:\n",
        "      seen = set()\n",
        "      while True:\n",
        "        n = sum([int(x)**2 for x in str(n)])\n",
        "        if n == 1: return True\n",
        "        if n in seen: return False\n",
        "        seen.add(n)\n",
        "\n",
        "n = 2\n",
        "Solution().isHappy(n)"
      ],
      "metadata": {
        "colab": {
          "base_uri": "https://localhost:8080/"
        },
        "id": "j6aGRsdlXve7",
        "outputId": "2c9f604f-3507-4e01-b867-cd6f31686ae4"
      },
      "execution_count": 47,
      "outputs": [
        {
          "output_type": "execute_result",
          "data": {
            "text/plain": [
              "False"
            ]
          },
          "metadata": {},
          "execution_count": 47
        }
      ]
    },
    {
      "cell_type": "code",
      "source": [
        "class Solution:\n",
        "    def containsNearbyDuplicate(self, nums: List[int], k: int) -> bool:\n",
        "      d = {}\n",
        "      for i in range(len(nums)):\n",
        "        # print(d)\n",
        "        if nums[i] in d:\n",
        "          for idx in d[nums[i]]:\n",
        "            if abs(idx-i) <= k: return True\n",
        "        d[nums[i]] = d.get(nums[i],[]) + [i]\n",
        "      return False\n",
        "\n",
        "nums = [1,2,3,1,2,3]\n",
        "k = 2\n",
        "Solution().containsNearbyDuplicate(nums,k)"
      ],
      "metadata": {
        "colab": {
          "base_uri": "https://localhost:8080/"
        },
        "id": "tWkKhS7uY0uW",
        "outputId": "d43b61ce-184d-42cb-b17f-ae97017a377a"
      },
      "execution_count": 48,
      "outputs": [
        {
          "output_type": "execute_result",
          "data": {
            "text/plain": [
              "False"
            ]
          },
          "metadata": {},
          "execution_count": 48
        }
      ]
    },
    {
      "cell_type": "code",
      "source": [
        "class Solution:\n",
        "    def longestConsecutive(self, nums: List[int]) -> int:\n",
        "      f = {}\n",
        "      b = {}\n",
        "      for n in nums:\n",
        "        if n in f: continue\n",
        "\n",
        "        if n+1 in f:\n",
        "          f[n] = f[n+1]+1\n",
        "        else:\n",
        "          f[n] = 0\n",
        "        if n-1 in b:\n",
        "          b[n] = b[n-1]+1\n",
        "        else:\n",
        "          b[n] = 0\n",
        "\n",
        "        if f[n] != 0:\n",
        "          b[n+f[n]] = b[n]+f[n]\n",
        "        if b[n] != 0:\n",
        "          f[n-b[n]] = f[n]+b[n]\n",
        "        # print(n,f,b)\n",
        "\n",
        "      if len(nums) == 0: return 0\n",
        "      return max(f.values())+1\n",
        "\n",
        "nums = [-6,-9,8,-8,-1,-3,-6,8,-9,-1,-4,-8,-5,0,1,6,-8,-5,-7,8,-2,-8,4,5,-5,-1,-5]\n",
        "Solution().longestConsecutive(nums)"
      ],
      "metadata": {
        "id": "jraT5Lk0xYZm",
        "colab": {
          "base_uri": "https://localhost:8080/"
        },
        "outputId": "76d60f1c-4e97-462d-ed51-9c5b7a7ecaab"
      },
      "execution_count": 49,
      "outputs": [
        {
          "output_type": "execute_result",
          "data": {
            "text/plain": [
              "11"
            ]
          },
          "metadata": {},
          "execution_count": 49
        }
      ]
    },
    {
      "cell_type": "code",
      "source": [
        "class Solution:\n",
        "    def summaryRanges(self, nums: List[int]) -> List[str]:\n",
        "      ranges = []\n",
        "      for n in nums:\n",
        "        new_ranges = []\n",
        "        found = False\n",
        "        for range in ranges:\n",
        "          if n == range[0]-1:\n",
        "            found = True\n",
        "            range[0] = n\n",
        "          if n == range[1]+1:\n",
        "            found = True\n",
        "            range[1] = n\n",
        "          new_ranges.append(range)\n",
        "        if not found:\n",
        "          new_ranges.append([n,n])\n",
        "        ranges = new_ranges\n",
        "      res = []\n",
        "      for range in ranges:\n",
        "        if range[0] == range[1]:\n",
        "          res.append(str(range[0]))\n",
        "        else:\n",
        "          res.append(f\"{range[0]}->{range[1]}\")\n",
        "      return res\n",
        "\n",
        "nums = [0,2,3,4,6,8,9]\n",
        "Solution().summaryRanges(nums)"
      ],
      "metadata": {
        "colab": {
          "base_uri": "https://localhost:8080/"
        },
        "id": "JcNCiGOH9wc_",
        "outputId": "55c8ed1b-0f7d-4164-e827-a1a51a643304"
      },
      "execution_count": 50,
      "outputs": [
        {
          "output_type": "execute_result",
          "data": {
            "text/plain": [
              "['0', '2->4', '6', '8->9']"
            ]
          },
          "metadata": {},
          "execution_count": 50
        }
      ]
    },
    {
      "cell_type": "code",
      "source": [
        "class Solution:\n",
        "    def merge(self, intervals: List[List[int]]) -> List[List[int]]:\n",
        "      res = []\n",
        "      for r1 in intervals:\n",
        "        new_res = []\n",
        "        for r2 in res:\n",
        "          if r2[0] <= r1[1] and r2[1] >= r1[0]:\n",
        "            r1 = [min(r1[0],r2[0]),max(r1[1],r2[1])]\n",
        "          else:\n",
        "            new_res.append(r2)\n",
        "        new_res.append(r1)\n",
        "        res = new_res\n",
        "        # print(res)\n",
        "      return res\n",
        "\n",
        "intervals = [[1,4],[4,5]]\n",
        "Solution().merge(intervals)"
      ],
      "metadata": {
        "colab": {
          "base_uri": "https://localhost:8080/"
        },
        "id": "MlXa6kwLAK0n",
        "outputId": "230e308f-cdb2-4ef8-d2f2-11f8fcb5d928"
      },
      "execution_count": 51,
      "outputs": [
        {
          "output_type": "execute_result",
          "data": {
            "text/plain": [
              "[[1, 5]]"
            ]
          },
          "metadata": {},
          "execution_count": 51
        }
      ]
    },
    {
      "cell_type": "code",
      "source": [
        "class Solution:\n",
        "    def insert(self, intervals: List[List[int]], newInterval: List[int]) -> List[List[int]]:\n",
        "      res = []\n",
        "      r1 = newInterval\n",
        "      for i in range(len(intervals)):\n",
        "        r2 = intervals[i]\n",
        "        if r1 and r2[0] <= r1[1] and r2[1] >= r1[0]:\n",
        "          r1 = [min(r1[0],r2[0]),max(r1[1],r2[1])]\n",
        "        else:\n",
        "          if r1 and r1[1] < r2[0]:\n",
        "            res.append(r1)\n",
        "            r1 = None\n",
        "          res.append(r2)\n",
        "          if r1 and i == len(intervals)-1 and r1[0] > r2[1]:\n",
        "            res.append(r1)\n",
        "            r1 = None\n",
        "      if r1: res.append(r1)\n",
        "      return res\n",
        "\n",
        "intervals = [[2,5],[6,7],[8,9]]\n",
        "newInterval = [0,1]\n",
        "Solution().insert(intervals, newInterval)"
      ],
      "metadata": {
        "colab": {
          "base_uri": "https://localhost:8080/"
        },
        "id": "Jq92TUQMkwCQ",
        "outputId": "11def9c2-22a7-4223-99d7-c1d973b0ea17"
      },
      "execution_count": 52,
      "outputs": [
        {
          "output_type": "execute_result",
          "data": {
            "text/plain": [
              "[[0, 1], [2, 5], [6, 7], [8, 9]]"
            ]
          },
          "metadata": {},
          "execution_count": 52
        }
      ]
    },
    {
      "cell_type": "code",
      "source": [
        "class Solution:\n",
        "    def findMinArrowShots(self, points: List[List[int]]) -> int:\n",
        "      points.sort()\n",
        "      res = []\n",
        "      r1 = points[0]\n",
        "      for r2 in points:\n",
        "        # print(r1, r2, res)\n",
        "        if r1 and r2[0] <= r1[1] and r2[1] >= r1[0]:\n",
        "          r1 = [max(r1[0],r2[0]),min(r1[1],r2[1])]\n",
        "        else:\n",
        "          if r1:\n",
        "            res.append(r1)\n",
        "            r1 = None\n",
        "          r1 = r2\n",
        "      if r1:\n",
        "        res.append(r1)\n",
        "      return len(res)\n",
        "\n",
        "points = [[3,9],[7,12],[3,8],[6,8],[9,10],[2,9],[0,9],[3,9],[0,6],[2,8]]\n",
        "Solution().findMinArrowShots(points)"
      ],
      "metadata": {
        "colab": {
          "base_uri": "https://localhost:8080/"
        },
        "id": "JYEiHJuzsS8s",
        "outputId": "a7243870-f706-4936-b2d3-8dc06597658d"
      },
      "execution_count": 53,
      "outputs": [
        {
          "output_type": "execute_result",
          "data": {
            "text/plain": [
              "2"
            ]
          },
          "metadata": {},
          "execution_count": 53
        }
      ]
    },
    {
      "cell_type": "code",
      "source": [
        "class Solution:\n",
        "    def isValid(self, s: str) -> bool:\n",
        "      q = []\n",
        "      for c in s:\n",
        "        if c == \"(\": q.append(c)\n",
        "        if c == \")\" and (len(q) == 0 or q.pop() != \"(\"): return False\n",
        "        if c == \"[\": q.append(c)\n",
        "        if c == \"]\" and (len(q) == 0 or q.pop() != \"[\"): return False\n",
        "        if c == \"{\": q.append(c)\n",
        "        if c == \"}\" and (len(q) == 0 or q.pop() != \"{\"): return False\n",
        "      return len(q)==0\n",
        "\n",
        "s = \"[]{}\"\n",
        "Solution().isValid(s)"
      ],
      "metadata": {
        "colab": {
          "base_uri": "https://localhost:8080/"
        },
        "id": "XisnSU6P1BGg",
        "outputId": "5e47e7f6-df78-4502-f16c-95cb2e2cfa64"
      },
      "execution_count": 54,
      "outputs": [
        {
          "output_type": "execute_result",
          "data": {
            "text/plain": [
              "True"
            ]
          },
          "metadata": {},
          "execution_count": 54
        }
      ]
    },
    {
      "cell_type": "code",
      "source": [
        "class Solution:\n",
        "    def simplifyPath(self, path: str) -> str:\n",
        "      res = []\n",
        "      prevSlash = 0\n",
        "      for s in path.split(\"/\"):\n",
        "        if s != \"\" and s != \".\":\n",
        "          if s == \"..\":\n",
        "            if len(res) > 0: res.pop()\n",
        "          else:\n",
        "            res.append(s)\n",
        "      return \"/\" + \"/\".join(res)\n",
        "\n",
        "path =  \"/.../a/../b/c/../d/./\"\n",
        "Solution().simplifyPath(path)"
      ],
      "metadata": {
        "colab": {
          "base_uri": "https://localhost:8080/",
          "height": 35
        },
        "id": "LPHLEUPYHW1w",
        "outputId": "4f390738-56a4-42c4-9ff8-586b2604b28c"
      },
      "execution_count": 55,
      "outputs": [
        {
          "output_type": "execute_result",
          "data": {
            "text/plain": [
              "'/.../b/d'"
            ],
            "application/vnd.google.colaboratory.intrinsic+json": {
              "type": "string"
            }
          },
          "metadata": {},
          "execution_count": 55
        }
      ]
    },
    {
      "cell_type": "code",
      "source": [
        "class MinStack:\n",
        "    def __init__(self):\n",
        "        self.q = []\n",
        "\n",
        "    def push(self, val: int) -> None:\n",
        "        if len(self.q) > 0:\n",
        "          minVal = self.q[-1][1]\n",
        "        else:\n",
        "          minVal = val\n",
        "        self.q.append((val,min(minVal,val)))\n",
        "\n",
        "    def pop(self) -> None:\n",
        "        self.q.pop()\n",
        "\n",
        "    def top(self) -> int:\n",
        "        return self.q[-1][0]\n",
        "\n",
        "    def getMin(self) -> int:\n",
        "        return self.q[-1][1]\n",
        "\n",
        "minStack = MinStack()\n",
        "minStack.push(-2)\n",
        "minStack.push(0)\n",
        "minStack.push(-3)\n",
        "print(minStack.getMin())\n",
        "minStack.pop()\n",
        "print(minStack.top())\n",
        "print(minStack.getMin())"
      ],
      "metadata": {
        "colab": {
          "base_uri": "https://localhost:8080/"
        },
        "id": "AKlzDGW6KIQo",
        "outputId": "ee9da8f0-c36e-4f71-9870-70afe3e10f0c"
      },
      "execution_count": 56,
      "outputs": [
        {
          "output_type": "stream",
          "name": "stdout",
          "text": [
            "-3\n",
            "0\n",
            "-2\n"
          ]
        }
      ]
    },
    {
      "cell_type": "code",
      "source": [
        "import math\n",
        "class Solution:\n",
        "    def evalRPN(self, tokens: List[str]) -> int:\n",
        "      stack = []\n",
        "      for t in tokens:\n",
        "        # print(stack)\n",
        "        if t in ['+', '-', '*', '/']:\n",
        "          v2 = stack.pop()\n",
        "          v1 = stack.pop()\n",
        "          if t == \"/\":\n",
        "            val = int(v1) / int(v2)\n",
        "            if val > 0:\n",
        "              val = math.floor(val)\n",
        "            else:\n",
        "              val = math.ceil(val)\n",
        "            stack.append(val)\n",
        "          else:\n",
        "            stack.append(eval(f\"{v1} {t} {v2}\"))\n",
        "        else:\n",
        "          stack.append(t)\n",
        "      return int(stack[0])\n",
        "\n",
        "tokens = [\"18\"]\n",
        "Solution().evalRPN(tokens)"
      ],
      "metadata": {
        "colab": {
          "base_uri": "https://localhost:8080/"
        },
        "id": "PEoSkbpFOV9M",
        "outputId": "08487f30-3de2-4efe-a2d0-65305dbf5bb0"
      },
      "execution_count": 57,
      "outputs": [
        {
          "output_type": "execute_result",
          "data": {
            "text/plain": [
              "18"
            ]
          },
          "metadata": {},
          "execution_count": 57
        }
      ]
    },
    {
      "cell_type": "code",
      "source": [
        "class Solution:\n",
        "    def calculate(self, s: str) -> int:\n",
        "      stack = []\n",
        "      currNum = None\n",
        "      for i in range(len(s)):\n",
        "        c = s[i]\n",
        "        if c == \" \": continue\n",
        "        # print(i,c,stack)\n",
        "        if c.isnumeric():\n",
        "          currNum = int(c) if currNum == None else currNum*10+int(c)\n",
        "          if i == len(s)-1 or not s[i+1].isnumeric():\n",
        "            stack.append(currNum)\n",
        "            currNum = None\n",
        "\n",
        "        if c in [\"-\",\"+\"]:\n",
        "          stack.append(c)\n",
        "        elif c in [\"(\",\")\"]:\n",
        "          if c == \"(\":\n",
        "            stack.append(c)\n",
        "          if c == \")\":\n",
        "            n = stack.pop()\n",
        "            stack[-1] = n\n",
        "\n",
        "        if i == len(s)-1 or not s[i+1].isnumeric():\n",
        "          if len(stack) >= 2 and type(stack[-1]) == int and stack[-2] == \"-\" and (len(stack) < 3 or type(stack[-3]) != int):\n",
        "            n = stack.pop()\n",
        "            stack[-1] = -n\n",
        "          if len(stack) >= 3 and type(stack[-1]) == int and type(stack[-3]) == int:\n",
        "            if stack[-2] == \"+\":\n",
        "              n2 = stack.pop()\n",
        "              stack.pop()\n",
        "              stack[-1] += n2\n",
        "            elif stack[-2] == \"-\":\n",
        "              n2 = stack.pop()\n",
        "              stack.pop()\n",
        "              stack[-1] -= n2\n",
        "\n",
        "      return stack[0]\n",
        "\n",
        "s = \"(1+(4+5+2)-3)+(6+8)\"\n",
        "Solution().calculate(s)"
      ],
      "metadata": {
        "colab": {
          "base_uri": "https://localhost:8080/"
        },
        "id": "_mjwW4eMqo1p",
        "outputId": "db988090-3a24-4bfd-bb36-4d5a31ade979"
      },
      "execution_count": 58,
      "outputs": [
        {
          "output_type": "execute_result",
          "data": {
            "text/plain": [
              "23"
            ]
          },
          "metadata": {},
          "execution_count": 58
        }
      ]
    },
    {
      "cell_type": "code",
      "source": [
        "class ListNode:\n",
        "    def __init__(self, x: int, next: 'Node' = None):\n",
        "        self.val = int(x)\n",
        "        self.next = next\n",
        "\n",
        "class Solution:\n",
        "    def hasCycle(self, head: Optional[ListNode]) -> bool:\n",
        "      p1 = head\n",
        "      p2 = head.next if head != None else None\n",
        "      while p1 != None and p2 != None:\n",
        "        if p1 == p2 or (p2.next != None and p2.next == p1): return True\n",
        "        p1 = p1.next\n",
        "        p2 = p2.next.next if p2.next != None else p2.next\n",
        "      return False\n",
        "\n",
        "head = []\n",
        "pos = -1\n",
        "l = None\n",
        "tailPtr = None\n",
        "tail = None\n",
        "for i in range(len(head)-1,-1,-1):\n",
        "  tmp = ListNode(head[i])\n",
        "  if i == len(head)-1: tail = tmp\n",
        "  if i == pos:\n",
        "    tailPtr = tmp\n",
        "  tmp.next = l\n",
        "  l = tmp\n",
        "if pos >= 0:\n",
        "  tail.next = tailPtr\n",
        "\n",
        "Solution().hasCycle(l)"
      ],
      "metadata": {
        "colab": {
          "base_uri": "https://localhost:8080/"
        },
        "id": "U4PZKSlbDX36",
        "outputId": "2c618967-b4d5-45f1-90d6-72d2e60f75f8"
      },
      "execution_count": 59,
      "outputs": [
        {
          "output_type": "execute_result",
          "data": {
            "text/plain": [
              "False"
            ]
          },
          "metadata": {},
          "execution_count": 59
        }
      ]
    },
    {
      "cell_type": "code",
      "source": [
        "class Solution:\n",
        "    def addTwoNumbers(self, l1: Optional[ListNode], l2: Optional[ListNode]) -> Optional[ListNode]:\n",
        "      def getNum(l1):\n",
        "        n1 = 0\n",
        "        i = 0\n",
        "        while l1 != None:\n",
        "          n1 = n1+l1.val*10**(i)\n",
        "          l1 = l1.next\n",
        "          i += 1\n",
        "        return n1\n",
        "      n1,n2 = getNum(l1),getNum(l2)\n",
        "      return makeList(list(str(n1+n2))[::-1])\n",
        "\n",
        "def makeList(l):\n",
        "  res = None\n",
        "  for i in range(len(l)-1,-1,-1):\n",
        "    tmp = ListNode(int(l[i]))\n",
        "    tmp.next = res\n",
        "    res = tmp\n",
        "  return res\n",
        "\n",
        "l1 = [2,4,3]\n",
        "l2 = [5,6,4]\n",
        "Solution().addTwoNumbers(makeList(l1),makeList(l2))"
      ],
      "metadata": {
        "colab": {
          "base_uri": "https://localhost:8080/"
        },
        "id": "-t1CIZPBJOAS",
        "outputId": "96927c62-5834-4cec-ce33-a78f77d428d6"
      },
      "execution_count": 60,
      "outputs": [
        {
          "output_type": "execute_result",
          "data": {
            "text/plain": [
              "<__main__.ListNode at 0x7a82bdf81210>"
            ]
          },
          "metadata": {},
          "execution_count": 60
        }
      ]
    },
    {
      "cell_type": "code",
      "source": [
        "class Solution:\n",
        "    def mergeTwoLists(self, list1: Optional[ListNode], list2: Optional[ListNode]) -> Optional[ListNode]:\n",
        "      res = []\n",
        "      while list1 or list2:\n",
        "        if not list1:\n",
        "          res.append(list2)\n",
        "          list2 = list2.next\n",
        "        elif not list2:\n",
        "          res.append(list1)\n",
        "          list1 = list1.next\n",
        "        elif list1.val <= list2.val:\n",
        "          res.append(list1)\n",
        "          list1 = list1.next\n",
        "        elif list2.val <= list1.val:\n",
        "          res.append(list2)\n",
        "          list2 = list2.next\n",
        "      for i in range(len(res)):\n",
        "        if i == len(res)-1:\n",
        "          res[i].next = None\n",
        "        else:\n",
        "          res[i].next = res[i+1]\n",
        "      return res[0] if len(res)>0 else None\n",
        "\n",
        "l1 = []\n",
        "l2 = []\n",
        "\n",
        "def printList(l):\n",
        "  ret = []\n",
        "  while l != None:\n",
        "    ret.append(l.val)\n",
        "    l = l.next\n",
        "  print(ret)\n",
        "\n",
        "Solution().mergeTwoLists(makeList(l1),makeList(l2))"
      ],
      "metadata": {
        "id": "BNUbLpNYNhep"
      },
      "execution_count": 61,
      "outputs": []
    },
    {
      "cell_type": "code",
      "source": [
        "class Node:\n",
        "    def __init__(self, x: int, next: 'Node' = None, random: 'Node' = None):\n",
        "        self.val = int(x)\n",
        "        self.next = next\n",
        "        self.random = random\n",
        "\n",
        "class Solution:\n",
        "    def copyRandomList(self, head: 'Optional[Node]') -> 'Optional[Node]':\n",
        "      nodes = []\n",
        "      m = {}\n",
        "      l = head\n",
        "      while l:\n",
        "        nodes.append(Node(l.val, next=l.next, random=l.random))\n",
        "        m[l] = nodes[-1]\n",
        "        l = l.next\n",
        "      for node in nodes:\n",
        "        if node.next: node.next = m[node.next]\n",
        "        if node.random: node.random = m[node.random]\n",
        "      # printListRandom(nodes[0])\n",
        "      return nodes[0] if len(nodes)>0 else None\n",
        "\n",
        "head = [[7,None],[13,0],[11,4],[10,2],[1,0]]\n",
        "l = None\n",
        "nodes = []\n",
        "for i in range(len(head)-1,-1,-1):\n",
        "  l = Node(head[i][0],next=l)\n",
        "  nodes.insert(0,l)\n",
        "for i in range(len(head)):\n",
        "  if head[i][1] != None:\n",
        "    nodes[i].random = nodes[head[i][1]]\n",
        "\n",
        "def printListRandom(l):\n",
        "  ret = []\n",
        "  while l != None:\n",
        "    random = l.random.val if l.random else None\n",
        "    ret.append((l.val, random))\n",
        "    l = l.next\n",
        "  print(ret)\n",
        "\n",
        "Solution().copyRandomList(l)"
      ],
      "metadata": {
        "colab": {
          "base_uri": "https://localhost:8080/"
        },
        "id": "4fhIuS-3XRtF",
        "outputId": "e9d8be2b-63ec-4860-9c33-c688f072fef2"
      },
      "execution_count": 62,
      "outputs": [
        {
          "output_type": "execute_result",
          "data": {
            "text/plain": [
              "<__main__.Node at 0x7a82be626dd0>"
            ]
          },
          "metadata": {},
          "execution_count": 62
        }
      ]
    },
    {
      "cell_type": "code",
      "source": [
        "class Solution:\n",
        "    def reverseBetween(self, head: Optional[ListNode], left: int, right: int) -> Optional[ListNode]:\n",
        "      i = 0\n",
        "      l = head\n",
        "      lNode = None\n",
        "      rNode = None\n",
        "      while l:\n",
        "        i += 1\n",
        "        if i == left: lNode = l\n",
        "        if i == right: rNode = l\n",
        "        l = l.next\n",
        "\n",
        "      # printList(lNode)\n",
        "      prev = rNode.next\n",
        "      curr = lNode\n",
        "      next = rNode.next\n",
        "      while curr and curr != next:\n",
        "        tmp = curr.next\n",
        "        curr.next = prev\n",
        "        prev = curr\n",
        "        curr = tmp\n",
        "      # printList(rNode)\n",
        "\n",
        "      l = head\n",
        "      prevNode = ListNode(0,next=head)\n",
        "      ret = prevNode\n",
        "      i = 0\n",
        "      while l:\n",
        "        i += 1\n",
        "        if i == left:\n",
        "          prevNode.next = rNode\n",
        "        prevNode = l\n",
        "        l = l.next\n",
        "      return ret.next\n",
        "\n",
        "head = [1]\n",
        "left = 1\n",
        "right = 1\n",
        "Solution().reverseBetween(makeList(head), left, right)"
      ],
      "metadata": {
        "colab": {
          "base_uri": "https://localhost:8080/"
        },
        "id": "niKyRTGveWB-",
        "outputId": "0e8df437-8362-4512-9a85-15c8702aa37e"
      },
      "execution_count": 63,
      "outputs": [
        {
          "output_type": "execute_result",
          "data": {
            "text/plain": [
              "<__main__.ListNode at 0x7a82bdf757d0>"
            ]
          },
          "metadata": {},
          "execution_count": 63
        }
      ]
    },
    {
      "cell_type": "code",
      "source": [
        "# Definition for singly-linked list.\n",
        "# class ListNode:\n",
        "#     def __init__(self, val=0, next=None):\n",
        "#         self.val = val\n",
        "#         self.next = next\n",
        "class Solution:\n",
        "    def reverseKGroup(self, head: Optional[ListNode], k: int) -> Optional[ListNode]:\n",
        "      dummy = ListNode(0, next=head)\n",
        "      prev = dummy\n",
        "      curr = head\n",
        "      i = 1\n",
        "      while curr != None:\n",
        "        if i > 1 and i == k:\n",
        "          # print(prev.val,curr.val,curr.next)\n",
        "          next = curr.next\n",
        "          groupPrev = next\n",
        "          groupCurr = prev.next\n",
        "          while groupCurr != next:\n",
        "            tmp = groupCurr.next\n",
        "            groupCurr.next = groupPrev\n",
        "            groupPrev = groupCurr\n",
        "            groupCurr = tmp\n",
        "          tmp = prev.next\n",
        "          prev.next = curr\n",
        "          prev = tmp\n",
        "          curr = next\n",
        "          i = 1\n",
        "        else:\n",
        "          i += 1\n",
        "          curr = curr.next\n",
        "\n",
        "      return dummy.next\n",
        "\n",
        "head = [1,2,3,4,5]\n",
        "k = 3\n",
        "printList(Solution().reverseKGroup(makeList(head),k))"
      ],
      "metadata": {
        "colab": {
          "base_uri": "https://localhost:8080/"
        },
        "id": "Qv1F4lAFezj8",
        "outputId": "68e98b36-ea2e-4980-9ef5-ee6fa8b746f0"
      },
      "execution_count": 64,
      "outputs": [
        {
          "output_type": "stream",
          "name": "stdout",
          "text": [
            "[3, 2, 1, 4, 5]\n"
          ]
        }
      ]
    },
    {
      "cell_type": "code",
      "source": [
        "# Definition for singly-linked list.\n",
        "# class ListNode:\n",
        "#     def __init__(self, val=0, next=None):\n",
        "#         self.val = val\n",
        "#         self.next = next\n",
        "class Solution:\n",
        "    def removeNthFromEnd(self, head: Optional[ListNode], n: int) -> Optional[ListNode]:\n",
        "      ret = ListNode(0, next=head)\n",
        "      i = 0\n",
        "      node = head\n",
        "      while node != None:\n",
        "        i += 1\n",
        "        node = node.next\n",
        "      end = i+1\n",
        "      node = head\n",
        "      prev = ret\n",
        "      while node != None:\n",
        "        end -= 1\n",
        "        if end == n:\n",
        "          prev.next = node.next\n",
        "          break\n",
        "        prev = node\n",
        "        node = node.next\n",
        "\n",
        "      return ret.next\n",
        "\n",
        "head = [1,2]\n",
        "n = 1\n",
        "printList(Solution().removeNthFromEnd(makeList(head),n))"
      ],
      "metadata": {
        "colab": {
          "base_uri": "https://localhost:8080/"
        },
        "id": "sL7vKlA175MC",
        "outputId": "a20a7530-235b-4896-f132-995d915496ca"
      },
      "execution_count": 65,
      "outputs": [
        {
          "output_type": "stream",
          "name": "stdout",
          "text": [
            "[1]\n"
          ]
        }
      ]
    },
    {
      "cell_type": "code",
      "source": [
        "# Definition for singly-linked list.\n",
        "# class ListNode:\n",
        "#     def __init__(self, val=0, next=None):\n",
        "#         self.val = val\n",
        "#         self.next = next\n",
        "class Solution:\n",
        "    def deleteDuplicates(self, head: Optional[ListNode]) -> Optional[ListNode]:\n",
        "      ret = ListNode(0, next=head)\n",
        "      node = head\n",
        "      prev = ret\n",
        "      while node != None:\n",
        "        # print(node.val)\n",
        "        if node.next and node.val == node.next.val:\n",
        "          # print(\"new dup block\")\n",
        "          while node.next and node.val == node.next.val:\n",
        "            # print(\"removing\",node.val)\n",
        "            tmp = node\n",
        "            node.next = node.next.next\n",
        "          prev.next = node.next\n",
        "          node = prev\n",
        "\n",
        "        prev = node\n",
        "        node = node.next\n",
        "\n",
        "      return ret.next\n",
        "\n",
        "head = [1,1,1,2,3]\n",
        "printList(Solution().deleteDuplicates(makeList(head)))"
      ],
      "metadata": {
        "colab": {
          "base_uri": "https://localhost:8080/"
        },
        "id": "IKb7Zck7-z7H",
        "outputId": "f750d474-57ad-4a92-f53a-fc323b21ae7a"
      },
      "execution_count": 66,
      "outputs": [
        {
          "output_type": "stream",
          "name": "stdout",
          "text": [
            "[2, 3]\n"
          ]
        }
      ]
    },
    {
      "cell_type": "code",
      "source": [
        "# Definition for singly-linked list.\n",
        "# class ListNode:\n",
        "#     def __init__(self, val=0, next=None):\n",
        "#         self.val = val\n",
        "#         self.next = next\n",
        "class Solution:\n",
        "    def rotateRight(self, head: Optional[ListNode], k: int) -> Optional[ListNode]:\n",
        "      ret = ListNode(0, next=head)\n",
        "\n",
        "      i = 0\n",
        "      prev = ret\n",
        "      node = head\n",
        "      while node != None:\n",
        "        i += 1\n",
        "        prev = node\n",
        "        node = node.next\n",
        "      end = i+1\n",
        "      tail = prev\n",
        "      length = end-1\n",
        "\n",
        "      prev = ret\n",
        "      node = head\n",
        "      while node != None:\n",
        "        end -= 1\n",
        "        if end == k%length:\n",
        "          # print(node.val)\n",
        "          tail.next = ret.next\n",
        "          ret.next = node\n",
        "          prev.next = None\n",
        "          break\n",
        "        prev = node\n",
        "        node = node.next\n",
        "\n",
        "      return ret.next\n",
        "\n",
        "head = [0,1,2]\n",
        "k = 4\n",
        "printList(Solution().rotateRight(makeList(head),k))"
      ],
      "metadata": {
        "colab": {
          "base_uri": "https://localhost:8080/"
        },
        "id": "ejYnSaQcOR_W",
        "outputId": "6a4340a1-cefb-4927-ff71-ec04014006a2"
      },
      "execution_count": 67,
      "outputs": [
        {
          "output_type": "stream",
          "name": "stdout",
          "text": [
            "[2, 0, 1]\n"
          ]
        }
      ]
    },
    {
      "cell_type": "code",
      "source": [
        "# Definition for singly-linked list.\n",
        "# class ListNode:\n",
        "#     def __init__(self, val=0, next=None):\n",
        "#         self.val = val\n",
        "#         self.next = next\n",
        "class Solution:\n",
        "    def partition(self, head: Optional[ListNode], x: int) -> Optional[ListNode]:\n",
        "      r1 = ListNode(0, next=None)\n",
        "      r2 = ListNode(0, next=None)\n",
        "      lt = r1\n",
        "      gt = r2\n",
        "      node = head\n",
        "      while node:\n",
        "        # printList(r1)\n",
        "        # printList(r2)\n",
        "        # print(\"--\")\n",
        "        next = node.next\n",
        "        if node.val < x:\n",
        "          tmp = lt.next\n",
        "          lt.next = node\n",
        "          node.next = tmp\n",
        "          lt = lt.next\n",
        "        else:\n",
        "          tmp = gt.next\n",
        "          gt.next = node\n",
        "          node.next = tmp\n",
        "          gt = gt.next\n",
        "        node = next\n",
        "\n",
        "      node = r1\n",
        "      while node.next:\n",
        "        node = node.next\n",
        "      node.next = r2.next\n",
        "\n",
        "      return r1.next\n",
        "\n",
        "head = [2,1]\n",
        "x = 2\n",
        "printList(Solution().partition(makeList(head),x))"
      ],
      "metadata": {
        "colab": {
          "base_uri": "https://localhost:8080/"
        },
        "id": "vgfJO7FdVT7V",
        "outputId": "c517da43-eb36-47bb-c6f4-35726776a53f"
      },
      "execution_count": 68,
      "outputs": [
        {
          "output_type": "stream",
          "name": "stdout",
          "text": [
            "[1, 2]\n"
          ]
        }
      ]
    },
    {
      "cell_type": "code",
      "source": [
        "class BiListNode:\n",
        "    def __init__(self, key=0, val=0, prev=None, next=None):\n",
        "        self.key = key\n",
        "        self.val = val\n",
        "        self.prev = prev\n",
        "        self.next = next\n",
        "\n",
        "def printBiList(l):\n",
        "  prev = BiListNode(next=l)\n",
        "  res = []\n",
        "  while l:\n",
        "    res.append((l.key,l.val))\n",
        "    assert(not l.next or l.next.prev == l)\n",
        "    l = l.next\n",
        "  print(res)\n",
        "\n",
        "class LRUCache:\n",
        "\n",
        "    def __init__(self, capacity: int):\n",
        "      self.head = None\n",
        "      self.tail = None\n",
        "      self.d = {}\n",
        "      self.capacity = capacity\n",
        "      self.size = 0\n",
        "\n",
        "    def bump(self, key):\n",
        "      if self.head == self.tail: return\n",
        "      node = self.d[key]\n",
        "      if self.head == node: return\n",
        "      if self.tail == node and self.tail != self.head:\n",
        "        prev = self.tail.prev\n",
        "        self.tail = prev\n",
        "        if prev: self.tail.next = None\n",
        "      prevHead = self.head\n",
        "      self.head = node\n",
        "      nodeNext = node.next\n",
        "      nodePrev = node.prev\n",
        "      node.next = prevHead\n",
        "      node.prev = None\n",
        "      prevHead.prev = node\n",
        "      nodePrev.next = nodeNext\n",
        "      if nodeNext: nodeNext.prev = nodePrev\n",
        "\n",
        "    def get(self, key: int) -> int:\n",
        "      if not key in self.d:\n",
        "        return -1\n",
        "      self.bump(key)\n",
        "      return self.d[key].val\n",
        "\n",
        "    def put(self, key: int, value: int) -> None:\n",
        "      if key in self.d:\n",
        "        self.bump(key)\n",
        "        self.d[key].val = value\n",
        "        return\n",
        "      if self.head == None:\n",
        "        self.head = BiListNode(key, value, None, None)\n",
        "        self.tail = self.head\n",
        "      else:\n",
        "        tmp = self.head\n",
        "        self.head = BiListNode(key, value, prev=None, next=tmp)\n",
        "        tmp.prev = self.head\n",
        "      self.size += 1\n",
        "      if self.size > self.capacity:\n",
        "        del self.d[self.tail.key]\n",
        "        prev = self.tail.prev\n",
        "        prev.next = None\n",
        "        self.tail = self.tail.prev\n",
        "        self.tail.next = None\n",
        "        self.size -= 1\n",
        "\n",
        "      self.d[key] = self.head\n",
        "\n",
        "lRUCache = LRUCache(3)\n",
        "lRUCache.put(1,1)\n",
        "lRUCache.put(2,2)\n",
        "lRUCache.put(3,3)\n",
        "lRUCache.put(4,4)\n",
        "print(lRUCache.get(4))\n",
        "printBiList(lRUCache.head)\n",
        "print(lRUCache.get(3))\n",
        "printBiList(lRUCache.head)\n",
        "print(lRUCache.get(2))\n",
        "printBiList(lRUCache.head)\n",
        "print(lRUCache.get(1))\n",
        "printBiList(lRUCache.head)\n",
        "lRUCache.put(5,5)\n",
        "print(lRUCache.get(1))\n",
        "printBiList(lRUCache.head)\n",
        "print(lRUCache.get(2))\n",
        "printBiList(lRUCache.head)\n",
        "print(lRUCache.get(3))\n",
        "print(lRUCache.get(4))\n",
        "print(lRUCache.get(5))"
      ],
      "metadata": {
        "colab": {
          "base_uri": "https://localhost:8080/"
        },
        "id": "u2hVJ7VQcJC-",
        "outputId": "7410b480-3ad1-4c96-8a3b-b61c5ca310c5"
      },
      "execution_count": 69,
      "outputs": [
        {
          "output_type": "stream",
          "name": "stdout",
          "text": [
            "4\n",
            "[(4, 4), (3, 3), (2, 2)]\n",
            "3\n",
            "[(3, 3), (4, 4), (2, 2)]\n",
            "2\n",
            "[(2, 2), (3, 3), (4, 4)]\n",
            "-1\n",
            "[(2, 2), (3, 3), (4, 4)]\n",
            "-1\n",
            "[(5, 5), (2, 2), (3, 3)]\n",
            "2\n",
            "[(2, 2), (5, 5), (3, 3)]\n",
            "3\n",
            "-1\n",
            "5\n"
          ]
        }
      ]
    },
    {
      "cell_type": "code",
      "source": [
        "from collections import deque\n",
        "\n",
        "class TreeNode:\n",
        "    def __init__(self, val=0, left=None, right=None):\n",
        "        self.val = val\n",
        "        self.left = left\n",
        "        self.right = right\n",
        "\n",
        "class Solution:\n",
        "    def maxDepth(self, root: Optional[TreeNode]) -> int:\n",
        "      if root == None: return 0\n",
        "      return 1+max(self.maxDepth(root.left), self.maxDepth(root.right))\n",
        "\n",
        "def list_to_tree(data):\n",
        "    if not data or data[0] is None:\n",
        "        return None  # Edge case: empty or null root\n",
        "    root = TreeNode(data[0])  # First element is the root\n",
        "    queue = deque([root])  # Queue for BFS\n",
        "    i = 1  # Index to track position in the list\n",
        "    while queue and i < len(data):\n",
        "        node = queue.popleft()  # Get the current node to attach children\n",
        "        # Assign left child if available\n",
        "        if i < len(data) and data[i] is not None:\n",
        "            node.left = TreeNode(data[i])\n",
        "            queue.append(node.left)\n",
        "        i += 1\n",
        "        # Assign right child if available\n",
        "        if i < len(data) and data[i] is not None:\n",
        "            node.right = TreeNode(data[i])\n",
        "            queue.append(node.right)\n",
        "        i += 1\n",
        "    return root  # Return the root of the constructed tree\n",
        "\n",
        "root = [1,None,2]\n",
        "Solution().maxDepth(list_to_tree(root))"
      ],
      "metadata": {
        "colab": {
          "base_uri": "https://localhost:8080/"
        },
        "id": "MXbPIoXrwNlv",
        "outputId": "861c9fab-1e53-4ef9-9f82-c34067306398"
      },
      "execution_count": 70,
      "outputs": [
        {
          "output_type": "execute_result",
          "data": {
            "text/plain": [
              "2"
            ]
          },
          "metadata": {},
          "execution_count": 70
        }
      ]
    },
    {
      "cell_type": "code",
      "source": [
        "class Solution:\n",
        "    def isSameTree(self, p: Optional[TreeNode], q: Optional[TreeNode]) -> bool:\n",
        "      return tree_to_list(p) == tree_to_list(q)\n",
        "\n",
        "def tree_to_list(root):\n",
        "  res = []\n",
        "  q = deque([root])\n",
        "  while q:\n",
        "    node = q.popleft()\n",
        "    res.append(None if not node else node.val)\n",
        "    if node:\n",
        "      q.append(node.left)\n",
        "      q.append(node.right)\n",
        "  return res\n",
        "\n",
        "p = [1,2,1]\n",
        "q = [1,1,2]\n",
        "Solution().isSameTree(list_to_tree(p),list_to_tree(q))"
      ],
      "metadata": {
        "colab": {
          "base_uri": "https://localhost:8080/"
        },
        "id": "eik9zqhfdYZY",
        "outputId": "e6854f95-edc0-42fd-d7c9-53585e7eb5c9"
      },
      "execution_count": 71,
      "outputs": [
        {
          "output_type": "execute_result",
          "data": {
            "text/plain": [
              "False"
            ]
          },
          "metadata": {},
          "execution_count": 71
        }
      ]
    },
    {
      "cell_type": "code",
      "source": [
        "class Solution:\n",
        "    def invertTree(self, root: Optional[TreeNode]) -> Optional[TreeNode]:\n",
        "      if not root: return None\n",
        "      root.left,root.right = self.invertTree(root.right),self.invertTree(root.left)\n",
        "      return root\n",
        "\n",
        "root = []\n",
        "tree_to_list(Solution().invertTree(list_to_tree(root))    )"
      ],
      "metadata": {
        "colab": {
          "base_uri": "https://localhost:8080/"
        },
        "id": "mblx5rrigj0L",
        "outputId": "913cd46a-e3b6-49f6-f7e2-905b0d4c212c"
      },
      "execution_count": 72,
      "outputs": [
        {
          "output_type": "execute_result",
          "data": {
            "text/plain": [
              "[None]"
            ]
          },
          "metadata": {},
          "execution_count": 72
        }
      ]
    },
    {
      "cell_type": "code",
      "source": [
        "class Solution:\n",
        "    def invertTree(self, root: Optional[TreeNode]) -> Optional[TreeNode]:\n",
        "      if not root: return None\n",
        "      root.left,root.right = self.invertTree(root.right),self.invertTree(root.left)\n",
        "      return root\n",
        "\n",
        "    def isSymmetric(self, root: Optional[TreeNode]) -> bool:\n",
        "      if not root: return True\n",
        "      return tree_to_list(root.left) == tree_to_list(self.invertTree(root.right))\n",
        "\n",
        "root = [1,2,2,None,3,None,3]\n",
        "Solution().isSymmetric(list_to_tree(root))"
      ],
      "metadata": {
        "colab": {
          "base_uri": "https://localhost:8080/"
        },
        "id": "3rx1vduIhSxk",
        "outputId": "5ddac3a5-0f21-4398-ab29-1bae8115cefc"
      },
      "execution_count": 73,
      "outputs": [
        {
          "output_type": "execute_result",
          "data": {
            "text/plain": [
              "False"
            ]
          },
          "metadata": {},
          "execution_count": 73
        }
      ]
    },
    {
      "cell_type": "code",
      "source": [
        "class Solution:\n",
        "    def buildTree(self, preorder: List[int], inorder: List[int]) -> Optional[TreeNode]:\n",
        "      # print(preorder, inorder)\n",
        "      if len(preorder) == 0 or len(inorder) == 0: return None\n",
        "      d = {}\n",
        "      for i in range(len(inorder)):\n",
        "        d[inorder[i]] = i\n",
        "      ret = TreeNode(val=preorder.pop(0))\n",
        "      ret.left = self.buildTree(preorder, inorder[:d[ret.val]])\n",
        "      ret.right = self.buildTree(preorder, inorder[d[ret.val]+1:])\n",
        "      # print(tree_to_list(ret))\n",
        "      return ret\n",
        "\n",
        "# preorder = [3,9,20,15,7]\n",
        "# inorder = [9,3,15,20,7]\n",
        "preorder = [3,1,2,4]\n",
        "inorder = [1,2,3,4]\n",
        "# preorder = [1,2]\n",
        "# inorder = [1,2]\n",
        "# preorder = [1,2,3]\n",
        "# inorder = [1,2,3]\n",
        "tree_to_list(Solution().buildTree(preorder, inorder))"
      ],
      "metadata": {
        "colab": {
          "base_uri": "https://localhost:8080/"
        },
        "id": "SGhCg7XD_eZT",
        "outputId": "c7e2ee2a-99de-4fea-c701-ab0fa54dfde5"
      },
      "execution_count": 81,
      "outputs": [
        {
          "output_type": "execute_result",
          "data": {
            "text/plain": [
              "[3, 1, 4, None, 2, None, None, None, None]"
            ]
          },
          "metadata": {},
          "execution_count": 81
        }
      ]
    },
    {
      "cell_type": "code",
      "source": [
        "class Solution:\n",
        "    def buildTree(self, inorder: List[int], postorder: List[int]) -> Optional[TreeNode]:\n",
        "      # print(inorder, postorder)\n",
        "      if len(postorder) == 0 or len(inorder) == 0: return None\n",
        "      ret = TreeNode(val=postorder.pop())\n",
        "      for i in range(len(inorder)):\n",
        "        if inorder[i] == ret.val:\n",
        "          pivot = i\n",
        "          break\n",
        "      ret.right = self.buildTree(inorder[pivot+1:], postorder)\n",
        "      ret.left = self.buildTree(inorder[:pivot], postorder)\n",
        "      return ret\n",
        "\n",
        "postorder = [9,15,7,20,3]\n",
        "inorder = [9,3,15,20,7]\n",
        "# preorder = [3,1,2,4]\n",
        "# inorder = [1,2,3,4]\n",
        "# preorder = [1,2]\n",
        "# inorder = [1,2]\n",
        "# preorder = [1,2,3]\n",
        "# inorder = [1,2,3]\n",
        "tree_to_list(Solution().buildTree(inorder, postorder))"
      ],
      "metadata": {
        "colab": {
          "base_uri": "https://localhost:8080/"
        },
        "id": "gMfOBurNpY1S",
        "outputId": "e58fa7d0-5369-449d-c6e3-7c3ea96967e4"
      },
      "execution_count": 87,
      "outputs": [
        {
          "output_type": "execute_result",
          "data": {
            "text/plain": [
              "[3, 9, 20, None, None, 15, 7, None, None, None, None]"
            ]
          },
          "metadata": {},
          "execution_count": 87
        }
      ]
    },
    {
      "cell_type": "code",
      "source": [
        "class Node:\n",
        "    def __init__(self, val: int = 0, left: 'Node' = None, right: 'Node' = None, next: 'Node' = None):\n",
        "        self.val = val\n",
        "        self.left = left\n",
        "        self.right = right\n",
        "        self.next = next\n",
        "\n",
        "class Solution:\n",
        "    def connect(self, root: 'Node') -> 'Node':\n",
        "      if root == None: return root\n",
        "      q = [(root,0)]\n",
        "      prev = None\n",
        "      prevDepth = None\n",
        "      while len(q) > 0:\n",
        "        node,depth = q.pop(0)\n",
        "        if prev and prevDepth == depth:\n",
        "          prev.next = node\n",
        "        if node.left: q.append((node.left,depth+1))\n",
        "        if node.right: q.append((node.right,depth+1))\n",
        "        prev = node\n",
        "        prevDepth = depth\n",
        "      return root\n",
        "\n",
        "root = []\n",
        "tree_to_list(Solution().connect(list_to_tree(root)))"
      ],
      "metadata": {
        "colab": {
          "base_uri": "https://localhost:8080/"
        },
        "id": "4VEXLiZ2tjTD",
        "outputId": "3eb0fb52-7910-46ac-ebfb-c01e049211d2"
      },
      "execution_count": 96,
      "outputs": [
        {
          "output_type": "execute_result",
          "data": {
            "text/plain": [
              "[None]"
            ]
          },
          "metadata": {},
          "execution_count": 96
        }
      ]
    },
    {
      "cell_type": "code",
      "source": [
        "class Solution:\n",
        "    def flatten(self, root: Optional[TreeNode]) -> None:\n",
        "      if root == None: return None\n",
        "      left = self.flatten(root.left)\n",
        "      right = self.flatten(root.right)\n",
        "      root.left = None\n",
        "      root.right = left\n",
        "      node = root\n",
        "      while node.right:\n",
        "        node = node.right\n",
        "      node.right = right\n",
        "      return root\n",
        "\n",
        "root = [1,2,5,3,4,None,6]\n",
        "tree_to_list(Solution().flatten(list_to_tree(root)))"
      ],
      "metadata": {
        "colab": {
          "base_uri": "https://localhost:8080/"
        },
        "id": "_18z-mXMW_Ot",
        "outputId": "0c453069-58c5-454b-f19b-0b1459699a25"
      },
      "execution_count": 112,
      "outputs": [
        {
          "output_type": "execute_result",
          "data": {
            "text/plain": [
              "[1, None, 2, None, 3, None, 4, None, 5, None, 6, None, None]"
            ]
          },
          "metadata": {},
          "execution_count": 112
        }
      ]
    },
    {
      "cell_type": "code",
      "source": [
        "# Definition for a binary tree node.\n",
        "# class TreeNode:\n",
        "#     def __init__(self, val=0, left=None, right=None):\n",
        "#         self.val = val\n",
        "#         self.left = left\n",
        "#         self.right = right\n",
        "class Solution:\n",
        "    def hasPathSum(self, root: Optional[TreeNode], targetSum: int) -> bool:\n",
        "      if root == None: return False\n",
        "      if root.left == None and root.right == None: return targetSum == root.val\n",
        "      return self.hasPathSum(root.left, targetSum-root.val) or self.hasPathSum(root.right, targetSum-root.val)\n",
        "\n",
        "# root = [5,4,8,11,None,13,4,7,2,None,None,None,1]\n",
        "root = [1,2,3]\n",
        "targetSum = 5\n",
        "Solution().hasPathSum(list_to_tree(root), targetSum)"
      ],
      "metadata": {
        "colab": {
          "base_uri": "https://localhost:8080/"
        },
        "id": "5PgoHqgofvJ7",
        "outputId": "fe80463a-3055-462f-d8ae-b673fadb8ce3"
      },
      "execution_count": 129,
      "outputs": [
        {
          "output_type": "execute_result",
          "data": {
            "text/plain": [
              "False"
            ]
          },
          "metadata": {},
          "execution_count": 129
        }
      ]
    },
    {
      "cell_type": "code",
      "source": [
        "# Definition for a binary tree node.\n",
        "# class TreeNode:\n",
        "#     def __init__(self, val=0, left=None, right=None):\n",
        "#         self.val = val\n",
        "#         self.left = left\n",
        "#         self.right = right\n",
        "class Solution:\n",
        "    def sumNumbers(self, root: Optional[TreeNode], prefix=None) -> int:\n",
        "      if root == None: return 0\n",
        "      if prefix == None: prefix = \"\"\n",
        "      if root.left == None and root.right == None: return int(prefix+str(root.val))\n",
        "      return self.sumNumbers(root.left,prefix+str(root.val)) + self.sumNumbers(root.right,prefix+str(root.val))\n",
        "\n",
        "root = [0,1]\n",
        "Solution().sumNumbers(list_to_tree(root))"
      ],
      "metadata": {
        "colab": {
          "base_uri": "https://localhost:8080/"
        },
        "id": "IM-s6jEmhtDT",
        "outputId": "818c4f73-2436-4f1b-9bd9-5c8551aad81f"
      },
      "execution_count": 138,
      "outputs": [
        {
          "output_type": "execute_result",
          "data": {
            "text/plain": [
              "1"
            ]
          },
          "metadata": {},
          "execution_count": 138
        }
      ]
    },
    {
      "cell_type": "code",
      "source": [
        "class Solution:\n",
        "    def maxPathSum(self, root: Optional[TreeNode]) -> int:\n",
        "      def recurse(root):\n",
        "        if root == None: return -10**10, -10**10\n",
        "        l_closed, l_partial = recurse(root.left)\n",
        "        r_closed, r_partial = recurse(root.right)\n",
        "        ret = root.val\n",
        "        partial = max(l_partial+root.val, r_partial+root.val, root.val)\n",
        "        closed = max(partial, l_closed, r_closed, root.val, l_partial+root.val+r_partial)\n",
        "        # print(root.val, root.left.val if root.left else None, root.right.val if root.right else None, closed,partial)\n",
        "        return closed,partial\n",
        "      return max(recurse(root))\n",
        "\n",
        "# root = [1,2,3] #6\n",
        "# root = [-10,9,20,None,None,15,7] #42\n",
        "# root = [-3]\n",
        "# root = [5,4,8,11,None,13,4,7,2,None,None,None,1] # 48\n",
        "# root = [1,-2,-3,1,3,-2,None,-1] # 3\n",
        "root = [-6,None,3,2] # 5\n",
        "Solution().maxPathSum(list_to_tree(root))"
      ],
      "metadata": {
        "colab": {
          "base_uri": "https://localhost:8080/"
        },
        "id": "ZIHPN97KlrS_",
        "outputId": "ae42f6bc-81a9-472b-e4a3-ff09bef1be7e"
      },
      "execution_count": 189,
      "outputs": [
        {
          "output_type": "execute_result",
          "data": {
            "text/plain": [
              "5"
            ]
          },
          "metadata": {},
          "execution_count": 189
        }
      ]
    },
    {
      "cell_type": "code",
      "source": [
        "class BSTIterator:\n",
        "    def adv_step(self):\n",
        "      if self.node == None: return 4\n",
        "      self.step += 1\n",
        "      if self.step == 1 and (not self.node.left or not self.l_iter.hasNext()):\n",
        "        self.step = 2\n",
        "      elif self.step == 3 and (not self.node.right or not self.r_iter.hasNext()):\n",
        "        self.step = 4\n",
        "\n",
        "    def __init__(self, root: Optional[TreeNode]):\n",
        "        self.step = 0\n",
        "        self.node = root\n",
        "        self.l_iter = BSTIterator(root.left) if self.node else None\n",
        "        self.r_iter = BSTIterator(root.right) if self.node else None\n",
        "        self.adv_step()\n",
        "\n",
        "    def next(self) -> int:\n",
        "      ret = None\n",
        "      if self.step == 2:\n",
        "        ret = self.node.val\n",
        "        self.adv_step()\n",
        "      elif self.step == 1:\n",
        "        ret = self.l_iter.next()\n",
        "        if not self.l_iter.hasNext(): self.adv_step()\n",
        "      elif self.step == 3:\n",
        "        ret = self.r_iter.next()\n",
        "        if not self.r_iter.hasNext(): self.adv_step()\n",
        "      return ret\n",
        "\n",
        "    def hasNext(self) -> bool:\n",
        "      ret = self.step != 4\n",
        "      return ret\n",
        "\n",
        "bSTIterator = BSTIterator(list_to_tree([7, 3, 15, None, None, 9, 20]))\n",
        "print(bSTIterator.next())\n",
        "print(bSTIterator.next())\n",
        "print(bSTIterator.hasNext())\n",
        "print(bSTIterator.next())\n",
        "print(bSTIterator.hasNext())\n",
        "print(bSTIterator.next())\n",
        "print(bSTIterator.hasNext())\n",
        "print(bSTIterator.next())\n",
        "print(bSTIterator.hasNext())"
      ],
      "metadata": {
        "colab": {
          "base_uri": "https://localhost:8080/"
        },
        "id": "KJrRpr0Nwfct",
        "outputId": "801c655e-87c6-431d-eb36-16407ff11476"
      },
      "execution_count": 197,
      "outputs": [
        {
          "output_type": "stream",
          "name": "stdout",
          "text": [
            "3\n",
            "7\n",
            "True\n",
            "9\n",
            "True\n",
            "15\n",
            "True\n",
            "20\n",
            "False\n"
          ]
        }
      ]
    },
    {
      "cell_type": "code",
      "source": [
        "class Solution:\n",
        "    def countNodes(self, root: Optional[TreeNode]) -> int:\n",
        "      if root == None: return 0\n",
        "      return self.countNodes(root.left)+1+self.countNodes(root.right)\n",
        "\n",
        "# root = [1,2,3,4,5,6]\n",
        "root = [1]\n",
        "Solution().countNodes(list_to_tree(root))"
      ],
      "metadata": {
        "colab": {
          "base_uri": "https://localhost:8080/"
        },
        "id": "ljxNWT-I4pkZ",
        "outputId": "0c1bb84b-5330-4b94-830a-7b63a157e5c6"
      },
      "execution_count": 201,
      "outputs": [
        {
          "output_type": "execute_result",
          "data": {
            "text/plain": [
              "1"
            ]
          },
          "metadata": {},
          "execution_count": 201
        }
      ]
    },
    {
      "cell_type": "code",
      "source": [
        "class Solution:\n",
        "    def lowestCommonAncestor(self, root: 'TreeNode', p: 'TreeNode', q: 'TreeNode') -> 'TreeNode':\n",
        "      parents = {}\n",
        "      queue = [root]\n",
        "      while len(queue):\n",
        "        node = queue.pop(0)\n",
        "        if node.left:\n",
        "          parents[node.left] = node\n",
        "          queue.append(node.left)\n",
        "        if node.right:\n",
        "          parents[node.right] = node\n",
        "          queue.append(node.right)\n",
        "      p_l = []\n",
        "      while p:\n",
        "        p_l.insert(0,p.val)\n",
        "        p = parents[p] if p in parents else None\n",
        "      q_l = []\n",
        "      while q:\n",
        "        q_l.insert(0,q.val)\n",
        "        q = parents[q] if q in parents else None\n",
        "      found = 0\n",
        "      for n1,n2 in zip(p_l,q_l):\n",
        "        if n1 != n2: break\n",
        "        found += 1\n",
        "      return(find_node(root,p_l[found-1]))\n",
        "\n",
        "def find_node(root, n):\n",
        "      queue = [root]\n",
        "      while len(queue):\n",
        "        node = queue.pop(0)\n",
        "        if node.val == n: return node\n",
        "        if node.left:\n",
        "          queue.append(node.left)\n",
        "        if node.right:\n",
        "          queue.append(node.right)\n",
        "\n",
        "# root = [3,5,1,6,2,0,8,None,None,7,4]\n",
        "p = 5\n",
        "q = 1\n",
        "tree = list_to_tree(root)\n",
        "Solution().lowestCommonAncestor(tree, find_node(tree,p), find_node(tree,q))"
      ],
      "metadata": {
        "colab": {
          "base_uri": "https://localhost:8080/"
        },
        "id": "0Xow8kp95wmY",
        "outputId": "e4294c2a-b9fb-4aa0-ace6-7adaf6d2df73"
      },
      "execution_count": 220,
      "outputs": [
        {
          "output_type": "execute_result",
          "data": {
            "text/plain": [
              "<__main__.TreeNode at 0x7a8287628290>"
            ]
          },
          "metadata": {},
          "execution_count": 220
        }
      ]
    }
  ]
}